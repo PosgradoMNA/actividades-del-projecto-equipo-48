{
  "nbformat": 4,
  "nbformat_minor": 0,
  "metadata": {
    "colab": {
      "provenance": [],
      "include_colab_link": true
    },
    "kernelspec": {
      "name": "python3",
      "display_name": "Python 3"
    },
    "language_info": {
      "name": "python"
    }
  },
  "cells": [
    {
      "cell_type": "markdown",
      "metadata": {
        "id": "view-in-github",
        "colab_type": "text"
      },
      "source": [
        "<a href=\"https://colab.research.google.com/github/PosgradoMNA/actividades-del-projecto-equipo-48/blob/main/Actividad_Semanal_4.ipynb\" target=\"_parent\"><img src=\"https://colab.research.google.com/assets/colab-badge.svg\" alt=\"Open In Colab\"/></a>"
      ]
    },
    {
      "cell_type": "markdown",
      "source": [
        "# Equipo 48\n",
        "* Materia: Ciencia y Analítica de Datos.\n",
        "* Nombre de la entrega: Actividad Semanal 4\n",
        "* Fecha: 10/10/2022.\n",
        "* Francisco Medellin Zertuche - A01794044.\n",
        "* Roberto Romero Vielma - A00822314\n",
        "* Profesor titular: Jobish Vallikavungal Devassia. \n",
        "* Profesor tutor: Roberto Antonio Guevara González.\n"
      ],
      "metadata": {
        "id": "SIon59qeEg-w"
      }
    },
    {
      "cell_type": "markdown",
      "source": [
        "Importamos la librería pandas"
      ],
      "metadata": {
        "id": "xUght0bj8HFO"
      }
    },
    {
      "cell_type": "code",
      "source": [
        "import pandas as pd"
      ],
      "metadata": {
        "id": "Duejh6Yj8IDV"
      },
      "execution_count": 1,
      "outputs": []
    },
    {
      "cell_type": "markdown",
      "source": [
        "Cargamos la base de datos con la función **pandas.read_csv**"
      ],
      "metadata": {
        "id": "UaaNZ79R8f6r"
      }
    },
    {
      "cell_type": "code",
      "source": [
        "df=pd.read_csv(\"https://raw.githubusercontent.com/PosgradoMNA/Actividades_Aprendizaje-/main/default%20of%20credit%20card%20clients.csv\")"
      ],
      "metadata": {
        "id": "dv0nKkLM8THM"
      },
      "execution_count": 2,
      "outputs": []
    },
    {
      "cell_type": "markdown",
      "source": [
        "Creamos un nuevo dataframe que sea copia del original, para eliminar los registros que se encuentran vacíos y verificar que esto no nos afecte para futuros análisis"
      ],
      "metadata": {
        "id": "bYxZq9NGvS04"
      }
    },
    {
      "cell_type": "code",
      "source": [
        "ndf=df.copy()\n",
        "ndf.dropna(inplace = True)\n",
        "ndf2= ndf.copy()"
      ],
      "metadata": {
        "id": "y5FYXqBvxjzT"
      },
      "execution_count": 3,
      "outputs": []
    },
    {
      "cell_type": "markdown",
      "source": [
        "Primero modificamos la columna X3 para quedarnos solamente con valores dentro de la categoría 4 (otros estudios)"
      ],
      "metadata": {
        "id": "3cvEIbVNx9Tx"
      }
    },
    {
      "cell_type": "code",
      "source": [
        "ndf2[\"X3\"] = ndf2[[\"X3\"]].replace([0,5,6],4)"
      ],
      "metadata": {
        "id": "wBImFLL_yHyW"
      },
      "execution_count": 4,
      "outputs": []
    },
    {
      "cell_type": "markdown",
      "source": [
        "Hacemos lo mismo con la columna X4 para reemplazar los valores 0 con 3 (Otros)"
      ],
      "metadata": {
        "id": "r2pwcAK7zOoP"
      }
    },
    {
      "cell_type": "code",
      "source": [
        "ndf2[\"X4\"]=ndf2[[\"X4\"]].replace(0,3)"
      ],
      "metadata": {
        "id": "v5ZIBBCvzc-c"
      },
      "execution_count": 5,
      "outputs": []
    },
    {
      "cell_type": "markdown",
      "source": [
        "Con las columnas X6 a X11 sustituimos el valor de -2 por -1 (Pago oportuno)"
      ],
      "metadata": {
        "id": "frXoGoMd0Atr"
      }
    },
    {
      "cell_type": "code",
      "source": [
        "slc = ndf2.loc[ : , \"X6\":\"X11\"]\n",
        "for c in slc.columns:\n",
        "  ndf2[c] = ndf2[[c]].replace(-2,-1)"
      ],
      "metadata": {
        "id": "SIpCWjyQ1hdP"
      },
      "execution_count": 6,
      "outputs": []
    },
    {
      "cell_type": "markdown",
      "source": [
        "Tal como se puede observar las columnas X6 a la X11 presentan otro valor que no se menciona en la documentación, el valor **0**, procedemos a reemplazarlo con **-1** dado que es muy probable que sea un error de captura"
      ],
      "metadata": {
        "id": "4Sa6gqJLi1Jz"
      }
    },
    {
      "cell_type": "code",
      "source": [
        "slc = ndf2.loc[ : , \"X6\":\"X11\"]\n",
        "for c in slc.columns:\n",
        "  ndf2[c] = ndf2[[c]].replace(0,-1)"
      ],
      "metadata": {
        "id": "-PlyJo3MkME2"
      },
      "execution_count": 7,
      "outputs": []
    },
    {
      "cell_type": "code",
      "source": [
        "df = ndf2.copy()"
      ],
      "metadata": {
        "id": "3SO81Ydi6bBI"
      },
      "execution_count": 39,
      "outputs": []
    },
    {
      "cell_type": "markdown",
      "source": [
        "# Parte 1: Ejercicio guiado \n"
      ],
      "metadata": {
        "id": "gAxtyIXzdAc3"
      }
    },
    {
      "cell_type": "markdown",
      "source": [
        "## Paso 1: \n",
        "Determina el número mínimo de componentes principales que representan la mayor parte de la variación en sus datos"
      ],
      "metadata": {
        "id": "pgwmWchJdNY0"
      }
    },
    {
      "cell_type": "code",
      "source": [
        "import pandas as pd\n",
        "import numpy as np\n",
        "\n",
        "from sklearn.decomposition import PCA\n",
        "from sklearn import preprocessing\n",
        "\n",
        "import matplotlib as mpl\n",
        "import matplotlib.pyplot as plt\n",
        "import seaborn as sns"
      ],
      "metadata": {
        "id": "7ax7cuOLdQwo"
      },
      "execution_count": 9,
      "outputs": []
    },
    {
      "cell_type": "code",
      "source": [
        "# Analisis rapido del DF\n",
        "df = df.iloc[: , 1:]\n",
        "df.head()"
      ],
      "metadata": {
        "colab": {
          "base_uri": "https://localhost:8080/",
          "height": 235
        },
        "id": "UzmG5wsJeN0y",
        "outputId": "59d57294-4343-4316-e461-0c624038b04b"
      },
      "execution_count": 40,
      "outputs": [
        {
          "output_type": "execute_result",
          "data": {
            "text/plain": [
              "       X1   X2   X3   X4    X5   X6   X7   X8   X9  X10  ...      X15  \\\n",
              "0   20000  2.0  2.0  1.0  24.0  2.0  2.0 -1.0 -1.0 -1.0  ...      0.0   \n",
              "1  120000  2.0  2.0  2.0  26.0 -1.0  2.0 -1.0 -1.0 -1.0  ...   3272.0   \n",
              "2   90000  2.0  2.0  2.0  34.0 -1.0 -1.0 -1.0 -1.0 -1.0  ...  14331.0   \n",
              "3   50000  2.0  2.0  1.0  37.0 -1.0 -1.0 -1.0 -1.0 -1.0  ...  28314.0   \n",
              "4   50000  1.0  2.0  1.0  57.0 -1.0 -1.0 -1.0 -1.0 -1.0  ...  20940.0   \n",
              "\n",
              "       X16      X17     X18      X19      X20     X21     X22     X23    Y  \n",
              "0      0.0      0.0     0.0    689.0      0.0     0.0     0.0     0.0  1.0  \n",
              "1   3455.0   3261.0     0.0   1000.0   1000.0  1000.0     0.0  2000.0  1.0  \n",
              "2  14948.0  15549.0  1518.0   1500.0   1000.0  1000.0  1000.0  5000.0  0.0  \n",
              "3  28959.0  29547.0  2000.0   2019.0   1200.0  1100.0  1069.0  1000.0  0.0  \n",
              "4  19146.0  19131.0  2000.0  36681.0  10000.0  9000.0   689.0   679.0  0.0  \n",
              "\n",
              "[5 rows x 24 columns]"
            ],
            "text/html": [
              "\n",
              "  <div id=\"df-833f8d12-d502-4950-b6e1-568f1ddd9583\">\n",
              "    <div class=\"colab-df-container\">\n",
              "      <div>\n",
              "<style scoped>\n",
              "    .dataframe tbody tr th:only-of-type {\n",
              "        vertical-align: middle;\n",
              "    }\n",
              "\n",
              "    .dataframe tbody tr th {\n",
              "        vertical-align: top;\n",
              "    }\n",
              "\n",
              "    .dataframe thead th {\n",
              "        text-align: right;\n",
              "    }\n",
              "</style>\n",
              "<table border=\"1\" class=\"dataframe\">\n",
              "  <thead>\n",
              "    <tr style=\"text-align: right;\">\n",
              "      <th></th>\n",
              "      <th>X1</th>\n",
              "      <th>X2</th>\n",
              "      <th>X3</th>\n",
              "      <th>X4</th>\n",
              "      <th>X5</th>\n",
              "      <th>X6</th>\n",
              "      <th>X7</th>\n",
              "      <th>X8</th>\n",
              "      <th>X9</th>\n",
              "      <th>X10</th>\n",
              "      <th>...</th>\n",
              "      <th>X15</th>\n",
              "      <th>X16</th>\n",
              "      <th>X17</th>\n",
              "      <th>X18</th>\n",
              "      <th>X19</th>\n",
              "      <th>X20</th>\n",
              "      <th>X21</th>\n",
              "      <th>X22</th>\n",
              "      <th>X23</th>\n",
              "      <th>Y</th>\n",
              "    </tr>\n",
              "  </thead>\n",
              "  <tbody>\n",
              "    <tr>\n",
              "      <th>0</th>\n",
              "      <td>20000</td>\n",
              "      <td>2.0</td>\n",
              "      <td>2.0</td>\n",
              "      <td>1.0</td>\n",
              "      <td>24.0</td>\n",
              "      <td>2.0</td>\n",
              "      <td>2.0</td>\n",
              "      <td>-1.0</td>\n",
              "      <td>-1.0</td>\n",
              "      <td>-1.0</td>\n",
              "      <td>...</td>\n",
              "      <td>0.0</td>\n",
              "      <td>0.0</td>\n",
              "      <td>0.0</td>\n",
              "      <td>0.0</td>\n",
              "      <td>689.0</td>\n",
              "      <td>0.0</td>\n",
              "      <td>0.0</td>\n",
              "      <td>0.0</td>\n",
              "      <td>0.0</td>\n",
              "      <td>1.0</td>\n",
              "    </tr>\n",
              "    <tr>\n",
              "      <th>1</th>\n",
              "      <td>120000</td>\n",
              "      <td>2.0</td>\n",
              "      <td>2.0</td>\n",
              "      <td>2.0</td>\n",
              "      <td>26.0</td>\n",
              "      <td>-1.0</td>\n",
              "      <td>2.0</td>\n",
              "      <td>-1.0</td>\n",
              "      <td>-1.0</td>\n",
              "      <td>-1.0</td>\n",
              "      <td>...</td>\n",
              "      <td>3272.0</td>\n",
              "      <td>3455.0</td>\n",
              "      <td>3261.0</td>\n",
              "      <td>0.0</td>\n",
              "      <td>1000.0</td>\n",
              "      <td>1000.0</td>\n",
              "      <td>1000.0</td>\n",
              "      <td>0.0</td>\n",
              "      <td>2000.0</td>\n",
              "      <td>1.0</td>\n",
              "    </tr>\n",
              "    <tr>\n",
              "      <th>2</th>\n",
              "      <td>90000</td>\n",
              "      <td>2.0</td>\n",
              "      <td>2.0</td>\n",
              "      <td>2.0</td>\n",
              "      <td>34.0</td>\n",
              "      <td>-1.0</td>\n",
              "      <td>-1.0</td>\n",
              "      <td>-1.0</td>\n",
              "      <td>-1.0</td>\n",
              "      <td>-1.0</td>\n",
              "      <td>...</td>\n",
              "      <td>14331.0</td>\n",
              "      <td>14948.0</td>\n",
              "      <td>15549.0</td>\n",
              "      <td>1518.0</td>\n",
              "      <td>1500.0</td>\n",
              "      <td>1000.0</td>\n",
              "      <td>1000.0</td>\n",
              "      <td>1000.0</td>\n",
              "      <td>5000.0</td>\n",
              "      <td>0.0</td>\n",
              "    </tr>\n",
              "    <tr>\n",
              "      <th>3</th>\n",
              "      <td>50000</td>\n",
              "      <td>2.0</td>\n",
              "      <td>2.0</td>\n",
              "      <td>1.0</td>\n",
              "      <td>37.0</td>\n",
              "      <td>-1.0</td>\n",
              "      <td>-1.0</td>\n",
              "      <td>-1.0</td>\n",
              "      <td>-1.0</td>\n",
              "      <td>-1.0</td>\n",
              "      <td>...</td>\n",
              "      <td>28314.0</td>\n",
              "      <td>28959.0</td>\n",
              "      <td>29547.0</td>\n",
              "      <td>2000.0</td>\n",
              "      <td>2019.0</td>\n",
              "      <td>1200.0</td>\n",
              "      <td>1100.0</td>\n",
              "      <td>1069.0</td>\n",
              "      <td>1000.0</td>\n",
              "      <td>0.0</td>\n",
              "    </tr>\n",
              "    <tr>\n",
              "      <th>4</th>\n",
              "      <td>50000</td>\n",
              "      <td>1.0</td>\n",
              "      <td>2.0</td>\n",
              "      <td>1.0</td>\n",
              "      <td>57.0</td>\n",
              "      <td>-1.0</td>\n",
              "      <td>-1.0</td>\n",
              "      <td>-1.0</td>\n",
              "      <td>-1.0</td>\n",
              "      <td>-1.0</td>\n",
              "      <td>...</td>\n",
              "      <td>20940.0</td>\n",
              "      <td>19146.0</td>\n",
              "      <td>19131.0</td>\n",
              "      <td>2000.0</td>\n",
              "      <td>36681.0</td>\n",
              "      <td>10000.0</td>\n",
              "      <td>9000.0</td>\n",
              "      <td>689.0</td>\n",
              "      <td>679.0</td>\n",
              "      <td>0.0</td>\n",
              "    </tr>\n",
              "  </tbody>\n",
              "</table>\n",
              "<p>5 rows × 24 columns</p>\n",
              "</div>\n",
              "      <button class=\"colab-df-convert\" onclick=\"convertToInteractive('df-833f8d12-d502-4950-b6e1-568f1ddd9583')\"\n",
              "              title=\"Convert this dataframe to an interactive table.\"\n",
              "              style=\"display:none;\">\n",
              "        \n",
              "  <svg xmlns=\"http://www.w3.org/2000/svg\" height=\"24px\"viewBox=\"0 0 24 24\"\n",
              "       width=\"24px\">\n",
              "    <path d=\"M0 0h24v24H0V0z\" fill=\"none\"/>\n",
              "    <path d=\"M18.56 5.44l.94 2.06.94-2.06 2.06-.94-2.06-.94-.94-2.06-.94 2.06-2.06.94zm-11 1L8.5 8.5l.94-2.06 2.06-.94-2.06-.94L8.5 2.5l-.94 2.06-2.06.94zm10 10l.94 2.06.94-2.06 2.06-.94-2.06-.94-.94-2.06-.94 2.06-2.06.94z\"/><path d=\"M17.41 7.96l-1.37-1.37c-.4-.4-.92-.59-1.43-.59-.52 0-1.04.2-1.43.59L10.3 9.45l-7.72 7.72c-.78.78-.78 2.05 0 2.83L4 21.41c.39.39.9.59 1.41.59.51 0 1.02-.2 1.41-.59l7.78-7.78 2.81-2.81c.8-.78.8-2.07 0-2.86zM5.41 20L4 18.59l7.72-7.72 1.47 1.35L5.41 20z\"/>\n",
              "  </svg>\n",
              "      </button>\n",
              "      \n",
              "  <style>\n",
              "    .colab-df-container {\n",
              "      display:flex;\n",
              "      flex-wrap:wrap;\n",
              "      gap: 12px;\n",
              "    }\n",
              "\n",
              "    .colab-df-convert {\n",
              "      background-color: #E8F0FE;\n",
              "      border: none;\n",
              "      border-radius: 50%;\n",
              "      cursor: pointer;\n",
              "      display: none;\n",
              "      fill: #1967D2;\n",
              "      height: 32px;\n",
              "      padding: 0 0 0 0;\n",
              "      width: 32px;\n",
              "    }\n",
              "\n",
              "    .colab-df-convert:hover {\n",
              "      background-color: #E2EBFA;\n",
              "      box-shadow: 0px 1px 2px rgba(60, 64, 67, 0.3), 0px 1px 3px 1px rgba(60, 64, 67, 0.15);\n",
              "      fill: #174EA6;\n",
              "    }\n",
              "\n",
              "    [theme=dark] .colab-df-convert {\n",
              "      background-color: #3B4455;\n",
              "      fill: #D2E3FC;\n",
              "    }\n",
              "\n",
              "    [theme=dark] .colab-df-convert:hover {\n",
              "      background-color: #434B5C;\n",
              "      box-shadow: 0px 1px 3px 1px rgba(0, 0, 0, 0.15);\n",
              "      filter: drop-shadow(0px 1px 2px rgba(0, 0, 0, 0.3));\n",
              "      fill: #FFFFFF;\n",
              "    }\n",
              "  </style>\n",
              "\n",
              "      <script>\n",
              "        const buttonEl =\n",
              "          document.querySelector('#df-833f8d12-d502-4950-b6e1-568f1ddd9583 button.colab-df-convert');\n",
              "        buttonEl.style.display =\n",
              "          google.colab.kernel.accessAllowed ? 'block' : 'none';\n",
              "\n",
              "        async function convertToInteractive(key) {\n",
              "          const element = document.querySelector('#df-833f8d12-d502-4950-b6e1-568f1ddd9583');\n",
              "          const dataTable =\n",
              "            await google.colab.kernel.invokeFunction('convertToInteractive',\n",
              "                                                     [key], {});\n",
              "          if (!dataTable) return;\n",
              "\n",
              "          const docLinkHtml = 'Like what you see? Visit the ' +\n",
              "            '<a target=\"_blank\" href=https://colab.research.google.com/notebooks/data_table.ipynb>data table notebook</a>'\n",
              "            + ' to learn more about interactive tables.';\n",
              "          element.innerHTML = '';\n",
              "          dataTable['output_type'] = 'display_data';\n",
              "          await google.colab.output.renderOutput(dataTable, element);\n",
              "          const docLink = document.createElement('div');\n",
              "          docLink.innerHTML = docLinkHtml;\n",
              "          element.appendChild(docLink);\n",
              "        }\n",
              "      </script>\n",
              "    </div>\n",
              "  </div>\n",
              "  "
            ]
          },
          "metadata": {},
          "execution_count": 40
        }
      ]
    },
    {
      "cell_type": "markdown",
      "source": [
        "Verificamos que solo tenemos variables cuantitativas numericas."
      ],
      "metadata": {
        "id": "La3R8IW3faNl"
      }
    },
    {
      "cell_type": "code",
      "source": [
        "df.info()"
      ],
      "metadata": {
        "colab": {
          "base_uri": "https://localhost:8080/"
        },
        "id": "X4TwKCiRfBvN",
        "outputId": "b05da802-355d-47c9-c85a-5d02001c01ca"
      },
      "execution_count": 41,
      "outputs": [
        {
          "output_type": "stream",
          "name": "stdout",
          "text": [
            "<class 'pandas.core.frame.DataFrame'>\n",
            "Int64Index: 29958 entries, 0 to 29999\n",
            "Data columns (total 24 columns):\n",
            " #   Column  Non-Null Count  Dtype  \n",
            "---  ------  --------------  -----  \n",
            " 0   X1      29958 non-null  int64  \n",
            " 1   X2      29958 non-null  float64\n",
            " 2   X3      29958 non-null  float64\n",
            " 3   X4      29958 non-null  float64\n",
            " 4   X5      29958 non-null  float64\n",
            " 5   X6      29958 non-null  float64\n",
            " 6   X7      29958 non-null  float64\n",
            " 7   X8      29958 non-null  float64\n",
            " 8   X9      29958 non-null  float64\n",
            " 9   X10     29958 non-null  float64\n",
            " 10  X11     29958 non-null  float64\n",
            " 11  X12     29958 non-null  float64\n",
            " 12  X13     29958 non-null  float64\n",
            " 13  X14     29958 non-null  float64\n",
            " 14  X15     29958 non-null  float64\n",
            " 15  X16     29958 non-null  float64\n",
            " 16  X17     29958 non-null  float64\n",
            " 17  X18     29958 non-null  float64\n",
            " 18  X19     29958 non-null  float64\n",
            " 19  X20     29958 non-null  float64\n",
            " 20  X21     29958 non-null  float64\n",
            " 21  X22     29958 non-null  float64\n",
            " 22  X23     29958 non-null  float64\n",
            " 23  Y       29958 non-null  float64\n",
            "dtypes: float64(23), int64(1)\n",
            "memory usage: 5.7 MB\n"
          ]
        }
      ]
    },
    {
      "cell_type": "markdown",
      "source": [
        "El método preprocessing nos sirve para estandarizar el data frame.<br>\n",
        "La estandarización de los datos es un paso requerido para el metodo PCA.<br>\n",
        "Al estandarizar, la media de todos los datos será 0 con un rango de -1 a 1. <br>"
      ],
      "metadata": {
        "id": "D-cZT1KOgNCq"
      }
    },
    {
      "cell_type": "code",
      "source": [
        "# Recordatorio: asegurarse de limpiar el df, aqui el df ya ha sido limpiado.\n",
        "pcs = PCA()\n",
        "pcs.fit(preprocessing.scale(df)) "
      ],
      "metadata": {
        "colab": {
          "base_uri": "https://localhost:8080/"
        },
        "id": "UZ_hNDF1fPgi",
        "outputId": "fe075ffa-8e67-4807-8fe8-83e84b6f5274"
      },
      "execution_count": 42,
      "outputs": [
        {
          "output_type": "execute_result",
          "data": {
            "text/plain": [
              "PCA()"
            ]
          },
          "metadata": {},
          "execution_count": 42
        }
      ]
    },
    {
      "cell_type": "markdown",
      "source": [
        "La estandarización nos sirve para evitar grandes varianzas entre los componente principales, además de que elimina la mayoría de los outliers dentro del dataset"
      ],
      "metadata": {
        "id": "kbmnCOmWgklC"
      }
    },
    {
      "cell_type": "markdown",
      "source": [
        "Analizamos la desviacion estandar, la varianza y la proporcion acumulativa de varianza de los  PCA's."
      ],
      "metadata": {
        "id": "brFf_GGIhHgc"
      }
    },
    {
      "cell_type": "markdown",
      "source": [
        "Medidas de dispersion o variabilidad:"
      ],
      "metadata": {
        "id": "GKHTorTmmbYM"
      }
    },
    {
      "cell_type": "code",
      "source": [
        "pcsSummary_df = pd.DataFrame({'Desviación estándar': np.sqrt(pcs.explained_variance_),\n",
        "                             'Proporción de la varianza': pcs.explained_variance_ratio_,\n",
        "                             'Proporción acumulativa': np.cumsum(pcs.explained_variance_ratio_)\n",
        "                             })\n",
        "\n",
        "pcsSummary_df = pcsSummary_df.transpose()\n",
        "pcsSummary_df.columns = ['PC{}'.format(i) for i in range(1, len(pcsSummary_df.columns) + 1)]\n",
        "pcsSummary_df.round(4) "
      ],
      "metadata": {
        "colab": {
          "base_uri": "https://localhost:8080/",
          "height": 173
        },
        "id": "7LYyYpCSgMZ3",
        "outputId": "908969e7-b89d-4cfc-c2bd-9545e16c1d89"
      },
      "execution_count": 43,
      "outputs": [
        {
          "output_type": "execute_result",
          "data": {
            "text/plain": [
              "                              PC1     PC2     PC3     PC4     PC5     PC6  \\\n",
              "Desviación estándar        2.4354  2.0111  1.2854  1.2316  1.0267  1.0105   \n",
              "Proporción de la varianza  0.2471  0.1685  0.0688  0.0632  0.0439  0.0425   \n",
              "Proporción acumulativa     0.2471  0.4156  0.4845  0.5477  0.5916  0.6342   \n",
              "\n",
              "                              PC7     PC8     PC9    PC10  ...    PC15  \\\n",
              "Desviación estándar        1.0014  0.9473  0.9403  0.9324  ...  0.7313   \n",
              "Proporción de la varianza  0.0418  0.0374  0.0368  0.0362  ...  0.0223   \n",
              "Proporción acumulativa     0.6759  0.7133  0.7502  0.7864  ...  0.9277   \n",
              "\n",
              "                             PC16    PC17    PC18    PC19    PC20    PC21  \\\n",
              "Desviación estándar        0.7089  0.5978  0.5131  0.4970  0.4536  0.2661   \n",
              "Proporción de la varianza  0.0209  0.0149  0.0110  0.0103  0.0086  0.0029   \n",
              "Proporción acumulativa     0.9486  0.9635  0.9745  0.9847  0.9933  0.9963   \n",
              "\n",
              "                             PC22    PC23    PC24  \n",
              "Desviación estándar        0.2025  0.1591  0.1524  \n",
              "Proporción de la varianza  0.0017  0.0011  0.0010  \n",
              "Proporción acumulativa     0.9980  0.9990  1.0000  \n",
              "\n",
              "[3 rows x 24 columns]"
            ],
            "text/html": [
              "\n",
              "  <div id=\"df-d2dfa259-70dc-4b5a-bb9c-b31b2abeda4f\">\n",
              "    <div class=\"colab-df-container\">\n",
              "      <div>\n",
              "<style scoped>\n",
              "    .dataframe tbody tr th:only-of-type {\n",
              "        vertical-align: middle;\n",
              "    }\n",
              "\n",
              "    .dataframe tbody tr th {\n",
              "        vertical-align: top;\n",
              "    }\n",
              "\n",
              "    .dataframe thead th {\n",
              "        text-align: right;\n",
              "    }\n",
              "</style>\n",
              "<table border=\"1\" class=\"dataframe\">\n",
              "  <thead>\n",
              "    <tr style=\"text-align: right;\">\n",
              "      <th></th>\n",
              "      <th>PC1</th>\n",
              "      <th>PC2</th>\n",
              "      <th>PC3</th>\n",
              "      <th>PC4</th>\n",
              "      <th>PC5</th>\n",
              "      <th>PC6</th>\n",
              "      <th>PC7</th>\n",
              "      <th>PC8</th>\n",
              "      <th>PC9</th>\n",
              "      <th>PC10</th>\n",
              "      <th>...</th>\n",
              "      <th>PC15</th>\n",
              "      <th>PC16</th>\n",
              "      <th>PC17</th>\n",
              "      <th>PC18</th>\n",
              "      <th>PC19</th>\n",
              "      <th>PC20</th>\n",
              "      <th>PC21</th>\n",
              "      <th>PC22</th>\n",
              "      <th>PC23</th>\n",
              "      <th>PC24</th>\n",
              "    </tr>\n",
              "  </thead>\n",
              "  <tbody>\n",
              "    <tr>\n",
              "      <th>Desviación estándar</th>\n",
              "      <td>2.4354</td>\n",
              "      <td>2.0111</td>\n",
              "      <td>1.2854</td>\n",
              "      <td>1.2316</td>\n",
              "      <td>1.0267</td>\n",
              "      <td>1.0105</td>\n",
              "      <td>1.0014</td>\n",
              "      <td>0.9473</td>\n",
              "      <td>0.9403</td>\n",
              "      <td>0.9324</td>\n",
              "      <td>...</td>\n",
              "      <td>0.7313</td>\n",
              "      <td>0.7089</td>\n",
              "      <td>0.5978</td>\n",
              "      <td>0.5131</td>\n",
              "      <td>0.4970</td>\n",
              "      <td>0.4536</td>\n",
              "      <td>0.2661</td>\n",
              "      <td>0.2025</td>\n",
              "      <td>0.1591</td>\n",
              "      <td>0.1524</td>\n",
              "    </tr>\n",
              "    <tr>\n",
              "      <th>Proporción de la varianza</th>\n",
              "      <td>0.2471</td>\n",
              "      <td>0.1685</td>\n",
              "      <td>0.0688</td>\n",
              "      <td>0.0632</td>\n",
              "      <td>0.0439</td>\n",
              "      <td>0.0425</td>\n",
              "      <td>0.0418</td>\n",
              "      <td>0.0374</td>\n",
              "      <td>0.0368</td>\n",
              "      <td>0.0362</td>\n",
              "      <td>...</td>\n",
              "      <td>0.0223</td>\n",
              "      <td>0.0209</td>\n",
              "      <td>0.0149</td>\n",
              "      <td>0.0110</td>\n",
              "      <td>0.0103</td>\n",
              "      <td>0.0086</td>\n",
              "      <td>0.0029</td>\n",
              "      <td>0.0017</td>\n",
              "      <td>0.0011</td>\n",
              "      <td>0.0010</td>\n",
              "    </tr>\n",
              "    <tr>\n",
              "      <th>Proporción acumulativa</th>\n",
              "      <td>0.2471</td>\n",
              "      <td>0.4156</td>\n",
              "      <td>0.4845</td>\n",
              "      <td>0.5477</td>\n",
              "      <td>0.5916</td>\n",
              "      <td>0.6342</td>\n",
              "      <td>0.6759</td>\n",
              "      <td>0.7133</td>\n",
              "      <td>0.7502</td>\n",
              "      <td>0.7864</td>\n",
              "      <td>...</td>\n",
              "      <td>0.9277</td>\n",
              "      <td>0.9486</td>\n",
              "      <td>0.9635</td>\n",
              "      <td>0.9745</td>\n",
              "      <td>0.9847</td>\n",
              "      <td>0.9933</td>\n",
              "      <td>0.9963</td>\n",
              "      <td>0.9980</td>\n",
              "      <td>0.9990</td>\n",
              "      <td>1.0000</td>\n",
              "    </tr>\n",
              "  </tbody>\n",
              "</table>\n",
              "<p>3 rows × 24 columns</p>\n",
              "</div>\n",
              "      <button class=\"colab-df-convert\" onclick=\"convertToInteractive('df-d2dfa259-70dc-4b5a-bb9c-b31b2abeda4f')\"\n",
              "              title=\"Convert this dataframe to an interactive table.\"\n",
              "              style=\"display:none;\">\n",
              "        \n",
              "  <svg xmlns=\"http://www.w3.org/2000/svg\" height=\"24px\"viewBox=\"0 0 24 24\"\n",
              "       width=\"24px\">\n",
              "    <path d=\"M0 0h24v24H0V0z\" fill=\"none\"/>\n",
              "    <path d=\"M18.56 5.44l.94 2.06.94-2.06 2.06-.94-2.06-.94-.94-2.06-.94 2.06-2.06.94zm-11 1L8.5 8.5l.94-2.06 2.06-.94-2.06-.94L8.5 2.5l-.94 2.06-2.06.94zm10 10l.94 2.06.94-2.06 2.06-.94-2.06-.94-.94-2.06-.94 2.06-2.06.94z\"/><path d=\"M17.41 7.96l-1.37-1.37c-.4-.4-.92-.59-1.43-.59-.52 0-1.04.2-1.43.59L10.3 9.45l-7.72 7.72c-.78.78-.78 2.05 0 2.83L4 21.41c.39.39.9.59 1.41.59.51 0 1.02-.2 1.41-.59l7.78-7.78 2.81-2.81c.8-.78.8-2.07 0-2.86zM5.41 20L4 18.59l7.72-7.72 1.47 1.35L5.41 20z\"/>\n",
              "  </svg>\n",
              "      </button>\n",
              "      \n",
              "  <style>\n",
              "    .colab-df-container {\n",
              "      display:flex;\n",
              "      flex-wrap:wrap;\n",
              "      gap: 12px;\n",
              "    }\n",
              "\n",
              "    .colab-df-convert {\n",
              "      background-color: #E8F0FE;\n",
              "      border: none;\n",
              "      border-radius: 50%;\n",
              "      cursor: pointer;\n",
              "      display: none;\n",
              "      fill: #1967D2;\n",
              "      height: 32px;\n",
              "      padding: 0 0 0 0;\n",
              "      width: 32px;\n",
              "    }\n",
              "\n",
              "    .colab-df-convert:hover {\n",
              "      background-color: #E2EBFA;\n",
              "      box-shadow: 0px 1px 2px rgba(60, 64, 67, 0.3), 0px 1px 3px 1px rgba(60, 64, 67, 0.15);\n",
              "      fill: #174EA6;\n",
              "    }\n",
              "\n",
              "    [theme=dark] .colab-df-convert {\n",
              "      background-color: #3B4455;\n",
              "      fill: #D2E3FC;\n",
              "    }\n",
              "\n",
              "    [theme=dark] .colab-df-convert:hover {\n",
              "      background-color: #434B5C;\n",
              "      box-shadow: 0px 1px 3px 1px rgba(0, 0, 0, 0.15);\n",
              "      filter: drop-shadow(0px 1px 2px rgba(0, 0, 0, 0.3));\n",
              "      fill: #FFFFFF;\n",
              "    }\n",
              "  </style>\n",
              "\n",
              "      <script>\n",
              "        const buttonEl =\n",
              "          document.querySelector('#df-d2dfa259-70dc-4b5a-bb9c-b31b2abeda4f button.colab-df-convert');\n",
              "        buttonEl.style.display =\n",
              "          google.colab.kernel.accessAllowed ? 'block' : 'none';\n",
              "\n",
              "        async function convertToInteractive(key) {\n",
              "          const element = document.querySelector('#df-d2dfa259-70dc-4b5a-bb9c-b31b2abeda4f');\n",
              "          const dataTable =\n",
              "            await google.colab.kernel.invokeFunction('convertToInteractive',\n",
              "                                                     [key], {});\n",
              "          if (!dataTable) return;\n",
              "\n",
              "          const docLinkHtml = 'Like what you see? Visit the ' +\n",
              "            '<a target=\"_blank\" href=https://colab.research.google.com/notebooks/data_table.ipynb>data table notebook</a>'\n",
              "            + ' to learn more about interactive tables.';\n",
              "          element.innerHTML = '';\n",
              "          dataTable['output_type'] = 'display_data';\n",
              "          await google.colab.output.renderOutput(dataTable, element);\n",
              "          const docLink = document.createElement('div');\n",
              "          docLink.innerHTML = docLinkHtml;\n",
              "          element.appendChild(docLink);\n",
              "        }\n",
              "      </script>\n",
              "    </div>\n",
              "  </div>\n",
              "  "
            ]
          },
          "metadata": {},
          "execution_count": 43
        }
      ]
    },
    {
      "cell_type": "markdown",
      "source": [
        "Observamos que despues del PCA 10 tenemos casi el 80%."
      ],
      "metadata": {
        "id": "r4wwu9VhnzbN"
      }
    },
    {
      "cell_type": "markdown",
      "source": [
        "<H3>Scree Plot</H3>"
      ],
      "metadata": {
        "id": "g7cXHlexnEZ9"
      }
    },
    {
      "cell_type": "code",
      "source": [
        "PC_components = np.arange(pcs.n_components_) + 1 # sumamos +1 por que el arrange te da menos -1 el rango\n",
        "#PC_components\n",
        "\n",
        "_ = sns.set(style = 'whitegrid', \n",
        "            font_scale = 1.2\n",
        "            )\n",
        "\n",
        "fig, ax = plt.subplots(figsize=(10, 7))\n",
        "\n",
        "_ = sns.barplot(x = PC_components, \n",
        "                y = pcs.explained_variance_ratio_, \n",
        "                color = 'b'\n",
        "                )\n",
        "\n",
        "_ = sns.lineplot(x = PC_components-1, \n",
        "                 y = np.cumsum(pcs.explained_variance_ratio_), \n",
        "                 color = 'black', \n",
        "                 linestyle = '-', \n",
        "                 linewidth = 2, \n",
        "                 marker = 'o', \n",
        "                 markersize = 8\n",
        "                 )\n",
        "\n",
        "plt.title('Scree Plot')\n",
        "plt.xlabel('N-th Principal Component')\n",
        "plt.ylabel('Variance Explained')\n",
        "plt.ylim(0, 1)\n",
        "plt.show()"
      ],
      "metadata": {
        "id": "yqH5Sq7KhGiI",
        "outputId": "8c37d9eb-ddc3-45a1-8bbf-432d3bb2a5d1",
        "colab": {
          "base_uri": "https://localhost:8080/",
          "height": 469
        }
      },
      "execution_count": 44,
      "outputs": [
        {
          "output_type": "display_data",
          "data": {
            "text/plain": [
              "<Figure size 720x504 with 1 Axes>"
            ],
            "image/png": "[encoded data removed]"
          },
          "metadata": {}
        }
      ]
    },
    {
      "cell_type": "markdown",
      "source": [
        "Observamos que el primer componente es el que tiene mayor cantidad de varianza."
      ],
      "metadata": {
        "id": "ADwDArVBsiHk"
      }
    },
    {
      "cell_type": "markdown",
      "source": [
        "Analizemos que tenemos despues del PCA 10."
      ],
      "metadata": {
        "id": "j6np2ik7sydY"
      }
    },
    {
      "cell_type": "code",
      "source": [
        "summary_df = pcsSummary_df.round(4)\n",
        "summary_df.iloc[: , 10:]"
      ],
      "metadata": {
        "id": "vQJfJNA6npjU",
        "outputId": "d19bde66-c9d2-4743-afa6-ffef16e20170",
        "colab": {
          "base_uri": "https://localhost:8080/",
          "height": 143
        }
      },
      "execution_count": 45,
      "outputs": [
        {
          "output_type": "execute_result",
          "data": {
            "text/plain": [
              "                             PC11    PC12    PC13    PC14    PC15    PC16  \\\n",
              "Desviación estándar        0.8830  0.8650  0.8547  0.7730  0.7313  0.7089   \n",
              "Proporción de la varianza  0.0325  0.0312  0.0304  0.0249  0.0223  0.0209   \n",
              "Proporción acumulativa     0.8189  0.8500  0.8805  0.9054  0.9277  0.9486   \n",
              "\n",
              "                             PC17    PC18    PC19    PC20    PC21    PC22  \\\n",
              "Desviación estándar        0.5978  0.5131  0.4970  0.4536  0.2661  0.2025   \n",
              "Proporción de la varianza  0.0149  0.0110  0.0103  0.0086  0.0029  0.0017   \n",
              "Proporción acumulativa     0.9635  0.9745  0.9847  0.9933  0.9963  0.9980   \n",
              "\n",
              "                             PC23    PC24  \n",
              "Desviación estándar        0.1591  0.1524  \n",
              "Proporción de la varianza  0.0011  0.0010  \n",
              "Proporción acumulativa     0.9990  1.0000  "
            ],
            "text/html": [
              "\n",
              "  <div id=\"df-46284aa9-e960-463f-8eae-a8a56afe174b\">\n",
              "    <div class=\"colab-df-container\">\n",
              "      <div>\n",
              "<style scoped>\n",
              "    .dataframe tbody tr th:only-of-type {\n",
              "        vertical-align: middle;\n",
              "    }\n",
              "\n",
              "    .dataframe tbody tr th {\n",
              "        vertical-align: top;\n",
              "    }\n",
              "\n",
              "    .dataframe thead th {\n",
              "        text-align: right;\n",
              "    }\n",
              "</style>\n",
              "<table border=\"1\" class=\"dataframe\">\n",
              "  <thead>\n",
              "    <tr style=\"text-align: right;\">\n",
              "      <th></th>\n",
              "      <th>PC11</th>\n",
              "      <th>PC12</th>\n",
              "      <th>PC13</th>\n",
              "      <th>PC14</th>\n",
              "      <th>PC15</th>\n",
              "      <th>PC16</th>\n",
              "      <th>PC17</th>\n",
              "      <th>PC18</th>\n",
              "      <th>PC19</th>\n",
              "      <th>PC20</th>\n",
              "      <th>PC21</th>\n",
              "      <th>PC22</th>\n",
              "      <th>PC23</th>\n",
              "      <th>PC24</th>\n",
              "    </tr>\n",
              "  </thead>\n",
              "  <tbody>\n",
              "    <tr>\n",
              "      <th>Desviación estándar</th>\n",
              "      <td>0.8830</td>\n",
              "      <td>0.8650</td>\n",
              "      <td>0.8547</td>\n",
              "      <td>0.7730</td>\n",
              "      <td>0.7313</td>\n",
              "      <td>0.7089</td>\n",
              "      <td>0.5978</td>\n",
              "      <td>0.5131</td>\n",
              "      <td>0.4970</td>\n",
              "      <td>0.4536</td>\n",
              "      <td>0.2661</td>\n",
              "      <td>0.2025</td>\n",
              "      <td>0.1591</td>\n",
              "      <td>0.1524</td>\n",
              "    </tr>\n",
              "    <tr>\n",
              "      <th>Proporción de la varianza</th>\n",
              "      <td>0.0325</td>\n",
              "      <td>0.0312</td>\n",
              "      <td>0.0304</td>\n",
              "      <td>0.0249</td>\n",
              "      <td>0.0223</td>\n",
              "      <td>0.0209</td>\n",
              "      <td>0.0149</td>\n",
              "      <td>0.0110</td>\n",
              "      <td>0.0103</td>\n",
              "      <td>0.0086</td>\n",
              "      <td>0.0029</td>\n",
              "      <td>0.0017</td>\n",
              "      <td>0.0011</td>\n",
              "      <td>0.0010</td>\n",
              "    </tr>\n",
              "    <tr>\n",
              "      <th>Proporción acumulativa</th>\n",
              "      <td>0.8189</td>\n",
              "      <td>0.8500</td>\n",
              "      <td>0.8805</td>\n",
              "      <td>0.9054</td>\n",
              "      <td>0.9277</td>\n",
              "      <td>0.9486</td>\n",
              "      <td>0.9635</td>\n",
              "      <td>0.9745</td>\n",
              "      <td>0.9847</td>\n",
              "      <td>0.9933</td>\n",
              "      <td>0.9963</td>\n",
              "      <td>0.9980</td>\n",
              "      <td>0.9990</td>\n",
              "      <td>1.0000</td>\n",
              "    </tr>\n",
              "  </tbody>\n",
              "</table>\n",
              "</div>\n",
              "      <button class=\"colab-df-convert\" onclick=\"convertToInteractive('df-46284aa9-e960-463f-8eae-a8a56afe174b')\"\n",
              "              title=\"Convert this dataframe to an interactive table.\"\n",
              "              style=\"display:none;\">\n",
              "        \n",
              "  <svg xmlns=\"http://www.w3.org/2000/svg\" height=\"24px\"viewBox=\"0 0 24 24\"\n",
              "       width=\"24px\">\n",
              "    <path d=\"M0 0h24v24H0V0z\" fill=\"none\"/>\n",
              "    <path d=\"M18.56 5.44l.94 2.06.94-2.06 2.06-.94-2.06-.94-.94-2.06-.94 2.06-2.06.94zm-11 1L8.5 8.5l.94-2.06 2.06-.94-2.06-.94L8.5 2.5l-.94 2.06-2.06.94zm10 10l.94 2.06.94-2.06 2.06-.94-2.06-.94-.94-2.06-.94 2.06-2.06.94z\"/><path d=\"M17.41 7.96l-1.37-1.37c-.4-.4-.92-.59-1.43-.59-.52 0-1.04.2-1.43.59L10.3 9.45l-7.72 7.72c-.78.78-.78 2.05 0 2.83L4 21.41c.39.39.9.59 1.41.59.51 0 1.02-.2 1.41-.59l7.78-7.78 2.81-2.81c.8-.78.8-2.07 0-2.86zM5.41 20L4 18.59l7.72-7.72 1.47 1.35L5.41 20z\"/>\n",
              "  </svg>\n",
              "      </button>\n",
              "      \n",
              "  <style>\n",
              "    .colab-df-container {\n",
              "      display:flex;\n",
              "      flex-wrap:wrap;\n",
              "      gap: 12px;\n",
              "    }\n",
              "\n",
              "    .colab-df-convert {\n",
              "      background-color: #E8F0FE;\n",
              "      border: none;\n",
              "      border-radius: 50%;\n",
              "      cursor: pointer;\n",
              "      display: none;\n",
              "      fill: #1967D2;\n",
              "      height: 32px;\n",
              "      padding: 0 0 0 0;\n",
              "      width: 32px;\n",
              "    }\n",
              "\n",
              "    .colab-df-convert:hover {\n",
              "      background-color: #E2EBFA;\n",
              "      box-shadow: 0px 1px 2px rgba(60, 64, 67, 0.3), 0px 1px 3px 1px rgba(60, 64, 67, 0.15);\n",
              "      fill: #174EA6;\n",
              "    }\n",
              "\n",
              "    [theme=dark] .colab-df-convert {\n",
              "      background-color: #3B4455;\n",
              "      fill: #D2E3FC;\n",
              "    }\n",
              "\n",
              "    [theme=dark] .colab-df-convert:hover {\n",
              "      background-color: #434B5C;\n",
              "      box-shadow: 0px 1px 3px 1px rgba(0, 0, 0, 0.15);\n",
              "      filter: drop-shadow(0px 1px 2px rgba(0, 0, 0, 0.3));\n",
              "      fill: #FFFFFF;\n",
              "    }\n",
              "  </style>\n",
              "\n",
              "      <script>\n",
              "        const buttonEl =\n",
              "          document.querySelector('#df-46284aa9-e960-463f-8eae-a8a56afe174b button.colab-df-convert');\n",
              "        buttonEl.style.display =\n",
              "          google.colab.kernel.accessAllowed ? 'block' : 'none';\n",
              "\n",
              "        async function convertToInteractive(key) {\n",
              "          const element = document.querySelector('#df-46284aa9-e960-463f-8eae-a8a56afe174b');\n",
              "          const dataTable =\n",
              "            await google.colab.kernel.invokeFunction('convertToInteractive',\n",
              "                                                     [key], {});\n",
              "          if (!dataTable) return;\n",
              "\n",
              "          const docLinkHtml = 'Like what you see? Visit the ' +\n",
              "            '<a target=\"_blank\" href=https://colab.research.google.com/notebooks/data_table.ipynb>data table notebook</a>'\n",
              "            + ' to learn more about interactive tables.';\n",
              "          element.innerHTML = '';\n",
              "          dataTable['output_type'] = 'display_data';\n",
              "          await google.colab.output.renderOutput(dataTable, element);\n",
              "          const docLink = document.createElement('div');\n",
              "          docLink.innerHTML = docLinkHtml;\n",
              "          element.appendChild(docLink);\n",
              "        }\n",
              "      </script>\n",
              "    </div>\n",
              "  </div>\n",
              "  "
            ]
          },
          "metadata": {},
          "execution_count": 45
        }
      ]
    },
    {
      "cell_type": "markdown",
      "source": [
        "Tomaremos los primeros 13 componentes principales ya que contienen hasta un 88% de la proporcion de la varianza."
      ],
      "metadata": {
        "id": "HOKlp4HzrvZM"
      }
    },
    {
      "cell_type": "code",
      "source": [
        "summary_df = pcsSummary_df.round(4)\n",
        "summary_df.iloc[: , :13]"
      ],
      "metadata": {
        "id": "7NQFcSFpsKgY",
        "outputId": "1bd20871-7e61-41ee-ec10-3fe3bc7cf73a",
        "colab": {
          "base_uri": "https://localhost:8080/",
          "height": 143
        }
      },
      "execution_count": 46,
      "outputs": [
        {
          "output_type": "execute_result",
          "data": {
            "text/plain": [
              "                              PC1     PC2     PC3     PC4     PC5     PC6  \\\n",
              "Desviación estándar        2.4354  2.0111  1.2854  1.2316  1.0267  1.0105   \n",
              "Proporción de la varianza  0.2471  0.1685  0.0688  0.0632  0.0439  0.0425   \n",
              "Proporción acumulativa     0.2471  0.4156  0.4845  0.5477  0.5916  0.6342   \n",
              "\n",
              "                              PC7     PC8     PC9    PC10    PC11    PC12  \\\n",
              "Desviación estándar        1.0014  0.9473  0.9403  0.9324  0.8830  0.8650   \n",
              "Proporción de la varianza  0.0418  0.0374  0.0368  0.0362  0.0325  0.0312   \n",
              "Proporción acumulativa     0.6759  0.7133  0.7502  0.7864  0.8189  0.8500   \n",
              "\n",
              "                             PC13  \n",
              "Desviación estándar        0.8547  \n",
              "Proporción de la varianza  0.0304  \n",
              "Proporción acumulativa     0.8805  "
            ],
            "text/html": [
              "\n",
              "  <div id=\"df-879b3947-935b-4198-a120-aa479c5ed33c\">\n",
              "    <div class=\"colab-df-container\">\n",
              "      <div>\n",
              "<style scoped>\n",
              "    .dataframe tbody tr th:only-of-type {\n",
              "        vertical-align: middle;\n",
              "    }\n",
              "\n",
              "    .dataframe tbody tr th {\n",
              "        vertical-align: top;\n",
              "    }\n",
              "\n",
              "    .dataframe thead th {\n",
              "        text-align: right;\n",
              "    }\n",
              "</style>\n",
              "<table border=\"1\" class=\"dataframe\">\n",
              "  <thead>\n",
              "    <tr style=\"text-align: right;\">\n",
              "      <th></th>\n",
              "      <th>PC1</th>\n",
              "      <th>PC2</th>\n",
              "      <th>PC3</th>\n",
              "      <th>PC4</th>\n",
              "      <th>PC5</th>\n",
              "      <th>PC6</th>\n",
              "      <th>PC7</th>\n",
              "      <th>PC8</th>\n",
              "      <th>PC9</th>\n",
              "      <th>PC10</th>\n",
              "      <th>PC11</th>\n",
              "      <th>PC12</th>\n",
              "      <th>PC13</th>\n",
              "    </tr>\n",
              "  </thead>\n",
              "  <tbody>\n",
              "    <tr>\n",
              "      <th>Desviación estándar</th>\n",
              "      <td>2.4354</td>\n",
              "      <td>2.0111</td>\n",
              "      <td>1.2854</td>\n",
              "      <td>1.2316</td>\n",
              "      <td>1.0267</td>\n",
              "      <td>1.0105</td>\n",
              "      <td>1.0014</td>\n",
              "      <td>0.9473</td>\n",
              "      <td>0.9403</td>\n",
              "      <td>0.9324</td>\n",
              "      <td>0.8830</td>\n",
              "      <td>0.8650</td>\n",
              "      <td>0.8547</td>\n",
              "    </tr>\n",
              "    <tr>\n",
              "      <th>Proporción de la varianza</th>\n",
              "      <td>0.2471</td>\n",
              "      <td>0.1685</td>\n",
              "      <td>0.0688</td>\n",
              "      <td>0.0632</td>\n",
              "      <td>0.0439</td>\n",
              "      <td>0.0425</td>\n",
              "      <td>0.0418</td>\n",
              "      <td>0.0374</td>\n",
              "      <td>0.0368</td>\n",
              "      <td>0.0362</td>\n",
              "      <td>0.0325</td>\n",
              "      <td>0.0312</td>\n",
              "      <td>0.0304</td>\n",
              "    </tr>\n",
              "    <tr>\n",
              "      <th>Proporción acumulativa</th>\n",
              "      <td>0.2471</td>\n",
              "      <td>0.4156</td>\n",
              "      <td>0.4845</td>\n",
              "      <td>0.5477</td>\n",
              "      <td>0.5916</td>\n",
              "      <td>0.6342</td>\n",
              "      <td>0.6759</td>\n",
              "      <td>0.7133</td>\n",
              "      <td>0.7502</td>\n",
              "      <td>0.7864</td>\n",
              "      <td>0.8189</td>\n",
              "      <td>0.8500</td>\n",
              "      <td>0.8805</td>\n",
              "    </tr>\n",
              "  </tbody>\n",
              "</table>\n",
              "</div>\n",
              "      <button class=\"colab-df-convert\" onclick=\"convertToInteractive('df-879b3947-935b-4198-a120-aa479c5ed33c')\"\n",
              "              title=\"Convert this dataframe to an interactive table.\"\n",
              "              style=\"display:none;\">\n",
              "        \n",
              "  <svg xmlns=\"http://www.w3.org/2000/svg\" height=\"24px\"viewBox=\"0 0 24 24\"\n",
              "       width=\"24px\">\n",
              "    <path d=\"M0 0h24v24H0V0z\" fill=\"none\"/>\n",
              "    <path d=\"M18.56 5.44l.94 2.06.94-2.06 2.06-.94-2.06-.94-.94-2.06-.94 2.06-2.06.94zm-11 1L8.5 8.5l.94-2.06 2.06-.94-2.06-.94L8.5 2.5l-.94 2.06-2.06.94zm10 10l.94 2.06.94-2.06 2.06-.94-2.06-.94-.94-2.06-.94 2.06-2.06.94z\"/><path d=\"M17.41 7.96l-1.37-1.37c-.4-.4-.92-.59-1.43-.59-.52 0-1.04.2-1.43.59L10.3 9.45l-7.72 7.72c-.78.78-.78 2.05 0 2.83L4 21.41c.39.39.9.59 1.41.59.51 0 1.02-.2 1.41-.59l7.78-7.78 2.81-2.81c.8-.78.8-2.07 0-2.86zM5.41 20L4 18.59l7.72-7.72 1.47 1.35L5.41 20z\"/>\n",
              "  </svg>\n",
              "      </button>\n",
              "      \n",
              "  <style>\n",
              "    .colab-df-container {\n",
              "      display:flex;\n",
              "      flex-wrap:wrap;\n",
              "      gap: 12px;\n",
              "    }\n",
              "\n",
              "    .colab-df-convert {\n",
              "      background-color: #E8F0FE;\n",
              "      border: none;\n",
              "      border-radius: 50%;\n",
              "      cursor: pointer;\n",
              "      display: none;\n",
              "      fill: #1967D2;\n",
              "      height: 32px;\n",
              "      padding: 0 0 0 0;\n",
              "      width: 32px;\n",
              "    }\n",
              "\n",
              "    .colab-df-convert:hover {\n",
              "      background-color: #E2EBFA;\n",
              "      box-shadow: 0px 1px 2px rgba(60, 64, 67, 0.3), 0px 1px 3px 1px rgba(60, 64, 67, 0.15);\n",
              "      fill: #174EA6;\n",
              "    }\n",
              "\n",
              "    [theme=dark] .colab-df-convert {\n",
              "      background-color: #3B4455;\n",
              "      fill: #D2E3FC;\n",
              "    }\n",
              "\n",
              "    [theme=dark] .colab-df-convert:hover {\n",
              "      background-color: #434B5C;\n",
              "      box-shadow: 0px 1px 3px 1px rgba(0, 0, 0, 0.15);\n",
              "      filter: drop-shadow(0px 1px 2px rgba(0, 0, 0, 0.3));\n",
              "      fill: #FFFFFF;\n",
              "    }\n",
              "  </style>\n",
              "\n",
              "      <script>\n",
              "        const buttonEl =\n",
              "          document.querySelector('#df-879b3947-935b-4198-a120-aa479c5ed33c button.colab-df-convert');\n",
              "        buttonEl.style.display =\n",
              "          google.colab.kernel.accessAllowed ? 'block' : 'none';\n",
              "\n",
              "        async function convertToInteractive(key) {\n",
              "          const element = document.querySelector('#df-879b3947-935b-4198-a120-aa479c5ed33c');\n",
              "          const dataTable =\n",
              "            await google.colab.kernel.invokeFunction('convertToInteractive',\n",
              "                                                     [key], {});\n",
              "          if (!dataTable) return;\n",
              "\n",
              "          const docLinkHtml = 'Like what you see? Visit the ' +\n",
              "            '<a target=\"_blank\" href=https://colab.research.google.com/notebooks/data_table.ipynb>data table notebook</a>'\n",
              "            + ' to learn more about interactive tables.';\n",
              "          element.innerHTML = '';\n",
              "          dataTable['output_type'] = 'display_data';\n",
              "          await google.colab.output.renderOutput(dataTable, element);\n",
              "          const docLink = document.createElement('div');\n",
              "          docLink.innerHTML = docLinkHtml;\n",
              "          element.appendChild(docLink);\n",
              "        }\n",
              "      </script>\n",
              "    </div>\n",
              "  </div>\n",
              "  "
            ]
          },
          "metadata": {},
          "execution_count": 46
        }
      ]
    },
    {
      "cell_type": "code",
      "source": [
        "pcsSummary_df.iloc[2,12] # Proporcion acumulativa en PC13"
      ],
      "metadata": {
        "id": "YdYpZKFaoeuE",
        "outputId": "27c84083-e11e-4a79-8fab-574256dd2acf",
        "colab": {
          "base_uri": "https://localhost:8080/"
        }
      },
      "execution_count": 47,
      "outputs": [
        {
          "output_type": "execute_result",
          "data": {
            "text/plain": [
              "0.8804818574869802"
            ]
          },
          "metadata": {},
          "execution_count": 47
        }
      ]
    },
    {
      "cell_type": "markdown",
      "source": [
        "**Con esto encontramos que necesitamos los primeros 13 componentes principales que tienen mas del 85% de la varianza total.**"
      ],
      "metadata": {
        "id": "9-R-K_tAtDV_"
      }
    },
    {
      "cell_type": "markdown",
      "source": [
        "## PASO 2\n",
        "Interprete cada componente principal en términos de las variables originales"
      ],
      "metadata": {
        "id": "Ui5lY7xftZly"
      }
    },
    {
      "cell_type": "code",
      "source": [
        "pcsComponents_df = pd.DataFrame(pcs.components_.transpose(), \n",
        "                                columns=pcsSummary_df.columns,\n",
        "                                index=df.columns\n",
        "                                )\n",
        "pcsComponents_df= pcsComponents_df.iloc[:,:13]\n",
        "pcsComponents_df"
      ],
      "metadata": {
        "id": "xAg1evWWsX1X",
        "outputId": "5e2e8df6-cc92-4556-a284-9165116a2ced",
        "colab": {
          "base_uri": "https://localhost:8080/",
          "height": 802
        }
      },
      "execution_count": 48,
      "outputs": [
        {
          "output_type": "execute_result",
          "data": {
            "text/plain": [
              "          PC1       PC2       PC3       PC4       PC5       PC6       PC7  \\\n",
              "X1   0.171849 -0.145291  0.245457  0.099024 -0.472400 -0.185500  0.049117   \n",
              "X2  -0.010120 -0.034037 -0.002295 -0.064883  0.235959 -0.680647  0.652836   \n",
              "X3  -0.013670  0.053543 -0.189762  0.355543  0.672379  0.127678  0.026576   \n",
              "X4  -0.019722 -0.003468  0.003636 -0.638570  0.135299  0.192955 -0.079456   \n",
              "X5   0.034358 -0.006523  0.002933  0.664893 -0.132188  0.006937 -0.106824   \n",
              "X6  -0.028970  0.356886  0.035780  0.027752 -0.098501  0.264645  0.355319   \n",
              "X7  -0.019367  0.390235  0.046965  0.015826 -0.063583  0.199130  0.264475   \n",
              "X8  -0.025193  0.395616  0.089873 -0.003766 -0.014177  0.000845  0.032245   \n",
              "X9  -0.024963  0.401876  0.111870 -0.005123  0.014032 -0.190757 -0.180242   \n",
              "X10 -0.020329  0.393672  0.120585 -0.017077  0.021211 -0.277255 -0.280033   \n",
              "X11 -0.018176  0.359939  0.110842 -0.027057  0.031012 -0.284098 -0.291846   \n",
              "X12  0.371015  0.038636 -0.197350 -0.018100 -0.040317  0.002892  0.004106   \n",
              "X13  0.381479  0.045942 -0.175466 -0.023566 -0.000498  0.005139 -0.009067   \n",
              "X14  0.386321  0.049452 -0.121491 -0.021784  0.045135  0.010512 -0.006073   \n",
              "X15  0.389268  0.058272 -0.106774 -0.027771  0.027976 -0.004404 -0.015257   \n",
              "X16  0.385962  0.064519 -0.086255 -0.028308  0.014872 -0.021388 -0.009534   \n",
              "X17  0.378087  0.064996 -0.073322 -0.029920 -0.009106 -0.022434  0.008985   \n",
              "X18  0.137205 -0.058580  0.372283  0.008210  0.265347  0.056881 -0.069786   \n",
              "X19  0.118574 -0.051474  0.402490  0.019160  0.289035  0.105465 -0.010195   \n",
              "X20  0.129971 -0.053621  0.384971  0.014762  0.164435  0.092625 -0.012446   \n",
              "X21  0.118780 -0.051519  0.340015  0.017851  0.056590  0.041171  0.053409   \n",
              "X22  0.115578 -0.051428  0.288429  0.009090 -0.103286  0.050733  0.152225   \n",
              "X23  0.107241 -0.049149  0.310157  0.017355 -0.079061  0.037473  0.092983   \n",
              "Y   -0.027913  0.241051 -0.017387  0.049541 -0.108971  0.339604  0.345404   \n",
              "\n",
              "          PC8       PC9      PC10      PC11      PC12      PC13  \n",
              "X1   0.059793 -0.028838  0.022694  0.010968 -0.091734  0.026909  \n",
              "X2   0.071222 -0.012275  0.021081  0.025566  0.027662 -0.020143  \n",
              "X3  -0.296683  0.005015 -0.159022  0.071144  0.002446  0.010741  \n",
              "X4  -0.114613 -0.003543 -0.054395  0.044355 -0.020971 -0.009098  \n",
              "X5   0.032790  0.001313  0.037407  0.009461 -0.033304 -0.021614  \n",
              "X6   0.073892 -0.014061  0.014679 -0.015359 -0.225026  0.051988  \n",
              "X7  -0.000284 -0.009207 -0.016476 -0.013420 -0.373311  0.088781  \n",
              "X8  -0.035272 -0.017140 -0.025794 -0.022503 -0.301080 -0.067195  \n",
              "X9  -0.065880 -0.022685  0.009273 -0.038209 -0.017826 -0.007292  \n",
              "X10 -0.048140 -0.005264  0.015935  0.051072  0.180514  0.006548  \n",
              "X11 -0.013288  0.035059 -0.026316  0.024720  0.258366  0.009724  \n",
              "X12 -0.041251 -0.034543 -0.060847  0.013443  0.007736  0.009905  \n",
              "X13  0.013437 -0.079591 -0.033715 -0.032219 -0.019493 -0.132416  \n",
              "X14  0.018903 -0.121300  0.095849 -0.124554  0.018004  0.092619  \n",
              "X15  0.070616 -0.030820  0.036893  0.122545 -0.006127  0.036403  \n",
              "X16  0.067237  0.112712 -0.074779 -0.005970  0.009149  0.045869  \n",
              "X17 -0.087665  0.160738  0.056301  0.015120  0.019871 -0.007807  \n",
              "X18  0.261345 -0.237040  0.087664 -0.220151 -0.128357 -0.728636  \n",
              "X19  0.149907 -0.186643  0.439867 -0.295265  0.081004  0.574505  \n",
              "X20  0.247843  0.240690 -0.018174  0.788203 -0.052128  0.051886  \n",
              "X21  0.007530  0.614172 -0.499354 -0.428728  0.050818  0.064204  \n",
              "X22 -0.774204  0.160992  0.385696  0.061598  0.068727 -0.193714  \n",
              "X23 -0.260694 -0.618591 -0.583209  0.098286  0.130474  0.138078  \n",
              "Y    0.191157  0.012772  0.057561  0.017858  0.746725 -0.169828  "
            ],
            "text/html": [
              "\n",
              "  <div id=\"df-c2428278-dbe4-4a93-b09e-4c7c7751a6cc\">\n",
              "    <div class=\"colab-df-container\">\n",
              "      <div>\n",
              "<style scoped>\n",
              "    .dataframe tbody tr th:only-of-type {\n",
              "        vertical-align: middle;\n",
              "    }\n",
              "\n",
              "    .dataframe tbody tr th {\n",
              "        vertical-align: top;\n",
              "    }\n",
              "\n",
              "    .dataframe thead th {\n",
              "        text-align: right;\n",
              "    }\n",
              "</style>\n",
              "<table border=\"1\" class=\"dataframe\">\n",
              "  <thead>\n",
              "    <tr style=\"text-align: right;\">\n",
              "      <th></th>\n",
              "      <th>PC1</th>\n",
              "      <th>PC2</th>\n",
              "      <th>PC3</th>\n",
              "      <th>PC4</th>\n",
              "      <th>PC5</th>\n",
              "      <th>PC6</th>\n",
              "      <th>PC7</th>\n",
              "      <th>PC8</th>\n",
              "      <th>PC9</th>\n",
              "      <th>PC10</th>\n",
              "      <th>PC11</th>\n",
              "      <th>PC12</th>\n",
              "      <th>PC13</th>\n",
              "    </tr>\n",
              "  </thead>\n",
              "  <tbody>\n",
              "    <tr>\n",
              "      <th>X1</th>\n",
              "      <td>0.171849</td>\n",
              "      <td>-0.145291</td>\n",
              "      <td>0.245457</td>\n",
              "      <td>0.099024</td>\n",
              "      <td>-0.472400</td>\n",
              "      <td>-0.185500</td>\n",
              "      <td>0.049117</td>\n",
              "      <td>0.059793</td>\n",
              "      <td>-0.028838</td>\n",
              "      <td>0.022694</td>\n",
              "      <td>0.010968</td>\n",
              "      <td>-0.091734</td>\n",
              "      <td>0.026909</td>\n",
              "    </tr>\n",
              "    <tr>\n",
              "      <th>X2</th>\n",
              "      <td>-0.010120</td>\n",
              "      <td>-0.034037</td>\n",
              "      <td>-0.002295</td>\n",
              "      <td>-0.064883</td>\n",
              "      <td>0.235959</td>\n",
              "      <td>-0.680647</td>\n",
              "      <td>0.652836</td>\n",
              "      <td>0.071222</td>\n",
              "      <td>-0.012275</td>\n",
              "      <td>0.021081</td>\n",
              "      <td>0.025566</td>\n",
              "      <td>0.027662</td>\n",
              "      <td>-0.020143</td>\n",
              "    </tr>\n",
              "    <tr>\n",
              "      <th>X3</th>\n",
              "      <td>-0.013670</td>\n",
              "      <td>0.053543</td>\n",
              "      <td>-0.189762</td>\n",
              "      <td>0.355543</td>\n",
              "      <td>0.672379</td>\n",
              "      <td>0.127678</td>\n",
              "      <td>0.026576</td>\n",
              "      <td>-0.296683</td>\n",
              "      <td>0.005015</td>\n",
              "      <td>-0.159022</td>\n",
              "      <td>0.071144</td>\n",
              "      <td>0.002446</td>\n",
              "      <td>0.010741</td>\n",
              "    </tr>\n",
              "    <tr>\n",
              "      <th>X4</th>\n",
              "      <td>-0.019722</td>\n",
              "      <td>-0.003468</td>\n",
              "      <td>0.003636</td>\n",
              "      <td>-0.638570</td>\n",
              "      <td>0.135299</td>\n",
              "      <td>0.192955</td>\n",
              "      <td>-0.079456</td>\n",
              "      <td>-0.114613</td>\n",
              "      <td>-0.003543</td>\n",
              "      <td>-0.054395</td>\n",
              "      <td>0.044355</td>\n",
              "      <td>-0.020971</td>\n",
              "      <td>-0.009098</td>\n",
              "    </tr>\n",
              "    <tr>\n",
              "      <th>X5</th>\n",
              "      <td>0.034358</td>\n",
              "      <td>-0.006523</td>\n",
              "      <td>0.002933</td>\n",
              "      <td>0.664893</td>\n",
              "      <td>-0.132188</td>\n",
              "      <td>0.006937</td>\n",
              "      <td>-0.106824</td>\n",
              "      <td>0.032790</td>\n",
              "      <td>0.001313</td>\n",
              "      <td>0.037407</td>\n",
              "      <td>0.009461</td>\n",
              "      <td>-0.033304</td>\n",
              "      <td>-0.021614</td>\n",
              "    </tr>\n",
              "    <tr>\n",
              "      <th>X6</th>\n",
              "      <td>-0.028970</td>\n",
              "      <td>0.356886</td>\n",
              "      <td>0.035780</td>\n",
              "      <td>0.027752</td>\n",
              "      <td>-0.098501</td>\n",
              "      <td>0.264645</td>\n",
              "      <td>0.355319</td>\n",
              "      <td>0.073892</td>\n",
              "      <td>-0.014061</td>\n",
              "      <td>0.014679</td>\n",
              "      <td>-0.015359</td>\n",
              "      <td>-0.225026</td>\n",
              "      <td>0.051988</td>\n",
              "    </tr>\n",
              "    <tr>\n",
              "      <th>X7</th>\n",
              "      <td>-0.019367</td>\n",
              "      <td>0.390235</td>\n",
              "      <td>0.046965</td>\n",
              "      <td>0.015826</td>\n",
              "      <td>-0.063583</td>\n",
              "      <td>0.199130</td>\n",
              "      <td>0.264475</td>\n",
              "      <td>-0.000284</td>\n",
              "      <td>-0.009207</td>\n",
              "      <td>-0.016476</td>\n",
              "      <td>-0.013420</td>\n",
              "      <td>-0.373311</td>\n",
              "      <td>0.088781</td>\n",
              "    </tr>\n",
              "    <tr>\n",
              "      <th>X8</th>\n",
              "      <td>-0.025193</td>\n",
              "      <td>0.395616</td>\n",
              "      <td>0.089873</td>\n",
              "      <td>-0.003766</td>\n",
              "      <td>-0.014177</td>\n",
              "      <td>0.000845</td>\n",
              "      <td>0.032245</td>\n",
              "      <td>-0.035272</td>\n",
              "      <td>-0.017140</td>\n",
              "      <td>-0.025794</td>\n",
              "      <td>-0.022503</td>\n",
              "      <td>-0.301080</td>\n",
              "      <td>-0.067195</td>\n",
              "    </tr>\n",
              "    <tr>\n",
              "      <th>X9</th>\n",
              "      <td>-0.024963</td>\n",
              "      <td>0.401876</td>\n",
              "      <td>0.111870</td>\n",
              "      <td>-0.005123</td>\n",
              "      <td>0.014032</td>\n",
              "      <td>-0.190757</td>\n",
              "      <td>-0.180242</td>\n",
              "      <td>-0.065880</td>\n",
              "      <td>-0.022685</td>\n",
              "      <td>0.009273</td>\n",
              "      <td>-0.038209</td>\n",
              "      <td>-0.017826</td>\n",
              "      <td>-0.007292</td>\n",
              "    </tr>\n",
              "    <tr>\n",
              "      <th>X10</th>\n",
              "      <td>-0.020329</td>\n",
              "      <td>0.393672</td>\n",
              "      <td>0.120585</td>\n",
              "      <td>-0.017077</td>\n",
              "      <td>0.021211</td>\n",
              "      <td>-0.277255</td>\n",
              "      <td>-0.280033</td>\n",
              "      <td>-0.048140</td>\n",
              "      <td>-0.005264</td>\n",
              "      <td>0.015935</td>\n",
              "      <td>0.051072</td>\n",
              "      <td>0.180514</td>\n",
              "      <td>0.006548</td>\n",
              "    </tr>\n",
              "    <tr>\n",
              "      <th>X11</th>\n",
              "      <td>-0.018176</td>\n",
              "      <td>0.359939</td>\n",
              "      <td>0.110842</td>\n",
              "      <td>-0.027057</td>\n",
              "      <td>0.031012</td>\n",
              "      <td>-0.284098</td>\n",
              "      <td>-0.291846</td>\n",
              "      <td>-0.013288</td>\n",
              "      <td>0.035059</td>\n",
              "      <td>-0.026316</td>\n",
              "      <td>0.024720</td>\n",
              "      <td>0.258366</td>\n",
              "      <td>0.009724</td>\n",
              "    </tr>\n",
              "    <tr>\n",
              "      <th>X12</th>\n",
              "      <td>0.371015</td>\n",
              "      <td>0.038636</td>\n",
              "      <td>-0.197350</td>\n",
              "      <td>-0.018100</td>\n",
              "      <td>-0.040317</td>\n",
              "      <td>0.002892</td>\n",
              "      <td>0.004106</td>\n",
              "      <td>-0.041251</td>\n",
              "      <td>-0.034543</td>\n",
              "      <td>-0.060847</td>\n",
              "      <td>0.013443</td>\n",
              "      <td>0.007736</td>\n",
              "      <td>0.009905</td>\n",
              "    </tr>\n",
              "    <tr>\n",
              "      <th>X13</th>\n",
              "      <td>0.381479</td>\n",
              "      <td>0.045942</td>\n",
              "      <td>-0.175466</td>\n",
              "      <td>-0.023566</td>\n",
              "      <td>-0.000498</td>\n",
              "      <td>0.005139</td>\n",
              "      <td>-0.009067</td>\n",
              "      <td>0.013437</td>\n",
              "      <td>-0.079591</td>\n",
              "      <td>-0.033715</td>\n",
              "      <td>-0.032219</td>\n",
              "      <td>-0.019493</td>\n",
              "      <td>-0.132416</td>\n",
              "    </tr>\n",
              "    <tr>\n",
              "      <th>X14</th>\n",
              "      <td>0.386321</td>\n",
              "      <td>0.049452</td>\n",
              "      <td>-0.121491</td>\n",
              "      <td>-0.021784</td>\n",
              "      <td>0.045135</td>\n",
              "      <td>0.010512</td>\n",
              "      <td>-0.006073</td>\n",
              "      <td>0.018903</td>\n",
              "      <td>-0.121300</td>\n",
              "      <td>0.095849</td>\n",
              "      <td>-0.124554</td>\n",
              "      <td>0.018004</td>\n",
              "      <td>0.092619</td>\n",
              "    </tr>\n",
              "    <tr>\n",
              "      <th>X15</th>\n",
              "      <td>0.389268</td>\n",
              "      <td>0.058272</td>\n",
              "      <td>-0.106774</td>\n",
              "      <td>-0.027771</td>\n",
              "      <td>0.027976</td>\n",
              "      <td>-0.004404</td>\n",
              "      <td>-0.015257</td>\n",
              "      <td>0.070616</td>\n",
              "      <td>-0.030820</td>\n",
              "      <td>0.036893</td>\n",
              "      <td>0.122545</td>\n",
              "      <td>-0.006127</td>\n",
              "      <td>0.036403</td>\n",
              "    </tr>\n",
              "    <tr>\n",
              "      <th>X16</th>\n",
              "      <td>0.385962</td>\n",
              "      <td>0.064519</td>\n",
              "      <td>-0.086255</td>\n",
              "      <td>-0.028308</td>\n",
              "      <td>0.014872</td>\n",
              "      <td>-0.021388</td>\n",
              "      <td>-0.009534</td>\n",
              "      <td>0.067237</td>\n",
              "      <td>0.112712</td>\n",
              "      <td>-0.074779</td>\n",
              "      <td>-0.005970</td>\n",
              "      <td>0.009149</td>\n",
              "      <td>0.045869</td>\n",
              "    </tr>\n",
              "    <tr>\n",
              "      <th>X17</th>\n",
              "      <td>0.378087</td>\n",
              "      <td>0.064996</td>\n",
              "      <td>-0.073322</td>\n",
              "      <td>-0.029920</td>\n",
              "      <td>-0.009106</td>\n",
              "      <td>-0.022434</td>\n",
              "      <td>0.008985</td>\n",
              "      <td>-0.087665</td>\n",
              "      <td>0.160738</td>\n",
              "      <td>0.056301</td>\n",
              "      <td>0.015120</td>\n",
              "      <td>0.019871</td>\n",
              "      <td>-0.007807</td>\n",
              "    </tr>\n",
              "    <tr>\n",
              "      <th>X18</th>\n",
              "      <td>0.137205</td>\n",
              "      <td>-0.058580</td>\n",
              "      <td>0.372283</td>\n",
              "      <td>0.008210</td>\n",
              "      <td>0.265347</td>\n",
              "      <td>0.056881</td>\n",
              "      <td>-0.069786</td>\n",
              "      <td>0.261345</td>\n",
              "      <td>-0.237040</td>\n",
              "      <td>0.087664</td>\n",
              "      <td>-0.220151</td>\n",
              "      <td>-0.128357</td>\n",
              "      <td>-0.728636</td>\n",
              "    </tr>\n",
              "    <tr>\n",
              "      <th>X19</th>\n",
              "      <td>0.118574</td>\n",
              "      <td>-0.051474</td>\n",
              "      <td>0.402490</td>\n",
              "      <td>0.019160</td>\n",
              "      <td>0.289035</td>\n",
              "      <td>0.105465</td>\n",
              "      <td>-0.010195</td>\n",
              "      <td>0.149907</td>\n",
              "      <td>-0.186643</td>\n",
              "      <td>0.439867</td>\n",
              "      <td>-0.295265</td>\n",
              "      <td>0.081004</td>\n",
              "      <td>0.574505</td>\n",
              "    </tr>\n",
              "    <tr>\n",
              "      <th>X20</th>\n",
              "      <td>0.129971</td>\n",
              "      <td>-0.053621</td>\n",
              "      <td>0.384971</td>\n",
              "      <td>0.014762</td>\n",
              "      <td>0.164435</td>\n",
              "      <td>0.092625</td>\n",
              "      <td>-0.012446</td>\n",
              "      <td>0.247843</td>\n",
              "      <td>0.240690</td>\n",
              "      <td>-0.018174</td>\n",
              "      <td>0.788203</td>\n",
              "      <td>-0.052128</td>\n",
              "      <td>0.051886</td>\n",
              "    </tr>\n",
              "    <tr>\n",
              "      <th>X21</th>\n",
              "      <td>0.118780</td>\n",
              "      <td>-0.051519</td>\n",
              "      <td>0.340015</td>\n",
              "      <td>0.017851</td>\n",
              "      <td>0.056590</td>\n",
              "      <td>0.041171</td>\n",
              "      <td>0.053409</td>\n",
              "      <td>0.007530</td>\n",
              "      <td>0.614172</td>\n",
              "      <td>-0.499354</td>\n",
              "      <td>-0.428728</td>\n",
              "      <td>0.050818</td>\n",
              "      <td>0.064204</td>\n",
              "    </tr>\n",
              "    <tr>\n",
              "      <th>X22</th>\n",
              "      <td>0.115578</td>\n",
              "      <td>-0.051428</td>\n",
              "      <td>0.288429</td>\n",
              "      <td>0.009090</td>\n",
              "      <td>-0.103286</td>\n",
              "      <td>0.050733</td>\n",
              "      <td>0.152225</td>\n",
              "      <td>-0.774204</td>\n",
              "      <td>0.160992</td>\n",
              "      <td>0.385696</td>\n",
              "      <td>0.061598</td>\n",
              "      <td>0.068727</td>\n",
              "      <td>-0.193714</td>\n",
              "    </tr>\n",
              "    <tr>\n",
              "      <th>X23</th>\n",
              "      <td>0.107241</td>\n",
              "      <td>-0.049149</td>\n",
              "      <td>0.310157</td>\n",
              "      <td>0.017355</td>\n",
              "      <td>-0.079061</td>\n",
              "      <td>0.037473</td>\n",
              "      <td>0.092983</td>\n",
              "      <td>-0.260694</td>\n",
              "      <td>-0.618591</td>\n",
              "      <td>-0.583209</td>\n",
              "      <td>0.098286</td>\n",
              "      <td>0.130474</td>\n",
              "      <td>0.138078</td>\n",
              "    </tr>\n",
              "    <tr>\n",
              "      <th>Y</th>\n",
              "      <td>-0.027913</td>\n",
              "      <td>0.241051</td>\n",
              "      <td>-0.017387</td>\n",
              "      <td>0.049541</td>\n",
              "      <td>-0.108971</td>\n",
              "      <td>0.339604</td>\n",
              "      <td>0.345404</td>\n",
              "      <td>0.191157</td>\n",
              "      <td>0.012772</td>\n",
              "      <td>0.057561</td>\n",
              "      <td>0.017858</td>\n",
              "      <td>0.746725</td>\n",
              "      <td>-0.169828</td>\n",
              "    </tr>\n",
              "  </tbody>\n",
              "</table>\n",
              "</div>\n",
              "      <button class=\"colab-df-convert\" onclick=\"convertToInteractive('df-c2428278-dbe4-4a93-b09e-4c7c7751a6cc')\"\n",
              "              title=\"Convert this dataframe to an interactive table.\"\n",
              "              style=\"display:none;\">\n",
              "        \n",
              "  <svg xmlns=\"http://www.w3.org/2000/svg\" height=\"24px\"viewBox=\"0 0 24 24\"\n",
              "       width=\"24px\">\n",
              "    <path d=\"M0 0h24v24H0V0z\" fill=\"none\"/>\n",
              "    <path d=\"M18.56 5.44l.94 2.06.94-2.06 2.06-.94-2.06-.94-.94-2.06-.94 2.06-2.06.94zm-11 1L8.5 8.5l.94-2.06 2.06-.94-2.06-.94L8.5 2.5l-.94 2.06-2.06.94zm10 10l.94 2.06.94-2.06 2.06-.94-2.06-.94-.94-2.06-.94 2.06-2.06.94z\"/><path d=\"M17.41 7.96l-1.37-1.37c-.4-.4-.92-.59-1.43-.59-.52 0-1.04.2-1.43.59L10.3 9.45l-7.72 7.72c-.78.78-.78 2.05 0 2.83L4 21.41c.39.39.9.59 1.41.59.51 0 1.02-.2 1.41-.59l7.78-7.78 2.81-2.81c.8-.78.8-2.07 0-2.86zM5.41 20L4 18.59l7.72-7.72 1.47 1.35L5.41 20z\"/>\n",
              "  </svg>\n",
              "      </button>\n",
              "      \n",
              "  <style>\n",
              "    .colab-df-container {\n",
              "      display:flex;\n",
              "      flex-wrap:wrap;\n",
              "      gap: 12px;\n",
              "    }\n",
              "\n",
              "    .colab-df-convert {\n",
              "      background-color: #E8F0FE;\n",
              "      border: none;\n",
              "      border-radius: 50%;\n",
              "      cursor: pointer;\n",
              "      display: none;\n",
              "      fill: #1967D2;\n",
              "      height: 32px;\n",
              "      padding: 0 0 0 0;\n",
              "      width: 32px;\n",
              "    }\n",
              "\n",
              "    .colab-df-convert:hover {\n",
              "      background-color: #E2EBFA;\n",
              "      box-shadow: 0px 1px 2px rgba(60, 64, 67, 0.3), 0px 1px 3px 1px rgba(60, 64, 67, 0.15);\n",
              "      fill: #174EA6;\n",
              "    }\n",
              "\n",
              "    [theme=dark] .colab-df-convert {\n",
              "      background-color: #3B4455;\n",
              "      fill: #D2E3FC;\n",
              "    }\n",
              "\n",
              "    [theme=dark] .colab-df-convert:hover {\n",
              "      background-color: #434B5C;\n",
              "      box-shadow: 0px 1px 3px 1px rgba(0, 0, 0, 0.15);\n",
              "      filter: drop-shadow(0px 1px 2px rgba(0, 0, 0, 0.3));\n",
              "      fill: #FFFFFF;\n",
              "    }\n",
              "  </style>\n",
              "\n",
              "      <script>\n",
              "        const buttonEl =\n",
              "          document.querySelector('#df-c2428278-dbe4-4a93-b09e-4c7c7751a6cc button.colab-df-convert');\n",
              "        buttonEl.style.display =\n",
              "          google.colab.kernel.accessAllowed ? 'block' : 'none';\n",
              "\n",
              "        async function convertToInteractive(key) {\n",
              "          const element = document.querySelector('#df-c2428278-dbe4-4a93-b09e-4c7c7751a6cc');\n",
              "          const dataTable =\n",
              "            await google.colab.kernel.invokeFunction('convertToInteractive',\n",
              "                                                     [key], {});\n",
              "          if (!dataTable) return;\n",
              "\n",
              "          const docLinkHtml = 'Like what you see? Visit the ' +\n",
              "            '<a target=\"_blank\" href=https://colab.research.google.com/notebooks/data_table.ipynb>data table notebook</a>'\n",
              "            + ' to learn more about interactive tables.';\n",
              "          element.innerHTML = '';\n",
              "          dataTable['output_type'] = 'display_data';\n",
              "          await google.colab.output.renderOutput(dataTable, element);\n",
              "          const docLink = document.createElement('div');\n",
              "          docLink.innerHTML = docLinkHtml;\n",
              "          element.appendChild(docLink);\n",
              "        }\n",
              "      </script>\n",
              "    </div>\n",
              "  </div>\n",
              "  "
            ]
          },
          "metadata": {},
          "execution_count": 48
        }
      ]
    },
    {
      "cell_type": "markdown",
      "source": [
        "Examinamos la magnitud y direccion de los coeficientes de las variables originales y buscamos la variable mas importante con mayor peso por cada componente."
      ],
      "metadata": {
        "id": "VJkFH8K3uLPt"
      }
    },
    {
      "cell_type": "code",
      "source": [
        "c = (pcsComponents_df.PC1.nlargest(1))\n",
        "dict(c)"
      ],
      "metadata": {
        "id": "nBkKmvgVt3Aw",
        "outputId": "70fd0a11-6f72-4237-cedf-30c12a9289aa",
        "colab": {
          "base_uri": "https://localhost:8080/"
        }
      },
      "execution_count": 49,
      "outputs": [
        {
          "output_type": "execute_result",
          "data": {
            "text/plain": [
              "{'X15': 0.3892677750234291}"
            ]
          },
          "metadata": {},
          "execution_count": 49
        }
      ]
    },
    {
      "cell_type": "code",
      "source": [
        "def _max_weigth(pc_name, list_min_max):\n",
        "  ab=[]\n",
        "  for dic in list_min_max:\n",
        "    for key, val in dic.items():\n",
        "      ab.append(abs(val))\n",
        "  _max = max(ab)\n",
        "  for dic in list_min_max:\n",
        "    for key, val in dic.items():\n",
        "      if abs(val) == _max:\n",
        "        return [pc_name, key, val ]\n",
        "  \n",
        "pca_var_list = []\n",
        "for c in pcsComponents_df.columns:\n",
        "  pca_var_list.append(_max_weigth( c, [ dict(pcsComponents_df[c].nlargest(1)) , dict(pcsComponents_df[c].nsmallest(1)) ])) \n",
        "pca_var_list"
      ],
      "metadata": {
        "id": "sP5DSbJU4zrk",
        "outputId": "d7459ec3-d3ed-4f2b-8b97-a57732c00d58",
        "colab": {
          "base_uri": "https://localhost:8080/"
        }
      },
      "execution_count": 53,
      "outputs": [
        {
          "output_type": "execute_result",
          "data": {
            "text/plain": [
              "[['PC1', 'X15', 0.3892677750234291],\n",
              " ['PC2', 'X9', 0.4018764144294643],\n",
              " ['PC3', 'X19', 0.40249020639440425],\n",
              " ['PC4', 'X5', 0.6648930992377106],\n",
              " ['PC5', 'X3', 0.6723793385471853],\n",
              " ['PC6', 'X2', -0.6806472010005056],\n",
              " ['PC7', 'X2', 0.6528360383307233],\n",
              " ['PC8', 'X22', -0.7742035975708603],\n",
              " ['PC9', 'X23', -0.6185905271862139],\n",
              " ['PC10', 'X23', -0.583209390451065],\n",
              " ['PC11', 'X20', 0.7882025442336404],\n",
              " ['PC12', 'Y', 0.7467247937885427],\n",
              " ['PC13', 'X18', -0.7286362927820478]]"
            ]
          },
          "metadata": {},
          "execution_count": 53
        }
      ]
    },
    {
      "cell_type": "markdown",
      "source": [
        "## Paso 3\n",
        "Identifique valores atípicos"
      ],
      "metadata": {
        "id": "TJaDg_Ga4ZsZ"
      }
    },
    {
      "cell_type": "code",
      "source": [
        "df_outlier=df.copy()"
      ],
      "metadata": {
        "id": "VfihZnjpu6Wl"
      },
      "execution_count": 51,
      "outputs": []
    },
    {
      "cell_type": "code",
      "source": [
        "# Haremos este anlisis solo en aquellas variables que tienen mas peso en cada componente.\n",
        "col = list(set([ c[1] for c in pca_var_list ]))\n",
        "col"
      ],
      "metadata": {
        "id": "K-TLEFtyP8aa",
        "outputId": "d0b48851-5164-48cf-d2f9-e40b347b76de",
        "colab": {
          "base_uri": "https://localhost:8080/"
        }
      },
      "execution_count": 64,
      "outputs": [
        {
          "output_type": "execute_result",
          "data": {
            "text/plain": [
              "['X20', 'X3', 'X23', 'X18', 'X15', 'Y', 'X2', 'X5', 'X22', 'X19', 'X9']"
            ]
          },
          "metadata": {},
          "execution_count": 64
        }
      ]
    },
    {
      "cell_type": "code",
      "source": [
        "df_outlier = df.copy()[col]\n",
        "df_outlier.columns =  [\"AP July\",\"Education\",\"AP April\",\"AP September\",\"ABS June\",\"Y\",\"Gender\",\"Age\",\"AP May\",\"AP August\",\"Status HP June\"]\n",
        "df_outlier.boxplot(figsize=(20,8))\n"
      ],
      "metadata": {
        "id": "dRIx1yf3LHas",
        "outputId": "83ec439c-2242-4a1c-e4e0-f7a4e633141e",
        "colab": {
          "base_uri": "https://localhost:8080/",
          "height": 518
        }
      },
      "execution_count": 72,
      "outputs": [
        {
          "output_type": "execute_result",
          "data": {
            "text/plain": [
              "<matplotlib.axes._subplots.AxesSubplot at 0x7fbd49d16d90>"
            ]
          },
          "metadata": {},
          "execution_count": 72
        },
        {
          "output_type": "display_data",
          "data": {
            "text/plain": [
              "<Figure size 1440x576 with 1 Axes>"
            ],
            "image/png": "[encoded data removed]"
          },
          "metadata": {}
        }
      ]
    },
    {
      "cell_type": "markdown",
      "source": [
        "Con esto deducimos lo siguiente:\n",
        "- Las variables que mas importan al momento de que se te otorge un credito son las relacionadas con historial de pagos anteriores.\n",
        "- En AP August es donde tenemos mayor cantidad de valores atipicos, esto significa que unos cuantos clientes pagaron grandes cantidades durante ese mes. Cantidades muy por encima de la media pagada normalmente al mes."
      ],
      "metadata": {
        "id": "kRQsJP10Vl5R"
      }
    },
    {
      "cell_type": "code",
      "source": [],
      "metadata": {
        "id": "bFrbSErWTs6m"
      },
      "execution_count": null,
      "outputs": []
    }
  ]
}
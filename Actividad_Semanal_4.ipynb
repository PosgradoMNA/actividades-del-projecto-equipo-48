{
  "nbformat": 4,
  "nbformat_minor": 0,
  "metadata": {
    "colab": {
      "provenance": [],
      "include_colab_link": true
    },
    "kernelspec": {
      "name": "python3",
      "display_name": "Python 3"
    },
    "language_info": {
      "name": "python"
    }
  },
  "cells": [
    {
      "cell_type": "markdown",
      "metadata": {
        "id": "view-in-github",
        "colab_type": "text"
      },
      "source": [
        "<a href=\"https://colab.research.google.com/github/PosgradoMNA/actividades-del-projecto-equipo-48/blob/main/Actividad_Semanal_4.ipynb\" target=\"_parent\"><img src=\"https://colab.research.google.com/assets/colab-badge.svg\" alt=\"Open In Colab\"/></a>"
      ]
    },
    {
      "cell_type": "markdown",
      "source": [
        "# Equipo 48\n",
        "* Materia: Ciencia y Analítica de Datos.\n",
        "* Nombre de la entrega: Actividad Semanal 4\n",
        "* Fecha: 11/10/2022.\n",
        "* Francisco Medellin Zertuche - A01794044.\n",
        "* Roberto Romero Vielma - A00822314\n",
        "* Profesor titular: Jobish Vallikavungal Devassia. \n",
        "* Profesor tutor: Roberto Antonio Guevara González.\n"
      ],
      "metadata": {
        "id": "SIon59qeEg-w"
      }
    },
    {
      "cell_type": "markdown",
      "source": [
        "Importamos la librería pandas"
      ],
      "metadata": {
        "id": "xUght0bj8HFO"
      }
    },
    {
      "cell_type": "code",
      "source": [
        "import pandas as pd"
      ],
      "metadata": {
        "id": "Duejh6Yj8IDV"
      },
      "execution_count": null,
      "outputs": []
    },
    {
      "cell_type": "markdown",
      "source": [
        "Cargamos la base de datos con la función **pandas.read_csv**"
      ],
      "metadata": {
        "id": "UaaNZ79R8f6r"
      }
    },
    {
      "cell_type": "code",
      "source": [
        "df=pd.read_csv(\"https://raw.githubusercontent.com/PosgradoMNA/Actividades_Aprendizaje-/main/default%20of%20credit%20card%20clients.csv\")"
      ],
      "metadata": {
        "id": "dv0nKkLM8THM"
      },
      "execution_count": null,
      "outputs": []
    },
    {
      "cell_type": "markdown",
      "source": [
        "Creamos un nuevo dataframe que sea copia del original, para eliminar los registros que se encuentran vacíos y verificar que esto no nos afecte para futuros análisis"
      ],
      "metadata": {
        "id": "bYxZq9NGvS04"
      }
    },
    {
      "cell_type": "code",
      "source": [
        "ndf=df.copy()\n",
        "ndf.dropna(inplace = True)\n",
        "ndf2= ndf.copy()"
      ],
      "metadata": {
        "id": "y5FYXqBvxjzT"
      },
      "execution_count": null,
      "outputs": []
    },
    {
      "cell_type": "markdown",
      "source": [
        "Primero modificamos la columna X3 para quedarnos solamente con valores dentro de la categoría 4 (otros estudios)"
      ],
      "metadata": {
        "id": "3cvEIbVNx9Tx"
      }
    },
    {
      "cell_type": "code",
      "source": [
        "ndf2[\"X3\"] = ndf2[[\"X3\"]].replace([0,5,6],4)"
      ],
      "metadata": {
        "id": "wBImFLL_yHyW"
      },
      "execution_count": null,
      "outputs": []
    },
    {
      "cell_type": "markdown",
      "source": [
        "Hacemos lo mismo con la columna X4 para reemplazar los valores 0 con 3 (Otros)"
      ],
      "metadata": {
        "id": "r2pwcAK7zOoP"
      }
    },
    {
      "cell_type": "code",
      "source": [
        "ndf2[\"X4\"]=ndf2[[\"X4\"]].replace(0,3)"
      ],
      "metadata": {
        "id": "v5ZIBBCvzc-c"
      },
      "execution_count": null,
      "outputs": []
    },
    {
      "cell_type": "markdown",
      "source": [
        "Con las columnas X6 a X11 sustituimos el valor de -2 por -1 (Pago oportuno)"
      ],
      "metadata": {
        "id": "frXoGoMd0Atr"
      }
    },
    {
      "cell_type": "code",
      "source": [
        "slc = ndf2.loc[ : , \"X6\":\"X11\"]\n",
        "for c in slc.columns:\n",
        "  ndf2[c] = ndf2[[c]].replace(-2,-1)"
      ],
      "metadata": {
        "id": "SIpCWjyQ1hdP"
      },
      "execution_count": null,
      "outputs": []
    },
    {
      "cell_type": "markdown",
      "source": [
        "Tal como se puede observar las columnas X6 a la X11 presentan otro valor que no se menciona en la documentación, el valor **0**, procedemos a reemplazarlo con **-1** dado que es muy probable que sea un error de captura"
      ],
      "metadata": {
        "id": "4Sa6gqJLi1Jz"
      }
    },
    {
      "cell_type": "code",
      "source": [
        "slc = ndf2.loc[ : , \"X6\":\"X11\"]\n",
        "for c in slc.columns:\n",
        "  ndf2[c] = ndf2[[c]].replace(0,-1)"
      ],
      "metadata": {
        "id": "-PlyJo3MkME2"
      },
      "execution_count": null,
      "outputs": []
    },
    {
      "cell_type": "code",
      "source": [
        "df = ndf2.copy()"
      ],
      "metadata": {
        "id": "3SO81Ydi6bBI"
      },
      "execution_count": null,
      "outputs": []
    },
    {
      "cell_type": "markdown",
      "source": [
        "# Parte 1: Ejercicio guiado \n"
      ],
      "metadata": {
        "id": "gAxtyIXzdAc3"
      }
    },
    {
      "cell_type": "markdown",
      "source": [
        "## Paso 1: \n",
        "Determina el número mínimo de componentes principales que representan la mayor parte de la variación en sus datos"
      ],
      "metadata": {
        "id": "pgwmWchJdNY0"
      }
    },
    {
      "cell_type": "markdown",
      "source": [
        "Importamos las librerías a utilizar en la actividad"
      ],
      "metadata": {
        "id": "LCBSU4q08U0O"
      }
    },
    {
      "cell_type": "code",
      "source": [
        "import pandas as pd\n",
        "import numpy as np\n",
        "\n",
        "from sklearn.decomposition import PCA\n",
        "from sklearn import preprocessing\n",
        "from sklearn.preprocessing import MinMaxScaler\n",
        "\n",
        "import matplotlib as mpl\n",
        "import matplotlib.pyplot as plt\n",
        "import seaborn as sns"
      ],
      "metadata": {
        "id": "7ax7cuOLdQwo"
      },
      "execution_count": null,
      "outputs": []
    },
    {
      "cell_type": "markdown",
      "source": [
        "Seleccionamos las columnas no categóricas para poder realizar el PCA "
      ],
      "metadata": {
        "id": "cO0lH4WT8m5B"
      }
    },
    {
      "cell_type": "code",
      "source": [
        "# Análisis rápido del dataframe\n",
        "columnas_no_categoricas=[\"X1\",\"X5\",\"X12\",\"X13\",\"X14\",\"X15\",\"X16\",\"X17\",\"X18\",\"X19\",\"X20\",\"X21\",\"X22\",\"X23\"]\n",
        "df = df[columnas_no_categoricas]\n",
        "df.head()"
      ],
      "metadata": {
        "colab": {
          "base_uri": "https://localhost:8080/",
          "height": 206
        },
        "id": "UzmG5wsJeN0y",
        "outputId": "8ce786ef-a7c2-4a3a-ccfc-b51234a10334"
      },
      "execution_count": null,
      "outputs": [
        {
          "output_type": "execute_result",
          "data": {
            "text/plain": [
              "       X1    X5      X12      X13      X14      X15      X16      X17     X18  \\\n",
              "0   20000  24.0   3913.0   3102.0    689.0      0.0      0.0      0.0     0.0   \n",
              "1  120000  26.0   2682.0   1725.0   2682.0   3272.0   3455.0   3261.0     0.0   \n",
              "2   90000  34.0  29239.0  14027.0  13559.0  14331.0  14948.0  15549.0  1518.0   \n",
              "3   50000  37.0  46990.0  48233.0  49291.0  28314.0  28959.0  29547.0  2000.0   \n",
              "4   50000  57.0   8617.0   5670.0  35835.0  20940.0  19146.0  19131.0  2000.0   \n",
              "\n",
              "       X19      X20     X21     X22     X23  \n",
              "0    689.0      0.0     0.0     0.0     0.0  \n",
              "1   1000.0   1000.0  1000.0     0.0  2000.0  \n",
              "2   1500.0   1000.0  1000.0  1000.0  5000.0  \n",
              "3   2019.0   1200.0  1100.0  1069.0  1000.0  \n",
              "4  36681.0  10000.0  9000.0   689.0   679.0  "
            ],
            "text/html": [
              "\n",
              "  <div id=\"df-1731a97e-64bb-4554-a31f-308b369bf5f0\">\n",
              "    <div class=\"colab-df-container\">\n",
              "      <div>\n",
              "<style scoped>\n",
              "    .dataframe tbody tr th:only-of-type {\n",
              "        vertical-align: middle;\n",
              "    }\n",
              "\n",
              "    .dataframe tbody tr th {\n",
              "        vertical-align: top;\n",
              "    }\n",
              "\n",
              "    .dataframe thead th {\n",
              "        text-align: right;\n",
              "    }\n",
              "</style>\n",
              "<table border=\"1\" class=\"dataframe\">\n",
              "  <thead>\n",
              "    <tr style=\"text-align: right;\">\n",
              "      <th></th>\n",
              "      <th>X1</th>\n",
              "      <th>X5</th>\n",
              "      <th>X12</th>\n",
              "      <th>X13</th>\n",
              "      <th>X14</th>\n",
              "      <th>X15</th>\n",
              "      <th>X16</th>\n",
              "      <th>X17</th>\n",
              "      <th>X18</th>\n",
              "      <th>X19</th>\n",
              "      <th>X20</th>\n",
              "      <th>X21</th>\n",
              "      <th>X22</th>\n",
              "      <th>X23</th>\n",
              "    </tr>\n",
              "  </thead>\n",
              "  <tbody>\n",
              "    <tr>\n",
              "      <th>0</th>\n",
              "      <td>20000</td>\n",
              "      <td>24.0</td>\n",
              "      <td>3913.0</td>\n",
              "      <td>3102.0</td>\n",
              "      <td>689.0</td>\n",
              "      <td>0.0</td>\n",
              "      <td>0.0</td>\n",
              "      <td>0.0</td>\n",
              "      <td>0.0</td>\n",
              "      <td>689.0</td>\n",
              "      <td>0.0</td>\n",
              "      <td>0.0</td>\n",
              "      <td>0.0</td>\n",
              "      <td>0.0</td>\n",
              "    </tr>\n",
              "    <tr>\n",
              "      <th>1</th>\n",
              "      <td>120000</td>\n",
              "      <td>26.0</td>\n",
              "      <td>2682.0</td>\n",
              "      <td>1725.0</td>\n",
              "      <td>2682.0</td>\n",
              "      <td>3272.0</td>\n",
              "      <td>3455.0</td>\n",
              "      <td>3261.0</td>\n",
              "      <td>0.0</td>\n",
              "      <td>1000.0</td>\n",
              "      <td>1000.0</td>\n",
              "      <td>1000.0</td>\n",
              "      <td>0.0</td>\n",
              "      <td>2000.0</td>\n",
              "    </tr>\n",
              "    <tr>\n",
              "      <th>2</th>\n",
              "      <td>90000</td>\n",
              "      <td>34.0</td>\n",
              "      <td>29239.0</td>\n",
              "      <td>14027.0</td>\n",
              "      <td>13559.0</td>\n",
              "      <td>14331.0</td>\n",
              "      <td>14948.0</td>\n",
              "      <td>15549.0</td>\n",
              "      <td>1518.0</td>\n",
              "      <td>1500.0</td>\n",
              "      <td>1000.0</td>\n",
              "      <td>1000.0</td>\n",
              "      <td>1000.0</td>\n",
              "      <td>5000.0</td>\n",
              "    </tr>\n",
              "    <tr>\n",
              "      <th>3</th>\n",
              "      <td>50000</td>\n",
              "      <td>37.0</td>\n",
              "      <td>46990.0</td>\n",
              "      <td>48233.0</td>\n",
              "      <td>49291.0</td>\n",
              "      <td>28314.0</td>\n",
              "      <td>28959.0</td>\n",
              "      <td>29547.0</td>\n",
              "      <td>2000.0</td>\n",
              "      <td>2019.0</td>\n",
              "      <td>1200.0</td>\n",
              "      <td>1100.0</td>\n",
              "      <td>1069.0</td>\n",
              "      <td>1000.0</td>\n",
              "    </tr>\n",
              "    <tr>\n",
              "      <th>4</th>\n",
              "      <td>50000</td>\n",
              "      <td>57.0</td>\n",
              "      <td>8617.0</td>\n",
              "      <td>5670.0</td>\n",
              "      <td>35835.0</td>\n",
              "      <td>20940.0</td>\n",
              "      <td>19146.0</td>\n",
              "      <td>19131.0</td>\n",
              "      <td>2000.0</td>\n",
              "      <td>36681.0</td>\n",
              "      <td>10000.0</td>\n",
              "      <td>9000.0</td>\n",
              "      <td>689.0</td>\n",
              "      <td>679.0</td>\n",
              "    </tr>\n",
              "  </tbody>\n",
              "</table>\n",
              "</div>\n",
              "      <button class=\"colab-df-convert\" onclick=\"convertToInteractive('df-1731a97e-64bb-4554-a31f-308b369bf5f0')\"\n",
              "              title=\"Convert this dataframe to an interactive table.\"\n",
              "              style=\"display:none;\">\n",
              "        \n",
              "  <svg xmlns=\"http://www.w3.org/2000/svg\" height=\"24px\"viewBox=\"0 0 24 24\"\n",
              "       width=\"24px\">\n",
              "    <path d=\"M0 0h24v24H0V0z\" fill=\"none\"/>\n",
              "    <path d=\"M18.56 5.44l.94 2.06.94-2.06 2.06-.94-2.06-.94-.94-2.06-.94 2.06-2.06.94zm-11 1L8.5 8.5l.94-2.06 2.06-.94-2.06-.94L8.5 2.5l-.94 2.06-2.06.94zm10 10l.94 2.06.94-2.06 2.06-.94-2.06-.94-.94-2.06-.94 2.06-2.06.94z\"/><path d=\"M17.41 7.96l-1.37-1.37c-.4-.4-.92-.59-1.43-.59-.52 0-1.04.2-1.43.59L10.3 9.45l-7.72 7.72c-.78.78-.78 2.05 0 2.83L4 21.41c.39.39.9.59 1.41.59.51 0 1.02-.2 1.41-.59l7.78-7.78 2.81-2.81c.8-.78.8-2.07 0-2.86zM5.41 20L4 18.59l7.72-7.72 1.47 1.35L5.41 20z\"/>\n",
              "  </svg>\n",
              "      </button>\n",
              "      \n",
              "  <style>\n",
              "    .colab-df-container {\n",
              "      display:flex;\n",
              "      flex-wrap:wrap;\n",
              "      gap: 12px;\n",
              "    }\n",
              "\n",
              "    .colab-df-convert {\n",
              "      background-color: #E8F0FE;\n",
              "      border: none;\n",
              "      border-radius: 50%;\n",
              "      cursor: pointer;\n",
              "      display: none;\n",
              "      fill: #1967D2;\n",
              "      height: 32px;\n",
              "      padding: 0 0 0 0;\n",
              "      width: 32px;\n",
              "    }\n",
              "\n",
              "    .colab-df-convert:hover {\n",
              "      background-color: #E2EBFA;\n",
              "      box-shadow: 0px 1px 2px rgba(60, 64, 67, 0.3), 0px 1px 3px 1px rgba(60, 64, 67, 0.15);\n",
              "      fill: #174EA6;\n",
              "    }\n",
              "\n",
              "    [theme=dark] .colab-df-convert {\n",
              "      background-color: #3B4455;\n",
              "      fill: #D2E3FC;\n",
              "    }\n",
              "\n",
              "    [theme=dark] .colab-df-convert:hover {\n",
              "      background-color: #434B5C;\n",
              "      box-shadow: 0px 1px 3px 1px rgba(0, 0, 0, 0.15);\n",
              "      filter: drop-shadow(0px 1px 2px rgba(0, 0, 0, 0.3));\n",
              "      fill: #FFFFFF;\n",
              "    }\n",
              "  </style>\n",
              "\n",
              "      <script>\n",
              "        const buttonEl =\n",
              "          document.querySelector('#df-1731a97e-64bb-4554-a31f-308b369bf5f0 button.colab-df-convert');\n",
              "        buttonEl.style.display =\n",
              "          google.colab.kernel.accessAllowed ? 'block' : 'none';\n",
              "\n",
              "        async function convertToInteractive(key) {\n",
              "          const element = document.querySelector('#df-1731a97e-64bb-4554-a31f-308b369bf5f0');\n",
              "          const dataTable =\n",
              "            await google.colab.kernel.invokeFunction('convertToInteractive',\n",
              "                                                     [key], {});\n",
              "          if (!dataTable) return;\n",
              "\n",
              "          const docLinkHtml = 'Like what you see? Visit the ' +\n",
              "            '<a target=\"_blank\" href=https://colab.research.google.com/notebooks/data_table.ipynb>data table notebook</a>'\n",
              "            + ' to learn more about interactive tables.';\n",
              "          element.innerHTML = '';\n",
              "          dataTable['output_type'] = 'display_data';\n",
              "          await google.colab.output.renderOutput(dataTable, element);\n",
              "          const docLink = document.createElement('div');\n",
              "          docLink.innerHTML = docLinkHtml;\n",
              "          element.appendChild(docLink);\n",
              "        }\n",
              "      </script>\n",
              "    </div>\n",
              "  </div>\n",
              "  "
            ]
          },
          "metadata": {},
          "execution_count": 178
        }
      ]
    },
    {
      "cell_type": "markdown",
      "source": [
        "Verificamos que solo tenemos variables cuantitativas numéricas"
      ],
      "metadata": {
        "id": "La3R8IW3faNl"
      }
    },
    {
      "cell_type": "code",
      "source": [
        "df.info()"
      ],
      "metadata": {
        "colab": {
          "base_uri": "https://localhost:8080/"
        },
        "id": "X4TwKCiRfBvN",
        "outputId": "035fe320-1a43-4e0f-9681-e3ba93d01462"
      },
      "execution_count": null,
      "outputs": [
        {
          "output_type": "stream",
          "name": "stdout",
          "text": [
            "<class 'pandas.core.frame.DataFrame'>\n",
            "Int64Index: 29958 entries, 0 to 29999\n",
            "Data columns (total 14 columns):\n",
            " #   Column  Non-Null Count  Dtype  \n",
            "---  ------  --------------  -----  \n",
            " 0   X1      29958 non-null  int64  \n",
            " 1   X5      29958 non-null  float64\n",
            " 2   X12     29958 non-null  float64\n",
            " 3   X13     29958 non-null  float64\n",
            " 4   X14     29958 non-null  float64\n",
            " 5   X15     29958 non-null  float64\n",
            " 6   X16     29958 non-null  float64\n",
            " 7   X17     29958 non-null  float64\n",
            " 8   X18     29958 non-null  float64\n",
            " 9   X19     29958 non-null  float64\n",
            " 10  X20     29958 non-null  float64\n",
            " 11  X21     29958 non-null  float64\n",
            " 12  X22     29958 non-null  float64\n",
            " 13  X23     29958 non-null  float64\n",
            "dtypes: float64(13), int64(1)\n",
            "memory usage: 3.4 MB\n"
          ]
        }
      ]
    },
    {
      "cell_type": "markdown",
      "source": [
        "El método preprocessing nos sirve para estandarizar el dataframe<br>\n",
        "\n",
        "La estandarización de los datos es un paso requerido para el método PCA<br>\n",
        "\n",
        "Al estandarizar, la media de todos los datos será 0 con un rango de -1 a 1<br>"
      ],
      "metadata": {
        "id": "D-cZT1KOgNCq"
      }
    },
    {
      "cell_type": "code",
      "source": [
        "# Recordatorio: asegurarse de limpiar el dataframe, aqui el dataframe ya ha sido limpiado.\n",
        "pcs = PCA()\n",
        "pcs.fit(preprocessing.scale(df)) "
      ],
      "metadata": {
        "colab": {
          "base_uri": "https://localhost:8080/"
        },
        "id": "UZ_hNDF1fPgi",
        "outputId": "11bc87d1-237c-4e7c-c307-9c8956df4643"
      },
      "execution_count": null,
      "outputs": [
        {
          "output_type": "execute_result",
          "data": {
            "text/plain": [
              "PCA()"
            ]
          },
          "metadata": {},
          "execution_count": 180
        }
      ]
    },
    {
      "cell_type": "markdown",
      "source": [
        "La estandarización nos sirve para evitar grandes varianzas entre los componentes principales, además de que elimina la mayoría de los outliers dentro del dataset"
      ],
      "metadata": {
        "id": "kbmnCOmWgklC"
      }
    },
    {
      "cell_type": "markdown",
      "source": [
        "Analizamos la desviación estándar, la varianza y la proporción acumulativa de varianza de los PCAs"
      ],
      "metadata": {
        "id": "brFf_GGIhHgc"
      }
    },
    {
      "cell_type": "markdown",
      "source": [
        "Medidas de dispersión o variabilidad:"
      ],
      "metadata": {
        "id": "GKHTorTmmbYM"
      }
    },
    {
      "cell_type": "code",
      "source": [
        "pcsSummary_df = pd.DataFrame({'Desviación estándar': np.sqrt(pcs.explained_variance_),\n",
        "                             'Proporción de la varianza': pcs.explained_variance_ratio_,\n",
        "                             'Proporción acumulativa': np.cumsum(pcs.explained_variance_ratio_)\n",
        "                             })\n",
        "\n",
        "pcsSummary_df = pcsSummary_df.transpose()\n",
        "pcsSummary_df.columns = ['PC{}'.format(i) for i in range(1, len(pcsSummary_df.columns) + 1)]\n",
        "pcsSummary_df.round(4) "
      ],
      "metadata": {
        "colab": {
          "base_uri": "https://localhost:8080/",
          "height": 143
        },
        "id": "7LYyYpCSgMZ3",
        "outputId": "6afee922-39ca-4cd6-c828-1abe46c3481a"
      },
      "execution_count": null,
      "outputs": [
        {
          "output_type": "execute_result",
          "data": {
            "text/plain": [
              "                              PC1     PC2     PC3     PC4     PC5     PC6  \\\n",
              "Desviación estándar        2.4329  1.3099  1.0223  0.9619  0.9401  0.9342   \n",
              "Proporción de la varianza  0.4228  0.1226  0.0746  0.0661  0.0631  0.0623   \n",
              "Proporción acumulativa     0.4228  0.5453  0.6200  0.6861  0.7492  0.8115   \n",
              "\n",
              "                              PC7     PC8     PC9    PC10    PC11    PC12  \\\n",
              "Desviación estándar        0.8830  0.8524  0.8410  0.5142  0.2665  0.2026   \n",
              "Proporción de la varianza  0.0557  0.0519  0.0505  0.0189  0.0051  0.0029   \n",
              "Proporción acumulativa     0.8672  0.9191  0.9696  0.9885  0.9936  0.9965   \n",
              "\n",
              "                             PC13    PC14  \n",
              "Desviación estándar        0.1592  0.1525  \n",
              "Proporción de la varianza  0.0018  0.0017  \n",
              "Proporción acumulativa     0.9983  1.0000  "
            ],
            "text/html": [
              "\n",
              "  <div id=\"df-7da437cf-ed79-46f2-9108-82a4f215d473\">\n",
              "    <div class=\"colab-df-container\">\n",
              "      <div>\n",
              "<style scoped>\n",
              "    .dataframe tbody tr th:only-of-type {\n",
              "        vertical-align: middle;\n",
              "    }\n",
              "\n",
              "    .dataframe tbody tr th {\n",
              "        vertical-align: top;\n",
              "    }\n",
              "\n",
              "    .dataframe thead th {\n",
              "        text-align: right;\n",
              "    }\n",
              "</style>\n",
              "<table border=\"1\" class=\"dataframe\">\n",
              "  <thead>\n",
              "    <tr style=\"text-align: right;\">\n",
              "      <th></th>\n",
              "      <th>PC1</th>\n",
              "      <th>PC2</th>\n",
              "      <th>PC3</th>\n",
              "      <th>PC4</th>\n",
              "      <th>PC5</th>\n",
              "      <th>PC6</th>\n",
              "      <th>PC7</th>\n",
              "      <th>PC8</th>\n",
              "      <th>PC9</th>\n",
              "      <th>PC10</th>\n",
              "      <th>PC11</th>\n",
              "      <th>PC12</th>\n",
              "      <th>PC13</th>\n",
              "      <th>PC14</th>\n",
              "    </tr>\n",
              "  </thead>\n",
              "  <tbody>\n",
              "    <tr>\n",
              "      <th>Desviación estándar</th>\n",
              "      <td>2.4329</td>\n",
              "      <td>1.3099</td>\n",
              "      <td>1.0223</td>\n",
              "      <td>0.9619</td>\n",
              "      <td>0.9401</td>\n",
              "      <td>0.9342</td>\n",
              "      <td>0.8830</td>\n",
              "      <td>0.8524</td>\n",
              "      <td>0.8410</td>\n",
              "      <td>0.5142</td>\n",
              "      <td>0.2665</td>\n",
              "      <td>0.2026</td>\n",
              "      <td>0.1592</td>\n",
              "      <td>0.1525</td>\n",
              "    </tr>\n",
              "    <tr>\n",
              "      <th>Proporción de la varianza</th>\n",
              "      <td>0.4228</td>\n",
              "      <td>0.1226</td>\n",
              "      <td>0.0746</td>\n",
              "      <td>0.0661</td>\n",
              "      <td>0.0631</td>\n",
              "      <td>0.0623</td>\n",
              "      <td>0.0557</td>\n",
              "      <td>0.0519</td>\n",
              "      <td>0.0505</td>\n",
              "      <td>0.0189</td>\n",
              "      <td>0.0051</td>\n",
              "      <td>0.0029</td>\n",
              "      <td>0.0018</td>\n",
              "      <td>0.0017</td>\n",
              "    </tr>\n",
              "    <tr>\n",
              "      <th>Proporción acumulativa</th>\n",
              "      <td>0.4228</td>\n",
              "      <td>0.5453</td>\n",
              "      <td>0.6200</td>\n",
              "      <td>0.6861</td>\n",
              "      <td>0.7492</td>\n",
              "      <td>0.8115</td>\n",
              "      <td>0.8672</td>\n",
              "      <td>0.9191</td>\n",
              "      <td>0.9696</td>\n",
              "      <td>0.9885</td>\n",
              "      <td>0.9936</td>\n",
              "      <td>0.9965</td>\n",
              "      <td>0.9983</td>\n",
              "      <td>1.0000</td>\n",
              "    </tr>\n",
              "  </tbody>\n",
              "</table>\n",
              "</div>\n",
              "      <button class=\"colab-df-convert\" onclick=\"convertToInteractive('df-7da437cf-ed79-46f2-9108-82a4f215d473')\"\n",
              "              title=\"Convert this dataframe to an interactive table.\"\n",
              "              style=\"display:none;\">\n",
              "        \n",
              "  <svg xmlns=\"http://www.w3.org/2000/svg\" height=\"24px\"viewBox=\"0 0 24 24\"\n",
              "       width=\"24px\">\n",
              "    <path d=\"M0 0h24v24H0V0z\" fill=\"none\"/>\n",
              "    <path d=\"M18.56 5.44l.94 2.06.94-2.06 2.06-.94-2.06-.94-.94-2.06-.94 2.06-2.06.94zm-11 1L8.5 8.5l.94-2.06 2.06-.94-2.06-.94L8.5 2.5l-.94 2.06-2.06.94zm10 10l.94 2.06.94-2.06 2.06-.94-2.06-.94-.94-2.06-.94 2.06-2.06.94z\"/><path d=\"M17.41 7.96l-1.37-1.37c-.4-.4-.92-.59-1.43-.59-.52 0-1.04.2-1.43.59L10.3 9.45l-7.72 7.72c-.78.78-.78 2.05 0 2.83L4 21.41c.39.39.9.59 1.41.59.51 0 1.02-.2 1.41-.59l7.78-7.78 2.81-2.81c.8-.78.8-2.07 0-2.86zM5.41 20L4 18.59l7.72-7.72 1.47 1.35L5.41 20z\"/>\n",
              "  </svg>\n",
              "      </button>\n",
              "      \n",
              "  <style>\n",
              "    .colab-df-container {\n",
              "      display:flex;\n",
              "      flex-wrap:wrap;\n",
              "      gap: 12px;\n",
              "    }\n",
              "\n",
              "    .colab-df-convert {\n",
              "      background-color: #E8F0FE;\n",
              "      border: none;\n",
              "      border-radius: 50%;\n",
              "      cursor: pointer;\n",
              "      display: none;\n",
              "      fill: #1967D2;\n",
              "      height: 32px;\n",
              "      padding: 0 0 0 0;\n",
              "      width: 32px;\n",
              "    }\n",
              "\n",
              "    .colab-df-convert:hover {\n",
              "      background-color: #E2EBFA;\n",
              "      box-shadow: 0px 1px 2px rgba(60, 64, 67, 0.3), 0px 1px 3px 1px rgba(60, 64, 67, 0.15);\n",
              "      fill: #174EA6;\n",
              "    }\n",
              "\n",
              "    [theme=dark] .colab-df-convert {\n",
              "      background-color: #3B4455;\n",
              "      fill: #D2E3FC;\n",
              "    }\n",
              "\n",
              "    [theme=dark] .colab-df-convert:hover {\n",
              "      background-color: #434B5C;\n",
              "      box-shadow: 0px 1px 3px 1px rgba(0, 0, 0, 0.15);\n",
              "      filter: drop-shadow(0px 1px 2px rgba(0, 0, 0, 0.3));\n",
              "      fill: #FFFFFF;\n",
              "    }\n",
              "  </style>\n",
              "\n",
              "      <script>\n",
              "        const buttonEl =\n",
              "          document.querySelector('#df-7da437cf-ed79-46f2-9108-82a4f215d473 button.colab-df-convert');\n",
              "        buttonEl.style.display =\n",
              "          google.colab.kernel.accessAllowed ? 'block' : 'none';\n",
              "\n",
              "        async function convertToInteractive(key) {\n",
              "          const element = document.querySelector('#df-7da437cf-ed79-46f2-9108-82a4f215d473');\n",
              "          const dataTable =\n",
              "            await google.colab.kernel.invokeFunction('convertToInteractive',\n",
              "                                                     [key], {});\n",
              "          if (!dataTable) return;\n",
              "\n",
              "          const docLinkHtml = 'Like what you see? Visit the ' +\n",
              "            '<a target=\"_blank\" href=https://colab.research.google.com/notebooks/data_table.ipynb>data table notebook</a>'\n",
              "            + ' to learn more about interactive tables.';\n",
              "          element.innerHTML = '';\n",
              "          dataTable['output_type'] = 'display_data';\n",
              "          await google.colab.output.renderOutput(dataTable, element);\n",
              "          const docLink = document.createElement('div');\n",
              "          docLink.innerHTML = docLinkHtml;\n",
              "          element.appendChild(docLink);\n",
              "        }\n",
              "      </script>\n",
              "    </div>\n",
              "  </div>\n",
              "  "
            ]
          },
          "metadata": {},
          "execution_count": 181
        }
      ]
    },
    {
      "cell_type": "markdown",
      "source": [
        "Observamos que despues del PC6 tenemos casi el 80% de la varianza"
      ],
      "metadata": {
        "id": "r4wwu9VhnzbN"
      }
    },
    {
      "cell_type": "markdown",
      "source": [
        "<H3>Scree Plot</H3>\n",
        "Graficamos la proporción de la varianza de cada componente, junto con la proporción acumulativa"
      ],
      "metadata": {
        "id": "g7cXHlexnEZ9"
      }
    },
    {
      "cell_type": "code",
      "source": [
        "PC_components = np.arange(pcs.n_components_) + 1 # sumamos +1 por que el arrange te da menos -1 el rango\n",
        "#PC_components\n",
        "\n",
        "_ = sns.set(style = 'whitegrid', \n",
        "            font_scale = 1.2\n",
        "            )\n",
        "\n",
        "fig, ax = plt.subplots(figsize=(10, 7))\n",
        "\n",
        "_ = sns.barplot(x = PC_components, \n",
        "                y = pcs.explained_variance_ratio_, \n",
        "                color = 'b'\n",
        "                )\n",
        "\n",
        "_ = sns.lineplot(x = PC_components-1, \n",
        "                 y = np.cumsum(pcs.explained_variance_ratio_), \n",
        "                 color = 'black', \n",
        "                 linestyle = '-', \n",
        "                 linewidth = 2, \n",
        "                 marker = 'o', \n",
        "                 markersize = 8\n",
        "                 )\n",
        "\n",
        "plt.title('Scree Plot')\n",
        "plt.xlabel('N-th Principal Component')\n",
        "plt.ylabel('Variance Explained')\n",
        "plt.ylim(0, 1)\n",
        "plt.show()"
      ],
      "metadata": {
        "id": "yqH5Sq7KhGiI",
        "outputId": "86084f37-9cd2-409b-9c39-a87d4262a33b",
        "colab": {
          "base_uri": "https://localhost:8080/",
          "height": 469
        }
      },
      "execution_count": null,
      "outputs": [
        {
          "output_type": "display_data",
          "data": {
            "text/plain": [
              "<Figure size 720x504 with 1 Axes>"
            ],
            "image/png": "[encoded data removed]"
          },
          "metadata": {}
        }
      ]
    },
    {
      "cell_type": "markdown",
      "source": [
        "Observamos que el primer componente es el que tiene mayor cantidad de varianza"
      ],
      "metadata": {
        "id": "ADwDArVBsiHk"
      }
    },
    {
      "cell_type": "markdown",
      "source": [
        "Analizemos que tenemos después del PC6"
      ],
      "metadata": {
        "id": "j6np2ik7sydY"
      }
    },
    {
      "cell_type": "code",
      "source": [
        "summary_df = pcsSummary_df.round(4)\n",
        "summary_df.iloc[: , 6:]"
      ],
      "metadata": {
        "id": "vQJfJNA6npjU",
        "outputId": "1fca4c44-9488-408a-e165-b5873d4962ca",
        "colab": {
          "base_uri": "https://localhost:8080/",
          "height": 143
        }
      },
      "execution_count": null,
      "outputs": [
        {
          "output_type": "execute_result",
          "data": {
            "text/plain": [
              "                              PC7     PC8     PC9    PC10    PC11    PC12  \\\n",
              "Desviación estándar        0.8830  0.8524  0.8410  0.5142  0.2665  0.2026   \n",
              "Proporción de la varianza  0.0557  0.0519  0.0505  0.0189  0.0051  0.0029   \n",
              "Proporción acumulativa     0.8672  0.9191  0.9696  0.9885  0.9936  0.9965   \n",
              "\n",
              "                             PC13    PC14  \n",
              "Desviación estándar        0.1592  0.1525  \n",
              "Proporción de la varianza  0.0018  0.0017  \n",
              "Proporción acumulativa     0.9983  1.0000  "
            ],
            "text/html": [
              "\n",
              "  <div id=\"df-3690e727-1e12-4fbb-9ce7-248312c23e5d\">\n",
              "    <div class=\"colab-df-container\">\n",
              "      <div>\n",
              "<style scoped>\n",
              "    .dataframe tbody tr th:only-of-type {\n",
              "        vertical-align: middle;\n",
              "    }\n",
              "\n",
              "    .dataframe tbody tr th {\n",
              "        vertical-align: top;\n",
              "    }\n",
              "\n",
              "    .dataframe thead th {\n",
              "        text-align: right;\n",
              "    }\n",
              "</style>\n",
              "<table border=\"1\" class=\"dataframe\">\n",
              "  <thead>\n",
              "    <tr style=\"text-align: right;\">\n",
              "      <th></th>\n",
              "      <th>PC7</th>\n",
              "      <th>PC8</th>\n",
              "      <th>PC9</th>\n",
              "      <th>PC10</th>\n",
              "      <th>PC11</th>\n",
              "      <th>PC12</th>\n",
              "      <th>PC13</th>\n",
              "      <th>PC14</th>\n",
              "    </tr>\n",
              "  </thead>\n",
              "  <tbody>\n",
              "    <tr>\n",
              "      <th>Desviación estándar</th>\n",
              "      <td>0.8830</td>\n",
              "      <td>0.8524</td>\n",
              "      <td>0.8410</td>\n",
              "      <td>0.5142</td>\n",
              "      <td>0.2665</td>\n",
              "      <td>0.2026</td>\n",
              "      <td>0.1592</td>\n",
              "      <td>0.1525</td>\n",
              "    </tr>\n",
              "    <tr>\n",
              "      <th>Proporción de la varianza</th>\n",
              "      <td>0.0557</td>\n",
              "      <td>0.0519</td>\n",
              "      <td>0.0505</td>\n",
              "      <td>0.0189</td>\n",
              "      <td>0.0051</td>\n",
              "      <td>0.0029</td>\n",
              "      <td>0.0018</td>\n",
              "      <td>0.0017</td>\n",
              "    </tr>\n",
              "    <tr>\n",
              "      <th>Proporción acumulativa</th>\n",
              "      <td>0.8672</td>\n",
              "      <td>0.9191</td>\n",
              "      <td>0.9696</td>\n",
              "      <td>0.9885</td>\n",
              "      <td>0.9936</td>\n",
              "      <td>0.9965</td>\n",
              "      <td>0.9983</td>\n",
              "      <td>1.0000</td>\n",
              "    </tr>\n",
              "  </tbody>\n",
              "</table>\n",
              "</div>\n",
              "      <button class=\"colab-df-convert\" onclick=\"convertToInteractive('df-3690e727-1e12-4fbb-9ce7-248312c23e5d')\"\n",
              "              title=\"Convert this dataframe to an interactive table.\"\n",
              "              style=\"display:none;\">\n",
              "        \n",
              "  <svg xmlns=\"http://www.w3.org/2000/svg\" height=\"24px\"viewBox=\"0 0 24 24\"\n",
              "       width=\"24px\">\n",
              "    <path d=\"M0 0h24v24H0V0z\" fill=\"none\"/>\n",
              "    <path d=\"M18.56 5.44l.94 2.06.94-2.06 2.06-.94-2.06-.94-.94-2.06-.94 2.06-2.06.94zm-11 1L8.5 8.5l.94-2.06 2.06-.94-2.06-.94L8.5 2.5l-.94 2.06-2.06.94zm10 10l.94 2.06.94-2.06 2.06-.94-2.06-.94-.94-2.06-.94 2.06-2.06.94z\"/><path d=\"M17.41 7.96l-1.37-1.37c-.4-.4-.92-.59-1.43-.59-.52 0-1.04.2-1.43.59L10.3 9.45l-7.72 7.72c-.78.78-.78 2.05 0 2.83L4 21.41c.39.39.9.59 1.41.59.51 0 1.02-.2 1.41-.59l7.78-7.78 2.81-2.81c.8-.78.8-2.07 0-2.86zM5.41 20L4 18.59l7.72-7.72 1.47 1.35L5.41 20z\"/>\n",
              "  </svg>\n",
              "      </button>\n",
              "      \n",
              "  <style>\n",
              "    .colab-df-container {\n",
              "      display:flex;\n",
              "      flex-wrap:wrap;\n",
              "      gap: 12px;\n",
              "    }\n",
              "\n",
              "    .colab-df-convert {\n",
              "      background-color: #E8F0FE;\n",
              "      border: none;\n",
              "      border-radius: 50%;\n",
              "      cursor: pointer;\n",
              "      display: none;\n",
              "      fill: #1967D2;\n",
              "      height: 32px;\n",
              "      padding: 0 0 0 0;\n",
              "      width: 32px;\n",
              "    }\n",
              "\n",
              "    .colab-df-convert:hover {\n",
              "      background-color: #E2EBFA;\n",
              "      box-shadow: 0px 1px 2px rgba(60, 64, 67, 0.3), 0px 1px 3px 1px rgba(60, 64, 67, 0.15);\n",
              "      fill: #174EA6;\n",
              "    }\n",
              "\n",
              "    [theme=dark] .colab-df-convert {\n",
              "      background-color: #3B4455;\n",
              "      fill: #D2E3FC;\n",
              "    }\n",
              "\n",
              "    [theme=dark] .colab-df-convert:hover {\n",
              "      background-color: #434B5C;\n",
              "      box-shadow: 0px 1px 3px 1px rgba(0, 0, 0, 0.15);\n",
              "      filter: drop-shadow(0px 1px 2px rgba(0, 0, 0, 0.3));\n",
              "      fill: #FFFFFF;\n",
              "    }\n",
              "  </style>\n",
              "\n",
              "      <script>\n",
              "        const buttonEl =\n",
              "          document.querySelector('#df-3690e727-1e12-4fbb-9ce7-248312c23e5d button.colab-df-convert');\n",
              "        buttonEl.style.display =\n",
              "          google.colab.kernel.accessAllowed ? 'block' : 'none';\n",
              "\n",
              "        async function convertToInteractive(key) {\n",
              "          const element = document.querySelector('#df-3690e727-1e12-4fbb-9ce7-248312c23e5d');\n",
              "          const dataTable =\n",
              "            await google.colab.kernel.invokeFunction('convertToInteractive',\n",
              "                                                     [key], {});\n",
              "          if (!dataTable) return;\n",
              "\n",
              "          const docLinkHtml = 'Like what you see? Visit the ' +\n",
              "            '<a target=\"_blank\" href=https://colab.research.google.com/notebooks/data_table.ipynb>data table notebook</a>'\n",
              "            + ' to learn more about interactive tables.';\n",
              "          element.innerHTML = '';\n",
              "          dataTable['output_type'] = 'display_data';\n",
              "          await google.colab.output.renderOutput(dataTable, element);\n",
              "          const docLink = document.createElement('div');\n",
              "          docLink.innerHTML = docLinkHtml;\n",
              "          element.appendChild(docLink);\n",
              "        }\n",
              "      </script>\n",
              "    </div>\n",
              "  </div>\n",
              "  "
            ]
          },
          "metadata": {},
          "execution_count": 183
        }
      ]
    },
    {
      "cell_type": "markdown",
      "source": [
        "Tomaremos los primeros 9 componentes principales ya que contienen hasta un 97% de la proporción de la varianza, dado que hasta el PC9 se tiene un incremento significativo en la proporción acumulativa"
      ],
      "metadata": {
        "id": "HOKlp4HzrvZM"
      }
    },
    {
      "cell_type": "code",
      "source": [
        "summary_df = pcsSummary_df.round(4)\n",
        "summary_df.iloc[: , :9]"
      ],
      "metadata": {
        "id": "7NQFcSFpsKgY",
        "outputId": "2aa3680b-214b-420c-f114-dfa78a3a8ef6",
        "colab": {
          "base_uri": "https://localhost:8080/",
          "height": 143
        }
      },
      "execution_count": null,
      "outputs": [
        {
          "output_type": "execute_result",
          "data": {
            "text/plain": [
              "                              PC1     PC2     PC3     PC4     PC5     PC6  \\\n",
              "Desviación estándar        2.4329  1.3099  1.0223  0.9619  0.9401  0.9342   \n",
              "Proporción de la varianza  0.4228  0.1226  0.0746  0.0661  0.0631  0.0623   \n",
              "Proporción acumulativa     0.4228  0.5453  0.6200  0.6861  0.7492  0.8115   \n",
              "\n",
              "                              PC7     PC8     PC9  \n",
              "Desviación estándar        0.8830  0.8524  0.8410  \n",
              "Proporción de la varianza  0.0557  0.0519  0.0505  \n",
              "Proporción acumulativa     0.8672  0.9191  0.9696  "
            ],
            "text/html": [
              "\n",
              "  <div id=\"df-ada73b9f-e058-4a6b-bc1c-1e433ef42422\">\n",
              "    <div class=\"colab-df-container\">\n",
              "      <div>\n",
              "<style scoped>\n",
              "    .dataframe tbody tr th:only-of-type {\n",
              "        vertical-align: middle;\n",
              "    }\n",
              "\n",
              "    .dataframe tbody tr th {\n",
              "        vertical-align: top;\n",
              "    }\n",
              "\n",
              "    .dataframe thead th {\n",
              "        text-align: right;\n",
              "    }\n",
              "</style>\n",
              "<table border=\"1\" class=\"dataframe\">\n",
              "  <thead>\n",
              "    <tr style=\"text-align: right;\">\n",
              "      <th></th>\n",
              "      <th>PC1</th>\n",
              "      <th>PC2</th>\n",
              "      <th>PC3</th>\n",
              "      <th>PC4</th>\n",
              "      <th>PC5</th>\n",
              "      <th>PC6</th>\n",
              "      <th>PC7</th>\n",
              "      <th>PC8</th>\n",
              "      <th>PC9</th>\n",
              "    </tr>\n",
              "  </thead>\n",
              "  <tbody>\n",
              "    <tr>\n",
              "      <th>Desviación estándar</th>\n",
              "      <td>2.4329</td>\n",
              "      <td>1.3099</td>\n",
              "      <td>1.0223</td>\n",
              "      <td>0.9619</td>\n",
              "      <td>0.9401</td>\n",
              "      <td>0.9342</td>\n",
              "      <td>0.8830</td>\n",
              "      <td>0.8524</td>\n",
              "      <td>0.8410</td>\n",
              "    </tr>\n",
              "    <tr>\n",
              "      <th>Proporción de la varianza</th>\n",
              "      <td>0.4228</td>\n",
              "      <td>0.1226</td>\n",
              "      <td>0.0746</td>\n",
              "      <td>0.0661</td>\n",
              "      <td>0.0631</td>\n",
              "      <td>0.0623</td>\n",
              "      <td>0.0557</td>\n",
              "      <td>0.0519</td>\n",
              "      <td>0.0505</td>\n",
              "    </tr>\n",
              "    <tr>\n",
              "      <th>Proporción acumulativa</th>\n",
              "      <td>0.4228</td>\n",
              "      <td>0.5453</td>\n",
              "      <td>0.6200</td>\n",
              "      <td>0.6861</td>\n",
              "      <td>0.7492</td>\n",
              "      <td>0.8115</td>\n",
              "      <td>0.8672</td>\n",
              "      <td>0.9191</td>\n",
              "      <td>0.9696</td>\n",
              "    </tr>\n",
              "  </tbody>\n",
              "</table>\n",
              "</div>\n",
              "      <button class=\"colab-df-convert\" onclick=\"convertToInteractive('df-ada73b9f-e058-4a6b-bc1c-1e433ef42422')\"\n",
              "              title=\"Convert this dataframe to an interactive table.\"\n",
              "              style=\"display:none;\">\n",
              "        \n",
              "  <svg xmlns=\"http://www.w3.org/2000/svg\" height=\"24px\"viewBox=\"0 0 24 24\"\n",
              "       width=\"24px\">\n",
              "    <path d=\"M0 0h24v24H0V0z\" fill=\"none\"/>\n",
              "    <path d=\"M18.56 5.44l.94 2.06.94-2.06 2.06-.94-2.06-.94-.94-2.06-.94 2.06-2.06.94zm-11 1L8.5 8.5l.94-2.06 2.06-.94-2.06-.94L8.5 2.5l-.94 2.06-2.06.94zm10 10l.94 2.06.94-2.06 2.06-.94-2.06-.94-.94-2.06-.94 2.06-2.06.94z\"/><path d=\"M17.41 7.96l-1.37-1.37c-.4-.4-.92-.59-1.43-.59-.52 0-1.04.2-1.43.59L10.3 9.45l-7.72 7.72c-.78.78-.78 2.05 0 2.83L4 21.41c.39.39.9.59 1.41.59.51 0 1.02-.2 1.41-.59l7.78-7.78 2.81-2.81c.8-.78.8-2.07 0-2.86zM5.41 20L4 18.59l7.72-7.72 1.47 1.35L5.41 20z\"/>\n",
              "  </svg>\n",
              "      </button>\n",
              "      \n",
              "  <style>\n",
              "    .colab-df-container {\n",
              "      display:flex;\n",
              "      flex-wrap:wrap;\n",
              "      gap: 12px;\n",
              "    }\n",
              "\n",
              "    .colab-df-convert {\n",
              "      background-color: #E8F0FE;\n",
              "      border: none;\n",
              "      border-radius: 50%;\n",
              "      cursor: pointer;\n",
              "      display: none;\n",
              "      fill: #1967D2;\n",
              "      height: 32px;\n",
              "      padding: 0 0 0 0;\n",
              "      width: 32px;\n",
              "    }\n",
              "\n",
              "    .colab-df-convert:hover {\n",
              "      background-color: #E2EBFA;\n",
              "      box-shadow: 0px 1px 2px rgba(60, 64, 67, 0.3), 0px 1px 3px 1px rgba(60, 64, 67, 0.15);\n",
              "      fill: #174EA6;\n",
              "    }\n",
              "\n",
              "    [theme=dark] .colab-df-convert {\n",
              "      background-color: #3B4455;\n",
              "      fill: #D2E3FC;\n",
              "    }\n",
              "\n",
              "    [theme=dark] .colab-df-convert:hover {\n",
              "      background-color: #434B5C;\n",
              "      box-shadow: 0px 1px 3px 1px rgba(0, 0, 0, 0.15);\n",
              "      filter: drop-shadow(0px 1px 2px rgba(0, 0, 0, 0.3));\n",
              "      fill: #FFFFFF;\n",
              "    }\n",
              "  </style>\n",
              "\n",
              "      <script>\n",
              "        const buttonEl =\n",
              "          document.querySelector('#df-ada73b9f-e058-4a6b-bc1c-1e433ef42422 button.colab-df-convert');\n",
              "        buttonEl.style.display =\n",
              "          google.colab.kernel.accessAllowed ? 'block' : 'none';\n",
              "\n",
              "        async function convertToInteractive(key) {\n",
              "          const element = document.querySelector('#df-ada73b9f-e058-4a6b-bc1c-1e433ef42422');\n",
              "          const dataTable =\n",
              "            await google.colab.kernel.invokeFunction('convertToInteractive',\n",
              "                                                     [key], {});\n",
              "          if (!dataTable) return;\n",
              "\n",
              "          const docLinkHtml = 'Like what you see? Visit the ' +\n",
              "            '<a target=\"_blank\" href=https://colab.research.google.com/notebooks/data_table.ipynb>data table notebook</a>'\n",
              "            + ' to learn more about interactive tables.';\n",
              "          element.innerHTML = '';\n",
              "          dataTable['output_type'] = 'display_data';\n",
              "          await google.colab.output.renderOutput(dataTable, element);\n",
              "          const docLink = document.createElement('div');\n",
              "          docLink.innerHTML = docLinkHtml;\n",
              "          element.appendChild(docLink);\n",
              "        }\n",
              "      </script>\n",
              "    </div>\n",
              "  </div>\n",
              "  "
            ]
          },
          "metadata": {},
          "execution_count": 184
        }
      ]
    },
    {
      "cell_type": "markdown",
      "source": [
        "Mostramos la proporción acumulativa hasta PC9"
      ],
      "metadata": {
        "id": "6OaNjyt_-QJK"
      }
    },
    {
      "cell_type": "code",
      "source": [
        "pcsSummary_df.iloc[2,8] # Proporción acumulativa en PC9"
      ],
      "metadata": {
        "id": "YdYpZKFaoeuE",
        "outputId": "9401521e-1cfe-43a7-ce24-c4c5d5030585",
        "colab": {
          "base_uri": "https://localhost:8080/"
        }
      },
      "execution_count": null,
      "outputs": [
        {
          "output_type": "execute_result",
          "data": {
            "text/plain": [
              "0.9696363062975943"
            ]
          },
          "metadata": {},
          "execution_count": 185
        }
      ]
    },
    {
      "cell_type": "markdown",
      "source": [
        "**Con esto encontramos que necesitamos los primeros 9 componentes principales que tienen más del 97% de la varianza total.**"
      ],
      "metadata": {
        "id": "9-R-K_tAtDV_"
      }
    },
    {
      "cell_type": "markdown",
      "source": [
        "## Paso 2\n",
        "Interprete cada componente principal en términos de las variables originales"
      ],
      "metadata": {
        "id": "Ui5lY7xftZly"
      }
    },
    {
      "cell_type": "markdown",
      "source": [
        "Visualizamos la composición de cada componente arrojado por el PCA"
      ],
      "metadata": {
        "id": "Bbk3mR8G94tE"
      }
    },
    {
      "cell_type": "code",
      "source": [
        "pcsComponents_df = pd.DataFrame(pcs.components_.transpose(), \n",
        "                                columns=pcsSummary_df.columns,\n",
        "                                index=df.columns\n",
        "                                )\n",
        "pcsComponents_df= pcsComponents_df.iloc[:,:]\n",
        "pcsComponents_df"
      ],
      "metadata": {
        "id": "xAg1evWWsX1X",
        "outputId": "0d8bc77c-3f40-4210-b57f-6d4763ad8709",
        "colab": {
          "base_uri": "https://localhost:8080/",
          "height": 488
        }
      },
      "execution_count": null,
      "outputs": [
        {
          "output_type": "execute_result",
          "data": {
            "text/plain": [
              "          PC1       PC2       PC3       PC4       PC5       PC6       PC7  \\\n",
              "X1   0.165507  0.300709 -0.378575 -0.200103  0.035312 -0.078883  0.111239   \n",
              "X5   0.032789  0.071906 -0.869471  0.338990 -0.039760  0.071461 -0.078816   \n",
              "X12  0.372446 -0.190793 -0.034207 -0.063899  0.041391 -0.043987  0.008169   \n",
              "X13  0.383253 -0.174644 -0.001814  0.007629  0.083164 -0.028824 -0.032444   \n",
              "X14  0.388264 -0.126883  0.034747  0.060528  0.113790  0.099239 -0.121162   \n",
              "X15  0.391557 -0.120403  0.034073  0.074774  0.028378  0.014527  0.126494   \n",
              "X16  0.388505 -0.105928  0.033882  0.039553 -0.106756 -0.099290 -0.007584   \n",
              "X17  0.380672 -0.094157  0.018489 -0.070616 -0.164986  0.069272  0.007892   \n",
              "X18  0.135120  0.383194  0.173845  0.362055  0.225652  0.040574 -0.201646   \n",
              "X19  0.116768  0.408391  0.200925  0.345745  0.148714  0.408361 -0.278835   \n",
              "X20  0.128056  0.392339  0.122065  0.244688 -0.239600 -0.108158  0.785216   \n",
              "X21  0.116903  0.349613  0.062272 -0.094736 -0.577791 -0.500809 -0.462241   \n",
              "X22  0.113741  0.303923 -0.060900 -0.609833 -0.193395  0.602388  0.014301   \n",
              "X23  0.105481  0.323529 -0.050896 -0.365692  0.659155 -0.409151  0.025459   \n",
              "\n",
              "          PC8       PC9      PC10      PC11      PC12      PC13      PC14  \n",
              "X1  -0.046381 -0.821996 -0.029201 -0.006198  0.015697 -0.000417  0.003345  \n",
              "X5   0.027368  0.330346 -0.009011  0.000139 -0.001377  0.000132  0.001067  \n",
              "X12  0.009341  0.010348  0.566716  0.416018 -0.432992 -0.183793 -0.316576  \n",
              "X13 -0.135636  0.016872  0.386872  0.038425  0.345052  0.329467  0.645227  \n",
              "X14  0.093077 -0.018607  0.122863 -0.484776  0.495792 -0.086466 -0.527640  \n",
              "X15  0.039157  0.019109 -0.205260 -0.523211 -0.489647 -0.362078  0.346095  \n",
              "X16  0.049781  0.023701 -0.419992  0.068372 -0.249500  0.718388 -0.226667  \n",
              "X17 -0.000282  0.058701 -0.488861  0.513313  0.338689 -0.427734  0.072287  \n",
              "X18 -0.748694  0.019949 -0.056581  0.047513 -0.069359 -0.044841 -0.084567  \n",
              "X19  0.578491 -0.110712  0.050854  0.147307 -0.068851  0.038925  0.124894  \n",
              "X20  0.068216  0.152990  0.144908  0.000139  0.124675  0.025427 -0.063096  \n",
              "X21  0.077764  0.098813  0.124098 -0.115830  0.001024 -0.080731  0.042272  \n",
              "X22 -0.164877  0.252920  0.060003 -0.099471 -0.069426  0.095243 -0.008534  \n",
              "X23  0.181276  0.316686 -0.099178  0.034971  0.027711 -0.017205  0.008314  "
            ],
            "text/html": [
              "\n",
              "  <div id=\"df-77689000-73df-4838-9944-dece4d729401\">\n",
              "    <div class=\"colab-df-container\">\n",
              "      <div>\n",
              "<style scoped>\n",
              "    .dataframe tbody tr th:only-of-type {\n",
              "        vertical-align: middle;\n",
              "    }\n",
              "\n",
              "    .dataframe tbody tr th {\n",
              "        vertical-align: top;\n",
              "    }\n",
              "\n",
              "    .dataframe thead th {\n",
              "        text-align: right;\n",
              "    }\n",
              "</style>\n",
              "<table border=\"1\" class=\"dataframe\">\n",
              "  <thead>\n",
              "    <tr style=\"text-align: right;\">\n",
              "      <th></th>\n",
              "      <th>PC1</th>\n",
              "      <th>PC2</th>\n",
              "      <th>PC3</th>\n",
              "      <th>PC4</th>\n",
              "      <th>PC5</th>\n",
              "      <th>PC6</th>\n",
              "      <th>PC7</th>\n",
              "      <th>PC8</th>\n",
              "      <th>PC9</th>\n",
              "      <th>PC10</th>\n",
              "      <th>PC11</th>\n",
              "      <th>PC12</th>\n",
              "      <th>PC13</th>\n",
              "      <th>PC14</th>\n",
              "    </tr>\n",
              "  </thead>\n",
              "  <tbody>\n",
              "    <tr>\n",
              "      <th>X1</th>\n",
              "      <td>0.165507</td>\n",
              "      <td>0.300709</td>\n",
              "      <td>-0.378575</td>\n",
              "      <td>-0.200103</td>\n",
              "      <td>0.035312</td>\n",
              "      <td>-0.078883</td>\n",
              "      <td>0.111239</td>\n",
              "      <td>-0.046381</td>\n",
              "      <td>-0.821996</td>\n",
              "      <td>-0.029201</td>\n",
              "      <td>-0.006198</td>\n",
              "      <td>0.015697</td>\n",
              "      <td>-0.000417</td>\n",
              "      <td>0.003345</td>\n",
              "    </tr>\n",
              "    <tr>\n",
              "      <th>X5</th>\n",
              "      <td>0.032789</td>\n",
              "      <td>0.071906</td>\n",
              "      <td>-0.869471</td>\n",
              "      <td>0.338990</td>\n",
              "      <td>-0.039760</td>\n",
              "      <td>0.071461</td>\n",
              "      <td>-0.078816</td>\n",
              "      <td>0.027368</td>\n",
              "      <td>0.330346</td>\n",
              "      <td>-0.009011</td>\n",
              "      <td>0.000139</td>\n",
              "      <td>-0.001377</td>\n",
              "      <td>0.000132</td>\n",
              "      <td>0.001067</td>\n",
              "    </tr>\n",
              "    <tr>\n",
              "      <th>X12</th>\n",
              "      <td>0.372446</td>\n",
              "      <td>-0.190793</td>\n",
              "      <td>-0.034207</td>\n",
              "      <td>-0.063899</td>\n",
              "      <td>0.041391</td>\n",
              "      <td>-0.043987</td>\n",
              "      <td>0.008169</td>\n",
              "      <td>0.009341</td>\n",
              "      <td>0.010348</td>\n",
              "      <td>0.566716</td>\n",
              "      <td>0.416018</td>\n",
              "      <td>-0.432992</td>\n",
              "      <td>-0.183793</td>\n",
              "      <td>-0.316576</td>\n",
              "    </tr>\n",
              "    <tr>\n",
              "      <th>X13</th>\n",
              "      <td>0.383253</td>\n",
              "      <td>-0.174644</td>\n",
              "      <td>-0.001814</td>\n",
              "      <td>0.007629</td>\n",
              "      <td>0.083164</td>\n",
              "      <td>-0.028824</td>\n",
              "      <td>-0.032444</td>\n",
              "      <td>-0.135636</td>\n",
              "      <td>0.016872</td>\n",
              "      <td>0.386872</td>\n",
              "      <td>0.038425</td>\n",
              "      <td>0.345052</td>\n",
              "      <td>0.329467</td>\n",
              "      <td>0.645227</td>\n",
              "    </tr>\n",
              "    <tr>\n",
              "      <th>X14</th>\n",
              "      <td>0.388264</td>\n",
              "      <td>-0.126883</td>\n",
              "      <td>0.034747</td>\n",
              "      <td>0.060528</td>\n",
              "      <td>0.113790</td>\n",
              "      <td>0.099239</td>\n",
              "      <td>-0.121162</td>\n",
              "      <td>0.093077</td>\n",
              "      <td>-0.018607</td>\n",
              "      <td>0.122863</td>\n",
              "      <td>-0.484776</td>\n",
              "      <td>0.495792</td>\n",
              "      <td>-0.086466</td>\n",
              "      <td>-0.527640</td>\n",
              "    </tr>\n",
              "    <tr>\n",
              "      <th>X15</th>\n",
              "      <td>0.391557</td>\n",
              "      <td>-0.120403</td>\n",
              "      <td>0.034073</td>\n",
              "      <td>0.074774</td>\n",
              "      <td>0.028378</td>\n",
              "      <td>0.014527</td>\n",
              "      <td>0.126494</td>\n",
              "      <td>0.039157</td>\n",
              "      <td>0.019109</td>\n",
              "      <td>-0.205260</td>\n",
              "      <td>-0.523211</td>\n",
              "      <td>-0.489647</td>\n",
              "      <td>-0.362078</td>\n",
              "      <td>0.346095</td>\n",
              "    </tr>\n",
              "    <tr>\n",
              "      <th>X16</th>\n",
              "      <td>0.388505</td>\n",
              "      <td>-0.105928</td>\n",
              "      <td>0.033882</td>\n",
              "      <td>0.039553</td>\n",
              "      <td>-0.106756</td>\n",
              "      <td>-0.099290</td>\n",
              "      <td>-0.007584</td>\n",
              "      <td>0.049781</td>\n",
              "      <td>0.023701</td>\n",
              "      <td>-0.419992</td>\n",
              "      <td>0.068372</td>\n",
              "      <td>-0.249500</td>\n",
              "      <td>0.718388</td>\n",
              "      <td>-0.226667</td>\n",
              "    </tr>\n",
              "    <tr>\n",
              "      <th>X17</th>\n",
              "      <td>0.380672</td>\n",
              "      <td>-0.094157</td>\n",
              "      <td>0.018489</td>\n",
              "      <td>-0.070616</td>\n",
              "      <td>-0.164986</td>\n",
              "      <td>0.069272</td>\n",
              "      <td>0.007892</td>\n",
              "      <td>-0.000282</td>\n",
              "      <td>0.058701</td>\n",
              "      <td>-0.488861</td>\n",
              "      <td>0.513313</td>\n",
              "      <td>0.338689</td>\n",
              "      <td>-0.427734</td>\n",
              "      <td>0.072287</td>\n",
              "    </tr>\n",
              "    <tr>\n",
              "      <th>X18</th>\n",
              "      <td>0.135120</td>\n",
              "      <td>0.383194</td>\n",
              "      <td>0.173845</td>\n",
              "      <td>0.362055</td>\n",
              "      <td>0.225652</td>\n",
              "      <td>0.040574</td>\n",
              "      <td>-0.201646</td>\n",
              "      <td>-0.748694</td>\n",
              "      <td>0.019949</td>\n",
              "      <td>-0.056581</td>\n",
              "      <td>0.047513</td>\n",
              "      <td>-0.069359</td>\n",
              "      <td>-0.044841</td>\n",
              "      <td>-0.084567</td>\n",
              "    </tr>\n",
              "    <tr>\n",
              "      <th>X19</th>\n",
              "      <td>0.116768</td>\n",
              "      <td>0.408391</td>\n",
              "      <td>0.200925</td>\n",
              "      <td>0.345745</td>\n",
              "      <td>0.148714</td>\n",
              "      <td>0.408361</td>\n",
              "      <td>-0.278835</td>\n",
              "      <td>0.578491</td>\n",
              "      <td>-0.110712</td>\n",
              "      <td>0.050854</td>\n",
              "      <td>0.147307</td>\n",
              "      <td>-0.068851</td>\n",
              "      <td>0.038925</td>\n",
              "      <td>0.124894</td>\n",
              "    </tr>\n",
              "    <tr>\n",
              "      <th>X20</th>\n",
              "      <td>0.128056</td>\n",
              "      <td>0.392339</td>\n",
              "      <td>0.122065</td>\n",
              "      <td>0.244688</td>\n",
              "      <td>-0.239600</td>\n",
              "      <td>-0.108158</td>\n",
              "      <td>0.785216</td>\n",
              "      <td>0.068216</td>\n",
              "      <td>0.152990</td>\n",
              "      <td>0.144908</td>\n",
              "      <td>0.000139</td>\n",
              "      <td>0.124675</td>\n",
              "      <td>0.025427</td>\n",
              "      <td>-0.063096</td>\n",
              "    </tr>\n",
              "    <tr>\n",
              "      <th>X21</th>\n",
              "      <td>0.116903</td>\n",
              "      <td>0.349613</td>\n",
              "      <td>0.062272</td>\n",
              "      <td>-0.094736</td>\n",
              "      <td>-0.577791</td>\n",
              "      <td>-0.500809</td>\n",
              "      <td>-0.462241</td>\n",
              "      <td>0.077764</td>\n",
              "      <td>0.098813</td>\n",
              "      <td>0.124098</td>\n",
              "      <td>-0.115830</td>\n",
              "      <td>0.001024</td>\n",
              "      <td>-0.080731</td>\n",
              "      <td>0.042272</td>\n",
              "    </tr>\n",
              "    <tr>\n",
              "      <th>X22</th>\n",
              "      <td>0.113741</td>\n",
              "      <td>0.303923</td>\n",
              "      <td>-0.060900</td>\n",
              "      <td>-0.609833</td>\n",
              "      <td>-0.193395</td>\n",
              "      <td>0.602388</td>\n",
              "      <td>0.014301</td>\n",
              "      <td>-0.164877</td>\n",
              "      <td>0.252920</td>\n",
              "      <td>0.060003</td>\n",
              "      <td>-0.099471</td>\n",
              "      <td>-0.069426</td>\n",
              "      <td>0.095243</td>\n",
              "      <td>-0.008534</td>\n",
              "    </tr>\n",
              "    <tr>\n",
              "      <th>X23</th>\n",
              "      <td>0.105481</td>\n",
              "      <td>0.323529</td>\n",
              "      <td>-0.050896</td>\n",
              "      <td>-0.365692</td>\n",
              "      <td>0.659155</td>\n",
              "      <td>-0.409151</td>\n",
              "      <td>0.025459</td>\n",
              "      <td>0.181276</td>\n",
              "      <td>0.316686</td>\n",
              "      <td>-0.099178</td>\n",
              "      <td>0.034971</td>\n",
              "      <td>0.027711</td>\n",
              "      <td>-0.017205</td>\n",
              "      <td>0.008314</td>\n",
              "    </tr>\n",
              "  </tbody>\n",
              "</table>\n",
              "</div>\n",
              "      <button class=\"colab-df-convert\" onclick=\"convertToInteractive('df-77689000-73df-4838-9944-dece4d729401')\"\n",
              "              title=\"Convert this dataframe to an interactive table.\"\n",
              "              style=\"display:none;\">\n",
              "        \n",
              "  <svg xmlns=\"http://www.w3.org/2000/svg\" height=\"24px\"viewBox=\"0 0 24 24\"\n",
              "       width=\"24px\">\n",
              "    <path d=\"M0 0h24v24H0V0z\" fill=\"none\"/>\n",
              "    <path d=\"M18.56 5.44l.94 2.06.94-2.06 2.06-.94-2.06-.94-.94-2.06-.94 2.06-2.06.94zm-11 1L8.5 8.5l.94-2.06 2.06-.94-2.06-.94L8.5 2.5l-.94 2.06-2.06.94zm10 10l.94 2.06.94-2.06 2.06-.94-2.06-.94-.94-2.06-.94 2.06-2.06.94z\"/><path d=\"M17.41 7.96l-1.37-1.37c-.4-.4-.92-.59-1.43-.59-.52 0-1.04.2-1.43.59L10.3 9.45l-7.72 7.72c-.78.78-.78 2.05 0 2.83L4 21.41c.39.39.9.59 1.41.59.51 0 1.02-.2 1.41-.59l7.78-7.78 2.81-2.81c.8-.78.8-2.07 0-2.86zM5.41 20L4 18.59l7.72-7.72 1.47 1.35L5.41 20z\"/>\n",
              "  </svg>\n",
              "      </button>\n",
              "      \n",
              "  <style>\n",
              "    .colab-df-container {\n",
              "      display:flex;\n",
              "      flex-wrap:wrap;\n",
              "      gap: 12px;\n",
              "    }\n",
              "\n",
              "    .colab-df-convert {\n",
              "      background-color: #E8F0FE;\n",
              "      border: none;\n",
              "      border-radius: 50%;\n",
              "      cursor: pointer;\n",
              "      display: none;\n",
              "      fill: #1967D2;\n",
              "      height: 32px;\n",
              "      padding: 0 0 0 0;\n",
              "      width: 32px;\n",
              "    }\n",
              "\n",
              "    .colab-df-convert:hover {\n",
              "      background-color: #E2EBFA;\n",
              "      box-shadow: 0px 1px 2px rgba(60, 64, 67, 0.3), 0px 1px 3px 1px rgba(60, 64, 67, 0.15);\n",
              "      fill: #174EA6;\n",
              "    }\n",
              "\n",
              "    [theme=dark] .colab-df-convert {\n",
              "      background-color: #3B4455;\n",
              "      fill: #D2E3FC;\n",
              "    }\n",
              "\n",
              "    [theme=dark] .colab-df-convert:hover {\n",
              "      background-color: #434B5C;\n",
              "      box-shadow: 0px 1px 3px 1px rgba(0, 0, 0, 0.15);\n",
              "      filter: drop-shadow(0px 1px 2px rgba(0, 0, 0, 0.3));\n",
              "      fill: #FFFFFF;\n",
              "    }\n",
              "  </style>\n",
              "\n",
              "      <script>\n",
              "        const buttonEl =\n",
              "          document.querySelector('#df-77689000-73df-4838-9944-dece4d729401 button.colab-df-convert');\n",
              "        buttonEl.style.display =\n",
              "          google.colab.kernel.accessAllowed ? 'block' : 'none';\n",
              "\n",
              "        async function convertToInteractive(key) {\n",
              "          const element = document.querySelector('#df-77689000-73df-4838-9944-dece4d729401');\n",
              "          const dataTable =\n",
              "            await google.colab.kernel.invokeFunction('convertToInteractive',\n",
              "                                                     [key], {});\n",
              "          if (!dataTable) return;\n",
              "\n",
              "          const docLinkHtml = 'Like what you see? Visit the ' +\n",
              "            '<a target=\"_blank\" href=https://colab.research.google.com/notebooks/data_table.ipynb>data table notebook</a>'\n",
              "            + ' to learn more about interactive tables.';\n",
              "          element.innerHTML = '';\n",
              "          dataTable['output_type'] = 'display_data';\n",
              "          await google.colab.output.renderOutput(dataTable, element);\n",
              "          const docLink = document.createElement('div');\n",
              "          docLink.innerHTML = docLinkHtml;\n",
              "          element.appendChild(docLink);\n",
              "        }\n",
              "      </script>\n",
              "    </div>\n",
              "  </div>\n",
              "  "
            ]
          },
          "metadata": {},
          "execution_count": 186
        }
      ]
    },
    {
      "cell_type": "markdown",
      "source": [
        "Examinamos la magnitud y dirección de los coeficientes de las variables originales y buscamos la variable más importante, con mayor peso por cada componente."
      ],
      "metadata": {
        "id": "VJkFH8K3uLPt"
      }
    },
    {
      "cell_type": "markdown",
      "source": [
        "Verificamos el valor máximo dentro de PC1, junto con la columna que contiene el valor más alto"
      ],
      "metadata": {
        "id": "M3u4YDXPBW2Q"
      }
    },
    {
      "cell_type": "code",
      "source": [
        "c = (pcsComponents_df.PC1.nlargest(1))\n",
        "dict(c)"
      ],
      "metadata": {
        "id": "nBkKmvgVt3Aw",
        "outputId": "8dbb0f42-7c32-4d47-a9a3-787955e94a62",
        "colab": {
          "base_uri": "https://localhost:8080/"
        }
      },
      "execution_count": null,
      "outputs": [
        {
          "output_type": "execute_result",
          "data": {
            "text/plain": [
              "{'X15': 0.39155712203044346}"
            ]
          },
          "metadata": {},
          "execution_count": 187
        }
      ]
    },
    {
      "cell_type": "markdown",
      "source": [
        "Hacemos lo mismo con el valor mínimo de PC1"
      ],
      "metadata": {
        "id": "ho6a9_GUBk7r"
      }
    },
    {
      "cell_type": "code",
      "source": [
        "c = (pcsComponents_df.PC1.nsmallest(1))\n",
        "dict(c)"
      ],
      "metadata": {
        "id": "hAODjriIBpoO",
        "outputId": "af58eba7-a42b-490e-fc3b-d8d5c57926af",
        "colab": {
          "base_uri": "https://localhost:8080/"
        }
      },
      "execution_count": null,
      "outputs": [
        {
          "output_type": "execute_result",
          "data": {
            "text/plain": [
              "{'X5': 0.03278881366010833}"
            ]
          },
          "metadata": {},
          "execution_count": 188
        }
      ]
    },
    {
      "cell_type": "markdown",
      "source": [
        "Obtenemos que 0.3915 es la que tiene mayor peso y se encuentra en la columna X15"
      ],
      "metadata": {
        "id": "wdZKSjrvW1lZ"
      }
    },
    {
      "cell_type": "markdown",
      "source": [
        "Para automatizar este proceso definimos una función que nos arroje la variable con mayor peso para cada componente"
      ],
      "metadata": {
        "id": "75CPGynHBxIu"
      }
    },
    {
      "cell_type": "code",
      "source": [
        "def _max_weigth(pc_name, list_min_max):\n",
        "  ab=[]\n",
        "  for dic in list_min_max:\n",
        "    for key, val in dic.items():\n",
        "      ab.append(abs(val))\n",
        "  _max = max(ab)\n",
        "  for dic in list_min_max:\n",
        "    for key, val in dic.items():\n",
        "      if abs(val) == _max:\n",
        "        return [pc_name, key, val ]\n",
        "  \n",
        "pca_var_list = []\n",
        "for c in pcsComponents_df.columns:\n",
        "  pca_var_list.append(_max_weigth( c, [ dict(pcsComponents_df[c].nlargest(1)) , dict(pcsComponents_df[c].nsmallest(1)) ])) \n",
        "pca_var_list"
      ],
      "metadata": {
        "id": "sP5DSbJU4zrk",
        "outputId": "a9be684c-5297-4cc4-a564-3219108753b5",
        "colab": {
          "base_uri": "https://localhost:8080/"
        }
      },
      "execution_count": null,
      "outputs": [
        {
          "output_type": "execute_result",
          "data": {
            "text/plain": [
              "[['PC1', 'X15', 0.39155712203044346],\n",
              " ['PC2', 'X19', 0.408390522014431],\n",
              " ['PC3', 'X5', -0.8694706905799756],\n",
              " ['PC4', 'X22', -0.6098329381828322],\n",
              " ['PC5', 'X23', 0.6591551189996552],\n",
              " ['PC6', 'X22', 0.602387806215927],\n",
              " ['PC7', 'X20', 0.7852160768961115],\n",
              " ['PC8', 'X18', -0.7486943024148407],\n",
              " ['PC9', 'X1', -0.821996152813422],\n",
              " ['PC10', 'X12', 0.5667159724057267],\n",
              " ['PC11', 'X15', -0.5232111062849556],\n",
              " ['PC12', 'X14', 0.4957924515135175],\n",
              " ['PC13', 'X16', 0.71838794406556],\n",
              " ['PC14', 'X13', 0.6452270837507983]]"
            ]
          },
          "metadata": {},
          "execution_count": 189
        }
      ]
    },
    {
      "cell_type": "markdown",
      "source": [
        "De esa manera obtenemos las variables con mayor peso para cada componente"
      ],
      "metadata": {
        "id": "uGzVzp_HCTA2"
      }
    },
    {
      "cell_type": "markdown",
      "source": [
        "Con esto deducimos lo siguiente:\n",
        "- Las variables que más importan al momento de que se te otorge un crédito, son las relacionadas con el importe del estado de cuenta y el importe del pago anterior."
      ],
      "metadata": {
        "id": "kRQsJP10Vl5R"
      }
    },
    {
      "cell_type": "markdown",
      "source": [
        "## Paso 3\n",
        "Identificar los valores atípicos"
      ],
      "metadata": {
        "id": "TJaDg_Ga4ZsZ"
      }
    },
    {
      "cell_type": "markdown",
      "source": [
        "Creamos una copia del dataframe **df**"
      ],
      "metadata": {
        "id": "4ygLrHM3xPY3"
      }
    },
    {
      "cell_type": "code",
      "source": [
        "df_outlier=df.copy()"
      ],
      "metadata": {
        "id": "VfihZnjpu6Wl"
      },
      "execution_count": null,
      "outputs": []
    },
    {
      "cell_type": "markdown",
      "source": [
        "Normalizamos los datos del dataframe, para poder visualizar mejor el boxplot, para ello usaremos la función **MinMaxScaler** para que los valores queden dentro del rango de 0 a 1, sin perder la distribución de cada columna"
      ],
      "metadata": {
        "id": "-oZx2Ikz3vWe"
      }
    },
    {
      "cell_type": "code",
      "source": [
        "scaler=MinMaxScaler()\n",
        "df_outlier=scaler.fit_transform(df_outlier)"
      ],
      "metadata": {
        "id": "DyoG0VTK2z1Y"
      },
      "execution_count": null,
      "outputs": []
    },
    {
      "cell_type": "markdown",
      "source": [
        "Transformamos los datos normalizados nuevamente en un dataframe"
      ],
      "metadata": {
        "id": "FPuoac7GD3wj"
      }
    },
    {
      "cell_type": "code",
      "source": [
        "df_outlier=pd.DataFrame(df_outlier)"
      ],
      "metadata": {
        "id": "unVlA8hhD4LU"
      },
      "execution_count": null,
      "outputs": []
    },
    {
      "cell_type": "markdown",
      "source": [
        "Asignamos nombres a cada columna dentro del dataframe para poder visualizar mejor a que columna pertenecen los outliers"
      ],
      "metadata": {
        "id": "gIQ_FiwLEC41"
      }
    },
    {
      "cell_type": "code",
      "source": [
        "df_outlier.columns=[\"Given credit\",\"Age\",\"AB September\",\"AB August\",\"AB July\",\"AB June\",\"AB May\",\"AB April\",\"AP September\",\"AP August\",\"AP July\",\"AP June\",\"AP May\",\"AP April\"]"
      ],
      "metadata": {
        "id": "G9R-fiQF1ItW"
      },
      "execution_count": null,
      "outputs": []
    },
    {
      "cell_type": "markdown",
      "source": [
        "Graficamos el dataset usando el método **boxplot** dentro de la librería pandas"
      ],
      "metadata": {
        "id": "YF_p5CyaETmH"
      }
    },
    {
      "cell_type": "code",
      "source": [
        "df_outlier.boxplot(figsize=(22,14))"
      ],
      "metadata": {
        "id": "bFrbSErWTs6m",
        "outputId": "07618d11-042a-4787-a81b-704e8fe8ce08",
        "colab": {
          "base_uri": "https://localhost:8080/",
          "height": 831
        }
      },
      "execution_count": null,
      "outputs": [
        {
          "output_type": "execute_result",
          "data": {
            "text/plain": [
              "<matplotlib.axes._subplots.AxesSubplot at 0x7efc95246410>"
            ]
          },
          "metadata": {},
          "execution_count": 194
        },
        {
          "output_type": "display_data",
          "data": {
            "text/plain": [
              "<Figure size 1584x1008 with 1 Axes>"
            ],
            "image/png": "[encoded data removed]"
          },
          "metadata": {}
        }
      ]
    },
    {
      "cell_type": "markdown",
      "source": [
        "# Parte 2: Responde las siguientes preguntas en una celda de texto en Jupyter Notebook\n",
        "\n",
        "1. ¿Cuál es el número de componentes mínimo y por qué?\n",
        "\n",
        "En nuestro análisis observamos que los primeros componentes tienen la mayor cantidad de proporción de varianza de datos. Siendo hasta el PCA 6 que tenemos una proporción acumulada del 80%.<br>\n",
        "Como lo recomendable con el método PCA es tener la mayor cantidad de componentes que sean significativos, tenemos que hasta PC9 se tiene una proporción acumulativa del 97%, lo que significa que se puede reducir el número de componentes de 14 a 9.<br>\n",
        "\n",
        "2. ¿Cuál es la variación de los datos que representan esos componentes?\n",
        "\n",
        "La variación de los datos que representan estos componentes es del 97%.<br>\n",
        "\n",
        "3.¿Cuál es la pérdida de información después de realizar PCA?\n",
        "\n",
        "Al ser la estandarización pieza clave en el método PCA, que nos brinda una mejor precisión de cuantos vectores principales son necesarios. Por lo que la cantidad de información que es capaz de capturar cada componente es explicada en proporción de la varianza, siendo así que estamos perdiendo un 3% de la proporción total de la varianza de datos.<br>\n",
        "\n",
        "4. De las variables originales, ¿Cuál tiene mayor y cuál tiene menor importancia en los componentes principales?\n",
        "\n",
        "Las variables que toman más importancia en relación con los componentes principales, son aquellas relacionadas al importe del estado de cuenta y el importe del pago anterior. Siendo X20 \"Amount paid in july 2005.” relacionada a PC7 la que contiene el mayor peso de 0.7852.<br>\n",
        "El componente PC3 es el que tiene menos proporción de varianza y está relacionado a su vez a la variable X5 con un peso de -0.8694. Siendo está la variable que menos importancia tiene en los componentes principales.<br>\n",
        "\n",
        "5. ¿Cuándo se recomienda realizar un PCA y qué beneficios ofrece para Machine Learning?\n",
        "\n",
        "El método PCA se recomienda que se utilice en casos, en donde se tengan una gran cantidad de variables y que sea necesario una reducción de la dimensionalidad de los datos, para un mejor ajuste a los modelos de predicción.\n"
      ],
      "metadata": {
        "id": "cPhdOaLNEzsQ"
      }
    },
    {
      "cell_type": "markdown",
      "source": [
        "# Referencias bibliográficas\n",
        "Aprende Machine Learning Staff. (2018, 8 octubre). *Comprende Principal Component Analysis*. Aprende Machine Learning. Recuperado 11 de octubre de 2022, de https://www.aprendemachinelearning.com/comprende-principal-component-analysis/\n",
        "\n",
        "Código Máquina. (2022, 4 julio). *Análisis de Componentes Principales y Reducción de Dimensionalidad Principal Component Analysis PCA*. YouTube. Recuperado 11 de octubre de 2022, de https://www.youtube.com/watch?v=x-7BHjMA15M\n",
        "\n",
        "Starmer, J. (2018, 2 abril). *StatQuest: Principal Component Analysis (PCA), Step-by-Step*. YouTube. Recuperado 11 de octubre de 2022, de https://www.youtube.com/watch?v=FgakZw6K1QQ\n",
        "\n",
        "Universitat Politècnica de València. (2021, 4 noviembre). *Varianza, Covarianza y Correlación*. YouTube. Recuperado 11 de octubre de 2022, de https://www.youtube.com/watch?v=6V9a4651WFw\n"
      ],
      "metadata": {
        "id": "sIKaDPSbMw16"
      }
    }
  ]
}
{
  "nbformat": 4,
  "nbformat_minor": 0,
  "metadata": {
    "colab": {
      "provenance": [],
      "include_colab_link": true
    },
    "kernelspec": {
      "name": "python3",
      "display_name": "Python 3"
    },
    "language_info": {
      "name": "python"
    }
  },
  "cells": [
    {
      "cell_type": "markdown",
      "metadata": {
        "id": "view-in-github",
        "colab_type": "text"
      },
      "source": [
        "<a href=\"https://colab.research.google.com/github/PosgradoMNA/actividades-del-projecto-equipo-48/blob/main/Actividad_Semanal_4.ipynb\" target=\"_parent\"><img src=\"https://colab.research.google.com/assets/colab-badge.svg\" alt=\"Open In Colab\"/></a>"
      ]
    },
    {
      "cell_type": "markdown",
      "source": [
        "# Equipo 48\n",
        "* Materia: Ciencia y Analítica de Datos.\n",
        "* Nombre de la entrega: Semana 3 Actividad 1.\n",
        "* Fecha: 10/10/2022.\n",
        "* Francisco Medellin Zertuche - A01794044.\n",
        "* Roberto Romero Vielma - A00822314\n",
        "* Profesor titular: Jobish Vallikavungal Devassia. \n",
        "* Profesor tutor: Roberto Antonio Guevara González.\n"
      ],
      "metadata": {
        "id": "SIon59qeEg-w"
      }
    },
    {
      "cell_type": "markdown",
      "source": [
        "Importamos la librería pandas"
      ],
      "metadata": {
        "id": "xUght0bj8HFO"
      }
    },
    {
      "cell_type": "code",
      "source": [
        "import pandas as pd"
      ],
      "metadata": {
        "id": "Duejh6Yj8IDV"
      },
      "execution_count": 23,
      "outputs": []
    },
    {
      "cell_type": "markdown",
      "source": [
        "Cargamos la base de datos con la función **pandas.read_csv**"
      ],
      "metadata": {
        "id": "UaaNZ79R8f6r"
      }
    },
    {
      "cell_type": "code",
      "source": [
        "df=pd.read_csv(\"https://raw.githubusercontent.com/PosgradoMNA/Actividades_Aprendizaje-/main/default%20of%20credit%20card%20clients.csv\")"
      ],
      "metadata": {
        "id": "dv0nKkLM8THM"
      },
      "execution_count": 24,
      "outputs": []
    },
    {
      "cell_type": "markdown",
      "source": [
        "Creamos un nuevo dataframe que sea copia del original, para eliminar los registros que se encuentran vacíos y verificar que esto no nos afecte para futuros análisis"
      ],
      "metadata": {
        "id": "bYxZq9NGvS04"
      }
    },
    {
      "cell_type": "code",
      "source": [
        "ndf=df.copy()\n",
        "ndf.dropna(inplace = True)\n",
        "ndf2= ndf.copy()"
      ],
      "metadata": {
        "id": "y5FYXqBvxjzT"
      },
      "execution_count": 25,
      "outputs": []
    },
    {
      "cell_type": "markdown",
      "source": [
        "Primero modificamos la columna X3 para quedarnos solamente con valores dentro de la categoría 4 (otros estudios)"
      ],
      "metadata": {
        "id": "3cvEIbVNx9Tx"
      }
    },
    {
      "cell_type": "code",
      "source": [
        "ndf2[\"X3\"] = ndf2[[\"X3\"]].replace([0,5,6],4)"
      ],
      "metadata": {
        "id": "wBImFLL_yHyW"
      },
      "execution_count": 26,
      "outputs": []
    },
    {
      "cell_type": "markdown",
      "source": [
        "Hacemos lo mismo con la columna X4 para reemplazar los valores 0 con 3 (Otros)"
      ],
      "metadata": {
        "id": "r2pwcAK7zOoP"
      }
    },
    {
      "cell_type": "code",
      "source": [
        "ndf2[\"X4\"]=ndf2[[\"X4\"]].replace(0,3)"
      ],
      "metadata": {
        "id": "v5ZIBBCvzc-c"
      },
      "execution_count": 27,
      "outputs": []
    },
    {
      "cell_type": "markdown",
      "source": [
        "Con las columnas X6 a X11 sustituimos el valor de -2 por -1 (Pago oportuno)"
      ],
      "metadata": {
        "id": "frXoGoMd0Atr"
      }
    },
    {
      "cell_type": "code",
      "source": [
        "slc = ndf2.loc[ : , \"X6\":\"X11\"]\n",
        "for c in slc.columns:\n",
        "  ndf2[c] = ndf2[[c]].replace(-2,-1)"
      ],
      "metadata": {
        "id": "SIpCWjyQ1hdP"
      },
      "execution_count": 28,
      "outputs": []
    },
    {
      "cell_type": "markdown",
      "source": [
        "Tal como se puede observar las columnas X6 a la X11 presentan otro valor que no se menciona en la documentación, el valor **0**, procedemos a reemplazarlo con **-1** dado que es muy probable que sea un error de captura"
      ],
      "metadata": {
        "id": "4Sa6gqJLi1Jz"
      }
    },
    {
      "cell_type": "code",
      "source": [
        "slc = ndf2.loc[ : , \"X6\":\"X11\"]\n",
        "for c in slc.columns:\n",
        "  ndf2[c] = ndf2[[c]].replace(0,-1)"
      ],
      "metadata": {
        "id": "-PlyJo3MkME2"
      },
      "execution_count": 29,
      "outputs": []
    },
    {
      "cell_type": "code",
      "source": [
        "df = ndf2.copy()"
      ],
      "metadata": {
        "id": "3SO81Ydi6bBI"
      },
      "execution_count": 32,
      "outputs": []
    },
    {
      "cell_type": "markdown",
      "source": [
        "# Parte 1: Ejercicio guiado \n"
      ],
      "metadata": {
        "id": "gAxtyIXzdAc3"
      }
    },
    {
      "cell_type": "markdown",
      "source": [
        "## Paso 1: \n",
        "Determina el número mínimo de componentes principales que representan la mayor parte de la variación en sus datos"
      ],
      "metadata": {
        "id": "pgwmWchJdNY0"
      }
    },
    {
      "cell_type": "code",
      "source": [
        "import pandas as pd\n",
        "import numpy as np\n",
        "\n",
        "from sklearn.decomposition import PCA\n",
        "from sklearn import preprocessing\n",
        "\n",
        "import matplotlib as mpl\n",
        "import matplotlib.pyplot as plt\n",
        "import seaborn as sns"
      ],
      "metadata": {
        "id": "7ax7cuOLdQwo"
      },
      "execution_count": 33,
      "outputs": []
    },
    {
      "cell_type": "code",
      "source": [
        "# Analisis rapido del DF\n",
        "df.head()"
      ],
      "metadata": {
        "colab": {
          "base_uri": "https://localhost:8080/",
          "height": 299
        },
        "id": "UzmG5wsJeN0y",
        "outputId": "634c4f48-4094-4321-afb2-0863690ffad2"
      },
      "execution_count": 35,
      "outputs": [
        {
          "output_type": "execute_result",
          "data": {
            "text/plain": [
              "   ID      X1   X2   X3   X4    X5   X6   X7   X8   X9  ...      X15      X16  \\\n",
              "0   1   20000  2.0  2.0  1.0  24.0  2.0  2.0 -1.0 -1.0  ...      0.0      0.0   \n",
              "1   2  120000  2.0  2.0  2.0  26.0 -1.0  2.0 -1.0 -1.0  ...   3272.0   3455.0   \n",
              "2   3   90000  2.0  2.0  2.0  34.0 -1.0 -1.0 -1.0 -1.0  ...  14331.0  14948.0   \n",
              "3   4   50000  2.0  2.0  1.0  37.0 -1.0 -1.0 -1.0 -1.0  ...  28314.0  28959.0   \n",
              "4   5   50000  1.0  2.0  1.0  57.0 -1.0 -1.0 -1.0 -1.0  ...  20940.0  19146.0   \n",
              "\n",
              "       X17     X18      X19      X20     X21     X22     X23    Y  \n",
              "0      0.0     0.0    689.0      0.0     0.0     0.0     0.0  1.0  \n",
              "1   3261.0     0.0   1000.0   1000.0  1000.0     0.0  2000.0  1.0  \n",
              "2  15549.0  1518.0   1500.0   1000.0  1000.0  1000.0  5000.0  0.0  \n",
              "3  29547.0  2000.0   2019.0   1200.0  1100.0  1069.0  1000.0  0.0  \n",
              "4  19131.0  2000.0  36681.0  10000.0  9000.0   689.0   679.0  0.0  \n",
              "\n",
              "[5 rows x 25 columns]"
            ],
            "text/html": [
              "\n",
              "  <div id=\"df-14325c23-0eec-4c92-88dc-97de18738357\">\n",
              "    <div class=\"colab-df-container\">\n",
              "      <div>\n",
              "<style scoped>\n",
              "    .dataframe tbody tr th:only-of-type {\n",
              "        vertical-align: middle;\n",
              "    }\n",
              "\n",
              "    .dataframe tbody tr th {\n",
              "        vertical-align: top;\n",
              "    }\n",
              "\n",
              "    .dataframe thead th {\n",
              "        text-align: right;\n",
              "    }\n",
              "</style>\n",
              "<table border=\"1\" class=\"dataframe\">\n",
              "  <thead>\n",
              "    <tr style=\"text-align: right;\">\n",
              "      <th></th>\n",
              "      <th>ID</th>\n",
              "      <th>X1</th>\n",
              "      <th>X2</th>\n",
              "      <th>X3</th>\n",
              "      <th>X4</th>\n",
              "      <th>X5</th>\n",
              "      <th>X6</th>\n",
              "      <th>X7</th>\n",
              "      <th>X8</th>\n",
              "      <th>X9</th>\n",
              "      <th>...</th>\n",
              "      <th>X15</th>\n",
              "      <th>X16</th>\n",
              "      <th>X17</th>\n",
              "      <th>X18</th>\n",
              "      <th>X19</th>\n",
              "      <th>X20</th>\n",
              "      <th>X21</th>\n",
              "      <th>X22</th>\n",
              "      <th>X23</th>\n",
              "      <th>Y</th>\n",
              "    </tr>\n",
              "  </thead>\n",
              "  <tbody>\n",
              "    <tr>\n",
              "      <th>0</th>\n",
              "      <td>1</td>\n",
              "      <td>20000</td>\n",
              "      <td>2.0</td>\n",
              "      <td>2.0</td>\n",
              "      <td>1.0</td>\n",
              "      <td>24.0</td>\n",
              "      <td>2.0</td>\n",
              "      <td>2.0</td>\n",
              "      <td>-1.0</td>\n",
              "      <td>-1.0</td>\n",
              "      <td>...</td>\n",
              "      <td>0.0</td>\n",
              "      <td>0.0</td>\n",
              "      <td>0.0</td>\n",
              "      <td>0.0</td>\n",
              "      <td>689.0</td>\n",
              "      <td>0.0</td>\n",
              "      <td>0.0</td>\n",
              "      <td>0.0</td>\n",
              "      <td>0.0</td>\n",
              "      <td>1.0</td>\n",
              "    </tr>\n",
              "    <tr>\n",
              "      <th>1</th>\n",
              "      <td>2</td>\n",
              "      <td>120000</td>\n",
              "      <td>2.0</td>\n",
              "      <td>2.0</td>\n",
              "      <td>2.0</td>\n",
              "      <td>26.0</td>\n",
              "      <td>-1.0</td>\n",
              "      <td>2.0</td>\n",
              "      <td>-1.0</td>\n",
              "      <td>-1.0</td>\n",
              "      <td>...</td>\n",
              "      <td>3272.0</td>\n",
              "      <td>3455.0</td>\n",
              "      <td>3261.0</td>\n",
              "      <td>0.0</td>\n",
              "      <td>1000.0</td>\n",
              "      <td>1000.0</td>\n",
              "      <td>1000.0</td>\n",
              "      <td>0.0</td>\n",
              "      <td>2000.0</td>\n",
              "      <td>1.0</td>\n",
              "    </tr>\n",
              "    <tr>\n",
              "      <th>2</th>\n",
              "      <td>3</td>\n",
              "      <td>90000</td>\n",
              "      <td>2.0</td>\n",
              "      <td>2.0</td>\n",
              "      <td>2.0</td>\n",
              "      <td>34.0</td>\n",
              "      <td>-1.0</td>\n",
              "      <td>-1.0</td>\n",
              "      <td>-1.0</td>\n",
              "      <td>-1.0</td>\n",
              "      <td>...</td>\n",
              "      <td>14331.0</td>\n",
              "      <td>14948.0</td>\n",
              "      <td>15549.0</td>\n",
              "      <td>1518.0</td>\n",
              "      <td>1500.0</td>\n",
              "      <td>1000.0</td>\n",
              "      <td>1000.0</td>\n",
              "      <td>1000.0</td>\n",
              "      <td>5000.0</td>\n",
              "      <td>0.0</td>\n",
              "    </tr>\n",
              "    <tr>\n",
              "      <th>3</th>\n",
              "      <td>4</td>\n",
              "      <td>50000</td>\n",
              "      <td>2.0</td>\n",
              "      <td>2.0</td>\n",
              "      <td>1.0</td>\n",
              "      <td>37.0</td>\n",
              "      <td>-1.0</td>\n",
              "      <td>-1.0</td>\n",
              "      <td>-1.0</td>\n",
              "      <td>-1.0</td>\n",
              "      <td>...</td>\n",
              "      <td>28314.0</td>\n",
              "      <td>28959.0</td>\n",
              "      <td>29547.0</td>\n",
              "      <td>2000.0</td>\n",
              "      <td>2019.0</td>\n",
              "      <td>1200.0</td>\n",
              "      <td>1100.0</td>\n",
              "      <td>1069.0</td>\n",
              "      <td>1000.0</td>\n",
              "      <td>0.0</td>\n",
              "    </tr>\n",
              "    <tr>\n",
              "      <th>4</th>\n",
              "      <td>5</td>\n",
              "      <td>50000</td>\n",
              "      <td>1.0</td>\n",
              "      <td>2.0</td>\n",
              "      <td>1.0</td>\n",
              "      <td>57.0</td>\n",
              "      <td>-1.0</td>\n",
              "      <td>-1.0</td>\n",
              "      <td>-1.0</td>\n",
              "      <td>-1.0</td>\n",
              "      <td>...</td>\n",
              "      <td>20940.0</td>\n",
              "      <td>19146.0</td>\n",
              "      <td>19131.0</td>\n",
              "      <td>2000.0</td>\n",
              "      <td>36681.0</td>\n",
              "      <td>10000.0</td>\n",
              "      <td>9000.0</td>\n",
              "      <td>689.0</td>\n",
              "      <td>679.0</td>\n",
              "      <td>0.0</td>\n",
              "    </tr>\n",
              "  </tbody>\n",
              "</table>\n",
              "<p>5 rows × 25 columns</p>\n",
              "</div>\n",
              "      <button class=\"colab-df-convert\" onclick=\"convertToInteractive('df-14325c23-0eec-4c92-88dc-97de18738357')\"\n",
              "              title=\"Convert this dataframe to an interactive table.\"\n",
              "              style=\"display:none;\">\n",
              "        \n",
              "  <svg xmlns=\"http://www.w3.org/2000/svg\" height=\"24px\"viewBox=\"0 0 24 24\"\n",
              "       width=\"24px\">\n",
              "    <path d=\"M0 0h24v24H0V0z\" fill=\"none\"/>\n",
              "    <path d=\"M18.56 5.44l.94 2.06.94-2.06 2.06-.94-2.06-.94-.94-2.06-.94 2.06-2.06.94zm-11 1L8.5 8.5l.94-2.06 2.06-.94-2.06-.94L8.5 2.5l-.94 2.06-2.06.94zm10 10l.94 2.06.94-2.06 2.06-.94-2.06-.94-.94-2.06-.94 2.06-2.06.94z\"/><path d=\"M17.41 7.96l-1.37-1.37c-.4-.4-.92-.59-1.43-.59-.52 0-1.04.2-1.43.59L10.3 9.45l-7.72 7.72c-.78.78-.78 2.05 0 2.83L4 21.41c.39.39.9.59 1.41.59.51 0 1.02-.2 1.41-.59l7.78-7.78 2.81-2.81c.8-.78.8-2.07 0-2.86zM5.41 20L4 18.59l7.72-7.72 1.47 1.35L5.41 20z\"/>\n",
              "  </svg>\n",
              "      </button>\n",
              "      \n",
              "  <style>\n",
              "    .colab-df-container {\n",
              "      display:flex;\n",
              "      flex-wrap:wrap;\n",
              "      gap: 12px;\n",
              "    }\n",
              "\n",
              "    .colab-df-convert {\n",
              "      background-color: #E8F0FE;\n",
              "      border: none;\n",
              "      border-radius: 50%;\n",
              "      cursor: pointer;\n",
              "      display: none;\n",
              "      fill: #1967D2;\n",
              "      height: 32px;\n",
              "      padding: 0 0 0 0;\n",
              "      width: 32px;\n",
              "    }\n",
              "\n",
              "    .colab-df-convert:hover {\n",
              "      background-color: #E2EBFA;\n",
              "      box-shadow: 0px 1px 2px rgba(60, 64, 67, 0.3), 0px 1px 3px 1px rgba(60, 64, 67, 0.15);\n",
              "      fill: #174EA6;\n",
              "    }\n",
              "\n",
              "    [theme=dark] .colab-df-convert {\n",
              "      background-color: #3B4455;\n",
              "      fill: #D2E3FC;\n",
              "    }\n",
              "\n",
              "    [theme=dark] .colab-df-convert:hover {\n",
              "      background-color: #434B5C;\n",
              "      box-shadow: 0px 1px 3px 1px rgba(0, 0, 0, 0.15);\n",
              "      filter: drop-shadow(0px 1px 2px rgba(0, 0, 0, 0.3));\n",
              "      fill: #FFFFFF;\n",
              "    }\n",
              "  </style>\n",
              "\n",
              "      <script>\n",
              "        const buttonEl =\n",
              "          document.querySelector('#df-14325c23-0eec-4c92-88dc-97de18738357 button.colab-df-convert');\n",
              "        buttonEl.style.display =\n",
              "          google.colab.kernel.accessAllowed ? 'block' : 'none';\n",
              "\n",
              "        async function convertToInteractive(key) {\n",
              "          const element = document.querySelector('#df-14325c23-0eec-4c92-88dc-97de18738357');\n",
              "          const dataTable =\n",
              "            await google.colab.kernel.invokeFunction('convertToInteractive',\n",
              "                                                     [key], {});\n",
              "          if (!dataTable) return;\n",
              "\n",
              "          const docLinkHtml = 'Like what you see? Visit the ' +\n",
              "            '<a target=\"_blank\" href=https://colab.research.google.com/notebooks/data_table.ipynb>data table notebook</a>'\n",
              "            + ' to learn more about interactive tables.';\n",
              "          element.innerHTML = '';\n",
              "          dataTable['output_type'] = 'display_data';\n",
              "          await google.colab.output.renderOutput(dataTable, element);\n",
              "          const docLink = document.createElement('div');\n",
              "          docLink.innerHTML = docLinkHtml;\n",
              "          element.appendChild(docLink);\n",
              "        }\n",
              "      </script>\n",
              "    </div>\n",
              "  </div>\n",
              "  "
            ]
          },
          "metadata": {},
          "execution_count": 35
        }
      ]
    },
    {
      "cell_type": "markdown",
      "source": [
        "Verificamos que solo tenemos variables cuantitativas numericas."
      ],
      "metadata": {
        "id": "La3R8IW3faNl"
      }
    },
    {
      "cell_type": "code",
      "source": [
        "df.info()"
      ],
      "metadata": {
        "colab": {
          "base_uri": "https://localhost:8080/"
        },
        "id": "X4TwKCiRfBvN",
        "outputId": "03c310d1-2120-4a05-fde4-2ee12cdc9c12"
      },
      "execution_count": 36,
      "outputs": [
        {
          "output_type": "stream",
          "name": "stdout",
          "text": [
            "<class 'pandas.core.frame.DataFrame'>\n",
            "Int64Index: 29958 entries, 0 to 29999\n",
            "Data columns (total 25 columns):\n",
            " #   Column  Non-Null Count  Dtype  \n",
            "---  ------  --------------  -----  \n",
            " 0   ID      29958 non-null  int64  \n",
            " 1   X1      29958 non-null  int64  \n",
            " 2   X2      29958 non-null  float64\n",
            " 3   X3      29958 non-null  float64\n",
            " 4   X4      29958 non-null  float64\n",
            " 5   X5      29958 non-null  float64\n",
            " 6   X6      29958 non-null  float64\n",
            " 7   X7      29958 non-null  float64\n",
            " 8   X8      29958 non-null  float64\n",
            " 9   X9      29958 non-null  float64\n",
            " 10  X10     29958 non-null  float64\n",
            " 11  X11     29958 non-null  float64\n",
            " 12  X12     29958 non-null  float64\n",
            " 13  X13     29958 non-null  float64\n",
            " 14  X14     29958 non-null  float64\n",
            " 15  X15     29958 non-null  float64\n",
            " 16  X16     29958 non-null  float64\n",
            " 17  X17     29958 non-null  float64\n",
            " 18  X18     29958 non-null  float64\n",
            " 19  X19     29958 non-null  float64\n",
            " 20  X20     29958 non-null  float64\n",
            " 21  X21     29958 non-null  float64\n",
            " 22  X22     29958 non-null  float64\n",
            " 23  X23     29958 non-null  float64\n",
            " 24  Y       29958 non-null  float64\n",
            "dtypes: float64(23), int64(2)\n",
            "memory usage: 5.9 MB\n"
          ]
        }
      ]
    },
    {
      "cell_type": "markdown",
      "source": [
        "El método preprocessing nos sirve para estandarizar el data frame.<br>\n",
        "La estandarización de los datos es un paso requerido para el metodo PCA.<br>\n",
        "Al estandarizar, la media de todos los datos será 0 con un rango de -1 a 1. <br>"
      ],
      "metadata": {
        "id": "D-cZT1KOgNCq"
      }
    },
    {
      "cell_type": "code",
      "source": [
        "# Recordatorio: asegurarse de limpiar el df, aqui el df ya ha sido limpiado.\n",
        "pcs = PCA()\n",
        "pcs.fit(preprocessing.scale(df)) "
      ],
      "metadata": {
        "colab": {
          "base_uri": "https://localhost:8080/"
        },
        "id": "UZ_hNDF1fPgi",
        "outputId": "81597e7d-6dc8-469f-87d3-fbe9f78cddf6"
      },
      "execution_count": 37,
      "outputs": [
        {
          "output_type": "execute_result",
          "data": {
            "text/plain": [
              "PCA()"
            ]
          },
          "metadata": {},
          "execution_count": 37
        }
      ]
    },
    {
      "cell_type": "markdown",
      "source": [
        "La estandarización nos sirve para evitar grandes varianzas entre los componente principales, además de que elimina la mayoría de los outliers dentro del dataset"
      ],
      "metadata": {
        "id": "kbmnCOmWgklC"
      }
    },
    {
      "cell_type": "markdown",
      "source": [
        "Analizamos la desviacion estandar, la varianza y la proporcion acumulativa de varianza de los  PCA's."
      ],
      "metadata": {
        "id": "brFf_GGIhHgc"
      }
    },
    {
      "cell_type": "code",
      "source": [
        "pcsSummary_df = pd.DataFrame({'Desviación estándar': np.sqrt(pcs.explained_variance_),\n",
        "                             'Proporción de la varianza': pcs.explained_variance_ratio_,\n",
        "                             'Proporción acumulativa': np.cumsum(pcs.explained_variance_ratio_)\n",
        "                             })\n",
        "\n",
        "pcsSummary_df = pcsSummary_df.transpose()\n",
        "pcsSummary_df.columns = ['PC{}'.format(i) for i in range(1, len(pcsSummary_df.columns) + 1)]\n",
        "pcsSummary_df.round(4) "
      ],
      "metadata": {
        "colab": {
          "base_uri": "https://localhost:8080/",
          "height": 306
        },
        "id": "7LYyYpCSgMZ3",
        "outputId": "d76c2cd3-11de-4d1b-dd59-07d348aab8c7"
      },
      "execution_count": 38,
      "outputs": [
        {
          "output_type": "execute_result",
          "data": {
            "text/plain": [
              "                              PC1     PC2     PC3     PC4     PC5     PC6  \\\n",
              "Desviación estándar        2.4356  2.0112  1.2854  1.2330  1.0328  1.0126   \n",
              "Proporción de la varianza  0.2373  0.1618  0.0661  0.0608  0.0427  0.0410   \n",
              "Proporción acumulativa     0.2373  0.3991  0.4652  0.5260  0.5686  0.6097   \n",
              "\n",
              "                              PC7     PC8     PC9    PC10  ...    PC16  \\\n",
              "Desviación estándar        1.0033  0.9913  0.9470  0.9402  ...  0.7309   \n",
              "Proporción de la varianza  0.0403  0.0393  0.0359  0.0354  ...  0.0214   \n",
              "Proporción acumulativa     0.6499  0.6892  0.7251  0.7605  ...  0.9307   \n",
              "\n",
              "                             PC17    PC18    PC19    PC20    PC21    PC22  \\\n",
              "Desviación estándar        0.7078  0.5972  0.5130  0.4970  0.4530  0.2657   \n",
              "Proporción de la varianza  0.0200  0.0143  0.0105  0.0099  0.0082  0.0028   \n",
              "Proporción acumulativa     0.9507  0.9650  0.9755  0.9854  0.9936  0.9964   \n",
              "\n",
              "                             PC23    PC24    PC25  \n",
              "Desviación estándar        0.2025  0.1588  0.1524  \n",
              "Proporción de la varianza  0.0016  0.0010  0.0009  \n",
              "Proporción acumulativa     0.9981  0.9991  1.0000  \n",
              "\n",
              "[3 rows x 25 columns]"
            ],
            "text/html": [
              "\n",
              "  <div id=\"df-968fc43e-2bad-4ff4-9ca1-caaa2a3cd28a\">\n",
              "    <div class=\"colab-df-container\">\n",
              "      <div>\n",
              "<style scoped>\n",
              "    .dataframe tbody tr th:only-of-type {\n",
              "        vertical-align: middle;\n",
              "    }\n",
              "\n",
              "    .dataframe tbody tr th {\n",
              "        vertical-align: top;\n",
              "    }\n",
              "\n",
              "    .dataframe thead th {\n",
              "        text-align: right;\n",
              "    }\n",
              "</style>\n",
              "<table border=\"1\" class=\"dataframe\">\n",
              "  <thead>\n",
              "    <tr style=\"text-align: right;\">\n",
              "      <th></th>\n",
              "      <th>PC1</th>\n",
              "      <th>PC2</th>\n",
              "      <th>PC3</th>\n",
              "      <th>PC4</th>\n",
              "      <th>PC5</th>\n",
              "      <th>PC6</th>\n",
              "      <th>PC7</th>\n",
              "      <th>PC8</th>\n",
              "      <th>PC9</th>\n",
              "      <th>PC10</th>\n",
              "      <th>...</th>\n",
              "      <th>PC16</th>\n",
              "      <th>PC17</th>\n",
              "      <th>PC18</th>\n",
              "      <th>PC19</th>\n",
              "      <th>PC20</th>\n",
              "      <th>PC21</th>\n",
              "      <th>PC22</th>\n",
              "      <th>PC23</th>\n",
              "      <th>PC24</th>\n",
              "      <th>PC25</th>\n",
              "    </tr>\n",
              "  </thead>\n",
              "  <tbody>\n",
              "    <tr>\n",
              "      <th>Desviación estándar</th>\n",
              "      <td>2.4356</td>\n",
              "      <td>2.0112</td>\n",
              "      <td>1.2854</td>\n",
              "      <td>1.2330</td>\n",
              "      <td>1.0328</td>\n",
              "      <td>1.0126</td>\n",
              "      <td>1.0033</td>\n",
              "      <td>0.9913</td>\n",
              "      <td>0.9470</td>\n",
              "      <td>0.9402</td>\n",
              "      <td>...</td>\n",
              "      <td>0.7309</td>\n",
              "      <td>0.7078</td>\n",
              "      <td>0.5972</td>\n",
              "      <td>0.5130</td>\n",
              "      <td>0.4970</td>\n",
              "      <td>0.4530</td>\n",
              "      <td>0.2657</td>\n",
              "      <td>0.2025</td>\n",
              "      <td>0.1588</td>\n",
              "      <td>0.1524</td>\n",
              "    </tr>\n",
              "    <tr>\n",
              "      <th>Proporción de la varianza</th>\n",
              "      <td>0.2373</td>\n",
              "      <td>0.1618</td>\n",
              "      <td>0.0661</td>\n",
              "      <td>0.0608</td>\n",
              "      <td>0.0427</td>\n",
              "      <td>0.0410</td>\n",
              "      <td>0.0403</td>\n",
              "      <td>0.0393</td>\n",
              "      <td>0.0359</td>\n",
              "      <td>0.0354</td>\n",
              "      <td>...</td>\n",
              "      <td>0.0214</td>\n",
              "      <td>0.0200</td>\n",
              "      <td>0.0143</td>\n",
              "      <td>0.0105</td>\n",
              "      <td>0.0099</td>\n",
              "      <td>0.0082</td>\n",
              "      <td>0.0028</td>\n",
              "      <td>0.0016</td>\n",
              "      <td>0.0010</td>\n",
              "      <td>0.0009</td>\n",
              "    </tr>\n",
              "    <tr>\n",
              "      <th>Proporción acumulativa</th>\n",
              "      <td>0.2373</td>\n",
              "      <td>0.3991</td>\n",
              "      <td>0.4652</td>\n",
              "      <td>0.5260</td>\n",
              "      <td>0.5686</td>\n",
              "      <td>0.6097</td>\n",
              "      <td>0.6499</td>\n",
              "      <td>0.6892</td>\n",
              "      <td>0.7251</td>\n",
              "      <td>0.7605</td>\n",
              "      <td>...</td>\n",
              "      <td>0.9307</td>\n",
              "      <td>0.9507</td>\n",
              "      <td>0.9650</td>\n",
              "      <td>0.9755</td>\n",
              "      <td>0.9854</td>\n",
              "      <td>0.9936</td>\n",
              "      <td>0.9964</td>\n",
              "      <td>0.9981</td>\n",
              "      <td>0.9991</td>\n",
              "      <td>1.0000</td>\n",
              "    </tr>\n",
              "  </tbody>\n",
              "</table>\n",
              "<p>3 rows × 25 columns</p>\n",
              "</div>\n",
              "      <button class=\"colab-df-convert\" onclick=\"convertToInteractive('df-968fc43e-2bad-4ff4-9ca1-caaa2a3cd28a')\"\n",
              "              title=\"Convert this dataframe to an interactive table.\"\n",
              "              style=\"display:none;\">\n",
              "        \n",
              "  <svg xmlns=\"http://www.w3.org/2000/svg\" height=\"24px\"viewBox=\"0 0 24 24\"\n",
              "       width=\"24px\">\n",
              "    <path d=\"M0 0h24v24H0V0z\" fill=\"none\"/>\n",
              "    <path d=\"M18.56 5.44l.94 2.06.94-2.06 2.06-.94-2.06-.94-.94-2.06-.94 2.06-2.06.94zm-11 1L8.5 8.5l.94-2.06 2.06-.94-2.06-.94L8.5 2.5l-.94 2.06-2.06.94zm10 10l.94 2.06.94-2.06 2.06-.94-2.06-.94-.94-2.06-.94 2.06-2.06.94z\"/><path d=\"M17.41 7.96l-1.37-1.37c-.4-.4-.92-.59-1.43-.59-.52 0-1.04.2-1.43.59L10.3 9.45l-7.72 7.72c-.78.78-.78 2.05 0 2.83L4 21.41c.39.39.9.59 1.41.59.51 0 1.02-.2 1.41-.59l7.78-7.78 2.81-2.81c.8-.78.8-2.07 0-2.86zM5.41 20L4 18.59l7.72-7.72 1.47 1.35L5.41 20z\"/>\n",
              "  </svg>\n",
              "      </button>\n",
              "      \n",
              "  <style>\n",
              "    .colab-df-container {\n",
              "      display:flex;\n",
              "      flex-wrap:wrap;\n",
              "      gap: 12px;\n",
              "    }\n",
              "\n",
              "    .colab-df-convert {\n",
              "      background-color: #E8F0FE;\n",
              "      border: none;\n",
              "      border-radius: 50%;\n",
              "      cursor: pointer;\n",
              "      display: none;\n",
              "      fill: #1967D2;\n",
              "      height: 32px;\n",
              "      padding: 0 0 0 0;\n",
              "      width: 32px;\n",
              "    }\n",
              "\n",
              "    .colab-df-convert:hover {\n",
              "      background-color: #E2EBFA;\n",
              "      box-shadow: 0px 1px 2px rgba(60, 64, 67, 0.3), 0px 1px 3px 1px rgba(60, 64, 67, 0.15);\n",
              "      fill: #174EA6;\n",
              "    }\n",
              "\n",
              "    [theme=dark] .colab-df-convert {\n",
              "      background-color: #3B4455;\n",
              "      fill: #D2E3FC;\n",
              "    }\n",
              "\n",
              "    [theme=dark] .colab-df-convert:hover {\n",
              "      background-color: #434B5C;\n",
              "      box-shadow: 0px 1px 3px 1px rgba(0, 0, 0, 0.15);\n",
              "      filter: drop-shadow(0px 1px 2px rgba(0, 0, 0, 0.3));\n",
              "      fill: #FFFFFF;\n",
              "    }\n",
              "  </style>\n",
              "\n",
              "      <script>\n",
              "        const buttonEl =\n",
              "          document.querySelector('#df-968fc43e-2bad-4ff4-9ca1-caaa2a3cd28a button.colab-df-convert');\n",
              "        buttonEl.style.display =\n",
              "          google.colab.kernel.accessAllowed ? 'block' : 'none';\n",
              "\n",
              "        async function convertToInteractive(key) {\n",
              "          const element = document.querySelector('#df-968fc43e-2bad-4ff4-9ca1-caaa2a3cd28a');\n",
              "          const dataTable =\n",
              "            await google.colab.kernel.invokeFunction('convertToInteractive',\n",
              "                                                     [key], {});\n",
              "          if (!dataTable) return;\n",
              "\n",
              "          const docLinkHtml = 'Like what you see? Visit the ' +\n",
              "            '<a target=\"_blank\" href=https://colab.research.google.com/notebooks/data_table.ipynb>data table notebook</a>'\n",
              "            + ' to learn more about interactive tables.';\n",
              "          element.innerHTML = '';\n",
              "          dataTable['output_type'] = 'display_data';\n",
              "          await google.colab.output.renderOutput(dataTable, element);\n",
              "          const docLink = document.createElement('div');\n",
              "          docLink.innerHTML = docLinkHtml;\n",
              "          element.appendChild(docLink);\n",
              "        }\n",
              "      </script>\n",
              "    </div>\n",
              "  </div>\n",
              "  "
            ]
          },
          "metadata": {},
          "execution_count": 38
        }
      ]
    },
    {
      "cell_type": "code",
      "source": [],
      "metadata": {
        "id": "yqH5Sq7KhGiI"
      },
      "execution_count": null,
      "outputs": []
    }
  ]
}
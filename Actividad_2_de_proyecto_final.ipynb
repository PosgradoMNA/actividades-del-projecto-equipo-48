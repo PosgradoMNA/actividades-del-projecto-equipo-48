{
  "nbformat": 4,
  "nbformat_minor": 0,
  "metadata": {
    "colab": {
      "provenance": [],
      "collapsed_sections": [],
      "include_colab_link": true
    },
    "kernelspec": {
      "name": "python3",
      "display_name": "Python 3"
    },
    "language_info": {
      "name": "python"
    }
  },
  "cells": [
    {
      "cell_type": "markdown",
      "metadata": {
        "id": "view-in-github",
        "colab_type": "text"
      },
      "source": [
        "<a href=\"https://colab.research.google.com/github/PosgradoMNA/actividades-del-projecto-equipo-48/blob/main/Actividad_2_de_proyecto_final.ipynb\" target=\"_parent\"><img src=\"https://colab.research.google.com/assets/colab-badge.svg\" alt=\"Open In Colab\"/></a>"
      ]
    },
    {
      "cell_type": "markdown",
      "source": [
        "**Nombre  y datos de los integrantes del equipo:**\n",
        "* Roberto Romero Vielma | Matrícula: A00822314 | Github ID: #104024024\n",
        "* Franciso Medellín Zertuche | Matrícula: A01794044 | Github ID: #63127790\n"
      ],
      "metadata": {
        "id": "y820ljQltdjV"
      }
    },
    {
      "cell_type": "markdown",
      "source": [
        "## Instrucciones\n",
        "\n",
        "* Identificar una metodología que vas a usar durante la realización del proyecto.\n",
        "* Escribe los pasos estándares en un máximo de 3 oraciones, por cada fase.\n",
        "* Documenta el proceso en jupyter notebook.\n",
        "\n",
        "Algunos aspectos a tener en cuenta al tomar decisiones:\n",
        "\n",
        "* Una metodología sencilla, que puedan usar en su proyecto. \n",
        "* Crear / dibujar una metodología posible  usando las herramientas en miro.com.  "
      ],
      "metadata": {
        "id": "GMgHHcBFQpM3"
      }
    },
    {
      "cell_type": "markdown",
      "source": [
        "## Metodologia a utilizar\n",
        "CRISP-DM."
      ],
      "metadata": {
        "id": "sIUnfzzTRphx"
      }
    },
    {
      "cell_type": "markdown",
      "source": [
        "## Pasos Estandares:\n",
        "\n",
        "* Business Understanding: Analisis centrado en los objetivos y requerimientos desde una perspectiva del negocio. Definir cuales son los objetivos del negocio. Producir un plan de proyecto.\n",
        "\n",
        "* Data Understanding: Fase incial de coleccion de datos. Tnemos los primeros vistazos en los datos y verificamos la calidad de los datos. Descripcion inicial de los datos. \n",
        "\n",
        "* Data Preparation: Seleccion de datos a utilizar.Limpieza de datos. Como organizaremos e integraremos los datos necesarios para el modelo.\n",
        "\n",
        "* Modeling: Seleccion de la tecnica de modelado. Validar requerimientos de datos para el modelo seleccionado. Se puede presentar un ciclo regresando al paso de \"Data Preparation\".\n",
        "\n",
        "* Evaluation: Evaluacion de resultados. Medicion del alcanze del modelo y si cumple con los objetivos de la empresa. Seleccion del modelo campeon.\n",
        "\n",
        "* Deployment: Forma en que los stakeholders  tendran acceso a los resultados. Despliegue del moelo en un sistema operativo. Planeacion del monitoreo y mantenimiento del modelo."
      ],
      "metadata": {
        "id": "q7B3SC30R8Bo"
      }
    },
    {
      "cell_type": "markdown",
      "source": [
        "## Diagrama de la metodologia."
      ],
      "metadata": {
        "id": "P4zAgiOTV2Qr"
      }
    },
    {
      "cell_type": "code",
      "source": [],
      "metadata": {
        "id": "E1vP54ivQ6pj"
      },
      "execution_count": null,
      "outputs": []
    }
  ]
}
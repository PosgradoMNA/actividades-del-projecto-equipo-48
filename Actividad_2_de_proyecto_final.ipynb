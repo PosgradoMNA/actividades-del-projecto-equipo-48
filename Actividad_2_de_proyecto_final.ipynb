{
  "nbformat": 4,
  "nbformat_minor": 0,
  "metadata": {
    "colab": {
      "provenance": [],
      "collapsed_sections": [],
      "include_colab_link": true
    },
    "kernelspec": {
      "name": "python3",
      "display_name": "Python 3"
    },
    "language_info": {
      "name": "python"
    }
  },
  "cells": [
    {
      "cell_type": "markdown",
      "metadata": {
        "id": "view-in-github",
        "colab_type": "text"
      },
      "source": [
        "<a href=\"https://colab.research.google.com/github/PosgradoMNA/actividades-del-projecto-equipo-48/blob/main/Actividad_2_de_proyecto_final.ipynb\" target=\"_parent\"><img src=\"https://colab.research.google.com/assets/colab-badge.svg\" alt=\"Open In Colab\"/></a>"
      ]
    },
    {
      "cell_type": "markdown",
      "source": [
        "**Nombre  y datos de los integrantes del equipo:**\n",
        "* Roberto Romero Vielma | Matrícula: A00822314 | Github ID: #104024024\n",
        "* Franciso Medellín Zertuche | Matrícula: A01794044 | Github ID: #63127790\n"
      ],
      "metadata": {
        "id": "y820ljQltdjV"
      }
    },
    {
      "cell_type": "markdown",
      "source": [
        "#**Conjunto de datos a utilizar en el proyecto**\n",
        "La problemática que se quiere conocer es de tipo de social, en este caso referente al crimen en México, a continuación se muestra la base de datos:"
      ],
      "metadata": {
        "id": "_VrYC-D1lokE"
      }
    },
    {
      "cell_type": "code",
      "source": [
        "import pandas as pd\n",
        "file=\"https://raw.githubusercontent.com/PosgradoMNA/actividades-del-projecto-equipo-48/main/IDEFC_NM_may22.csv\"\n",
        "df=pd.read_csv(file, encoding='latin-1')"
      ],
      "metadata": {
        "id": "5Nj9bckulnMm"
      },
      "execution_count": null,
      "outputs": []
    },
    {
      "cell_type": "code",
      "source": [
        "df.head()"
      ],
      "metadata": {
        "id": "DzF9uR5Lmbbd",
        "outputId": "719cd4f3-a933-4993-b6e1-482f752e0438",
        "colab": {
          "base_uri": "https://localhost:8080/",
          "height": 458
        }
      },
      "execution_count": null,
      "outputs": [
        {
          "output_type": "execute_result",
          "data": {
            "text/plain": [
              "    Año  Clave_Ent         Entidad            Bien jurídico afectado  \\\n",
              "0  2015          1  Aguascalientes  La vida y la Integridad corporal   \n",
              "1  2015          1  Aguascalientes  La vida y la Integridad corporal   \n",
              "2  2015          1  Aguascalientes  La vida y la Integridad corporal   \n",
              "3  2015          1  Aguascalientes  La vida y la Integridad corporal   \n",
              "4  2015          1  Aguascalientes  La vida y la Integridad corporal   \n",
              "\n",
              "  Tipo de delito  Subtipo de delito          Modalidad  Enero  Febrero  Marzo  \\\n",
              "0      Homicidio   Homicidio doloso  Con arma de fuego      3        0      2   \n",
              "1      Homicidio   Homicidio doloso    Con arma blanca      1        1      0   \n",
              "2      Homicidio   Homicidio doloso  Con otro elemento      0        0      2   \n",
              "3      Homicidio   Homicidio doloso    No especificado      2        0      0   \n",
              "4      Homicidio  Homicidio culposo  Con arma de fuego      0        0      0   \n",
              "\n",
              "   Abril  Mayo  Junio  Julio  Agosto  Septiembre  Octubre  Noviembre  \\\n",
              "0      1     1    1.0    2.0     1.0         2.0      2.0        2.0   \n",
              "1      0     0    1.0    0.0     1.0         0.0      0.0        0.0   \n",
              "2      2     3    2.0    0.0     1.0         2.0      0.0        0.0   \n",
              "3      1     0    0.0    0.0     0.0         0.0      0.0        0.0   \n",
              "4      0     1    0.0    0.0     0.0         0.0      0.0        0.0   \n",
              "\n",
              "   Diciembre  \n",
              "0        1.0  \n",
              "1        1.0  \n",
              "2        0.0  \n",
              "3        0.0  \n",
              "4        0.0  "
            ],
            "text/html": [
              "\n",
              "  <div id=\"df-b9661e97-6856-4a52-ac26-947553c6ca7f\">\n",
              "    <div class=\"colab-df-container\">\n",
              "      <div>\n",
              "<style scoped>\n",
              "    .dataframe tbody tr th:only-of-type {\n",
              "        vertical-align: middle;\n",
              "    }\n",
              "\n",
              "    .dataframe tbody tr th {\n",
              "        vertical-align: top;\n",
              "    }\n",
              "\n",
              "    .dataframe thead th {\n",
              "        text-align: right;\n",
              "    }\n",
              "</style>\n",
              "<table border=\"1\" class=\"dataframe\">\n",
              "  <thead>\n",
              "    <tr style=\"text-align: right;\">\n",
              "      <th></th>\n",
              "      <th>Año</th>\n",
              "      <th>Clave_Ent</th>\n",
              "      <th>Entidad</th>\n",
              "      <th>Bien jurídico afectado</th>\n",
              "      <th>Tipo de delito</th>\n",
              "      <th>Subtipo de delito</th>\n",
              "      <th>Modalidad</th>\n",
              "      <th>Enero</th>\n",
              "      <th>Febrero</th>\n",
              "      <th>Marzo</th>\n",
              "      <th>Abril</th>\n",
              "      <th>Mayo</th>\n",
              "      <th>Junio</th>\n",
              "      <th>Julio</th>\n",
              "      <th>Agosto</th>\n",
              "      <th>Septiembre</th>\n",
              "      <th>Octubre</th>\n",
              "      <th>Noviembre</th>\n",
              "      <th>Diciembre</th>\n",
              "    </tr>\n",
              "  </thead>\n",
              "  <tbody>\n",
              "    <tr>\n",
              "      <th>0</th>\n",
              "      <td>2015</td>\n",
              "      <td>1</td>\n",
              "      <td>Aguascalientes</td>\n",
              "      <td>La vida y la Integridad corporal</td>\n",
              "      <td>Homicidio</td>\n",
              "      <td>Homicidio doloso</td>\n",
              "      <td>Con arma de fuego</td>\n",
              "      <td>3</td>\n",
              "      <td>0</td>\n",
              "      <td>2</td>\n",
              "      <td>1</td>\n",
              "      <td>1</td>\n",
              "      <td>1.0</td>\n",
              "      <td>2.0</td>\n",
              "      <td>1.0</td>\n",
              "      <td>2.0</td>\n",
              "      <td>2.0</td>\n",
              "      <td>2.0</td>\n",
              "      <td>1.0</td>\n",
              "    </tr>\n",
              "    <tr>\n",
              "      <th>1</th>\n",
              "      <td>2015</td>\n",
              "      <td>1</td>\n",
              "      <td>Aguascalientes</td>\n",
              "      <td>La vida y la Integridad corporal</td>\n",
              "      <td>Homicidio</td>\n",
              "      <td>Homicidio doloso</td>\n",
              "      <td>Con arma blanca</td>\n",
              "      <td>1</td>\n",
              "      <td>1</td>\n",
              "      <td>0</td>\n",
              "      <td>0</td>\n",
              "      <td>0</td>\n",
              "      <td>1.0</td>\n",
              "      <td>0.0</td>\n",
              "      <td>1.0</td>\n",
              "      <td>0.0</td>\n",
              "      <td>0.0</td>\n",
              "      <td>0.0</td>\n",
              "      <td>1.0</td>\n",
              "    </tr>\n",
              "    <tr>\n",
              "      <th>2</th>\n",
              "      <td>2015</td>\n",
              "      <td>1</td>\n",
              "      <td>Aguascalientes</td>\n",
              "      <td>La vida y la Integridad corporal</td>\n",
              "      <td>Homicidio</td>\n",
              "      <td>Homicidio doloso</td>\n",
              "      <td>Con otro elemento</td>\n",
              "      <td>0</td>\n",
              "      <td>0</td>\n",
              "      <td>2</td>\n",
              "      <td>2</td>\n",
              "      <td>3</td>\n",
              "      <td>2.0</td>\n",
              "      <td>0.0</td>\n",
              "      <td>1.0</td>\n",
              "      <td>2.0</td>\n",
              "      <td>0.0</td>\n",
              "      <td>0.0</td>\n",
              "      <td>0.0</td>\n",
              "    </tr>\n",
              "    <tr>\n",
              "      <th>3</th>\n",
              "      <td>2015</td>\n",
              "      <td>1</td>\n",
              "      <td>Aguascalientes</td>\n",
              "      <td>La vida y la Integridad corporal</td>\n",
              "      <td>Homicidio</td>\n",
              "      <td>Homicidio doloso</td>\n",
              "      <td>No especificado</td>\n",
              "      <td>2</td>\n",
              "      <td>0</td>\n",
              "      <td>0</td>\n",
              "      <td>1</td>\n",
              "      <td>0</td>\n",
              "      <td>0.0</td>\n",
              "      <td>0.0</td>\n",
              "      <td>0.0</td>\n",
              "      <td>0.0</td>\n",
              "      <td>0.0</td>\n",
              "      <td>0.0</td>\n",
              "      <td>0.0</td>\n",
              "    </tr>\n",
              "    <tr>\n",
              "      <th>4</th>\n",
              "      <td>2015</td>\n",
              "      <td>1</td>\n",
              "      <td>Aguascalientes</td>\n",
              "      <td>La vida y la Integridad corporal</td>\n",
              "      <td>Homicidio</td>\n",
              "      <td>Homicidio culposo</td>\n",
              "      <td>Con arma de fuego</td>\n",
              "      <td>0</td>\n",
              "      <td>0</td>\n",
              "      <td>0</td>\n",
              "      <td>0</td>\n",
              "      <td>1</td>\n",
              "      <td>0.0</td>\n",
              "      <td>0.0</td>\n",
              "      <td>0.0</td>\n",
              "      <td>0.0</td>\n",
              "      <td>0.0</td>\n",
              "      <td>0.0</td>\n",
              "      <td>0.0</td>\n",
              "    </tr>\n",
              "  </tbody>\n",
              "</table>\n",
              "</div>\n",
              "      <button class=\"colab-df-convert\" onclick=\"convertToInteractive('df-b9661e97-6856-4a52-ac26-947553c6ca7f')\"\n",
              "              title=\"Convert this dataframe to an interactive table.\"\n",
              "              style=\"display:none;\">\n",
              "        \n",
              "  <svg xmlns=\"http://www.w3.org/2000/svg\" height=\"24px\"viewBox=\"0 0 24 24\"\n",
              "       width=\"24px\">\n",
              "    <path d=\"M0 0h24v24H0V0z\" fill=\"none\"/>\n",
              "    <path d=\"M18.56 5.44l.94 2.06.94-2.06 2.06-.94-2.06-.94-.94-2.06-.94 2.06-2.06.94zm-11 1L8.5 8.5l.94-2.06 2.06-.94-2.06-.94L8.5 2.5l-.94 2.06-2.06.94zm10 10l.94 2.06.94-2.06 2.06-.94-2.06-.94-.94-2.06-.94 2.06-2.06.94z\"/><path d=\"M17.41 7.96l-1.37-1.37c-.4-.4-.92-.59-1.43-.59-.52 0-1.04.2-1.43.59L10.3 9.45l-7.72 7.72c-.78.78-.78 2.05 0 2.83L4 21.41c.39.39.9.59 1.41.59.51 0 1.02-.2 1.41-.59l7.78-7.78 2.81-2.81c.8-.78.8-2.07 0-2.86zM5.41 20L4 18.59l7.72-7.72 1.47 1.35L5.41 20z\"/>\n",
              "  </svg>\n",
              "      </button>\n",
              "      \n",
              "  <style>\n",
              "    .colab-df-container {\n",
              "      display:flex;\n",
              "      flex-wrap:wrap;\n",
              "      gap: 12px;\n",
              "    }\n",
              "\n",
              "    .colab-df-convert {\n",
              "      background-color: #E8F0FE;\n",
              "      border: none;\n",
              "      border-radius: 50%;\n",
              "      cursor: pointer;\n",
              "      display: none;\n",
              "      fill: #1967D2;\n",
              "      height: 32px;\n",
              "      padding: 0 0 0 0;\n",
              "      width: 32px;\n",
              "    }\n",
              "\n",
              "    .colab-df-convert:hover {\n",
              "      background-color: #E2EBFA;\n",
              "      box-shadow: 0px 1px 2px rgba(60, 64, 67, 0.3), 0px 1px 3px 1px rgba(60, 64, 67, 0.15);\n",
              "      fill: #174EA6;\n",
              "    }\n",
              "\n",
              "    [theme=dark] .colab-df-convert {\n",
              "      background-color: #3B4455;\n",
              "      fill: #D2E3FC;\n",
              "    }\n",
              "\n",
              "    [theme=dark] .colab-df-convert:hover {\n",
              "      background-color: #434B5C;\n",
              "      box-shadow: 0px 1px 3px 1px rgba(0, 0, 0, 0.15);\n",
              "      filter: drop-shadow(0px 1px 2px rgba(0, 0, 0, 0.3));\n",
              "      fill: #FFFFFF;\n",
              "    }\n",
              "  </style>\n",
              "\n",
              "      <script>\n",
              "        const buttonEl =\n",
              "          document.querySelector('#df-b9661e97-6856-4a52-ac26-947553c6ca7f button.colab-df-convert');\n",
              "        buttonEl.style.display =\n",
              "          google.colab.kernel.accessAllowed ? 'block' : 'none';\n",
              "\n",
              "        async function convertToInteractive(key) {\n",
              "          const element = document.querySelector('#df-b9661e97-6856-4a52-ac26-947553c6ca7f');\n",
              "          const dataTable =\n",
              "            await google.colab.kernel.invokeFunction('convertToInteractive',\n",
              "                                                     [key], {});\n",
              "          if (!dataTable) return;\n",
              "\n",
              "          const docLinkHtml = 'Like what you see? Visit the ' +\n",
              "            '<a target=\"_blank\" href=https://colab.research.google.com/notebooks/data_table.ipynb>data table notebook</a>'\n",
              "            + ' to learn more about interactive tables.';\n",
              "          element.innerHTML = '';\n",
              "          dataTable['output_type'] = 'display_data';\n",
              "          await google.colab.output.renderOutput(dataTable, element);\n",
              "          const docLink = document.createElement('div');\n",
              "          docLink.innerHTML = docLinkHtml;\n",
              "          element.appendChild(docLink);\n",
              "        }\n",
              "      </script>\n",
              "    </div>\n",
              "  </div>\n",
              "  "
            ]
          },
          "metadata": {},
          "execution_count": 6
        }
      ]
    },
    {
      "cell_type": "markdown",
      "source": [
        "**Cantidad de filas presentes en el dataset:**"
      ],
      "metadata": {
        "id": "hih42XrpstQD"
      }
    },
    {
      "cell_type": "code",
      "source": [
        "len(df)"
      ],
      "metadata": {
        "id": "KcTsyoTjskUA",
        "outputId": "03b98205-014a-4b5a-e5ce-7e9278260a37",
        "colab": {
          "base_uri": "https://localhost:8080/"
        }
      },
      "execution_count": null,
      "outputs": [
        {
          "output_type": "execute_result",
          "data": {
            "text/plain": [
              "25088"
            ]
          },
          "metadata": {},
          "execution_count": 7
        }
      ]
    },
    {
      "cell_type": "markdown",
      "source": [
        "Se tiene un total de 25,088 filas."
      ],
      "metadata": {
        "id": "UpTPiRnKszqi"
      }
    },
    {
      "cell_type": "markdown",
      "source": [
        "#**Nombre que caracteriza el conjunto de datos**\n",
        "El nombre del dataset es **Crime in Mexico Data**."
      ],
      "metadata": {
        "id": "0qPLONgQgNGC"
      }
    },
    {
      "cell_type": "markdown",
      "source": [
        "#**Organización que lo generó**\n",
        "La organización que generó el conjunto de datos es el **Secretariado Ejecutivo del Sistema Nacional de Seguridad Pública (SESNSP)** del Gobierno de México."
      ],
      "metadata": {
        "id": "62ZlAB3qgSTz"
      }
    },
    {
      "cell_type": "markdown",
      "source": [
        "# **Incluya un enlace de Internet donde se puedan descargar el base de datos en línea**\n",
        "Enlace al dataset: https://www.kaggle.com/datasets/linigoga/crime-in-mexico-data?resource=download"
      ],
      "metadata": {
        "id": "_tQC0foHgTwN"
      }
    },
    {
      "cell_type": "markdown",
      "source": [
        "# **Describe el conjunto de datos. ¿Qué datos contiene?**\n",
        "El dataset contiene datos como el año en el que ocurrieron los incidentes delictivos, la entidad federativa donde sucedió, así como la clave de la entidad, también se detalla el bien jurídico afectado (puede ser la vida, patrimonio, familia o sociedad), además del tipo (homicidio por ejemplo) y subtipo (homicidio doloso o culposo) de delito cometido, así como la modalidad (con arma de fuego o con arma blanca), por último vienen varias columnas donde se detalla el mes en el que ocurrieron los incidentes."
      ],
      "metadata": {
        "id": "Bi31DazNgWfh"
      }
    },
    {
      "cell_type": "markdown",
      "source": [
        "# **¿Cuáles son algunas de las preguntas de investigación que podría responder con estos datos? Enumere al menos OCHO (no responda las preguntas)**\n",
        "\n",
        "*\t¿Qué mes es el más propenso a tener más homicidios?\n",
        "*\t¿Cuál es el estado con mayor tasa de homicidios?\n",
        "*\t¿Qué mes es el más propenso a tener más actos delictivos?\n",
        "*\t¿Cuál es el estado con mayor tasa de delitos?\n",
        "*\t¿Existen relaciones entre los diferentes tipos de delitos?\n",
        "*\t¿Cuál es el año con más actos delictivos?\n",
        "*\t¿Cuál es la modalidad más común de homicidios?\n",
        "*\t¿Cuál es el tipo de modalidad delictiva más frecuente por estado?\n",
        "*\t¿Qué estado presenta la mayor tasa de secuestros?\n",
        "*\t¿Ha habido alguna reducción de delitos en alguna entidad federativa?\n",
        "*\t¿Cuál es el tipo de delito que presenta una mayor reducción de casos?\n",
        " "
      ],
      "metadata": {
        "id": "yADs8B-Tgbh6"
      }
    },
    {
      "cell_type": "markdown",
      "source": [
        "# **¿Qué actor (empresa, sector de la sociedad, organismo descentralizado, gobierno, etc.) estaría interesado en las preguntas mencionadas que identificó?**\n",
        "\n",
        "- Gobiernos Estatales.\n",
        "- Gobierno Federal.\n",
        "- Empresas de seguridad y vigilancia.\n",
        "- Empresas de seguridad privada con armas\n",
        "- Empresas de transporte de valores.\n",
        "- ONGs relacionadas al desarrollo social.\n",
        "- Aseguradoras.\n",
        "- Grupos financieros y de inversión privada.\n"
      ],
      "metadata": {
        "id": "P-MEcRDZgfpv"
      }
    }
  ]
}
{
  "nbformat": 4,
  "nbformat_minor": 0,
  "metadata": {
    "colab": {
      "provenance": [],
      "collapsed_sections": [
        "XLrS3MVWebtm",
        "YKzCmABifk9a"
      ],
      "include_colab_link": true
    },
    "kernelspec": {
      "name": "python3",
      "display_name": "Python 3"
    },
    "language_info": {
      "name": "python"
    }
  },
  "cells": [
    {
      "cell_type": "markdown",
      "metadata": {
        "id": "view-in-github",
        "colab_type": "text"
      },
      "source": [
        "<a href=\"https://colab.research.google.com/github/PosgradoMNA/actividades-del-projecto-equipo-48/blob/main/Reto/Entrega2/Reto_Entrega_2.ipynb\" target=\"_parent\"><img src=\"https://colab.research.google.com/assets/colab-badge.svg\" alt=\"Open In Colab\"/></a>"
      ]
    },
    {
      "cell_type": "markdown",
      "source": [
        "Utilizando la base de datos que hayas elegido y hayas realizado su limpieza en la anterior entrega del reto, realiza lo siguiente:\n",
        "\n",
        "- Selecciona tus variables independientes X y dependiente Y (semáforo)\n",
        "Cambia a label encoding el semáforo, ej, de [\"clase 1\", \"clase 2\", \"clase 3\"] a [ 1,2,3]\n",
        "- Realiza un análisis general de las features importances a traves de decision trees o random forest.\n",
        "- Selecciona las variables de mayor importancia.\n",
        "- Realiza tu clasificador, recuerda dividir los datos de manera balanceada (auxiliate de train test split)\n",
        "- Explora que clasificador es el más optimo, ejemplo:\n",
        "  - Decision trees\n",
        "  - Random Forest.\n",
        "- Determina el grado de exactitud a través del reporte de clasificación y análisis de la gráfica de Precision Recall.\n",
        "- Visualiza los resultados del modelo o las predicciones a través de una matriz de confusión.\n",
        "- Realiza un reporte de los principales hallazgos y conclusiones del experimento e incluyelos en una presentación ejecutiva de 10 diapositivas. La presentación deberá incluir todos los pasos del pipeline seguidos, limpieza, análisis, kmeans, clasificación, resultados y\n",
        "\n",
        "\n"
      ],
      "metadata": {
        "id": "MDE9kfkpbVbW"
      }
    },
    {
      "cell_type": "markdown",
      "source": [
        "# Elegir una base de datos, ya sea la de aguas superficiales o la de aguas subterráneas."
      ],
      "metadata": {
        "id": "XLrS3MVWebtm"
      }
    },
    {
      "cell_type": "markdown",
      "source": [
        "El dataset a utilizar es el de aguas subterráneas, dado que presenta una mayor cantidad de datos diferentes a **NaN** en comparación al dataset de aguas superficiales, lo que nos puede ayudar para tener mejores predicciones, a la hora de usar modelos de machine learning.\n",
        "\n"
      ],
      "metadata": {
        "id": "HHZErQb5ek9C"
      }
    },
    {
      "cell_type": "markdown",
      "source": [
        "# Limpieza de base de datos"
      ],
      "metadata": {
        "id": "YKzCmABifk9a"
      }
    },
    {
      "cell_type": "code",
      "source": [
        "import pandas as pd\n",
        "import warnings\n",
        "warnings.filterwarnings(\"ignore\")\n",
        "\n",
        "file=\"https://raw.githubusercontent.com/PosgradoMNA/actividades-del-projecto-equipo-48/main/Reto/Entrega1/Datos_de_calidad_del_agua_de_sitios_de_monitoreo_de_aguas_subterraneas_2020.csv\"\n",
        "dfsw=pd.read_csv(file,encoding = \"ISO-8859-1\")"
      ],
      "metadata": {
        "id": "afwZwTxidDL0"
      },
      "execution_count": null,
      "outputs": []
    },
    {
      "cell_type": "code",
      "source": [
        "pd.set_option(\"display.max_columns\",None) #mostramos todas las columnas\n",
        "dfsw.head()"
      ],
      "metadata": {
        "colab": {
          "base_uri": "https://localhost:8080/",
          "height": 392
        },
        "id": "3ujF6p8DeEw5",
        "outputId": "1940cd83-1a76-4d31-968c-c3948cd56175"
      },
      "execution_count": null,
      "outputs": [
        {
          "output_type": "execute_result",
          "data": {
            "text/plain": [
              "       CLAVE                   SITIO           ORGANISMO_DE_CUENCA  \\\n",
              "0     DLAGU6            POZO SAN GIL       LERMA SANTIAGO PACIFICO   \n",
              "1  DLAGU6516  POZO R013 CAÑADA HONDA       LERMA SANTIAGO PACIFICO   \n",
              "2     DLAGU7              POZO COSIO       LERMA SANTIAGO PACIFICO   \n",
              "3     DLAGU9      POZO EL SALITRILLO       LERMA SANTIAGO PACIFICO   \n",
              "4   DLBAJ107      RANCHO EL TECOLOTE  PENINSULA DE BAJA CALIFORNIA   \n",
              "\n",
              "                ESTADO        MUNICIPIO                 ACUIFERO SUBTIPO  \\\n",
              "0       AGUASCALIENTES         ASIENTOS       VALLE DE CHICALOTE    POZO   \n",
              "1       AGUASCALIENTES   AGUASCALIENTES       VALLE DE CHICALOTE    POZO   \n",
              "2       AGUASCALIENTES            COSIO  VALLE DE AGUASCALIENTES    POZO   \n",
              "3       AGUASCALIENTES  RINCON DE ROMOS  VALLE DE AGUASCALIENTES    POZO   \n",
              "4  BAJA CALIFORNIA SUR           LA PAZ             TODOS SANTOS    POZO   \n",
              "\n",
              "    LONGITUD   LATITUD  PERIODO  ALC_mg/L CALIDAD_ALC  CONDUCT_mS/cm  \\\n",
              "0 -102.02210  22.20887     2020   229.990        Alta          940.0   \n",
              "1 -102.20075  21.99958     2020   231.990        Alta          608.0   \n",
              "2 -102.28801  22.36685     2020   204.920        Alta          532.0   \n",
              "3 -102.29449  22.18435     2020   327.000        Alta          686.0   \n",
              "4 -110.24480  23.45138     2020   309.885        Alta         1841.0   \n",
              "\n",
              "          CALIDAD_CONDUC  SDT_mg/L SDT_M_mg/L                CALIDAD_SDT_ra  \\\n",
              "0  Permisible para riego       NaN      603.6            Cultivos sensibles   \n",
              "1       Buena para riego       NaN      445.4          Excelente para riego   \n",
              "2       Buena para riego       NaN        342          Excelente para riego   \n",
              "3       Buena para riego       NaN      478.6          Excelente para riego   \n",
              "4  Permisible para riego       NaN       1179  Cultivos con manejo especial   \n",
              "\n",
              "      CALIDAD_SDT_salin FLUORUROS_mg/L      CALIDAD_FLUO  DUR_mg/L  \\\n",
              "0       Potable - Dulce         0.9766  Potable - Optima   213.732   \n",
              "1       Potable - Dulce         0.9298  Potable - Optima  185.0514   \n",
              "2       Potable - Dulce         1.8045              Alta   120.719   \n",
              "3       Potable - Dulce         1.1229  Potable - Optima   199.879   \n",
              "4  Ligeramente salobres         0.2343              Baja  476.9872   \n",
              "\n",
              "      CALIDAD_DUR COLI_FEC_NMP/100_mL     CALIDAD_COLI_FEC N_NO3_mg/L  \\\n",
              "0  Potable - Dura                <1.1  Potable - Excelente   4.184656   \n",
              "1  Potable - Dura                <1.1  Potable - Excelente    5.75011   \n",
              "2  Potable - Dura                <1.1  Potable - Excelente   1.449803   \n",
              "3  Potable - Dura                <1.1  Potable - Excelente   1.258597   \n",
              "4  Potable - Dura                 291            Aceptable  15.672251   \n",
              "\n",
              "             CALIDAD_N_NO3 AS_TOT_mg/L           CALIDAD_AS CD_TOT_mg/L  \\\n",
              "0      Potable - Excelente      0.0161       Apta como FAAP      <0.003   \n",
              "1  Potable - Buena calidad      0.0134       Apta como FAAP      <0.003   \n",
              "2      Potable - Excelente       0.037    No apta como FAAP      <0.003   \n",
              "3      Potable - Excelente      0.0154       Apta como FAAP      <0.003   \n",
              "4        No apta como FAAP       <0.01  Potable - Excelente      <0.003   \n",
              "\n",
              "            CALIDAD_CD CR_TOT_mg/L           CALIDAD_CR HG_TOT_mg/L  \\\n",
              "0  Potable - Excelente      <0.005  Potable - Excelente     <0.0005   \n",
              "1  Potable - Excelente      <0.005  Potable - Excelente     <0.0005   \n",
              "2  Potable - Excelente      <0.005  Potable - Excelente     <0.0005   \n",
              "3  Potable - Excelente       0.005  Potable - Excelente     <0.0005   \n",
              "4  Potable - Excelente      <0.005  Potable - Excelente     <0.0005   \n",
              "\n",
              "            CALIDAD_HG PB_TOT_mg/L           CALIDAD_PB MN_TOT_mg/L  \\\n",
              "0  Potable - Excelente      <0.005  Potable - Excelente     <0.0015   \n",
              "1  Potable - Excelente      <0.005  Potable - Excelente     <0.0015   \n",
              "2  Potable - Excelente      <0.005  Potable - Excelente     <0.0015   \n",
              "3  Potable - Excelente      <0.005  Potable - Excelente     <0.0015   \n",
              "4  Potable - Excelente      <0.005  Potable - Excelente     <0.0015   \n",
              "\n",
              "            CALIDAD_MN FE_TOT_mg/L           CALIDAD_FE SEMAFORO  \\\n",
              "0  Potable - Excelente      0.0891  Potable - Excelente    Verde   \n",
              "1  Potable - Excelente      <0.025  Potable - Excelente    Verde   \n",
              "2  Potable - Excelente      <0.025  Potable - Excelente     Rojo   \n",
              "3  Potable - Excelente      <0.025  Potable - Excelente    Verde   \n",
              "4  Potable - Excelente      <0.025  Potable - Excelente     Rojo   \n",
              "\n",
              "  CONTAMINANTES CUMPLE_CON_ALC CUMPLE_CON_COND CUMPLE_CON_SDT_ra  \\\n",
              "0           NaN             SI              SI                SI   \n",
              "1           NaN             SI              SI                SI   \n",
              "2      FLUO,AS,             SI              SI                SI   \n",
              "3           NaN             SI              SI                SI   \n",
              "4          NO3,             SI              SI                SI   \n",
              "\n",
              "  CUMPLE_CON_SDT_salin CUMPLE_CON_FLUO CUMPLE_CON_DUR CUMPLE_CON_CF  \\\n",
              "0                   SI              SI             SI            SI   \n",
              "1                   SI              SI             SI            SI   \n",
              "2                   SI              NO             SI            SI   \n",
              "3                   SI              SI             SI            SI   \n",
              "4                   SI              SI             SI            SI   \n",
              "\n",
              "  CUMPLE_CON_NO3 CUMPLE_CON_AS CUMPLE_CON_CD CUMPLE_CON_CR CUMPLE_CON_HG  \\\n",
              "0             SI            SI            SI            SI            SI   \n",
              "1             SI            SI            SI            SI            SI   \n",
              "2             SI            NO            SI            SI            SI   \n",
              "3             SI            SI            SI            SI            SI   \n",
              "4             NO            SI            SI            SI            SI   \n",
              "\n",
              "  CUMPLE_CON_PB CUMPLE_CON_MN CUMPLE_CON_FE  \n",
              "0            SI            SI            SI  \n",
              "1            SI            SI            SI  \n",
              "2            SI            SI            SI  \n",
              "3            SI            SI            SI  \n",
              "4            SI            SI            SI  "
            ],
            "text/html": [
              "\n",
              "  <div id=\"df-adefc5c1-ce12-4c7f-b753-f51d15bbf547\">\n",
              "    <div class=\"colab-df-container\">\n",
              "      <div>\n",
              "<style scoped>\n",
              "    .dataframe tbody tr th:only-of-type {\n",
              "        vertical-align: middle;\n",
              "    }\n",
              "\n",
              "    .dataframe tbody tr th {\n",
              "        vertical-align: top;\n",
              "    }\n",
              "\n",
              "    .dataframe thead th {\n",
              "        text-align: right;\n",
              "    }\n",
              "</style>\n",
              "<table border=\"1\" class=\"dataframe\">\n",
              "  <thead>\n",
              "    <tr style=\"text-align: right;\">\n",
              "      <th></th>\n",
              "      <th>CLAVE</th>\n",
              "      <th>SITIO</th>\n",
              "      <th>ORGANISMO_DE_CUENCA</th>\n",
              "      <th>ESTADO</th>\n",
              "      <th>MUNICIPIO</th>\n",
              "      <th>ACUIFERO</th>\n",
              "      <th>SUBTIPO</th>\n",
              "      <th>LONGITUD</th>\n",
              "      <th>LATITUD</th>\n",
              "      <th>PERIODO</th>\n",
              "      <th>ALC_mg/L</th>\n",
              "      <th>CALIDAD_ALC</th>\n",
              "      <th>CONDUCT_mS/cm</th>\n",
              "      <th>CALIDAD_CONDUC</th>\n",
              "      <th>SDT_mg/L</th>\n",
              "      <th>SDT_M_mg/L</th>\n",
              "      <th>CALIDAD_SDT_ra</th>\n",
              "      <th>CALIDAD_SDT_salin</th>\n",
              "      <th>FLUORUROS_mg/L</th>\n",
              "      <th>CALIDAD_FLUO</th>\n",
              "      <th>DUR_mg/L</th>\n",
              "      <th>CALIDAD_DUR</th>\n",
              "      <th>COLI_FEC_NMP/100_mL</th>\n",
              "      <th>CALIDAD_COLI_FEC</th>\n",
              "      <th>N_NO3_mg/L</th>\n",
              "      <th>CALIDAD_N_NO3</th>\n",
              "      <th>AS_TOT_mg/L</th>\n",
              "      <th>CALIDAD_AS</th>\n",
              "      <th>CD_TOT_mg/L</th>\n",
              "      <th>CALIDAD_CD</th>\n",
              "      <th>CR_TOT_mg/L</th>\n",
              "      <th>CALIDAD_CR</th>\n",
              "      <th>HG_TOT_mg/L</th>\n",
              "      <th>CALIDAD_HG</th>\n",
              "      <th>PB_TOT_mg/L</th>\n",
              "      <th>CALIDAD_PB</th>\n",
              "      <th>MN_TOT_mg/L</th>\n",
              "      <th>CALIDAD_MN</th>\n",
              "      <th>FE_TOT_mg/L</th>\n",
              "      <th>CALIDAD_FE</th>\n",
              "      <th>SEMAFORO</th>\n",
              "      <th>CONTAMINANTES</th>\n",
              "      <th>CUMPLE_CON_ALC</th>\n",
              "      <th>CUMPLE_CON_COND</th>\n",
              "      <th>CUMPLE_CON_SDT_ra</th>\n",
              "      <th>CUMPLE_CON_SDT_salin</th>\n",
              "      <th>CUMPLE_CON_FLUO</th>\n",
              "      <th>CUMPLE_CON_DUR</th>\n",
              "      <th>CUMPLE_CON_CF</th>\n",
              "      <th>CUMPLE_CON_NO3</th>\n",
              "      <th>CUMPLE_CON_AS</th>\n",
              "      <th>CUMPLE_CON_CD</th>\n",
              "      <th>CUMPLE_CON_CR</th>\n",
              "      <th>CUMPLE_CON_HG</th>\n",
              "      <th>CUMPLE_CON_PB</th>\n",
              "      <th>CUMPLE_CON_MN</th>\n",
              "      <th>CUMPLE_CON_FE</th>\n",
              "    </tr>\n",
              "  </thead>\n",
              "  <tbody>\n",
              "    <tr>\n",
              "      <th>0</th>\n",
              "      <td>DLAGU6</td>\n",
              "      <td>POZO SAN GIL</td>\n",
              "      <td>LERMA SANTIAGO PACIFICO</td>\n",
              "      <td>AGUASCALIENTES</td>\n",
              "      <td>ASIENTOS</td>\n",
              "      <td>VALLE DE CHICALOTE</td>\n",
              "      <td>POZO</td>\n",
              "      <td>-102.02210</td>\n",
              "      <td>22.20887</td>\n",
              "      <td>2020</td>\n",
              "      <td>229.990</td>\n",
              "      <td>Alta</td>\n",
              "      <td>940.0</td>\n",
              "      <td>Permisible para riego</td>\n",
              "      <td>NaN</td>\n",
              "      <td>603.6</td>\n",
              "      <td>Cultivos sensibles</td>\n",
              "      <td>Potable - Dulce</td>\n",
              "      <td>0.9766</td>\n",
              "      <td>Potable - Optima</td>\n",
              "      <td>213.732</td>\n",
              "      <td>Potable - Dura</td>\n",
              "      <td>&lt;1.1</td>\n",
              "      <td>Potable - Excelente</td>\n",
              "      <td>4.184656</td>\n",
              "      <td>Potable - Excelente</td>\n",
              "      <td>0.0161</td>\n",
              "      <td>Apta como FAAP</td>\n",
              "      <td>&lt;0.003</td>\n",
              "      <td>Potable - Excelente</td>\n",
              "      <td>&lt;0.005</td>\n",
              "      <td>Potable - Excelente</td>\n",
              "      <td>&lt;0.0005</td>\n",
              "      <td>Potable - Excelente</td>\n",
              "      <td>&lt;0.005</td>\n",
              "      <td>Potable - Excelente</td>\n",
              "      <td>&lt;0.0015</td>\n",
              "      <td>Potable - Excelente</td>\n",
              "      <td>0.0891</td>\n",
              "      <td>Potable - Excelente</td>\n",
              "      <td>Verde</td>\n",
              "      <td>NaN</td>\n",
              "      <td>SI</td>\n",
              "      <td>SI</td>\n",
              "      <td>SI</td>\n",
              "      <td>SI</td>\n",
              "      <td>SI</td>\n",
              "      <td>SI</td>\n",
              "      <td>SI</td>\n",
              "      <td>SI</td>\n",
              "      <td>SI</td>\n",
              "      <td>SI</td>\n",
              "      <td>SI</td>\n",
              "      <td>SI</td>\n",
              "      <td>SI</td>\n",
              "      <td>SI</td>\n",
              "      <td>SI</td>\n",
              "    </tr>\n",
              "    <tr>\n",
              "      <th>1</th>\n",
              "      <td>DLAGU6516</td>\n",
              "      <td>POZO R013 CAÑADA HONDA</td>\n",
              "      <td>LERMA SANTIAGO PACIFICO</td>\n",
              "      <td>AGUASCALIENTES</td>\n",
              "      <td>AGUASCALIENTES</td>\n",
              "      <td>VALLE DE CHICALOTE</td>\n",
              "      <td>POZO</td>\n",
              "      <td>-102.20075</td>\n",
              "      <td>21.99958</td>\n",
              "      <td>2020</td>\n",
              "      <td>231.990</td>\n",
              "      <td>Alta</td>\n",
              "      <td>608.0</td>\n",
              "      <td>Buena para riego</td>\n",
              "      <td>NaN</td>\n",
              "      <td>445.4</td>\n",
              "      <td>Excelente para riego</td>\n",
              "      <td>Potable - Dulce</td>\n",
              "      <td>0.9298</td>\n",
              "      <td>Potable - Optima</td>\n",
              "      <td>185.0514</td>\n",
              "      <td>Potable - Dura</td>\n",
              "      <td>&lt;1.1</td>\n",
              "      <td>Potable - Excelente</td>\n",
              "      <td>5.75011</td>\n",
              "      <td>Potable - Buena calidad</td>\n",
              "      <td>0.0134</td>\n",
              "      <td>Apta como FAAP</td>\n",
              "      <td>&lt;0.003</td>\n",
              "      <td>Potable - Excelente</td>\n",
              "      <td>&lt;0.005</td>\n",
              "      <td>Potable - Excelente</td>\n",
              "      <td>&lt;0.0005</td>\n",
              "      <td>Potable - Excelente</td>\n",
              "      <td>&lt;0.005</td>\n",
              "      <td>Potable - Excelente</td>\n",
              "      <td>&lt;0.0015</td>\n",
              "      <td>Potable - Excelente</td>\n",
              "      <td>&lt;0.025</td>\n",
              "      <td>Potable - Excelente</td>\n",
              "      <td>Verde</td>\n",
              "      <td>NaN</td>\n",
              "      <td>SI</td>\n",
              "      <td>SI</td>\n",
              "      <td>SI</td>\n",
              "      <td>SI</td>\n",
              "      <td>SI</td>\n",
              "      <td>SI</td>\n",
              "      <td>SI</td>\n",
              "      <td>SI</td>\n",
              "      <td>SI</td>\n",
              "      <td>SI</td>\n",
              "      <td>SI</td>\n",
              "      <td>SI</td>\n",
              "      <td>SI</td>\n",
              "      <td>SI</td>\n",
              "      <td>SI</td>\n",
              "    </tr>\n",
              "    <tr>\n",
              "      <th>2</th>\n",
              "      <td>DLAGU7</td>\n",
              "      <td>POZO COSIO</td>\n",
              "      <td>LERMA SANTIAGO PACIFICO</td>\n",
              "      <td>AGUASCALIENTES</td>\n",
              "      <td>COSIO</td>\n",
              "      <td>VALLE DE AGUASCALIENTES</td>\n",
              "      <td>POZO</td>\n",
              "      <td>-102.28801</td>\n",
              "      <td>22.36685</td>\n",
              "      <td>2020</td>\n",
              "      <td>204.920</td>\n",
              "      <td>Alta</td>\n",
              "      <td>532.0</td>\n",
              "      <td>Buena para riego</td>\n",
              "      <td>NaN</td>\n",
              "      <td>342</td>\n",
              "      <td>Excelente para riego</td>\n",
              "      <td>Potable - Dulce</td>\n",
              "      <td>1.8045</td>\n",
              "      <td>Alta</td>\n",
              "      <td>120.719</td>\n",
              "      <td>Potable - Dura</td>\n",
              "      <td>&lt;1.1</td>\n",
              "      <td>Potable - Excelente</td>\n",
              "      <td>1.449803</td>\n",
              "      <td>Potable - Excelente</td>\n",
              "      <td>0.037</td>\n",
              "      <td>No apta como FAAP</td>\n",
              "      <td>&lt;0.003</td>\n",
              "      <td>Potable - Excelente</td>\n",
              "      <td>&lt;0.005</td>\n",
              "      <td>Potable - Excelente</td>\n",
              "      <td>&lt;0.0005</td>\n",
              "      <td>Potable - Excelente</td>\n",
              "      <td>&lt;0.005</td>\n",
              "      <td>Potable - Excelente</td>\n",
              "      <td>&lt;0.0015</td>\n",
              "      <td>Potable - Excelente</td>\n",
              "      <td>&lt;0.025</td>\n",
              "      <td>Potable - Excelente</td>\n",
              "      <td>Rojo</td>\n",
              "      <td>FLUO,AS,</td>\n",
              "      <td>SI</td>\n",
              "      <td>SI</td>\n",
              "      <td>SI</td>\n",
              "      <td>SI</td>\n",
              "      <td>NO</td>\n",
              "      <td>SI</td>\n",
              "      <td>SI</td>\n",
              "      <td>SI</td>\n",
              "      <td>NO</td>\n",
              "      <td>SI</td>\n",
              "      <td>SI</td>\n",
              "      <td>SI</td>\n",
              "      <td>SI</td>\n",
              "      <td>SI</td>\n",
              "      <td>SI</td>\n",
              "    </tr>\n",
              "    <tr>\n",
              "      <th>3</th>\n",
              "      <td>DLAGU9</td>\n",
              "      <td>POZO EL SALITRILLO</td>\n",
              "      <td>LERMA SANTIAGO PACIFICO</td>\n",
              "      <td>AGUASCALIENTES</td>\n",
              "      <td>RINCON DE ROMOS</td>\n",
              "      <td>VALLE DE AGUASCALIENTES</td>\n",
              "      <td>POZO</td>\n",
              "      <td>-102.29449</td>\n",
              "      <td>22.18435</td>\n",
              "      <td>2020</td>\n",
              "      <td>327.000</td>\n",
              "      <td>Alta</td>\n",
              "      <td>686.0</td>\n",
              "      <td>Buena para riego</td>\n",
              "      <td>NaN</td>\n",
              "      <td>478.6</td>\n",
              "      <td>Excelente para riego</td>\n",
              "      <td>Potable - Dulce</td>\n",
              "      <td>1.1229</td>\n",
              "      <td>Potable - Optima</td>\n",
              "      <td>199.879</td>\n",
              "      <td>Potable - Dura</td>\n",
              "      <td>&lt;1.1</td>\n",
              "      <td>Potable - Excelente</td>\n",
              "      <td>1.258597</td>\n",
              "      <td>Potable - Excelente</td>\n",
              "      <td>0.0154</td>\n",
              "      <td>Apta como FAAP</td>\n",
              "      <td>&lt;0.003</td>\n",
              "      <td>Potable - Excelente</td>\n",
              "      <td>0.005</td>\n",
              "      <td>Potable - Excelente</td>\n",
              "      <td>&lt;0.0005</td>\n",
              "      <td>Potable - Excelente</td>\n",
              "      <td>&lt;0.005</td>\n",
              "      <td>Potable - Excelente</td>\n",
              "      <td>&lt;0.0015</td>\n",
              "      <td>Potable - Excelente</td>\n",
              "      <td>&lt;0.025</td>\n",
              "      <td>Potable - Excelente</td>\n",
              "      <td>Verde</td>\n",
              "      <td>NaN</td>\n",
              "      <td>SI</td>\n",
              "      <td>SI</td>\n",
              "      <td>SI</td>\n",
              "      <td>SI</td>\n",
              "      <td>SI</td>\n",
              "      <td>SI</td>\n",
              "      <td>SI</td>\n",
              "      <td>SI</td>\n",
              "      <td>SI</td>\n",
              "      <td>SI</td>\n",
              "      <td>SI</td>\n",
              "      <td>SI</td>\n",
              "      <td>SI</td>\n",
              "      <td>SI</td>\n",
              "      <td>SI</td>\n",
              "    </tr>\n",
              "    <tr>\n",
              "      <th>4</th>\n",
              "      <td>DLBAJ107</td>\n",
              "      <td>RANCHO EL TECOLOTE</td>\n",
              "      <td>PENINSULA DE BAJA CALIFORNIA</td>\n",
              "      <td>BAJA CALIFORNIA SUR</td>\n",
              "      <td>LA PAZ</td>\n",
              "      <td>TODOS SANTOS</td>\n",
              "      <td>POZO</td>\n",
              "      <td>-110.24480</td>\n",
              "      <td>23.45138</td>\n",
              "      <td>2020</td>\n",
              "      <td>309.885</td>\n",
              "      <td>Alta</td>\n",
              "      <td>1841.0</td>\n",
              "      <td>Permisible para riego</td>\n",
              "      <td>NaN</td>\n",
              "      <td>1179</td>\n",
              "      <td>Cultivos con manejo especial</td>\n",
              "      <td>Ligeramente salobres</td>\n",
              "      <td>0.2343</td>\n",
              "      <td>Baja</td>\n",
              "      <td>476.9872</td>\n",
              "      <td>Potable - Dura</td>\n",
              "      <td>291</td>\n",
              "      <td>Aceptable</td>\n",
              "      <td>15.672251</td>\n",
              "      <td>No apta como FAAP</td>\n",
              "      <td>&lt;0.01</td>\n",
              "      <td>Potable - Excelente</td>\n",
              "      <td>&lt;0.003</td>\n",
              "      <td>Potable - Excelente</td>\n",
              "      <td>&lt;0.005</td>\n",
              "      <td>Potable - Excelente</td>\n",
              "      <td>&lt;0.0005</td>\n",
              "      <td>Potable - Excelente</td>\n",
              "      <td>&lt;0.005</td>\n",
              "      <td>Potable - Excelente</td>\n",
              "      <td>&lt;0.0015</td>\n",
              "      <td>Potable - Excelente</td>\n",
              "      <td>&lt;0.025</td>\n",
              "      <td>Potable - Excelente</td>\n",
              "      <td>Rojo</td>\n",
              "      <td>NO3,</td>\n",
              "      <td>SI</td>\n",
              "      <td>SI</td>\n",
              "      <td>SI</td>\n",
              "      <td>SI</td>\n",
              "      <td>SI</td>\n",
              "      <td>SI</td>\n",
              "      <td>SI</td>\n",
              "      <td>NO</td>\n",
              "      <td>SI</td>\n",
              "      <td>SI</td>\n",
              "      <td>SI</td>\n",
              "      <td>SI</td>\n",
              "      <td>SI</td>\n",
              "      <td>SI</td>\n",
              "      <td>SI</td>\n",
              "    </tr>\n",
              "  </tbody>\n",
              "</table>\n",
              "</div>\n",
              "      <button class=\"colab-df-convert\" onclick=\"convertToInteractive('df-adefc5c1-ce12-4c7f-b753-f51d15bbf547')\"\n",
              "              title=\"Convert this dataframe to an interactive table.\"\n",
              "              style=\"display:none;\">\n",
              "        \n",
              "  <svg xmlns=\"http://www.w3.org/2000/svg\" height=\"24px\"viewBox=\"0 0 24 24\"\n",
              "       width=\"24px\">\n",
              "    <path d=\"M0 0h24v24H0V0z\" fill=\"none\"/>\n",
              "    <path d=\"M18.56 5.44l.94 2.06.94-2.06 2.06-.94-2.06-.94-.94-2.06-.94 2.06-2.06.94zm-11 1L8.5 8.5l.94-2.06 2.06-.94-2.06-.94L8.5 2.5l-.94 2.06-2.06.94zm10 10l.94 2.06.94-2.06 2.06-.94-2.06-.94-.94-2.06-.94 2.06-2.06.94z\"/><path d=\"M17.41 7.96l-1.37-1.37c-.4-.4-.92-.59-1.43-.59-.52 0-1.04.2-1.43.59L10.3 9.45l-7.72 7.72c-.78.78-.78 2.05 0 2.83L4 21.41c.39.39.9.59 1.41.59.51 0 1.02-.2 1.41-.59l7.78-7.78 2.81-2.81c.8-.78.8-2.07 0-2.86zM5.41 20L4 18.59l7.72-7.72 1.47 1.35L5.41 20z\"/>\n",
              "  </svg>\n",
              "      </button>\n",
              "      \n",
              "  <style>\n",
              "    .colab-df-container {\n",
              "      display:flex;\n",
              "      flex-wrap:wrap;\n",
              "      gap: 12px;\n",
              "    }\n",
              "\n",
              "    .colab-df-convert {\n",
              "      background-color: #E8F0FE;\n",
              "      border: none;\n",
              "      border-radius: 50%;\n",
              "      cursor: pointer;\n",
              "      display: none;\n",
              "      fill: #1967D2;\n",
              "      height: 32px;\n",
              "      padding: 0 0 0 0;\n",
              "      width: 32px;\n",
              "    }\n",
              "\n",
              "    .colab-df-convert:hover {\n",
              "      background-color: #E2EBFA;\n",
              "      box-shadow: 0px 1px 2px rgba(60, 64, 67, 0.3), 0px 1px 3px 1px rgba(60, 64, 67, 0.15);\n",
              "      fill: #174EA6;\n",
              "    }\n",
              "\n",
              "    [theme=dark] .colab-df-convert {\n",
              "      background-color: #3B4455;\n",
              "      fill: #D2E3FC;\n",
              "    }\n",
              "\n",
              "    [theme=dark] .colab-df-convert:hover {\n",
              "      background-color: #434B5C;\n",
              "      box-shadow: 0px 1px 3px 1px rgba(0, 0, 0, 0.15);\n",
              "      filter: drop-shadow(0px 1px 2px rgba(0, 0, 0, 0.3));\n",
              "      fill: #FFFFFF;\n",
              "    }\n",
              "  </style>\n",
              "\n",
              "      <script>\n",
              "        const buttonEl =\n",
              "          document.querySelector('#df-adefc5c1-ce12-4c7f-b753-f51d15bbf547 button.colab-df-convert');\n",
              "        buttonEl.style.display =\n",
              "          google.colab.kernel.accessAllowed ? 'block' : 'none';\n",
              "\n",
              "        async function convertToInteractive(key) {\n",
              "          const element = document.querySelector('#df-adefc5c1-ce12-4c7f-b753-f51d15bbf547');\n",
              "          const dataTable =\n",
              "            await google.colab.kernel.invokeFunction('convertToInteractive',\n",
              "                                                     [key], {});\n",
              "          if (!dataTable) return;\n",
              "\n",
              "          const docLinkHtml = 'Like what you see? Visit the ' +\n",
              "            '<a target=\"_blank\" href=https://colab.research.google.com/notebooks/data_table.ipynb>data table notebook</a>'\n",
              "            + ' to learn more about interactive tables.';\n",
              "          element.innerHTML = '';\n",
              "          dataTable['output_type'] = 'display_data';\n",
              "          await google.colab.output.renderOutput(dataTable, element);\n",
              "          const docLink = document.createElement('div');\n",
              "          docLink.innerHTML = docLinkHtml;\n",
              "          element.appendChild(docLink);\n",
              "        }\n",
              "      </script>\n",
              "    </div>\n",
              "  </div>\n",
              "  "
            ]
          },
          "metadata": {},
          "execution_count": 2
        }
      ]
    },
    {
      "cell_type": "markdown",
      "source": [
        "Eliminamos el signo ${<}$ de todas las variables ordinales por motivos de practicidad"
      ],
      "metadata": {
        "id": "LbDWXR1zxO8I"
      }
    },
    {
      "cell_type": "code",
      "source": [
        "to_numeric=['ALC_mg/L','CONDUCT_mS/cm','SDT_M_mg/L','FLUORUROS_mg/L','DUR_mg/L','COLI_FEC_NMP/100_mL','N_NO3_mg/L','AS_TOT_mg/L','CD_TOT_mg/L','CR_TOT_mg/L','HG_TOT_mg/L','PB_TOT_mg/L','MN_TOT_mg/L','FE_TOT_mg/L']\n",
        "\n",
        "for i in to_numeric:\n",
        "  dfsw[i] = dfsw[i].astype(\"str\")\n",
        "  dfsw[i] = dfsw[i].str.replace(\"<\",\"0\")\n",
        "  dfsw[i]= dfsw[i].astype(\"float\")"
      ],
      "metadata": {
        "id": "k07CHvM9si4k"
      },
      "execution_count": null,
      "outputs": []
    },
    {
      "cell_type": "markdown",
      "source": [
        "Verificamos cuantos datos vacíos tiene nuestro dataframe"
      ],
      "metadata": {
        "id": "jWgbnyASfgD1"
      }
    },
    {
      "cell_type": "code",
      "source": [
        "dfsw.isnull().sum().sort_values(ascending=False)"
      ],
      "metadata": {
        "colab": {
          "base_uri": "https://localhost:8080/"
        },
        "id": "3cFYRAX1eW4y",
        "outputId": "a74e1544-5509-40d2-9c42-c44ea1f14308"
      },
      "execution_count": null,
      "outputs": [
        {
          "output_type": "execute_result",
          "data": {
            "text/plain": [
              "SDT_mg/L                1068\n",
              "CONTAMINANTES            434\n",
              "CALIDAD_CONDUC             6\n",
              "CONDUCT_mS/cm              6\n",
              "ALC_mg/L                   4\n",
              "CALIDAD_ALC                4\n",
              "CALIDAD_SDT_ra             2\n",
              "SDT_M_mg/L                 2\n",
              "CALIDAD_SDT_salin          2\n",
              "CALIDAD_N_NO3              1\n",
              "CALIDAD_DUR                1\n",
              "N_NO3_mg/L                 1\n",
              "DUR_mg/L                   1\n",
              "CUMPLE_CON_COND            0\n",
              "CUMPLE_CON_ALC             0\n",
              "SEMAFORO                   0\n",
              "CALIDAD_FE                 0\n",
              "FE_TOT_mg/L                0\n",
              "CALIDAD_MN                 0\n",
              "CUMPLE_CON_SDT_ra          0\n",
              "CUMPLE_CON_SDT_salin       0\n",
              "CLAVE                      0\n",
              "CUMPLE_CON_FLUO            0\n",
              "CUMPLE_CON_DUR             0\n",
              "CALIDAD_PB                 0\n",
              "CUMPLE_CON_CF              0\n",
              "CUMPLE_CON_NO3             0\n",
              "CUMPLE_CON_AS              0\n",
              "CUMPLE_CON_CD              0\n",
              "CUMPLE_CON_CR              0\n",
              "CUMPLE_CON_HG              0\n",
              "CUMPLE_CON_PB              0\n",
              "CUMPLE_CON_MN              0\n",
              "MN_TOT_mg/L                0\n",
              "CD_TOT_mg/L                0\n",
              "PB_TOT_mg/L                0\n",
              "CALIDAD_HG                 0\n",
              "ORGANISMO_DE_CUENCA        0\n",
              "ESTADO                     0\n",
              "MUNICIPIO                  0\n",
              "ACUIFERO                   0\n",
              "SUBTIPO                    0\n",
              "LONGITUD                   0\n",
              "LATITUD                    0\n",
              "PERIODO                    0\n",
              "FLUORUROS_mg/L             0\n",
              "CALIDAD_FLUO               0\n",
              "COLI_FEC_NMP/100_mL        0\n",
              "CALIDAD_COLI_FEC           0\n",
              "AS_TOT_mg/L                0\n",
              "CALIDAD_AS                 0\n",
              "SITIO                      0\n",
              "CALIDAD_CD                 0\n",
              "CR_TOT_mg/L                0\n",
              "CALIDAD_CR                 0\n",
              "HG_TOT_mg/L                0\n",
              "CUMPLE_CON_FE              0\n",
              "dtype: int64"
            ]
          },
          "metadata": {},
          "execution_count": 4
        }
      ]
    },
    {
      "cell_type": "markdown",
      "source": [
        "Usames el siguiente bloque de codigo para conocer la cantidad de diferentes valores que cada columna contiene. Despues clasificarmos la forma en como seran tratados los datos nulos por columna , agregando el nombre de la columna las listas \"fill_moda\" o \"fill_mediana\"."
      ],
      "metadata": {
        "id": "gySo6oJmojv2"
      }
    },
    {
      "cell_type": "code",
      "source": [
        "fill_moda = [\"CALIDAD_ALC\",\"CALIDAD_SDT_ra\",\"CALIDAD_SDT_salin\",\"CALIDAD_N_NO3\",\"CALIDAD_DUR\",\"CONTAMINANTES\",\"CALIDAD_CONDUC\"]\n",
        "fill_mediana = [\"CONDUCT_mS/cm\",\"ALC_mg/L\",\"SDT_M_mg/L\",\"N_NO3_mg/L\",\"DUR_mg/L\"]\n",
        "dropna = [\"SDT_mg/L\"]"
      ],
      "metadata": {
        "id": "-R_44n7znCHJ"
      },
      "execution_count": null,
      "outputs": []
    },
    {
      "cell_type": "markdown",
      "source": [
        "Remplazamos por moda"
      ],
      "metadata": {
        "id": "4ZEuKbc11QD3"
      }
    },
    {
      "cell_type": "code",
      "source": [
        "for c in fill_moda:\n",
        "  dfsw[c].fillna(dfsw[c].mode()[0], inplace=True)"
      ],
      "metadata": {
        "id": "rY2HfzEO07lR"
      },
      "execution_count": null,
      "outputs": []
    },
    {
      "cell_type": "markdown",
      "source": [
        "Remplazamos por mediana"
      ],
      "metadata": {
        "id": "xpC340DGpyAd"
      }
    },
    {
      "cell_type": "code",
      "source": [
        "for c in fill_mediana:\n",
        "  dfsw[c].fillna(dfsw[c].median(), inplace=True)"
      ],
      "metadata": {
        "id": "PWaPADUcp0Li"
      },
      "execution_count": null,
      "outputs": []
    },
    {
      "cell_type": "markdown",
      "source": [
        "Mostramos la longitud del dataset"
      ],
      "metadata": {
        "id": "l_cGvuQ1fp5P"
      }
    },
    {
      "cell_type": "code",
      "source": [
        "len(dfsw)"
      ],
      "metadata": {
        "colab": {
          "base_uri": "https://localhost:8080/"
        },
        "id": "hCv9zXFDfdiQ",
        "outputId": "a58bf840-9916-49f7-aa58-1fe72a87e3b1"
      },
      "execution_count": null,
      "outputs": [
        {
          "output_type": "execute_result",
          "data": {
            "text/plain": [
              "1068"
            ]
          },
          "metadata": {},
          "execution_count": 8
        }
      ]
    },
    {
      "cell_type": "markdown",
      "source": [
        "Como se puede apreciar la columna SDT_mg/L se encuentra vacía en su totalidad, por lo cual se procederá a eliminarla"
      ],
      "metadata": {
        "id": "74QCvhl7hiI_"
      }
    },
    {
      "cell_type": "markdown",
      "source": [
        "Usamos el método drop para eliminar la columna con valores vacíos"
      ],
      "metadata": {
        "id": "RdcW6kexhv8I"
      }
    },
    {
      "cell_type": "code",
      "source": [
        "dfsw.drop(\"SDT_mg/L\",axis=1,inplace=True)"
      ],
      "metadata": {
        "id": "q9QXvHWrhgOr"
      },
      "execution_count": null,
      "outputs": []
    },
    {
      "cell_type": "markdown",
      "source": [
        "Verificamos que ya no exitan datos nulos en el dataset"
      ],
      "metadata": {
        "id": "brkSvplYqCt3"
      }
    },
    {
      "cell_type": "code",
      "source": [
        "dfsw.isnull().sum().sort_values(ascending=False)"
      ],
      "metadata": {
        "colab": {
          "base_uri": "https://localhost:8080/"
        },
        "id": "3ya1L9AQqFZl",
        "outputId": "e056df28-8485-4ba6-ac68-94f0721800e3"
      },
      "execution_count": null,
      "outputs": [
        {
          "output_type": "execute_result",
          "data": {
            "text/plain": [
              "CLAVE                   0\n",
              "SITIO                   0\n",
              "CALIDAD_CR              0\n",
              "HG_TOT_mg/L             0\n",
              "CALIDAD_HG              0\n",
              "PB_TOT_mg/L             0\n",
              "CALIDAD_PB              0\n",
              "MN_TOT_mg/L             0\n",
              "CALIDAD_MN              0\n",
              "FE_TOT_mg/L             0\n",
              "CALIDAD_FE              0\n",
              "SEMAFORO                0\n",
              "CONTAMINANTES           0\n",
              "CUMPLE_CON_ALC          0\n",
              "CUMPLE_CON_COND         0\n",
              "CUMPLE_CON_SDT_ra       0\n",
              "CUMPLE_CON_SDT_salin    0\n",
              "CUMPLE_CON_FLUO         0\n",
              "CUMPLE_CON_DUR          0\n",
              "CUMPLE_CON_CF           0\n",
              "CUMPLE_CON_NO3          0\n",
              "CUMPLE_CON_AS           0\n",
              "CUMPLE_CON_CD           0\n",
              "CUMPLE_CON_CR           0\n",
              "CUMPLE_CON_HG           0\n",
              "CUMPLE_CON_PB           0\n",
              "CUMPLE_CON_MN           0\n",
              "CR_TOT_mg/L             0\n",
              "CALIDAD_CD              0\n",
              "CD_TOT_mg/L             0\n",
              "CALIDAD_CONDUC          0\n",
              "ORGANISMO_DE_CUENCA     0\n",
              "ESTADO                  0\n",
              "MUNICIPIO               0\n",
              "ACUIFERO                0\n",
              "SUBTIPO                 0\n",
              "LONGITUD                0\n",
              "LATITUD                 0\n",
              "PERIODO                 0\n",
              "ALC_mg/L                0\n",
              "CALIDAD_ALC             0\n",
              "CONDUCT_mS/cm           0\n",
              "SDT_M_mg/L              0\n",
              "CALIDAD_AS              0\n",
              "CALIDAD_SDT_ra          0\n",
              "CALIDAD_SDT_salin       0\n",
              "FLUORUROS_mg/L          0\n",
              "CALIDAD_FLUO            0\n",
              "DUR_mg/L                0\n",
              "CALIDAD_DUR             0\n",
              "COLI_FEC_NMP/100_mL     0\n",
              "CALIDAD_COLI_FEC        0\n",
              "N_NO3_mg/L              0\n",
              "CALIDAD_N_NO3           0\n",
              "AS_TOT_mg/L             0\n",
              "CUMPLE_CON_FE           0\n",
              "dtype: int64"
            ]
          },
          "metadata": {},
          "execution_count": 10
        }
      ]
    },
    {
      "cell_type": "markdown",
      "source": [
        "Como sabemos muchos modelos no toman en cuenta strings como entrada, es por esto que podemos encodificar estas variables con 0 y 1 mediante el metodo get_dummies() para convertir variables categoricas en dummy variables."
      ],
      "metadata": {
        "id": "4piA0KMOqmZe"
      }
    },
    {
      "cell_type": "code",
      "source": [
        "dfsw[\"CONTAMINANTES\"].value_counts()"
      ],
      "metadata": {
        "colab": {
          "base_uri": "https://localhost:8080/"
        },
        "id": "NevLKLHisGkk",
        "outputId": "7134678f-5832-40be-f4b1-25aaa6c274c4"
      },
      "execution_count": null,
      "outputs": [
        {
          "output_type": "execute_result",
          "data": {
            "text/plain": [
              "FLUO,                                            512\n",
              "DT,                                               65\n",
              "FLUO,AS,                                          51\n",
              "CF,                                               31\n",
              "AS,                                               31\n",
              "                                                ... \n",
              "ALC,CONDUC,SDT_ra,SDT_salin,DT,NO3,                1\n",
              "ALC,CONDUC,SDT_ra,SDT_salin,FLUO,DT,AS,MN,FE,      1\n",
              "PB,MN,FE,                                          1\n",
              "ALC,AS,FE,                                         1\n",
              "ALC,DT,NO3,                                        1\n",
              "Name: CONTAMINANTES, Length: 126, dtype: int64"
            ]
          },
          "metadata": {},
          "execution_count": 11
        }
      ]
    },
    {
      "cell_type": "code",
      "source": [
        "dftmp = dfsw[\"CONTAMINANTES\"].str.get_dummies(sep=',')\n",
        "clean_dfsw = pd.concat([dfsw,dftmp], axis=1)\n",
        "clean_dfsw.head()"
      ],
      "metadata": {
        "colab": {
          "base_uri": "https://localhost:8080/",
          "height": 392
        },
        "id": "Z_VUZk7ZsDxS",
        "outputId": "82838c93-1cae-45f3-c97b-dc270e310956"
      },
      "execution_count": null,
      "outputs": [
        {
          "output_type": "execute_result",
          "data": {
            "text/plain": [
              "       CLAVE                   SITIO           ORGANISMO_DE_CUENCA  \\\n",
              "0     DLAGU6            POZO SAN GIL       LERMA SANTIAGO PACIFICO   \n",
              "1  DLAGU6516  POZO R013 CAÑADA HONDA       LERMA SANTIAGO PACIFICO   \n",
              "2     DLAGU7              POZO COSIO       LERMA SANTIAGO PACIFICO   \n",
              "3     DLAGU9      POZO EL SALITRILLO       LERMA SANTIAGO PACIFICO   \n",
              "4   DLBAJ107      RANCHO EL TECOLOTE  PENINSULA DE BAJA CALIFORNIA   \n",
              "\n",
              "                ESTADO        MUNICIPIO                 ACUIFERO SUBTIPO  \\\n",
              "0       AGUASCALIENTES         ASIENTOS       VALLE DE CHICALOTE    POZO   \n",
              "1       AGUASCALIENTES   AGUASCALIENTES       VALLE DE CHICALOTE    POZO   \n",
              "2       AGUASCALIENTES            COSIO  VALLE DE AGUASCALIENTES    POZO   \n",
              "3       AGUASCALIENTES  RINCON DE ROMOS  VALLE DE AGUASCALIENTES    POZO   \n",
              "4  BAJA CALIFORNIA SUR           LA PAZ             TODOS SANTOS    POZO   \n",
              "\n",
              "    LONGITUD   LATITUD  PERIODO  ALC_mg/L CALIDAD_ALC  CONDUCT_mS/cm  \\\n",
              "0 -102.02210  22.20887     2020   229.990        Alta          940.0   \n",
              "1 -102.20075  21.99958     2020   231.990        Alta          608.0   \n",
              "2 -102.28801  22.36685     2020   204.920        Alta          532.0   \n",
              "3 -102.29449  22.18435     2020   327.000        Alta          686.0   \n",
              "4 -110.24480  23.45138     2020   309.885        Alta         1841.0   \n",
              "\n",
              "          CALIDAD_CONDUC  SDT_M_mg/L                CALIDAD_SDT_ra  \\\n",
              "0  Permisible para riego       603.6            Cultivos sensibles   \n",
              "1       Buena para riego       445.4          Excelente para riego   \n",
              "2       Buena para riego       342.0          Excelente para riego   \n",
              "3       Buena para riego       478.6          Excelente para riego   \n",
              "4  Permisible para riego      1179.0  Cultivos con manejo especial   \n",
              "\n",
              "      CALIDAD_SDT_salin  FLUORUROS_mg/L      CALIDAD_FLUO  DUR_mg/L  \\\n",
              "0       Potable - Dulce          0.9766  Potable - Optima  213.7320   \n",
              "1       Potable - Dulce          0.9298  Potable - Optima  185.0514   \n",
              "2       Potable - Dulce          1.8045              Alta  120.7190   \n",
              "3       Potable - Dulce          1.1229  Potable - Optima  199.8790   \n",
              "4  Ligeramente salobres          0.2343              Baja  476.9872   \n",
              "\n",
              "      CALIDAD_DUR  COLI_FEC_NMP/100_mL     CALIDAD_COLI_FEC  N_NO3_mg/L  \\\n",
              "0  Potable - Dura                  1.1  Potable - Excelente    4.184656   \n",
              "1  Potable - Dura                  1.1  Potable - Excelente    5.750110   \n",
              "2  Potable - Dura                  1.1  Potable - Excelente    1.449803   \n",
              "3  Potable - Dura                  1.1  Potable - Excelente    1.258597   \n",
              "4  Potable - Dura                291.0            Aceptable   15.672251   \n",
              "\n",
              "             CALIDAD_N_NO3  AS_TOT_mg/L           CALIDAD_AS  CD_TOT_mg/L  \\\n",
              "0      Potable - Excelente       0.0161       Apta como FAAP        0.003   \n",
              "1  Potable - Buena calidad       0.0134       Apta como FAAP        0.003   \n",
              "2      Potable - Excelente       0.0370    No apta como FAAP        0.003   \n",
              "3      Potable - Excelente       0.0154       Apta como FAAP        0.003   \n",
              "4        No apta como FAAP       0.0100  Potable - Excelente        0.003   \n",
              "\n",
              "            CALIDAD_CD  CR_TOT_mg/L           CALIDAD_CR  HG_TOT_mg/L  \\\n",
              "0  Potable - Excelente        0.005  Potable - Excelente       0.0005   \n",
              "1  Potable - Excelente        0.005  Potable - Excelente       0.0005   \n",
              "2  Potable - Excelente        0.005  Potable - Excelente       0.0005   \n",
              "3  Potable - Excelente        0.005  Potable - Excelente       0.0005   \n",
              "4  Potable - Excelente        0.005  Potable - Excelente       0.0005   \n",
              "\n",
              "            CALIDAD_HG  PB_TOT_mg/L           CALIDAD_PB  MN_TOT_mg/L  \\\n",
              "0  Potable - Excelente        0.005  Potable - Excelente       0.0015   \n",
              "1  Potable - Excelente        0.005  Potable - Excelente       0.0015   \n",
              "2  Potable - Excelente        0.005  Potable - Excelente       0.0015   \n",
              "3  Potable - Excelente        0.005  Potable - Excelente       0.0015   \n",
              "4  Potable - Excelente        0.005  Potable - Excelente       0.0015   \n",
              "\n",
              "            CALIDAD_MN  FE_TOT_mg/L           CALIDAD_FE SEMAFORO  \\\n",
              "0  Potable - Excelente       0.0891  Potable - Excelente    Verde   \n",
              "1  Potable - Excelente       0.0250  Potable - Excelente    Verde   \n",
              "2  Potable - Excelente       0.0250  Potable - Excelente     Rojo   \n",
              "3  Potable - Excelente       0.0250  Potable - Excelente    Verde   \n",
              "4  Potable - Excelente       0.0250  Potable - Excelente     Rojo   \n",
              "\n",
              "  CONTAMINANTES CUMPLE_CON_ALC CUMPLE_CON_COND CUMPLE_CON_SDT_ra  \\\n",
              "0         FLUO,             SI              SI                SI   \n",
              "1         FLUO,             SI              SI                SI   \n",
              "2      FLUO,AS,             SI              SI                SI   \n",
              "3         FLUO,             SI              SI                SI   \n",
              "4          NO3,             SI              SI                SI   \n",
              "\n",
              "  CUMPLE_CON_SDT_salin CUMPLE_CON_FLUO CUMPLE_CON_DUR CUMPLE_CON_CF  \\\n",
              "0                   SI              SI             SI            SI   \n",
              "1                   SI              SI             SI            SI   \n",
              "2                   SI              NO             SI            SI   \n",
              "3                   SI              SI             SI            SI   \n",
              "4                   SI              SI             SI            SI   \n",
              "\n",
              "  CUMPLE_CON_NO3 CUMPLE_CON_AS CUMPLE_CON_CD CUMPLE_CON_CR CUMPLE_CON_HG  \\\n",
              "0             SI            SI            SI            SI            SI   \n",
              "1             SI            SI            SI            SI            SI   \n",
              "2             SI            NO            SI            SI            SI   \n",
              "3             SI            SI            SI            SI            SI   \n",
              "4             NO            SI            SI            SI            SI   \n",
              "\n",
              "  CUMPLE_CON_PB CUMPLE_CON_MN CUMPLE_CON_FE  ALC  AS  CD  CF  CONDUC  CR  DT  \\\n",
              "0            SI            SI            SI    0   0   0   0       0   0   0   \n",
              "1            SI            SI            SI    0   0   0   0       0   0   0   \n",
              "2            SI            SI            SI    0   1   0   0       0   0   0   \n",
              "3            SI            SI            SI    0   0   0   0       0   0   0   \n",
              "4            SI            SI            SI    0   0   0   0       0   0   0   \n",
              "\n",
              "   FE  FLUO  HG  MN  NI  NO3  PB  SDT_ra  SDT_salin  \n",
              "0   0     1   0   0   0    0   0       0          0  \n",
              "1   0     1   0   0   0    0   0       0          0  \n",
              "2   0     1   0   0   0    0   0       0          0  \n",
              "3   0     1   0   0   0    0   0       0          0  \n",
              "4   0     0   0   0   0    1   0       0          0  "
            ],
            "text/html": [
              "\n",
              "  <div id=\"df-0b65ac30-c6ce-4200-9e88-a73ffd85e971\">\n",
              "    <div class=\"colab-df-container\">\n",
              "      <div>\n",
              "<style scoped>\n",
              "    .dataframe tbody tr th:only-of-type {\n",
              "        vertical-align: middle;\n",
              "    }\n",
              "\n",
              "    .dataframe tbody tr th {\n",
              "        vertical-align: top;\n",
              "    }\n",
              "\n",
              "    .dataframe thead th {\n",
              "        text-align: right;\n",
              "    }\n",
              "</style>\n",
              "<table border=\"1\" class=\"dataframe\">\n",
              "  <thead>\n",
              "    <tr style=\"text-align: right;\">\n",
              "      <th></th>\n",
              "      <th>CLAVE</th>\n",
              "      <th>SITIO</th>\n",
              "      <th>ORGANISMO_DE_CUENCA</th>\n",
              "      <th>ESTADO</th>\n",
              "      <th>MUNICIPIO</th>\n",
              "      <th>ACUIFERO</th>\n",
              "      <th>SUBTIPO</th>\n",
              "      <th>LONGITUD</th>\n",
              "      <th>LATITUD</th>\n",
              "      <th>PERIODO</th>\n",
              "      <th>ALC_mg/L</th>\n",
              "      <th>CALIDAD_ALC</th>\n",
              "      <th>CONDUCT_mS/cm</th>\n",
              "      <th>CALIDAD_CONDUC</th>\n",
              "      <th>SDT_M_mg/L</th>\n",
              "      <th>CALIDAD_SDT_ra</th>\n",
              "      <th>CALIDAD_SDT_salin</th>\n",
              "      <th>FLUORUROS_mg/L</th>\n",
              "      <th>CALIDAD_FLUO</th>\n",
              "      <th>DUR_mg/L</th>\n",
              "      <th>CALIDAD_DUR</th>\n",
              "      <th>COLI_FEC_NMP/100_mL</th>\n",
              "      <th>CALIDAD_COLI_FEC</th>\n",
              "      <th>N_NO3_mg/L</th>\n",
              "      <th>CALIDAD_N_NO3</th>\n",
              "      <th>AS_TOT_mg/L</th>\n",
              "      <th>CALIDAD_AS</th>\n",
              "      <th>CD_TOT_mg/L</th>\n",
              "      <th>CALIDAD_CD</th>\n",
              "      <th>CR_TOT_mg/L</th>\n",
              "      <th>CALIDAD_CR</th>\n",
              "      <th>HG_TOT_mg/L</th>\n",
              "      <th>CALIDAD_HG</th>\n",
              "      <th>PB_TOT_mg/L</th>\n",
              "      <th>CALIDAD_PB</th>\n",
              "      <th>MN_TOT_mg/L</th>\n",
              "      <th>CALIDAD_MN</th>\n",
              "      <th>FE_TOT_mg/L</th>\n",
              "      <th>CALIDAD_FE</th>\n",
              "      <th>SEMAFORO</th>\n",
              "      <th>CONTAMINANTES</th>\n",
              "      <th>CUMPLE_CON_ALC</th>\n",
              "      <th>CUMPLE_CON_COND</th>\n",
              "      <th>CUMPLE_CON_SDT_ra</th>\n",
              "      <th>CUMPLE_CON_SDT_salin</th>\n",
              "      <th>CUMPLE_CON_FLUO</th>\n",
              "      <th>CUMPLE_CON_DUR</th>\n",
              "      <th>CUMPLE_CON_CF</th>\n",
              "      <th>CUMPLE_CON_NO3</th>\n",
              "      <th>CUMPLE_CON_AS</th>\n",
              "      <th>CUMPLE_CON_CD</th>\n",
              "      <th>CUMPLE_CON_CR</th>\n",
              "      <th>CUMPLE_CON_HG</th>\n",
              "      <th>CUMPLE_CON_PB</th>\n",
              "      <th>CUMPLE_CON_MN</th>\n",
              "      <th>CUMPLE_CON_FE</th>\n",
              "      <th>ALC</th>\n",
              "      <th>AS</th>\n",
              "      <th>CD</th>\n",
              "      <th>CF</th>\n",
              "      <th>CONDUC</th>\n",
              "      <th>CR</th>\n",
              "      <th>DT</th>\n",
              "      <th>FE</th>\n",
              "      <th>FLUO</th>\n",
              "      <th>HG</th>\n",
              "      <th>MN</th>\n",
              "      <th>NI</th>\n",
              "      <th>NO3</th>\n",
              "      <th>PB</th>\n",
              "      <th>SDT_ra</th>\n",
              "      <th>SDT_salin</th>\n",
              "    </tr>\n",
              "  </thead>\n",
              "  <tbody>\n",
              "    <tr>\n",
              "      <th>0</th>\n",
              "      <td>DLAGU6</td>\n",
              "      <td>POZO SAN GIL</td>\n",
              "      <td>LERMA SANTIAGO PACIFICO</td>\n",
              "      <td>AGUASCALIENTES</td>\n",
              "      <td>ASIENTOS</td>\n",
              "      <td>VALLE DE CHICALOTE</td>\n",
              "      <td>POZO</td>\n",
              "      <td>-102.02210</td>\n",
              "      <td>22.20887</td>\n",
              "      <td>2020</td>\n",
              "      <td>229.990</td>\n",
              "      <td>Alta</td>\n",
              "      <td>940.0</td>\n",
              "      <td>Permisible para riego</td>\n",
              "      <td>603.6</td>\n",
              "      <td>Cultivos sensibles</td>\n",
              "      <td>Potable - Dulce</td>\n",
              "      <td>0.9766</td>\n",
              "      <td>Potable - Optima</td>\n",
              "      <td>213.7320</td>\n",
              "      <td>Potable - Dura</td>\n",
              "      <td>1.1</td>\n",
              "      <td>Potable - Excelente</td>\n",
              "      <td>4.184656</td>\n",
              "      <td>Potable - Excelente</td>\n",
              "      <td>0.0161</td>\n",
              "      <td>Apta como FAAP</td>\n",
              "      <td>0.003</td>\n",
              "      <td>Potable - Excelente</td>\n",
              "      <td>0.005</td>\n",
              "      <td>Potable - Excelente</td>\n",
              "      <td>0.0005</td>\n",
              "      <td>Potable - Excelente</td>\n",
              "      <td>0.005</td>\n",
              "      <td>Potable - Excelente</td>\n",
              "      <td>0.0015</td>\n",
              "      <td>Potable - Excelente</td>\n",
              "      <td>0.0891</td>\n",
              "      <td>Potable - Excelente</td>\n",
              "      <td>Verde</td>\n",
              "      <td>FLUO,</td>\n",
              "      <td>SI</td>\n",
              "      <td>SI</td>\n",
              "      <td>SI</td>\n",
              "      <td>SI</td>\n",
              "      <td>SI</td>\n",
              "      <td>SI</td>\n",
              "      <td>SI</td>\n",
              "      <td>SI</td>\n",
              "      <td>SI</td>\n",
              "      <td>SI</td>\n",
              "      <td>SI</td>\n",
              "      <td>SI</td>\n",
              "      <td>SI</td>\n",
              "      <td>SI</td>\n",
              "      <td>SI</td>\n",
              "      <td>0</td>\n",
              "      <td>0</td>\n",
              "      <td>0</td>\n",
              "      <td>0</td>\n",
              "      <td>0</td>\n",
              "      <td>0</td>\n",
              "      <td>0</td>\n",
              "      <td>0</td>\n",
              "      <td>1</td>\n",
              "      <td>0</td>\n",
              "      <td>0</td>\n",
              "      <td>0</td>\n",
              "      <td>0</td>\n",
              "      <td>0</td>\n",
              "      <td>0</td>\n",
              "      <td>0</td>\n",
              "    </tr>\n",
              "    <tr>\n",
              "      <th>1</th>\n",
              "      <td>DLAGU6516</td>\n",
              "      <td>POZO R013 CAÑADA HONDA</td>\n",
              "      <td>LERMA SANTIAGO PACIFICO</td>\n",
              "      <td>AGUASCALIENTES</td>\n",
              "      <td>AGUASCALIENTES</td>\n",
              "      <td>VALLE DE CHICALOTE</td>\n",
              "      <td>POZO</td>\n",
              "      <td>-102.20075</td>\n",
              "      <td>21.99958</td>\n",
              "      <td>2020</td>\n",
              "      <td>231.990</td>\n",
              "      <td>Alta</td>\n",
              "      <td>608.0</td>\n",
              "      <td>Buena para riego</td>\n",
              "      <td>445.4</td>\n",
              "      <td>Excelente para riego</td>\n",
              "      <td>Potable - Dulce</td>\n",
              "      <td>0.9298</td>\n",
              "      <td>Potable - Optima</td>\n",
              "      <td>185.0514</td>\n",
              "      <td>Potable - Dura</td>\n",
              "      <td>1.1</td>\n",
              "      <td>Potable - Excelente</td>\n",
              "      <td>5.750110</td>\n",
              "      <td>Potable - Buena calidad</td>\n",
              "      <td>0.0134</td>\n",
              "      <td>Apta como FAAP</td>\n",
              "      <td>0.003</td>\n",
              "      <td>Potable - Excelente</td>\n",
              "      <td>0.005</td>\n",
              "      <td>Potable - Excelente</td>\n",
              "      <td>0.0005</td>\n",
              "      <td>Potable - Excelente</td>\n",
              "      <td>0.005</td>\n",
              "      <td>Potable - Excelente</td>\n",
              "      <td>0.0015</td>\n",
              "      <td>Potable - Excelente</td>\n",
              "      <td>0.0250</td>\n",
              "      <td>Potable - Excelente</td>\n",
              "      <td>Verde</td>\n",
              "      <td>FLUO,</td>\n",
              "      <td>SI</td>\n",
              "      <td>SI</td>\n",
              "      <td>SI</td>\n",
              "      <td>SI</td>\n",
              "      <td>SI</td>\n",
              "      <td>SI</td>\n",
              "      <td>SI</td>\n",
              "      <td>SI</td>\n",
              "      <td>SI</td>\n",
              "      <td>SI</td>\n",
              "      <td>SI</td>\n",
              "      <td>SI</td>\n",
              "      <td>SI</td>\n",
              "      <td>SI</td>\n",
              "      <td>SI</td>\n",
              "      <td>0</td>\n",
              "      <td>0</td>\n",
              "      <td>0</td>\n",
              "      <td>0</td>\n",
              "      <td>0</td>\n",
              "      <td>0</td>\n",
              "      <td>0</td>\n",
              "      <td>0</td>\n",
              "      <td>1</td>\n",
              "      <td>0</td>\n",
              "      <td>0</td>\n",
              "      <td>0</td>\n",
              "      <td>0</td>\n",
              "      <td>0</td>\n",
              "      <td>0</td>\n",
              "      <td>0</td>\n",
              "    </tr>\n",
              "    <tr>\n",
              "      <th>2</th>\n",
              "      <td>DLAGU7</td>\n",
              "      <td>POZO COSIO</td>\n",
              "      <td>LERMA SANTIAGO PACIFICO</td>\n",
              "      <td>AGUASCALIENTES</td>\n",
              "      <td>COSIO</td>\n",
              "      <td>VALLE DE AGUASCALIENTES</td>\n",
              "      <td>POZO</td>\n",
              "      <td>-102.28801</td>\n",
              "      <td>22.36685</td>\n",
              "      <td>2020</td>\n",
              "      <td>204.920</td>\n",
              "      <td>Alta</td>\n",
              "      <td>532.0</td>\n",
              "      <td>Buena para riego</td>\n",
              "      <td>342.0</td>\n",
              "      <td>Excelente para riego</td>\n",
              "      <td>Potable - Dulce</td>\n",
              "      <td>1.8045</td>\n",
              "      <td>Alta</td>\n",
              "      <td>120.7190</td>\n",
              "      <td>Potable - Dura</td>\n",
              "      <td>1.1</td>\n",
              "      <td>Potable - Excelente</td>\n",
              "      <td>1.449803</td>\n",
              "      <td>Potable - Excelente</td>\n",
              "      <td>0.0370</td>\n",
              "      <td>No apta como FAAP</td>\n",
              "      <td>0.003</td>\n",
              "      <td>Potable - Excelente</td>\n",
              "      <td>0.005</td>\n",
              "      <td>Potable - Excelente</td>\n",
              "      <td>0.0005</td>\n",
              "      <td>Potable - Excelente</td>\n",
              "      <td>0.005</td>\n",
              "      <td>Potable - Excelente</td>\n",
              "      <td>0.0015</td>\n",
              "      <td>Potable - Excelente</td>\n",
              "      <td>0.0250</td>\n",
              "      <td>Potable - Excelente</td>\n",
              "      <td>Rojo</td>\n",
              "      <td>FLUO,AS,</td>\n",
              "      <td>SI</td>\n",
              "      <td>SI</td>\n",
              "      <td>SI</td>\n",
              "      <td>SI</td>\n",
              "      <td>NO</td>\n",
              "      <td>SI</td>\n",
              "      <td>SI</td>\n",
              "      <td>SI</td>\n",
              "      <td>NO</td>\n",
              "      <td>SI</td>\n",
              "      <td>SI</td>\n",
              "      <td>SI</td>\n",
              "      <td>SI</td>\n",
              "      <td>SI</td>\n",
              "      <td>SI</td>\n",
              "      <td>0</td>\n",
              "      <td>1</td>\n",
              "      <td>0</td>\n",
              "      <td>0</td>\n",
              "      <td>0</td>\n",
              "      <td>0</td>\n",
              "      <td>0</td>\n",
              "      <td>0</td>\n",
              "      <td>1</td>\n",
              "      <td>0</td>\n",
              "      <td>0</td>\n",
              "      <td>0</td>\n",
              "      <td>0</td>\n",
              "      <td>0</td>\n",
              "      <td>0</td>\n",
              "      <td>0</td>\n",
              "    </tr>\n",
              "    <tr>\n",
              "      <th>3</th>\n",
              "      <td>DLAGU9</td>\n",
              "      <td>POZO EL SALITRILLO</td>\n",
              "      <td>LERMA SANTIAGO PACIFICO</td>\n",
              "      <td>AGUASCALIENTES</td>\n",
              "      <td>RINCON DE ROMOS</td>\n",
              "      <td>VALLE DE AGUASCALIENTES</td>\n",
              "      <td>POZO</td>\n",
              "      <td>-102.29449</td>\n",
              "      <td>22.18435</td>\n",
              "      <td>2020</td>\n",
              "      <td>327.000</td>\n",
              "      <td>Alta</td>\n",
              "      <td>686.0</td>\n",
              "      <td>Buena para riego</td>\n",
              "      <td>478.6</td>\n",
              "      <td>Excelente para riego</td>\n",
              "      <td>Potable - Dulce</td>\n",
              "      <td>1.1229</td>\n",
              "      <td>Potable - Optima</td>\n",
              "      <td>199.8790</td>\n",
              "      <td>Potable - Dura</td>\n",
              "      <td>1.1</td>\n",
              "      <td>Potable - Excelente</td>\n",
              "      <td>1.258597</td>\n",
              "      <td>Potable - Excelente</td>\n",
              "      <td>0.0154</td>\n",
              "      <td>Apta como FAAP</td>\n",
              "      <td>0.003</td>\n",
              "      <td>Potable - Excelente</td>\n",
              "      <td>0.005</td>\n",
              "      <td>Potable - Excelente</td>\n",
              "      <td>0.0005</td>\n",
              "      <td>Potable - Excelente</td>\n",
              "      <td>0.005</td>\n",
              "      <td>Potable - Excelente</td>\n",
              "      <td>0.0015</td>\n",
              "      <td>Potable - Excelente</td>\n",
              "      <td>0.0250</td>\n",
              "      <td>Potable - Excelente</td>\n",
              "      <td>Verde</td>\n",
              "      <td>FLUO,</td>\n",
              "      <td>SI</td>\n",
              "      <td>SI</td>\n",
              "      <td>SI</td>\n",
              "      <td>SI</td>\n",
              "      <td>SI</td>\n",
              "      <td>SI</td>\n",
              "      <td>SI</td>\n",
              "      <td>SI</td>\n",
              "      <td>SI</td>\n",
              "      <td>SI</td>\n",
              "      <td>SI</td>\n",
              "      <td>SI</td>\n",
              "      <td>SI</td>\n",
              "      <td>SI</td>\n",
              "      <td>SI</td>\n",
              "      <td>0</td>\n",
              "      <td>0</td>\n",
              "      <td>0</td>\n",
              "      <td>0</td>\n",
              "      <td>0</td>\n",
              "      <td>0</td>\n",
              "      <td>0</td>\n",
              "      <td>0</td>\n",
              "      <td>1</td>\n",
              "      <td>0</td>\n",
              "      <td>0</td>\n",
              "      <td>0</td>\n",
              "      <td>0</td>\n",
              "      <td>0</td>\n",
              "      <td>0</td>\n",
              "      <td>0</td>\n",
              "    </tr>\n",
              "    <tr>\n",
              "      <th>4</th>\n",
              "      <td>DLBAJ107</td>\n",
              "      <td>RANCHO EL TECOLOTE</td>\n",
              "      <td>PENINSULA DE BAJA CALIFORNIA</td>\n",
              "      <td>BAJA CALIFORNIA SUR</td>\n",
              "      <td>LA PAZ</td>\n",
              "      <td>TODOS SANTOS</td>\n",
              "      <td>POZO</td>\n",
              "      <td>-110.24480</td>\n",
              "      <td>23.45138</td>\n",
              "      <td>2020</td>\n",
              "      <td>309.885</td>\n",
              "      <td>Alta</td>\n",
              "      <td>1841.0</td>\n",
              "      <td>Permisible para riego</td>\n",
              "      <td>1179.0</td>\n",
              "      <td>Cultivos con manejo especial</td>\n",
              "      <td>Ligeramente salobres</td>\n",
              "      <td>0.2343</td>\n",
              "      <td>Baja</td>\n",
              "      <td>476.9872</td>\n",
              "      <td>Potable - Dura</td>\n",
              "      <td>291.0</td>\n",
              "      <td>Aceptable</td>\n",
              "      <td>15.672251</td>\n",
              "      <td>No apta como FAAP</td>\n",
              "      <td>0.0100</td>\n",
              "      <td>Potable - Excelente</td>\n",
              "      <td>0.003</td>\n",
              "      <td>Potable - Excelente</td>\n",
              "      <td>0.005</td>\n",
              "      <td>Potable - Excelente</td>\n",
              "      <td>0.0005</td>\n",
              "      <td>Potable - Excelente</td>\n",
              "      <td>0.005</td>\n",
              "      <td>Potable - Excelente</td>\n",
              "      <td>0.0015</td>\n",
              "      <td>Potable - Excelente</td>\n",
              "      <td>0.0250</td>\n",
              "      <td>Potable - Excelente</td>\n",
              "      <td>Rojo</td>\n",
              "      <td>NO3,</td>\n",
              "      <td>SI</td>\n",
              "      <td>SI</td>\n",
              "      <td>SI</td>\n",
              "      <td>SI</td>\n",
              "      <td>SI</td>\n",
              "      <td>SI</td>\n",
              "      <td>SI</td>\n",
              "      <td>NO</td>\n",
              "      <td>SI</td>\n",
              "      <td>SI</td>\n",
              "      <td>SI</td>\n",
              "      <td>SI</td>\n",
              "      <td>SI</td>\n",
              "      <td>SI</td>\n",
              "      <td>SI</td>\n",
              "      <td>0</td>\n",
              "      <td>0</td>\n",
              "      <td>0</td>\n",
              "      <td>0</td>\n",
              "      <td>0</td>\n",
              "      <td>0</td>\n",
              "      <td>0</td>\n",
              "      <td>0</td>\n",
              "      <td>0</td>\n",
              "      <td>0</td>\n",
              "      <td>0</td>\n",
              "      <td>0</td>\n",
              "      <td>1</td>\n",
              "      <td>0</td>\n",
              "      <td>0</td>\n",
              "      <td>0</td>\n",
              "    </tr>\n",
              "  </tbody>\n",
              "</table>\n",
              "</div>\n",
              "      <button class=\"colab-df-convert\" onclick=\"convertToInteractive('df-0b65ac30-c6ce-4200-9e88-a73ffd85e971')\"\n",
              "              title=\"Convert this dataframe to an interactive table.\"\n",
              "              style=\"display:none;\">\n",
              "        \n",
              "  <svg xmlns=\"http://www.w3.org/2000/svg\" height=\"24px\"viewBox=\"0 0 24 24\"\n",
              "       width=\"24px\">\n",
              "    <path d=\"M0 0h24v24H0V0z\" fill=\"none\"/>\n",
              "    <path d=\"M18.56 5.44l.94 2.06.94-2.06 2.06-.94-2.06-.94-.94-2.06-.94 2.06-2.06.94zm-11 1L8.5 8.5l.94-2.06 2.06-.94-2.06-.94L8.5 2.5l-.94 2.06-2.06.94zm10 10l.94 2.06.94-2.06 2.06-.94-2.06-.94-.94-2.06-.94 2.06-2.06.94z\"/><path d=\"M17.41 7.96l-1.37-1.37c-.4-.4-.92-.59-1.43-.59-.52 0-1.04.2-1.43.59L10.3 9.45l-7.72 7.72c-.78.78-.78 2.05 0 2.83L4 21.41c.39.39.9.59 1.41.59.51 0 1.02-.2 1.41-.59l7.78-7.78 2.81-2.81c.8-.78.8-2.07 0-2.86zM5.41 20L4 18.59l7.72-7.72 1.47 1.35L5.41 20z\"/>\n",
              "  </svg>\n",
              "      </button>\n",
              "      \n",
              "  <style>\n",
              "    .colab-df-container {\n",
              "      display:flex;\n",
              "      flex-wrap:wrap;\n",
              "      gap: 12px;\n",
              "    }\n",
              "\n",
              "    .colab-df-convert {\n",
              "      background-color: #E8F0FE;\n",
              "      border: none;\n",
              "      border-radius: 50%;\n",
              "      cursor: pointer;\n",
              "      display: none;\n",
              "      fill: #1967D2;\n",
              "      height: 32px;\n",
              "      padding: 0 0 0 0;\n",
              "      width: 32px;\n",
              "    }\n",
              "\n",
              "    .colab-df-convert:hover {\n",
              "      background-color: #E2EBFA;\n",
              "      box-shadow: 0px 1px 2px rgba(60, 64, 67, 0.3), 0px 1px 3px 1px rgba(60, 64, 67, 0.15);\n",
              "      fill: #174EA6;\n",
              "    }\n",
              "\n",
              "    [theme=dark] .colab-df-convert {\n",
              "      background-color: #3B4455;\n",
              "      fill: #D2E3FC;\n",
              "    }\n",
              "\n",
              "    [theme=dark] .colab-df-convert:hover {\n",
              "      background-color: #434B5C;\n",
              "      box-shadow: 0px 1px 3px 1px rgba(0, 0, 0, 0.15);\n",
              "      filter: drop-shadow(0px 1px 2px rgba(0, 0, 0, 0.3));\n",
              "      fill: #FFFFFF;\n",
              "    }\n",
              "  </style>\n",
              "\n",
              "      <script>\n",
              "        const buttonEl =\n",
              "          document.querySelector('#df-0b65ac30-c6ce-4200-9e88-a73ffd85e971 button.colab-df-convert');\n",
              "        buttonEl.style.display =\n",
              "          google.colab.kernel.accessAllowed ? 'block' : 'none';\n",
              "\n",
              "        async function convertToInteractive(key) {\n",
              "          const element = document.querySelector('#df-0b65ac30-c6ce-4200-9e88-a73ffd85e971');\n",
              "          const dataTable =\n",
              "            await google.colab.kernel.invokeFunction('convertToInteractive',\n",
              "                                                     [key], {});\n",
              "          if (!dataTable) return;\n",
              "\n",
              "          const docLinkHtml = 'Like what you see? Visit the ' +\n",
              "            '<a target=\"_blank\" href=https://colab.research.google.com/notebooks/data_table.ipynb>data table notebook</a>'\n",
              "            + ' to learn more about interactive tables.';\n",
              "          element.innerHTML = '';\n",
              "          dataTable['output_type'] = 'display_data';\n",
              "          await google.colab.output.renderOutput(dataTable, element);\n",
              "          const docLink = document.createElement('div');\n",
              "          docLink.innerHTML = docLinkHtml;\n",
              "          element.appendChild(docLink);\n",
              "        }\n",
              "      </script>\n",
              "    </div>\n",
              "  </div>\n",
              "  "
            ]
          },
          "metadata": {},
          "execution_count": 12
        }
      ]
    },
    {
      "cell_type": "markdown",
      "source": [
        "Eliminamos la columna contaminantes, ya que la hemos convertido en columnas dummy"
      ],
      "metadata": {
        "id": "0IxWoPhhEPMb"
      }
    },
    {
      "cell_type": "code",
      "source": [
        "clean_dfsw.drop(\"CONTAMINANTES\",axis=1,inplace=True)"
      ],
      "metadata": {
        "id": "y_crzzsHuQCh"
      },
      "execution_count": null,
      "outputs": []
    },
    {
      "cell_type": "markdown",
      "source": [
        "Usamos los datos ya limpios"
      ],
      "metadata": {
        "id": "dIy1RD0XuoPU"
      }
    },
    {
      "cell_type": "code",
      "source": [
        "df = clean_dfsw.copy()"
      ],
      "metadata": {
        "id": "QYC16yB2vQRA"
      },
      "execution_count": null,
      "outputs": []
    },
    {
      "cell_type": "markdown",
      "source": [
        "Visualizamos como quedo el dataframe"
      ],
      "metadata": {
        "id": "NTezfKfcvZRp"
      }
    },
    {
      "cell_type": "code",
      "source": [
        "df.head()"
      ],
      "metadata": {
        "id": "OzBDJREOvRq1",
        "outputId": "fc1d8fa8-4dfd-43cd-8109-871a00ed3223",
        "colab": {
          "base_uri": "https://localhost:8080/",
          "height": 392
        }
      },
      "execution_count": null,
      "outputs": [
        {
          "output_type": "execute_result",
          "data": {
            "text/plain": [
              "       CLAVE                   SITIO           ORGANISMO_DE_CUENCA  \\\n",
              "0     DLAGU6            POZO SAN GIL       LERMA SANTIAGO PACIFICO   \n",
              "1  DLAGU6516  POZO R013 CAÑADA HONDA       LERMA SANTIAGO PACIFICO   \n",
              "2     DLAGU7              POZO COSIO       LERMA SANTIAGO PACIFICO   \n",
              "3     DLAGU9      POZO EL SALITRILLO       LERMA SANTIAGO PACIFICO   \n",
              "4   DLBAJ107      RANCHO EL TECOLOTE  PENINSULA DE BAJA CALIFORNIA   \n",
              "\n",
              "                ESTADO        MUNICIPIO                 ACUIFERO SUBTIPO  \\\n",
              "0       AGUASCALIENTES         ASIENTOS       VALLE DE CHICALOTE    POZO   \n",
              "1       AGUASCALIENTES   AGUASCALIENTES       VALLE DE CHICALOTE    POZO   \n",
              "2       AGUASCALIENTES            COSIO  VALLE DE AGUASCALIENTES    POZO   \n",
              "3       AGUASCALIENTES  RINCON DE ROMOS  VALLE DE AGUASCALIENTES    POZO   \n",
              "4  BAJA CALIFORNIA SUR           LA PAZ             TODOS SANTOS    POZO   \n",
              "\n",
              "    LONGITUD   LATITUD  PERIODO  ALC_mg/L CALIDAD_ALC  CONDUCT_mS/cm  \\\n",
              "0 -102.02210  22.20887     2020   229.990        Alta          940.0   \n",
              "1 -102.20075  21.99958     2020   231.990        Alta          608.0   \n",
              "2 -102.28801  22.36685     2020   204.920        Alta          532.0   \n",
              "3 -102.29449  22.18435     2020   327.000        Alta          686.0   \n",
              "4 -110.24480  23.45138     2020   309.885        Alta         1841.0   \n",
              "\n",
              "          CALIDAD_CONDUC  SDT_M_mg/L                CALIDAD_SDT_ra  \\\n",
              "0  Permisible para riego       603.6            Cultivos sensibles   \n",
              "1       Buena para riego       445.4          Excelente para riego   \n",
              "2       Buena para riego       342.0          Excelente para riego   \n",
              "3       Buena para riego       478.6          Excelente para riego   \n",
              "4  Permisible para riego      1179.0  Cultivos con manejo especial   \n",
              "\n",
              "      CALIDAD_SDT_salin  FLUORUROS_mg/L      CALIDAD_FLUO  DUR_mg/L  \\\n",
              "0       Potable - Dulce          0.9766  Potable - Optima  213.7320   \n",
              "1       Potable - Dulce          0.9298  Potable - Optima  185.0514   \n",
              "2       Potable - Dulce          1.8045              Alta  120.7190   \n",
              "3       Potable - Dulce          1.1229  Potable - Optima  199.8790   \n",
              "4  Ligeramente salobres          0.2343              Baja  476.9872   \n",
              "\n",
              "      CALIDAD_DUR  COLI_FEC_NMP/100_mL     CALIDAD_COLI_FEC  N_NO3_mg/L  \\\n",
              "0  Potable - Dura                  1.1  Potable - Excelente    4.184656   \n",
              "1  Potable - Dura                  1.1  Potable - Excelente    5.750110   \n",
              "2  Potable - Dura                  1.1  Potable - Excelente    1.449803   \n",
              "3  Potable - Dura                  1.1  Potable - Excelente    1.258597   \n",
              "4  Potable - Dura                291.0            Aceptable   15.672251   \n",
              "\n",
              "             CALIDAD_N_NO3  AS_TOT_mg/L           CALIDAD_AS  CD_TOT_mg/L  \\\n",
              "0      Potable - Excelente       0.0161       Apta como FAAP        0.003   \n",
              "1  Potable - Buena calidad       0.0134       Apta como FAAP        0.003   \n",
              "2      Potable - Excelente       0.0370    No apta como FAAP        0.003   \n",
              "3      Potable - Excelente       0.0154       Apta como FAAP        0.003   \n",
              "4        No apta como FAAP       0.0100  Potable - Excelente        0.003   \n",
              "\n",
              "            CALIDAD_CD  CR_TOT_mg/L           CALIDAD_CR  HG_TOT_mg/L  \\\n",
              "0  Potable - Excelente        0.005  Potable - Excelente       0.0005   \n",
              "1  Potable - Excelente        0.005  Potable - Excelente       0.0005   \n",
              "2  Potable - Excelente        0.005  Potable - Excelente       0.0005   \n",
              "3  Potable - Excelente        0.005  Potable - Excelente       0.0005   \n",
              "4  Potable - Excelente        0.005  Potable - Excelente       0.0005   \n",
              "\n",
              "            CALIDAD_HG  PB_TOT_mg/L           CALIDAD_PB  MN_TOT_mg/L  \\\n",
              "0  Potable - Excelente        0.005  Potable - Excelente       0.0015   \n",
              "1  Potable - Excelente        0.005  Potable - Excelente       0.0015   \n",
              "2  Potable - Excelente        0.005  Potable - Excelente       0.0015   \n",
              "3  Potable - Excelente        0.005  Potable - Excelente       0.0015   \n",
              "4  Potable - Excelente        0.005  Potable - Excelente       0.0015   \n",
              "\n",
              "            CALIDAD_MN  FE_TOT_mg/L           CALIDAD_FE SEMAFORO  \\\n",
              "0  Potable - Excelente       0.0891  Potable - Excelente    Verde   \n",
              "1  Potable - Excelente       0.0250  Potable - Excelente    Verde   \n",
              "2  Potable - Excelente       0.0250  Potable - Excelente     Rojo   \n",
              "3  Potable - Excelente       0.0250  Potable - Excelente    Verde   \n",
              "4  Potable - Excelente       0.0250  Potable - Excelente     Rojo   \n",
              "\n",
              "  CUMPLE_CON_ALC CUMPLE_CON_COND CUMPLE_CON_SDT_ra CUMPLE_CON_SDT_salin  \\\n",
              "0             SI              SI                SI                   SI   \n",
              "1             SI              SI                SI                   SI   \n",
              "2             SI              SI                SI                   SI   \n",
              "3             SI              SI                SI                   SI   \n",
              "4             SI              SI                SI                   SI   \n",
              "\n",
              "  CUMPLE_CON_FLUO CUMPLE_CON_DUR CUMPLE_CON_CF CUMPLE_CON_NO3 CUMPLE_CON_AS  \\\n",
              "0              SI             SI            SI             SI            SI   \n",
              "1              SI             SI            SI             SI            SI   \n",
              "2              NO             SI            SI             SI            NO   \n",
              "3              SI             SI            SI             SI            SI   \n",
              "4              SI             SI            SI             NO            SI   \n",
              "\n",
              "  CUMPLE_CON_CD CUMPLE_CON_CR CUMPLE_CON_HG CUMPLE_CON_PB CUMPLE_CON_MN  \\\n",
              "0            SI            SI            SI            SI            SI   \n",
              "1            SI            SI            SI            SI            SI   \n",
              "2            SI            SI            SI            SI            SI   \n",
              "3            SI            SI            SI            SI            SI   \n",
              "4            SI            SI            SI            SI            SI   \n",
              "\n",
              "  CUMPLE_CON_FE  ALC  AS  CD  CF  CONDUC  CR  DT  FE  FLUO  HG  MN  NI  NO3  \\\n",
              "0            SI    0   0   0   0       0   0   0   0     1   0   0   0    0   \n",
              "1            SI    0   0   0   0       0   0   0   0     1   0   0   0    0   \n",
              "2            SI    0   1   0   0       0   0   0   0     1   0   0   0    0   \n",
              "3            SI    0   0   0   0       0   0   0   0     1   0   0   0    0   \n",
              "4            SI    0   0   0   0       0   0   0   0     0   0   0   0    1   \n",
              "\n",
              "   PB  SDT_ra  SDT_salin  \n",
              "0   0       0          0  \n",
              "1   0       0          0  \n",
              "2   0       0          0  \n",
              "3   0       0          0  \n",
              "4   0       0          0  "
            ],
            "text/html": [
              "\n",
              "  <div id=\"df-9bd998c9-3788-4c5c-967e-1584da3a7b0d\">\n",
              "    <div class=\"colab-df-container\">\n",
              "      <div>\n",
              "<style scoped>\n",
              "    .dataframe tbody tr th:only-of-type {\n",
              "        vertical-align: middle;\n",
              "    }\n",
              "\n",
              "    .dataframe tbody tr th {\n",
              "        vertical-align: top;\n",
              "    }\n",
              "\n",
              "    .dataframe thead th {\n",
              "        text-align: right;\n",
              "    }\n",
              "</style>\n",
              "<table border=\"1\" class=\"dataframe\">\n",
              "  <thead>\n",
              "    <tr style=\"text-align: right;\">\n",
              "      <th></th>\n",
              "      <th>CLAVE</th>\n",
              "      <th>SITIO</th>\n",
              "      <th>ORGANISMO_DE_CUENCA</th>\n",
              "      <th>ESTADO</th>\n",
              "      <th>MUNICIPIO</th>\n",
              "      <th>ACUIFERO</th>\n",
              "      <th>SUBTIPO</th>\n",
              "      <th>LONGITUD</th>\n",
              "      <th>LATITUD</th>\n",
              "      <th>PERIODO</th>\n",
              "      <th>ALC_mg/L</th>\n",
              "      <th>CALIDAD_ALC</th>\n",
              "      <th>CONDUCT_mS/cm</th>\n",
              "      <th>CALIDAD_CONDUC</th>\n",
              "      <th>SDT_M_mg/L</th>\n",
              "      <th>CALIDAD_SDT_ra</th>\n",
              "      <th>CALIDAD_SDT_salin</th>\n",
              "      <th>FLUORUROS_mg/L</th>\n",
              "      <th>CALIDAD_FLUO</th>\n",
              "      <th>DUR_mg/L</th>\n",
              "      <th>CALIDAD_DUR</th>\n",
              "      <th>COLI_FEC_NMP/100_mL</th>\n",
              "      <th>CALIDAD_COLI_FEC</th>\n",
              "      <th>N_NO3_mg/L</th>\n",
              "      <th>CALIDAD_N_NO3</th>\n",
              "      <th>AS_TOT_mg/L</th>\n",
              "      <th>CALIDAD_AS</th>\n",
              "      <th>CD_TOT_mg/L</th>\n",
              "      <th>CALIDAD_CD</th>\n",
              "      <th>CR_TOT_mg/L</th>\n",
              "      <th>CALIDAD_CR</th>\n",
              "      <th>HG_TOT_mg/L</th>\n",
              "      <th>CALIDAD_HG</th>\n",
              "      <th>PB_TOT_mg/L</th>\n",
              "      <th>CALIDAD_PB</th>\n",
              "      <th>MN_TOT_mg/L</th>\n",
              "      <th>CALIDAD_MN</th>\n",
              "      <th>FE_TOT_mg/L</th>\n",
              "      <th>CALIDAD_FE</th>\n",
              "      <th>SEMAFORO</th>\n",
              "      <th>CUMPLE_CON_ALC</th>\n",
              "      <th>CUMPLE_CON_COND</th>\n",
              "      <th>CUMPLE_CON_SDT_ra</th>\n",
              "      <th>CUMPLE_CON_SDT_salin</th>\n",
              "      <th>CUMPLE_CON_FLUO</th>\n",
              "      <th>CUMPLE_CON_DUR</th>\n",
              "      <th>CUMPLE_CON_CF</th>\n",
              "      <th>CUMPLE_CON_NO3</th>\n",
              "      <th>CUMPLE_CON_AS</th>\n",
              "      <th>CUMPLE_CON_CD</th>\n",
              "      <th>CUMPLE_CON_CR</th>\n",
              "      <th>CUMPLE_CON_HG</th>\n",
              "      <th>CUMPLE_CON_PB</th>\n",
              "      <th>CUMPLE_CON_MN</th>\n",
              "      <th>CUMPLE_CON_FE</th>\n",
              "      <th>ALC</th>\n",
              "      <th>AS</th>\n",
              "      <th>CD</th>\n",
              "      <th>CF</th>\n",
              "      <th>CONDUC</th>\n",
              "      <th>CR</th>\n",
              "      <th>DT</th>\n",
              "      <th>FE</th>\n",
              "      <th>FLUO</th>\n",
              "      <th>HG</th>\n",
              "      <th>MN</th>\n",
              "      <th>NI</th>\n",
              "      <th>NO3</th>\n",
              "      <th>PB</th>\n",
              "      <th>SDT_ra</th>\n",
              "      <th>SDT_salin</th>\n",
              "    </tr>\n",
              "  </thead>\n",
              "  <tbody>\n",
              "    <tr>\n",
              "      <th>0</th>\n",
              "      <td>DLAGU6</td>\n",
              "      <td>POZO SAN GIL</td>\n",
              "      <td>LERMA SANTIAGO PACIFICO</td>\n",
              "      <td>AGUASCALIENTES</td>\n",
              "      <td>ASIENTOS</td>\n",
              "      <td>VALLE DE CHICALOTE</td>\n",
              "      <td>POZO</td>\n",
              "      <td>-102.02210</td>\n",
              "      <td>22.20887</td>\n",
              "      <td>2020</td>\n",
              "      <td>229.990</td>\n",
              "      <td>Alta</td>\n",
              "      <td>940.0</td>\n",
              "      <td>Permisible para riego</td>\n",
              "      <td>603.6</td>\n",
              "      <td>Cultivos sensibles</td>\n",
              "      <td>Potable - Dulce</td>\n",
              "      <td>0.9766</td>\n",
              "      <td>Potable - Optima</td>\n",
              "      <td>213.7320</td>\n",
              "      <td>Potable - Dura</td>\n",
              "      <td>1.1</td>\n",
              "      <td>Potable - Excelente</td>\n",
              "      <td>4.184656</td>\n",
              "      <td>Potable - Excelente</td>\n",
              "      <td>0.0161</td>\n",
              "      <td>Apta como FAAP</td>\n",
              "      <td>0.003</td>\n",
              "      <td>Potable - Excelente</td>\n",
              "      <td>0.005</td>\n",
              "      <td>Potable - Excelente</td>\n",
              "      <td>0.0005</td>\n",
              "      <td>Potable - Excelente</td>\n",
              "      <td>0.005</td>\n",
              "      <td>Potable - Excelente</td>\n",
              "      <td>0.0015</td>\n",
              "      <td>Potable - Excelente</td>\n",
              "      <td>0.0891</td>\n",
              "      <td>Potable - Excelente</td>\n",
              "      <td>Verde</td>\n",
              "      <td>SI</td>\n",
              "      <td>SI</td>\n",
              "      <td>SI</td>\n",
              "      <td>SI</td>\n",
              "      <td>SI</td>\n",
              "      <td>SI</td>\n",
              "      <td>SI</td>\n",
              "      <td>SI</td>\n",
              "      <td>SI</td>\n",
              "      <td>SI</td>\n",
              "      <td>SI</td>\n",
              "      <td>SI</td>\n",
              "      <td>SI</td>\n",
              "      <td>SI</td>\n",
              "      <td>SI</td>\n",
              "      <td>0</td>\n",
              "      <td>0</td>\n",
              "      <td>0</td>\n",
              "      <td>0</td>\n",
              "      <td>0</td>\n",
              "      <td>0</td>\n",
              "      <td>0</td>\n",
              "      <td>0</td>\n",
              "      <td>1</td>\n",
              "      <td>0</td>\n",
              "      <td>0</td>\n",
              "      <td>0</td>\n",
              "      <td>0</td>\n",
              "      <td>0</td>\n",
              "      <td>0</td>\n",
              "      <td>0</td>\n",
              "    </tr>\n",
              "    <tr>\n",
              "      <th>1</th>\n",
              "      <td>DLAGU6516</td>\n",
              "      <td>POZO R013 CAÑADA HONDA</td>\n",
              "      <td>LERMA SANTIAGO PACIFICO</td>\n",
              "      <td>AGUASCALIENTES</td>\n",
              "      <td>AGUASCALIENTES</td>\n",
              "      <td>VALLE DE CHICALOTE</td>\n",
              "      <td>POZO</td>\n",
              "      <td>-102.20075</td>\n",
              "      <td>21.99958</td>\n",
              "      <td>2020</td>\n",
              "      <td>231.990</td>\n",
              "      <td>Alta</td>\n",
              "      <td>608.0</td>\n",
              "      <td>Buena para riego</td>\n",
              "      <td>445.4</td>\n",
              "      <td>Excelente para riego</td>\n",
              "      <td>Potable - Dulce</td>\n",
              "      <td>0.9298</td>\n",
              "      <td>Potable - Optima</td>\n",
              "      <td>185.0514</td>\n",
              "      <td>Potable - Dura</td>\n",
              "      <td>1.1</td>\n",
              "      <td>Potable - Excelente</td>\n",
              "      <td>5.750110</td>\n",
              "      <td>Potable - Buena calidad</td>\n",
              "      <td>0.0134</td>\n",
              "      <td>Apta como FAAP</td>\n",
              "      <td>0.003</td>\n",
              "      <td>Potable - Excelente</td>\n",
              "      <td>0.005</td>\n",
              "      <td>Potable - Excelente</td>\n",
              "      <td>0.0005</td>\n",
              "      <td>Potable - Excelente</td>\n",
              "      <td>0.005</td>\n",
              "      <td>Potable - Excelente</td>\n",
              "      <td>0.0015</td>\n",
              "      <td>Potable - Excelente</td>\n",
              "      <td>0.0250</td>\n",
              "      <td>Potable - Excelente</td>\n",
              "      <td>Verde</td>\n",
              "      <td>SI</td>\n",
              "      <td>SI</td>\n",
              "      <td>SI</td>\n",
              "      <td>SI</td>\n",
              "      <td>SI</td>\n",
              "      <td>SI</td>\n",
              "      <td>SI</td>\n",
              "      <td>SI</td>\n",
              "      <td>SI</td>\n",
              "      <td>SI</td>\n",
              "      <td>SI</td>\n",
              "      <td>SI</td>\n",
              "      <td>SI</td>\n",
              "      <td>SI</td>\n",
              "      <td>SI</td>\n",
              "      <td>0</td>\n",
              "      <td>0</td>\n",
              "      <td>0</td>\n",
              "      <td>0</td>\n",
              "      <td>0</td>\n",
              "      <td>0</td>\n",
              "      <td>0</td>\n",
              "      <td>0</td>\n",
              "      <td>1</td>\n",
              "      <td>0</td>\n",
              "      <td>0</td>\n",
              "      <td>0</td>\n",
              "      <td>0</td>\n",
              "      <td>0</td>\n",
              "      <td>0</td>\n",
              "      <td>0</td>\n",
              "    </tr>\n",
              "    <tr>\n",
              "      <th>2</th>\n",
              "      <td>DLAGU7</td>\n",
              "      <td>POZO COSIO</td>\n",
              "      <td>LERMA SANTIAGO PACIFICO</td>\n",
              "      <td>AGUASCALIENTES</td>\n",
              "      <td>COSIO</td>\n",
              "      <td>VALLE DE AGUASCALIENTES</td>\n",
              "      <td>POZO</td>\n",
              "      <td>-102.28801</td>\n",
              "      <td>22.36685</td>\n",
              "      <td>2020</td>\n",
              "      <td>204.920</td>\n",
              "      <td>Alta</td>\n",
              "      <td>532.0</td>\n",
              "      <td>Buena para riego</td>\n",
              "      <td>342.0</td>\n",
              "      <td>Excelente para riego</td>\n",
              "      <td>Potable - Dulce</td>\n",
              "      <td>1.8045</td>\n",
              "      <td>Alta</td>\n",
              "      <td>120.7190</td>\n",
              "      <td>Potable - Dura</td>\n",
              "      <td>1.1</td>\n",
              "      <td>Potable - Excelente</td>\n",
              "      <td>1.449803</td>\n",
              "      <td>Potable - Excelente</td>\n",
              "      <td>0.0370</td>\n",
              "      <td>No apta como FAAP</td>\n",
              "      <td>0.003</td>\n",
              "      <td>Potable - Excelente</td>\n",
              "      <td>0.005</td>\n",
              "      <td>Potable - Excelente</td>\n",
              "      <td>0.0005</td>\n",
              "      <td>Potable - Excelente</td>\n",
              "      <td>0.005</td>\n",
              "      <td>Potable - Excelente</td>\n",
              "      <td>0.0015</td>\n",
              "      <td>Potable - Excelente</td>\n",
              "      <td>0.0250</td>\n",
              "      <td>Potable - Excelente</td>\n",
              "      <td>Rojo</td>\n",
              "      <td>SI</td>\n",
              "      <td>SI</td>\n",
              "      <td>SI</td>\n",
              "      <td>SI</td>\n",
              "      <td>NO</td>\n",
              "      <td>SI</td>\n",
              "      <td>SI</td>\n",
              "      <td>SI</td>\n",
              "      <td>NO</td>\n",
              "      <td>SI</td>\n",
              "      <td>SI</td>\n",
              "      <td>SI</td>\n",
              "      <td>SI</td>\n",
              "      <td>SI</td>\n",
              "      <td>SI</td>\n",
              "      <td>0</td>\n",
              "      <td>1</td>\n",
              "      <td>0</td>\n",
              "      <td>0</td>\n",
              "      <td>0</td>\n",
              "      <td>0</td>\n",
              "      <td>0</td>\n",
              "      <td>0</td>\n",
              "      <td>1</td>\n",
              "      <td>0</td>\n",
              "      <td>0</td>\n",
              "      <td>0</td>\n",
              "      <td>0</td>\n",
              "      <td>0</td>\n",
              "      <td>0</td>\n",
              "      <td>0</td>\n",
              "    </tr>\n",
              "    <tr>\n",
              "      <th>3</th>\n",
              "      <td>DLAGU9</td>\n",
              "      <td>POZO EL SALITRILLO</td>\n",
              "      <td>LERMA SANTIAGO PACIFICO</td>\n",
              "      <td>AGUASCALIENTES</td>\n",
              "      <td>RINCON DE ROMOS</td>\n",
              "      <td>VALLE DE AGUASCALIENTES</td>\n",
              "      <td>POZO</td>\n",
              "      <td>-102.29449</td>\n",
              "      <td>22.18435</td>\n",
              "      <td>2020</td>\n",
              "      <td>327.000</td>\n",
              "      <td>Alta</td>\n",
              "      <td>686.0</td>\n",
              "      <td>Buena para riego</td>\n",
              "      <td>478.6</td>\n",
              "      <td>Excelente para riego</td>\n",
              "      <td>Potable - Dulce</td>\n",
              "      <td>1.1229</td>\n",
              "      <td>Potable - Optima</td>\n",
              "      <td>199.8790</td>\n",
              "      <td>Potable - Dura</td>\n",
              "      <td>1.1</td>\n",
              "      <td>Potable - Excelente</td>\n",
              "      <td>1.258597</td>\n",
              "      <td>Potable - Excelente</td>\n",
              "      <td>0.0154</td>\n",
              "      <td>Apta como FAAP</td>\n",
              "      <td>0.003</td>\n",
              "      <td>Potable - Excelente</td>\n",
              "      <td>0.005</td>\n",
              "      <td>Potable - Excelente</td>\n",
              "      <td>0.0005</td>\n",
              "      <td>Potable - Excelente</td>\n",
              "      <td>0.005</td>\n",
              "      <td>Potable - Excelente</td>\n",
              "      <td>0.0015</td>\n",
              "      <td>Potable - Excelente</td>\n",
              "      <td>0.0250</td>\n",
              "      <td>Potable - Excelente</td>\n",
              "      <td>Verde</td>\n",
              "      <td>SI</td>\n",
              "      <td>SI</td>\n",
              "      <td>SI</td>\n",
              "      <td>SI</td>\n",
              "      <td>SI</td>\n",
              "      <td>SI</td>\n",
              "      <td>SI</td>\n",
              "      <td>SI</td>\n",
              "      <td>SI</td>\n",
              "      <td>SI</td>\n",
              "      <td>SI</td>\n",
              "      <td>SI</td>\n",
              "      <td>SI</td>\n",
              "      <td>SI</td>\n",
              "      <td>SI</td>\n",
              "      <td>0</td>\n",
              "      <td>0</td>\n",
              "      <td>0</td>\n",
              "      <td>0</td>\n",
              "      <td>0</td>\n",
              "      <td>0</td>\n",
              "      <td>0</td>\n",
              "      <td>0</td>\n",
              "      <td>1</td>\n",
              "      <td>0</td>\n",
              "      <td>0</td>\n",
              "      <td>0</td>\n",
              "      <td>0</td>\n",
              "      <td>0</td>\n",
              "      <td>0</td>\n",
              "      <td>0</td>\n",
              "    </tr>\n",
              "    <tr>\n",
              "      <th>4</th>\n",
              "      <td>DLBAJ107</td>\n",
              "      <td>RANCHO EL TECOLOTE</td>\n",
              "      <td>PENINSULA DE BAJA CALIFORNIA</td>\n",
              "      <td>BAJA CALIFORNIA SUR</td>\n",
              "      <td>LA PAZ</td>\n",
              "      <td>TODOS SANTOS</td>\n",
              "      <td>POZO</td>\n",
              "      <td>-110.24480</td>\n",
              "      <td>23.45138</td>\n",
              "      <td>2020</td>\n",
              "      <td>309.885</td>\n",
              "      <td>Alta</td>\n",
              "      <td>1841.0</td>\n",
              "      <td>Permisible para riego</td>\n",
              "      <td>1179.0</td>\n",
              "      <td>Cultivos con manejo especial</td>\n",
              "      <td>Ligeramente salobres</td>\n",
              "      <td>0.2343</td>\n",
              "      <td>Baja</td>\n",
              "      <td>476.9872</td>\n",
              "      <td>Potable - Dura</td>\n",
              "      <td>291.0</td>\n",
              "      <td>Aceptable</td>\n",
              "      <td>15.672251</td>\n",
              "      <td>No apta como FAAP</td>\n",
              "      <td>0.0100</td>\n",
              "      <td>Potable - Excelente</td>\n",
              "      <td>0.003</td>\n",
              "      <td>Potable - Excelente</td>\n",
              "      <td>0.005</td>\n",
              "      <td>Potable - Excelente</td>\n",
              "      <td>0.0005</td>\n",
              "      <td>Potable - Excelente</td>\n",
              "      <td>0.005</td>\n",
              "      <td>Potable - Excelente</td>\n",
              "      <td>0.0015</td>\n",
              "      <td>Potable - Excelente</td>\n",
              "      <td>0.0250</td>\n",
              "      <td>Potable - Excelente</td>\n",
              "      <td>Rojo</td>\n",
              "      <td>SI</td>\n",
              "      <td>SI</td>\n",
              "      <td>SI</td>\n",
              "      <td>SI</td>\n",
              "      <td>SI</td>\n",
              "      <td>SI</td>\n",
              "      <td>SI</td>\n",
              "      <td>NO</td>\n",
              "      <td>SI</td>\n",
              "      <td>SI</td>\n",
              "      <td>SI</td>\n",
              "      <td>SI</td>\n",
              "      <td>SI</td>\n",
              "      <td>SI</td>\n",
              "      <td>SI</td>\n",
              "      <td>0</td>\n",
              "      <td>0</td>\n",
              "      <td>0</td>\n",
              "      <td>0</td>\n",
              "      <td>0</td>\n",
              "      <td>0</td>\n",
              "      <td>0</td>\n",
              "      <td>0</td>\n",
              "      <td>0</td>\n",
              "      <td>0</td>\n",
              "      <td>0</td>\n",
              "      <td>0</td>\n",
              "      <td>1</td>\n",
              "      <td>0</td>\n",
              "      <td>0</td>\n",
              "      <td>0</td>\n",
              "    </tr>\n",
              "  </tbody>\n",
              "</table>\n",
              "</div>\n",
              "      <button class=\"colab-df-convert\" onclick=\"convertToInteractive('df-9bd998c9-3788-4c5c-967e-1584da3a7b0d')\"\n",
              "              title=\"Convert this dataframe to an interactive table.\"\n",
              "              style=\"display:none;\">\n",
              "        \n",
              "  <svg xmlns=\"http://www.w3.org/2000/svg\" height=\"24px\"viewBox=\"0 0 24 24\"\n",
              "       width=\"24px\">\n",
              "    <path d=\"M0 0h24v24H0V0z\" fill=\"none\"/>\n",
              "    <path d=\"M18.56 5.44l.94 2.06.94-2.06 2.06-.94-2.06-.94-.94-2.06-.94 2.06-2.06.94zm-11 1L8.5 8.5l.94-2.06 2.06-.94-2.06-.94L8.5 2.5l-.94 2.06-2.06.94zm10 10l.94 2.06.94-2.06 2.06-.94-2.06-.94-.94-2.06-.94 2.06-2.06.94z\"/><path d=\"M17.41 7.96l-1.37-1.37c-.4-.4-.92-.59-1.43-.59-.52 0-1.04.2-1.43.59L10.3 9.45l-7.72 7.72c-.78.78-.78 2.05 0 2.83L4 21.41c.39.39.9.59 1.41.59.51 0 1.02-.2 1.41-.59l7.78-7.78 2.81-2.81c.8-.78.8-2.07 0-2.86zM5.41 20L4 18.59l7.72-7.72 1.47 1.35L5.41 20z\"/>\n",
              "  </svg>\n",
              "      </button>\n",
              "      \n",
              "  <style>\n",
              "    .colab-df-container {\n",
              "      display:flex;\n",
              "      flex-wrap:wrap;\n",
              "      gap: 12px;\n",
              "    }\n",
              "\n",
              "    .colab-df-convert {\n",
              "      background-color: #E8F0FE;\n",
              "      border: none;\n",
              "      border-radius: 50%;\n",
              "      cursor: pointer;\n",
              "      display: none;\n",
              "      fill: #1967D2;\n",
              "      height: 32px;\n",
              "      padding: 0 0 0 0;\n",
              "      width: 32px;\n",
              "    }\n",
              "\n",
              "    .colab-df-convert:hover {\n",
              "      background-color: #E2EBFA;\n",
              "      box-shadow: 0px 1px 2px rgba(60, 64, 67, 0.3), 0px 1px 3px 1px rgba(60, 64, 67, 0.15);\n",
              "      fill: #174EA6;\n",
              "    }\n",
              "\n",
              "    [theme=dark] .colab-df-convert {\n",
              "      background-color: #3B4455;\n",
              "      fill: #D2E3FC;\n",
              "    }\n",
              "\n",
              "    [theme=dark] .colab-df-convert:hover {\n",
              "      background-color: #434B5C;\n",
              "      box-shadow: 0px 1px 3px 1px rgba(0, 0, 0, 0.15);\n",
              "      filter: drop-shadow(0px 1px 2px rgba(0, 0, 0, 0.3));\n",
              "      fill: #FFFFFF;\n",
              "    }\n",
              "  </style>\n",
              "\n",
              "      <script>\n",
              "        const buttonEl =\n",
              "          document.querySelector('#df-9bd998c9-3788-4c5c-967e-1584da3a7b0d button.colab-df-convert');\n",
              "        buttonEl.style.display =\n",
              "          google.colab.kernel.accessAllowed ? 'block' : 'none';\n",
              "\n",
              "        async function convertToInteractive(key) {\n",
              "          const element = document.querySelector('#df-9bd998c9-3788-4c5c-967e-1584da3a7b0d');\n",
              "          const dataTable =\n",
              "            await google.colab.kernel.invokeFunction('convertToInteractive',\n",
              "                                                     [key], {});\n",
              "          if (!dataTable) return;\n",
              "\n",
              "          const docLinkHtml = 'Like what you see? Visit the ' +\n",
              "            '<a target=\"_blank\" href=https://colab.research.google.com/notebooks/data_table.ipynb>data table notebook</a>'\n",
              "            + ' to learn more about interactive tables.';\n",
              "          element.innerHTML = '';\n",
              "          dataTable['output_type'] = 'display_data';\n",
              "          await google.colab.output.renderOutput(dataTable, element);\n",
              "          const docLink = document.createElement('div');\n",
              "          docLink.innerHTML = docLinkHtml;\n",
              "          element.appendChild(docLink);\n",
              "        }\n",
              "      </script>\n",
              "    </div>\n",
              "  </div>\n",
              "  "
            ]
          },
          "metadata": {},
          "execution_count": 15
        }
      ]
    },
    {
      "cell_type": "markdown",
      "source": [
        "Ahora seleccionamos las columnas que nos van a servir para el modelo, dado que algunas columnas son redundantes y no aportan más información"
      ],
      "metadata": {
        "id": "XgGiS6aUvdgF"
      }
    },
    {
      "cell_type": "code",
      "source": [
        "columns=[\"SITIO\",\"ORGANISMO_DE_CUENCA\",\"ESTADO\",\"MUNICIPIO\",\"ACUIFERO\",\"SUBTIPO\",\"LONGITUD\",\"LATITUD\",\"CUMPLE_CON_ALC\"\t,\n",
        "         \"CUMPLE_CON_COND\",\t\"CUMPLE_CON_SDT_ra\"\t,\"CUMPLE_CON_SDT_salin\",\"CUMPLE_CON_FLUO\",\"CUMPLE_CON_DUR\",\"CUMPLE_CON_CF\",\"CUMPLE_CON_NO3\",\t\n",
        "         \"CUMPLE_CON_AS\"\t,\"CUMPLE_CON_CD\",\"CUMPLE_CON_CR\",\t\"CUMPLE_CON_HG\",\"CUMPLE_CON_PB\",\"CUMPLE_CON_MN\",\"CUMPLE_CON_FE\",\"ALC\",\"AS\",\"CD\",\"CF\",\n",
        "         \"CONDUC\",\t\"CR\"\t,\"DT\",\"FE\",\"FLUO\",\"HG\",\"MN\",\"NI\",\"NO3\",\"PB\",\"SDT_ra\",\"SDT_salin\",\"SEMAFORO\"]"
      ],
      "metadata": {
        "id": "_dnREKSLvkc5"
      },
      "execution_count": null,
      "outputs": []
    },
    {
      "cell_type": "markdown",
      "source": [
        "Creamos nuestro nuevo dataframe con las columnas deseadas"
      ],
      "metadata": {
        "id": "Kqe4T8BdxeUY"
      }
    },
    {
      "cell_type": "code",
      "source": [
        "df=df[columns]"
      ],
      "metadata": {
        "id": "4xkehLJb1JpA"
      },
      "execution_count": null,
      "outputs": []
    },
    {
      "cell_type": "code",
      "source": [
        "df.head()"
      ],
      "metadata": {
        "id": "GcQUUJNE1NSi",
        "outputId": "331c5a06-68c2-4b42-beb9-e98387f4b1b7",
        "colab": {
          "base_uri": "https://localhost:8080/",
          "height": 392
        }
      },
      "execution_count": null,
      "outputs": [
        {
          "output_type": "execute_result",
          "data": {
            "text/plain": [
              "                    SITIO           ORGANISMO_DE_CUENCA               ESTADO  \\\n",
              "0            POZO SAN GIL       LERMA SANTIAGO PACIFICO       AGUASCALIENTES   \n",
              "1  POZO R013 CAÑADA HONDA       LERMA SANTIAGO PACIFICO       AGUASCALIENTES   \n",
              "2              POZO COSIO       LERMA SANTIAGO PACIFICO       AGUASCALIENTES   \n",
              "3      POZO EL SALITRILLO       LERMA SANTIAGO PACIFICO       AGUASCALIENTES   \n",
              "4      RANCHO EL TECOLOTE  PENINSULA DE BAJA CALIFORNIA  BAJA CALIFORNIA SUR   \n",
              "\n",
              "         MUNICIPIO                 ACUIFERO SUBTIPO   LONGITUD   LATITUD  \\\n",
              "0         ASIENTOS       VALLE DE CHICALOTE    POZO -102.02210  22.20887   \n",
              "1   AGUASCALIENTES       VALLE DE CHICALOTE    POZO -102.20075  21.99958   \n",
              "2            COSIO  VALLE DE AGUASCALIENTES    POZO -102.28801  22.36685   \n",
              "3  RINCON DE ROMOS  VALLE DE AGUASCALIENTES    POZO -102.29449  22.18435   \n",
              "4           LA PAZ             TODOS SANTOS    POZO -110.24480  23.45138   \n",
              "\n",
              "  CUMPLE_CON_ALC CUMPLE_CON_COND CUMPLE_CON_SDT_ra CUMPLE_CON_SDT_salin  \\\n",
              "0             SI              SI                SI                   SI   \n",
              "1             SI              SI                SI                   SI   \n",
              "2             SI              SI                SI                   SI   \n",
              "3             SI              SI                SI                   SI   \n",
              "4             SI              SI                SI                   SI   \n",
              "\n",
              "  CUMPLE_CON_FLUO CUMPLE_CON_DUR CUMPLE_CON_CF CUMPLE_CON_NO3 CUMPLE_CON_AS  \\\n",
              "0              SI             SI            SI             SI            SI   \n",
              "1              SI             SI            SI             SI            SI   \n",
              "2              NO             SI            SI             SI            NO   \n",
              "3              SI             SI            SI             SI            SI   \n",
              "4              SI             SI            SI             NO            SI   \n",
              "\n",
              "  CUMPLE_CON_CD CUMPLE_CON_CR CUMPLE_CON_HG CUMPLE_CON_PB CUMPLE_CON_MN  \\\n",
              "0            SI            SI            SI            SI            SI   \n",
              "1            SI            SI            SI            SI            SI   \n",
              "2            SI            SI            SI            SI            SI   \n",
              "3            SI            SI            SI            SI            SI   \n",
              "4            SI            SI            SI            SI            SI   \n",
              "\n",
              "  CUMPLE_CON_FE  ALC  AS  CD  CF  CONDUC  CR  DT  FE  FLUO  HG  MN  NI  NO3  \\\n",
              "0            SI    0   0   0   0       0   0   0   0     1   0   0   0    0   \n",
              "1            SI    0   0   0   0       0   0   0   0     1   0   0   0    0   \n",
              "2            SI    0   1   0   0       0   0   0   0     1   0   0   0    0   \n",
              "3            SI    0   0   0   0       0   0   0   0     1   0   0   0    0   \n",
              "4            SI    0   0   0   0       0   0   0   0     0   0   0   0    1   \n",
              "\n",
              "   PB  SDT_ra  SDT_salin SEMAFORO  \n",
              "0   0       0          0    Verde  \n",
              "1   0       0          0    Verde  \n",
              "2   0       0          0     Rojo  \n",
              "3   0       0          0    Verde  \n",
              "4   0       0          0     Rojo  "
            ],
            "text/html": [
              "\n",
              "  <div id=\"df-ebaa4320-0b35-4ec2-95be-1ac5dacd870b\">\n",
              "    <div class=\"colab-df-container\">\n",
              "      <div>\n",
              "<style scoped>\n",
              "    .dataframe tbody tr th:only-of-type {\n",
              "        vertical-align: middle;\n",
              "    }\n",
              "\n",
              "    .dataframe tbody tr th {\n",
              "        vertical-align: top;\n",
              "    }\n",
              "\n",
              "    .dataframe thead th {\n",
              "        text-align: right;\n",
              "    }\n",
              "</style>\n",
              "<table border=\"1\" class=\"dataframe\">\n",
              "  <thead>\n",
              "    <tr style=\"text-align: right;\">\n",
              "      <th></th>\n",
              "      <th>SITIO</th>\n",
              "      <th>ORGANISMO_DE_CUENCA</th>\n",
              "      <th>ESTADO</th>\n",
              "      <th>MUNICIPIO</th>\n",
              "      <th>ACUIFERO</th>\n",
              "      <th>SUBTIPO</th>\n",
              "      <th>LONGITUD</th>\n",
              "      <th>LATITUD</th>\n",
              "      <th>CUMPLE_CON_ALC</th>\n",
              "      <th>CUMPLE_CON_COND</th>\n",
              "      <th>CUMPLE_CON_SDT_ra</th>\n",
              "      <th>CUMPLE_CON_SDT_salin</th>\n",
              "      <th>CUMPLE_CON_FLUO</th>\n",
              "      <th>CUMPLE_CON_DUR</th>\n",
              "      <th>CUMPLE_CON_CF</th>\n",
              "      <th>CUMPLE_CON_NO3</th>\n",
              "      <th>CUMPLE_CON_AS</th>\n",
              "      <th>CUMPLE_CON_CD</th>\n",
              "      <th>CUMPLE_CON_CR</th>\n",
              "      <th>CUMPLE_CON_HG</th>\n",
              "      <th>CUMPLE_CON_PB</th>\n",
              "      <th>CUMPLE_CON_MN</th>\n",
              "      <th>CUMPLE_CON_FE</th>\n",
              "      <th>ALC</th>\n",
              "      <th>AS</th>\n",
              "      <th>CD</th>\n",
              "      <th>CF</th>\n",
              "      <th>CONDUC</th>\n",
              "      <th>CR</th>\n",
              "      <th>DT</th>\n",
              "      <th>FE</th>\n",
              "      <th>FLUO</th>\n",
              "      <th>HG</th>\n",
              "      <th>MN</th>\n",
              "      <th>NI</th>\n",
              "      <th>NO3</th>\n",
              "      <th>PB</th>\n",
              "      <th>SDT_ra</th>\n",
              "      <th>SDT_salin</th>\n",
              "      <th>SEMAFORO</th>\n",
              "    </tr>\n",
              "  </thead>\n",
              "  <tbody>\n",
              "    <tr>\n",
              "      <th>0</th>\n",
              "      <td>POZO SAN GIL</td>\n",
              "      <td>LERMA SANTIAGO PACIFICO</td>\n",
              "      <td>AGUASCALIENTES</td>\n",
              "      <td>ASIENTOS</td>\n",
              "      <td>VALLE DE CHICALOTE</td>\n",
              "      <td>POZO</td>\n",
              "      <td>-102.02210</td>\n",
              "      <td>22.20887</td>\n",
              "      <td>SI</td>\n",
              "      <td>SI</td>\n",
              "      <td>SI</td>\n",
              "      <td>SI</td>\n",
              "      <td>SI</td>\n",
              "      <td>SI</td>\n",
              "      <td>SI</td>\n",
              "      <td>SI</td>\n",
              "      <td>SI</td>\n",
              "      <td>SI</td>\n",
              "      <td>SI</td>\n",
              "      <td>SI</td>\n",
              "      <td>SI</td>\n",
              "      <td>SI</td>\n",
              "      <td>SI</td>\n",
              "      <td>0</td>\n",
              "      <td>0</td>\n",
              "      <td>0</td>\n",
              "      <td>0</td>\n",
              "      <td>0</td>\n",
              "      <td>0</td>\n",
              "      <td>0</td>\n",
              "      <td>0</td>\n",
              "      <td>1</td>\n",
              "      <td>0</td>\n",
              "      <td>0</td>\n",
              "      <td>0</td>\n",
              "      <td>0</td>\n",
              "      <td>0</td>\n",
              "      <td>0</td>\n",
              "      <td>0</td>\n",
              "      <td>Verde</td>\n",
              "    </tr>\n",
              "    <tr>\n",
              "      <th>1</th>\n",
              "      <td>POZO R013 CAÑADA HONDA</td>\n",
              "      <td>LERMA SANTIAGO PACIFICO</td>\n",
              "      <td>AGUASCALIENTES</td>\n",
              "      <td>AGUASCALIENTES</td>\n",
              "      <td>VALLE DE CHICALOTE</td>\n",
              "      <td>POZO</td>\n",
              "      <td>-102.20075</td>\n",
              "      <td>21.99958</td>\n",
              "      <td>SI</td>\n",
              "      <td>SI</td>\n",
              "      <td>SI</td>\n",
              "      <td>SI</td>\n",
              "      <td>SI</td>\n",
              "      <td>SI</td>\n",
              "      <td>SI</td>\n",
              "      <td>SI</td>\n",
              "      <td>SI</td>\n",
              "      <td>SI</td>\n",
              "      <td>SI</td>\n",
              "      <td>SI</td>\n",
              "      <td>SI</td>\n",
              "      <td>SI</td>\n",
              "      <td>SI</td>\n",
              "      <td>0</td>\n",
              "      <td>0</td>\n",
              "      <td>0</td>\n",
              "      <td>0</td>\n",
              "      <td>0</td>\n",
              "      <td>0</td>\n",
              "      <td>0</td>\n",
              "      <td>0</td>\n",
              "      <td>1</td>\n",
              "      <td>0</td>\n",
              "      <td>0</td>\n",
              "      <td>0</td>\n",
              "      <td>0</td>\n",
              "      <td>0</td>\n",
              "      <td>0</td>\n",
              "      <td>0</td>\n",
              "      <td>Verde</td>\n",
              "    </tr>\n",
              "    <tr>\n",
              "      <th>2</th>\n",
              "      <td>POZO COSIO</td>\n",
              "      <td>LERMA SANTIAGO PACIFICO</td>\n",
              "      <td>AGUASCALIENTES</td>\n",
              "      <td>COSIO</td>\n",
              "      <td>VALLE DE AGUASCALIENTES</td>\n",
              "      <td>POZO</td>\n",
              "      <td>-102.28801</td>\n",
              "      <td>22.36685</td>\n",
              "      <td>SI</td>\n",
              "      <td>SI</td>\n",
              "      <td>SI</td>\n",
              "      <td>SI</td>\n",
              "      <td>NO</td>\n",
              "      <td>SI</td>\n",
              "      <td>SI</td>\n",
              "      <td>SI</td>\n",
              "      <td>NO</td>\n",
              "      <td>SI</td>\n",
              "      <td>SI</td>\n",
              "      <td>SI</td>\n",
              "      <td>SI</td>\n",
              "      <td>SI</td>\n",
              "      <td>SI</td>\n",
              "      <td>0</td>\n",
              "      <td>1</td>\n",
              "      <td>0</td>\n",
              "      <td>0</td>\n",
              "      <td>0</td>\n",
              "      <td>0</td>\n",
              "      <td>0</td>\n",
              "      <td>0</td>\n",
              "      <td>1</td>\n",
              "      <td>0</td>\n",
              "      <td>0</td>\n",
              "      <td>0</td>\n",
              "      <td>0</td>\n",
              "      <td>0</td>\n",
              "      <td>0</td>\n",
              "      <td>0</td>\n",
              "      <td>Rojo</td>\n",
              "    </tr>\n",
              "    <tr>\n",
              "      <th>3</th>\n",
              "      <td>POZO EL SALITRILLO</td>\n",
              "      <td>LERMA SANTIAGO PACIFICO</td>\n",
              "      <td>AGUASCALIENTES</td>\n",
              "      <td>RINCON DE ROMOS</td>\n",
              "      <td>VALLE DE AGUASCALIENTES</td>\n",
              "      <td>POZO</td>\n",
              "      <td>-102.29449</td>\n",
              "      <td>22.18435</td>\n",
              "      <td>SI</td>\n",
              "      <td>SI</td>\n",
              "      <td>SI</td>\n",
              "      <td>SI</td>\n",
              "      <td>SI</td>\n",
              "      <td>SI</td>\n",
              "      <td>SI</td>\n",
              "      <td>SI</td>\n",
              "      <td>SI</td>\n",
              "      <td>SI</td>\n",
              "      <td>SI</td>\n",
              "      <td>SI</td>\n",
              "      <td>SI</td>\n",
              "      <td>SI</td>\n",
              "      <td>SI</td>\n",
              "      <td>0</td>\n",
              "      <td>0</td>\n",
              "      <td>0</td>\n",
              "      <td>0</td>\n",
              "      <td>0</td>\n",
              "      <td>0</td>\n",
              "      <td>0</td>\n",
              "      <td>0</td>\n",
              "      <td>1</td>\n",
              "      <td>0</td>\n",
              "      <td>0</td>\n",
              "      <td>0</td>\n",
              "      <td>0</td>\n",
              "      <td>0</td>\n",
              "      <td>0</td>\n",
              "      <td>0</td>\n",
              "      <td>Verde</td>\n",
              "    </tr>\n",
              "    <tr>\n",
              "      <th>4</th>\n",
              "      <td>RANCHO EL TECOLOTE</td>\n",
              "      <td>PENINSULA DE BAJA CALIFORNIA</td>\n",
              "      <td>BAJA CALIFORNIA SUR</td>\n",
              "      <td>LA PAZ</td>\n",
              "      <td>TODOS SANTOS</td>\n",
              "      <td>POZO</td>\n",
              "      <td>-110.24480</td>\n",
              "      <td>23.45138</td>\n",
              "      <td>SI</td>\n",
              "      <td>SI</td>\n",
              "      <td>SI</td>\n",
              "      <td>SI</td>\n",
              "      <td>SI</td>\n",
              "      <td>SI</td>\n",
              "      <td>SI</td>\n",
              "      <td>NO</td>\n",
              "      <td>SI</td>\n",
              "      <td>SI</td>\n",
              "      <td>SI</td>\n",
              "      <td>SI</td>\n",
              "      <td>SI</td>\n",
              "      <td>SI</td>\n",
              "      <td>SI</td>\n",
              "      <td>0</td>\n",
              "      <td>0</td>\n",
              "      <td>0</td>\n",
              "      <td>0</td>\n",
              "      <td>0</td>\n",
              "      <td>0</td>\n",
              "      <td>0</td>\n",
              "      <td>0</td>\n",
              "      <td>0</td>\n",
              "      <td>0</td>\n",
              "      <td>0</td>\n",
              "      <td>0</td>\n",
              "      <td>1</td>\n",
              "      <td>0</td>\n",
              "      <td>0</td>\n",
              "      <td>0</td>\n",
              "      <td>Rojo</td>\n",
              "    </tr>\n",
              "  </tbody>\n",
              "</table>\n",
              "</div>\n",
              "      <button class=\"colab-df-convert\" onclick=\"convertToInteractive('df-ebaa4320-0b35-4ec2-95be-1ac5dacd870b')\"\n",
              "              title=\"Convert this dataframe to an interactive table.\"\n",
              "              style=\"display:none;\">\n",
              "        \n",
              "  <svg xmlns=\"http://www.w3.org/2000/svg\" height=\"24px\"viewBox=\"0 0 24 24\"\n",
              "       width=\"24px\">\n",
              "    <path d=\"M0 0h24v24H0V0z\" fill=\"none\"/>\n",
              "    <path d=\"M18.56 5.44l.94 2.06.94-2.06 2.06-.94-2.06-.94-.94-2.06-.94 2.06-2.06.94zm-11 1L8.5 8.5l.94-2.06 2.06-.94-2.06-.94L8.5 2.5l-.94 2.06-2.06.94zm10 10l.94 2.06.94-2.06 2.06-.94-2.06-.94-.94-2.06-.94 2.06-2.06.94z\"/><path d=\"M17.41 7.96l-1.37-1.37c-.4-.4-.92-.59-1.43-.59-.52 0-1.04.2-1.43.59L10.3 9.45l-7.72 7.72c-.78.78-.78 2.05 0 2.83L4 21.41c.39.39.9.59 1.41.59.51 0 1.02-.2 1.41-.59l7.78-7.78 2.81-2.81c.8-.78.8-2.07 0-2.86zM5.41 20L4 18.59l7.72-7.72 1.47 1.35L5.41 20z\"/>\n",
              "  </svg>\n",
              "      </button>\n",
              "      \n",
              "  <style>\n",
              "    .colab-df-container {\n",
              "      display:flex;\n",
              "      flex-wrap:wrap;\n",
              "      gap: 12px;\n",
              "    }\n",
              "\n",
              "    .colab-df-convert {\n",
              "      background-color: #E8F0FE;\n",
              "      border: none;\n",
              "      border-radius: 50%;\n",
              "      cursor: pointer;\n",
              "      display: none;\n",
              "      fill: #1967D2;\n",
              "      height: 32px;\n",
              "      padding: 0 0 0 0;\n",
              "      width: 32px;\n",
              "    }\n",
              "\n",
              "    .colab-df-convert:hover {\n",
              "      background-color: #E2EBFA;\n",
              "      box-shadow: 0px 1px 2px rgba(60, 64, 67, 0.3), 0px 1px 3px 1px rgba(60, 64, 67, 0.15);\n",
              "      fill: #174EA6;\n",
              "    }\n",
              "\n",
              "    [theme=dark] .colab-df-convert {\n",
              "      background-color: #3B4455;\n",
              "      fill: #D2E3FC;\n",
              "    }\n",
              "\n",
              "    [theme=dark] .colab-df-convert:hover {\n",
              "      background-color: #434B5C;\n",
              "      box-shadow: 0px 1px 3px 1px rgba(0, 0, 0, 0.15);\n",
              "      filter: drop-shadow(0px 1px 2px rgba(0, 0, 0, 0.3));\n",
              "      fill: #FFFFFF;\n",
              "    }\n",
              "  </style>\n",
              "\n",
              "      <script>\n",
              "        const buttonEl =\n",
              "          document.querySelector('#df-ebaa4320-0b35-4ec2-95be-1ac5dacd870b button.colab-df-convert');\n",
              "        buttonEl.style.display =\n",
              "          google.colab.kernel.accessAllowed ? 'block' : 'none';\n",
              "\n",
              "        async function convertToInteractive(key) {\n",
              "          const element = document.querySelector('#df-ebaa4320-0b35-4ec2-95be-1ac5dacd870b');\n",
              "          const dataTable =\n",
              "            await google.colab.kernel.invokeFunction('convertToInteractive',\n",
              "                                                     [key], {});\n",
              "          if (!dataTable) return;\n",
              "\n",
              "          const docLinkHtml = 'Like what you see? Visit the ' +\n",
              "            '<a target=\"_blank\" href=https://colab.research.google.com/notebooks/data_table.ipynb>data table notebook</a>'\n",
              "            + ' to learn more about interactive tables.';\n",
              "          element.innerHTML = '';\n",
              "          dataTable['output_type'] = 'display_data';\n",
              "          await google.colab.output.renderOutput(dataTable, element);\n",
              "          const docLink = document.createElement('div');\n",
              "          docLink.innerHTML = docLinkHtml;\n",
              "          element.appendChild(docLink);\n",
              "        }\n",
              "      </script>\n",
              "    </div>\n",
              "  </div>\n",
              "  "
            ]
          },
          "metadata": {},
          "execution_count": 18
        }
      ]
    },
    {
      "cell_type": "markdown",
      "source": [
        "# Selecciona tus variables independientes X y dependiente Y (semáforo)"
      ],
      "metadata": {
        "id": "LheWW851vArz"
      }
    },
    {
      "cell_type": "code",
      "source": [
        "X=df.iloc[:,:-1:] #variables predictoras\n",
        "y=df.iloc[:,-1] #variable objetivo"
      ],
      "metadata": {
        "id": "5H8G7R7xvGF1"
      },
      "execution_count": null,
      "outputs": []
    },
    {
      "cell_type": "markdown",
      "source": [
        "Creamos los pipelines"
      ],
      "metadata": {
        "id": "GIeEP8WG3LWE"
      }
    },
    {
      "cell_type": "code",
      "source": [
        "from sklearn.pipeline import Pipeline\n",
        "from sklearn.compose import ColumnTransformer\n",
        "from sklearn.preprocessing import MinMaxScaler, OneHotEncoder, StandardScaler\n",
        "\n",
        "\n",
        "categorical_features =[\"SITIO\",\"ORGANISMO_DE_CUENCA\"\t,\"ESTADO\",\t\"MUNICIPIO\",\"ACUIFERO\",\t\"SUBTIPO\"]\n",
        "categorical_pipeline=Pipeline(\n",
        "    steps=[(\"OHEcat\",OneHotEncoder(handle_unknown=\"ignore\"))]\n",
        ")\n",
        "\n",
        "binary_features=[\"CUMPLE_CON_ALC\"\t,\n",
        "         \"CUMPLE_CON_COND\",\t\"CUMPLE_CON_SDT_ra\"\t,\"CUMPLE_CON_SDT_salin\",\"CUMPLE_CON_FLUO\",\"CUMPLE_CON_DUR\",\"CUMPLE_CON_CF\",\"CUMPLE_CON_NO3\",\t\n",
        "         \"CUMPLE_CON_AS\"\t,\"CUMPLE_CON_CD\",\"CUMPLE_CON_CR\",\t\"CUMPLE_CON_HG\",\"CUMPLE_CON_PB\",\"CUMPLE_CON_MN\",\"CUMPLE_CON_FE\"]\n",
        "binary_pipeline=Pipeline(\n",
        "    steps=[(\"OHEbi\", OneHotEncoder(handle_unknown=\"ignore\"))]\n",
        ")       \n",
        "\n",
        "columnasTransformer = ColumnTransformer(transformers = [('catpipe', categorical_pipeline, categorical_features),\n",
        "                                                        ('binpipe', binary_pipeline, binary_features)])"
      ],
      "metadata": {
        "id": "FoYnutmi3Gh_"
      },
      "execution_count": null,
      "outputs": []
    },
    {
      "cell_type": "markdown",
      "source": [
        "# Cambia a label encoding el semáforo, ej, de [\"clase 1\", \"clase 2\", \"clase 3\"] a [ 1,2,3]"
      ],
      "metadata": {
        "id": "WGX7CzEu5l2P"
      }
    },
    {
      "cell_type": "code",
      "source": [
        "from sklearn.preprocessing import LabelEncoder\n",
        "\n",
        "le= LabelEncoder()\n",
        "le.fit(y)\n",
        "y_label=le.transform(y)\n",
        "\n"
      ],
      "metadata": {
        "id": "yypVGmkM5mqC"
      },
      "execution_count": null,
      "outputs": []
    },
    {
      "cell_type": "markdown",
      "source": [
        "# Realiza un análisis general de las features importances a traves de decision trees o random forest."
      ],
      "metadata": {
        "id": "39nZxABR73kT"
      }
    },
    {
      "cell_type": "code",
      "source": [
        "from sklearn import tree\n",
        "decision_tree=tree.DecisionTreeClassifier()\n",
        "pipeline = Pipeline(steps=[('ct',columnasTransformer),('dt',decision_tree)])\n",
        "pipeline.fit(X,y_label)"
      ],
      "metadata": {
        "id": "6T3L4c0E67C7",
        "outputId": "b0ce711d-3ded-4fcf-aef5-ccd5e00509ba",
        "colab": {
          "base_uri": "https://localhost:8080/"
        }
      },
      "execution_count": null,
      "outputs": [
        {
          "output_type": "execute_result",
          "data": {
            "text/plain": [
              "Pipeline(steps=[('ct',\n",
              "                 ColumnTransformer(transformers=[('catpipe',\n",
              "                                                  Pipeline(steps=[('OHEcat',\n",
              "                                                                   OneHotEncoder(handle_unknown='ignore'))]),\n",
              "                                                  ['SITIO',\n",
              "                                                   'ORGANISMO_DE_CUENCA',\n",
              "                                                   'ESTADO', 'MUNICIPIO',\n",
              "                                                   'ACUIFERO', 'SUBTIPO']),\n",
              "                                                 ('binpipe',\n",
              "                                                  Pipeline(steps=[('OHEbi',\n",
              "                                                                   OneHotEncoder(handle_unknown='ignore'))]),\n",
              "                                                  ['CUMPLE_CON_ALC',\n",
              "                                                   'CUMPLE_CON_COND',\n",
              "                                                   'CUMPLE_CON_SDT_ra',\n",
              "                                                   'CUMPLE_CON_SDT_salin',\n",
              "                                                   'CUMPLE_CON_FLUO',\n",
              "                                                   'CUMPLE_CON_DUR',\n",
              "                                                   'CUMPLE_CON_CF',\n",
              "                                                   'CUMPLE_CON_NO3',\n",
              "                                                   'CUMPLE_CON_AS',\n",
              "                                                   'CUMPLE_CON_CD',\n",
              "                                                   'CUMPLE_CON_CR',\n",
              "                                                   'CUMPLE_CON_HG',\n",
              "                                                   'CUMPLE_CON_PB',\n",
              "                                                   'CUMPLE_CON_MN',\n",
              "                                                   'CUMPLE_CON_FE'])])),\n",
              "                ('dt', DecisionTreeClassifier())])"
            ]
          },
          "metadata": {},
          "execution_count": 22
        }
      ]
    },
    {
      "cell_type": "code",
      "source": [
        "from sklearn.inspection import permutation_importance\n",
        "import numpy as np\n",
        "import matplotlib.pyplot as plt\n",
        "from matplotlib.pyplot import figure\n",
        "\n",
        "importance = permutation_importance(pipeline, X, y_label, n_repeats=10,random_state=1)\n",
        "\n",
        "figure(figsize = (15, 10), dpi = 80)\n",
        "\n",
        "for v,n in zip(importance['importances_mean'], list(X.columns)):\n",
        "\tprint('Feature: {0:20}, Score: {1:.5f}'.format(n,v))\n",
        "plt.title(\"Features importances\")\n",
        "plt.barh(X.columns.to_numpy(),importance[\"importances_mean\"])\n",
        "plt.show()"
      ],
      "metadata": {
        "id": "6b--qbEL_QRw",
        "outputId": "347d19fd-ed1d-46dc-dac6-b75010f78fbe",
        "colab": {
          "base_uri": "https://localhost:8080/",
          "height": 1000
        }
      },
      "execution_count": null,
      "outputs": [
        {
          "output_type": "stream",
          "name": "stdout",
          "text": [
            "Feature: SITIO               , Score: 0.00094\n",
            "Feature: ORGANISMO_DE_CUENCA , Score: 0.00000\n",
            "Feature: ESTADO              , Score: 0.00000\n",
            "Feature: MUNICIPIO           , Score: 0.00000\n",
            "Feature: ACUIFERO            , Score: 0.00346\n",
            "Feature: SUBTIPO             , Score: 0.00000\n",
            "Feature: LONGITUD            , Score: 0.00000\n",
            "Feature: LATITUD             , Score: 0.00000\n",
            "Feature: CUMPLE_CON_ALC      , Score: 0.02903\n",
            "Feature: CUMPLE_CON_COND     , Score: 0.05993\n",
            "Feature: CUMPLE_CON_SDT_ra   , Score: 0.00000\n",
            "Feature: CUMPLE_CON_SDT_salin, Score: 0.00000\n",
            "Feature: CUMPLE_CON_FLUO     , Score: 0.20103\n",
            "Feature: CUMPLE_CON_DUR      , Score: 0.14213\n",
            "Feature: CUMPLE_CON_CF       , Score: 0.08155\n",
            "Feature: CUMPLE_CON_NO3      , Score: 0.10459\n",
            "Feature: CUMPLE_CON_AS       , Score: 0.11910\n",
            "Feature: CUMPLE_CON_CD       , Score: 0.00103\n",
            "Feature: CUMPLE_CON_CR       , Score: 0.01957\n",
            "Feature: CUMPLE_CON_HG       , Score: 0.00000\n",
            "Feature: CUMPLE_CON_PB       , Score: 0.01170\n",
            "Feature: CUMPLE_CON_MN       , Score: 0.05290\n",
            "Feature: CUMPLE_CON_FE       , Score: 0.07631\n",
            "Feature: ALC                 , Score: 0.00000\n",
            "Feature: AS                  , Score: 0.00000\n",
            "Feature: CD                  , Score: 0.00000\n",
            "Feature: CF                  , Score: 0.00000\n",
            "Feature: CONDUC              , Score: 0.00000\n",
            "Feature: CR                  , Score: 0.00000\n",
            "Feature: DT                  , Score: 0.00000\n",
            "Feature: FE                  , Score: 0.00000\n",
            "Feature: FLUO                , Score: 0.00000\n",
            "Feature: HG                  , Score: 0.00000\n",
            "Feature: MN                  , Score: 0.00000\n",
            "Feature: NI                  , Score: 0.00000\n",
            "Feature: NO3                 , Score: 0.00000\n",
            "Feature: PB                  , Score: 0.00000\n",
            "Feature: SDT_ra              , Score: 0.00000\n",
            "Feature: SDT_salin           , Score: 0.00000\n"
          ]
        },
        {
          "output_type": "display_data",
          "data": {
            "text/plain": [
              "<Figure size 1200x800 with 1 Axes>"
            ],
            "image/png": "[encoded data removed]"
          },
          "metadata": {
            "needs_background": "light"
          }
        }
      ]
    },
    {
      "cell_type": "markdown",
      "source": [
        "# Selecciona las variables de mayor importancia."
      ],
      "metadata": {
        "id": "gzYCX3I7FX1p"
      }
    },
    {
      "cell_type": "code",
      "source": [
        "most_important=[\"CUMPLE_CON_FE\",\"CUMPLE_CON_MN\",\"CUMPLE_CON_PB\",\"CUMPLE_CON_CR\",\"CUMPLE_CON_AS\",\"CUMPLE_CON_NO3\",\n",
        "                \"CUMPLE_CON_CF\",\"CUMPLE_CON_DUR\",\"CUMPLE_CON_FLUO\",\"CUMPLE_CON_COND\",\"CUMPLE_CON_ALC\"]\n",
        "df=df[most_important]"
      ],
      "metadata": {
        "id": "Ts9CyBNbFdlL"
      },
      "execution_count": null,
      "outputs": []
    },
    {
      "cell_type": "markdown",
      "source": [
        "Creamos otro pipeline con las variables más importantes"
      ],
      "metadata": {
        "id": "pblHrmj3GaH_"
      }
    },
    {
      "cell_type": "code",
      "source": [
        "binary_features=[\"CUMPLE_CON_FE\",\"CUMPLE_CON_MN\",\"CUMPLE_CON_PB\",\"CUMPLE_CON_CR\",\"CUMPLE_CON_AS\",\"CUMPLE_CON_NO3\",\n",
        "                \"CUMPLE_CON_CF\",\"CUMPLE_CON_DUR\",\"CUMPLE_CON_FLUO\",\"CUMPLE_CON_COND\",\"CUMPLE_CON_ALC\"]\n",
        "bin_pipe=Pipeline(\n",
        "    steps=[(\"OHEbi\", OneHotEncoder(handle_unknown=\"ignore\"))]\n",
        ")  \n",
        "\n",
        "important_features = ColumnTransformer(transformers = [('binpipe', bin_pipe, binary_features)])\n",
        "\n"
      ],
      "metadata": {
        "id": "Wbf-lOQbGeyM"
      },
      "execution_count": null,
      "outputs": []
    },
    {
      "cell_type": "markdown",
      "source": [
        "Asignamos a **X** las columnas más importantes sacadas con feature importance, la **y** ya la tenemos en la parte de arriba como **y_label**"
      ],
      "metadata": {
        "id": "Qf89Kv2_HkUl"
      }
    },
    {
      "cell_type": "code",
      "source": [
        "X=df"
      ],
      "metadata": {
        "id": "775efRwkHF4X"
      },
      "execution_count": null,
      "outputs": []
    },
    {
      "cell_type": "code",
      "source": [
        "X.head()"
      ],
      "metadata": {
        "id": "E-tBbksHLRzv",
        "outputId": "53a8163b-d6e2-4a17-cf3c-63367bc83a26",
        "colab": {
          "base_uri": "https://localhost:8080/",
          "height": 206
        }
      },
      "execution_count": null,
      "outputs": [
        {
          "output_type": "execute_result",
          "data": {
            "text/plain": [
              "  CUMPLE_CON_FE CUMPLE_CON_MN CUMPLE_CON_PB CUMPLE_CON_CR CUMPLE_CON_AS  \\\n",
              "0            SI            SI            SI            SI            SI   \n",
              "1            SI            SI            SI            SI            SI   \n",
              "2            SI            SI            SI            SI            NO   \n",
              "3            SI            SI            SI            SI            SI   \n",
              "4            SI            SI            SI            SI            SI   \n",
              "\n",
              "  CUMPLE_CON_NO3 CUMPLE_CON_CF CUMPLE_CON_DUR CUMPLE_CON_FLUO CUMPLE_CON_COND  \\\n",
              "0             SI            SI             SI              SI              SI   \n",
              "1             SI            SI             SI              SI              SI   \n",
              "2             SI            SI             SI              NO              SI   \n",
              "3             SI            SI             SI              SI              SI   \n",
              "4             NO            SI             SI              SI              SI   \n",
              "\n",
              "  CUMPLE_CON_ALC  \n",
              "0             SI  \n",
              "1             SI  \n",
              "2             SI  \n",
              "3             SI  \n",
              "4             SI  "
            ],
            "text/html": [
              "\n",
              "  <div id=\"df-9a11fd5c-888c-4a97-831f-26590487d3fd\">\n",
              "    <div class=\"colab-df-container\">\n",
              "      <div>\n",
              "<style scoped>\n",
              "    .dataframe tbody tr th:only-of-type {\n",
              "        vertical-align: middle;\n",
              "    }\n",
              "\n",
              "    .dataframe tbody tr th {\n",
              "        vertical-align: top;\n",
              "    }\n",
              "\n",
              "    .dataframe thead th {\n",
              "        text-align: right;\n",
              "    }\n",
              "</style>\n",
              "<table border=\"1\" class=\"dataframe\">\n",
              "  <thead>\n",
              "    <tr style=\"text-align: right;\">\n",
              "      <th></th>\n",
              "      <th>CUMPLE_CON_FE</th>\n",
              "      <th>CUMPLE_CON_MN</th>\n",
              "      <th>CUMPLE_CON_PB</th>\n",
              "      <th>CUMPLE_CON_CR</th>\n",
              "      <th>CUMPLE_CON_AS</th>\n",
              "      <th>CUMPLE_CON_NO3</th>\n",
              "      <th>CUMPLE_CON_CF</th>\n",
              "      <th>CUMPLE_CON_DUR</th>\n",
              "      <th>CUMPLE_CON_FLUO</th>\n",
              "      <th>CUMPLE_CON_COND</th>\n",
              "      <th>CUMPLE_CON_ALC</th>\n",
              "    </tr>\n",
              "  </thead>\n",
              "  <tbody>\n",
              "    <tr>\n",
              "      <th>0</th>\n",
              "      <td>SI</td>\n",
              "      <td>SI</td>\n",
              "      <td>SI</td>\n",
              "      <td>SI</td>\n",
              "      <td>SI</td>\n",
              "      <td>SI</td>\n",
              "      <td>SI</td>\n",
              "      <td>SI</td>\n",
              "      <td>SI</td>\n",
              "      <td>SI</td>\n",
              "      <td>SI</td>\n",
              "    </tr>\n",
              "    <tr>\n",
              "      <th>1</th>\n",
              "      <td>SI</td>\n",
              "      <td>SI</td>\n",
              "      <td>SI</td>\n",
              "      <td>SI</td>\n",
              "      <td>SI</td>\n",
              "      <td>SI</td>\n",
              "      <td>SI</td>\n",
              "      <td>SI</td>\n",
              "      <td>SI</td>\n",
              "      <td>SI</td>\n",
              "      <td>SI</td>\n",
              "    </tr>\n",
              "    <tr>\n",
              "      <th>2</th>\n",
              "      <td>SI</td>\n",
              "      <td>SI</td>\n",
              "      <td>SI</td>\n",
              "      <td>SI</td>\n",
              "      <td>NO</td>\n",
              "      <td>SI</td>\n",
              "      <td>SI</td>\n",
              "      <td>SI</td>\n",
              "      <td>NO</td>\n",
              "      <td>SI</td>\n",
              "      <td>SI</td>\n",
              "    </tr>\n",
              "    <tr>\n",
              "      <th>3</th>\n",
              "      <td>SI</td>\n",
              "      <td>SI</td>\n",
              "      <td>SI</td>\n",
              "      <td>SI</td>\n",
              "      <td>SI</td>\n",
              "      <td>SI</td>\n",
              "      <td>SI</td>\n",
              "      <td>SI</td>\n",
              "      <td>SI</td>\n",
              "      <td>SI</td>\n",
              "      <td>SI</td>\n",
              "    </tr>\n",
              "    <tr>\n",
              "      <th>4</th>\n",
              "      <td>SI</td>\n",
              "      <td>SI</td>\n",
              "      <td>SI</td>\n",
              "      <td>SI</td>\n",
              "      <td>SI</td>\n",
              "      <td>NO</td>\n",
              "      <td>SI</td>\n",
              "      <td>SI</td>\n",
              "      <td>SI</td>\n",
              "      <td>SI</td>\n",
              "      <td>SI</td>\n",
              "    </tr>\n",
              "  </tbody>\n",
              "</table>\n",
              "</div>\n",
              "      <button class=\"colab-df-convert\" onclick=\"convertToInteractive('df-9a11fd5c-888c-4a97-831f-26590487d3fd')\"\n",
              "              title=\"Convert this dataframe to an interactive table.\"\n",
              "              style=\"display:none;\">\n",
              "        \n",
              "  <svg xmlns=\"http://www.w3.org/2000/svg\" height=\"24px\"viewBox=\"0 0 24 24\"\n",
              "       width=\"24px\">\n",
              "    <path d=\"M0 0h24v24H0V0z\" fill=\"none\"/>\n",
              "    <path d=\"M18.56 5.44l.94 2.06.94-2.06 2.06-.94-2.06-.94-.94-2.06-.94 2.06-2.06.94zm-11 1L8.5 8.5l.94-2.06 2.06-.94-2.06-.94L8.5 2.5l-.94 2.06-2.06.94zm10 10l.94 2.06.94-2.06 2.06-.94-2.06-.94-.94-2.06-.94 2.06-2.06.94z\"/><path d=\"M17.41 7.96l-1.37-1.37c-.4-.4-.92-.59-1.43-.59-.52 0-1.04.2-1.43.59L10.3 9.45l-7.72 7.72c-.78.78-.78 2.05 0 2.83L4 21.41c.39.39.9.59 1.41.59.51 0 1.02-.2 1.41-.59l7.78-7.78 2.81-2.81c.8-.78.8-2.07 0-2.86zM5.41 20L4 18.59l7.72-7.72 1.47 1.35L5.41 20z\"/>\n",
              "  </svg>\n",
              "      </button>\n",
              "      \n",
              "  <style>\n",
              "    .colab-df-container {\n",
              "      display:flex;\n",
              "      flex-wrap:wrap;\n",
              "      gap: 12px;\n",
              "    }\n",
              "\n",
              "    .colab-df-convert {\n",
              "      background-color: #E8F0FE;\n",
              "      border: none;\n",
              "      border-radius: 50%;\n",
              "      cursor: pointer;\n",
              "      display: none;\n",
              "      fill: #1967D2;\n",
              "      height: 32px;\n",
              "      padding: 0 0 0 0;\n",
              "      width: 32px;\n",
              "    }\n",
              "\n",
              "    .colab-df-convert:hover {\n",
              "      background-color: #E2EBFA;\n",
              "      box-shadow: 0px 1px 2px rgba(60, 64, 67, 0.3), 0px 1px 3px 1px rgba(60, 64, 67, 0.15);\n",
              "      fill: #174EA6;\n",
              "    }\n",
              "\n",
              "    [theme=dark] .colab-df-convert {\n",
              "      background-color: #3B4455;\n",
              "      fill: #D2E3FC;\n",
              "    }\n",
              "\n",
              "    [theme=dark] .colab-df-convert:hover {\n",
              "      background-color: #434B5C;\n",
              "      box-shadow: 0px 1px 3px 1px rgba(0, 0, 0, 0.15);\n",
              "      filter: drop-shadow(0px 1px 2px rgba(0, 0, 0, 0.3));\n",
              "      fill: #FFFFFF;\n",
              "    }\n",
              "  </style>\n",
              "\n",
              "      <script>\n",
              "        const buttonEl =\n",
              "          document.querySelector('#df-9a11fd5c-888c-4a97-831f-26590487d3fd button.colab-df-convert');\n",
              "        buttonEl.style.display =\n",
              "          google.colab.kernel.accessAllowed ? 'block' : 'none';\n",
              "\n",
              "        async function convertToInteractive(key) {\n",
              "          const element = document.querySelector('#df-9a11fd5c-888c-4a97-831f-26590487d3fd');\n",
              "          const dataTable =\n",
              "            await google.colab.kernel.invokeFunction('convertToInteractive',\n",
              "                                                     [key], {});\n",
              "          if (!dataTable) return;\n",
              "\n",
              "          const docLinkHtml = 'Like what you see? Visit the ' +\n",
              "            '<a target=\"_blank\" href=https://colab.research.google.com/notebooks/data_table.ipynb>data table notebook</a>'\n",
              "            + ' to learn more about interactive tables.';\n",
              "          element.innerHTML = '';\n",
              "          dataTable['output_type'] = 'display_data';\n",
              "          await google.colab.output.renderOutput(dataTable, element);\n",
              "          const docLink = document.createElement('div');\n",
              "          docLink.innerHTML = docLinkHtml;\n",
              "          element.appendChild(docLink);\n",
              "        }\n",
              "      </script>\n",
              "    </div>\n",
              "  </div>\n",
              "  "
            ]
          },
          "metadata": {},
          "execution_count": 27
        }
      ]
    },
    {
      "cell_type": "markdown",
      "source": [
        "## Realiza tu clasificador, recuerda dividir los datos de manera balanceada (auxiliate de train test split)"
      ],
      "metadata": {
        "id": "ku2Wi9c6IMqn"
      }
    },
    {
      "cell_type": "code",
      "source": [
        "from sklearn.model_selection import train_test_split\n",
        "\n",
        "X_train,X_test,y_train,y_test=train_test_split(X,y_label,test_size=0.2,random_state=1,stratify=y_label) #stratify lo usamos para dividir los datos balanceados"
      ],
      "metadata": {
        "id": "Hd3icVly123i"
      },
      "execution_count": null,
      "outputs": []
    },
    {
      "cell_type": "markdown",
      "source": [
        "# Explora que clasificador es el más optimo, ejemplo:\n",
        "* Decision trees\n",
        "* Random forest"
      ],
      "metadata": {
        "id": "fWeMdWLXIsbM"
      }
    },
    {
      "cell_type": "code",
      "source": [
        "from sklearn.linear_model import LogisticRegression\n",
        "from sklearn.tree import DecisionTreeClassifier\n",
        "from sklearn.ensemble import RandomForestClassifier\n",
        "\n",
        "def get_models(): #creamos una función donde guardamos el modelo y el nombre del modelo\n",
        "  modelos = list()\n",
        "  nombres = list()\n",
        "\n",
        "  # RF - Bosque Aleatorio\n",
        "  modelos.append(RandomForestClassifier(random_state=0,max_depth=5))\n",
        "\n",
        "  #DT - Decision Tree\n",
        "  modelos.append(DecisionTreeClassifier(random_state=0,max_depth=5))\n",
        "\n",
        "  return modelos"
      ],
      "metadata": {
        "id": "ERFZXgmDI5sb"
      },
      "execution_count": null,
      "outputs": []
    },
    {
      "cell_type": "code",
      "source": [
        "modelos=get_models()"
      ],
      "metadata": {
        "id": "gfLLj00vLEgX"
      },
      "execution_count": null,
      "outputs": []
    },
    {
      "cell_type": "markdown",
      "source": [
        "**Evaluamos nuestro modelo con Random Forest** "
      ],
      "metadata": {
        "id": "kSzh1x5tR3lM"
      }
    },
    {
      "cell_type": "code",
      "source": [
        "pipeline_rf = Pipeline(steps=[('ct',important_features),('m',modelos[0])])\n",
        "pipeline_rf.fit(X_train,y_train)\n",
        "yhat_rf=pipeline_rf.predict(X_test)"
      ],
      "metadata": {
        "id": "5b_iQFy6QUMn"
      },
      "execution_count": null,
      "outputs": []
    },
    {
      "cell_type": "code",
      "source": [
        "from sklearn.metrics import accuracy_score,precision_score, recall_score\n",
        "\n",
        "accuracy=accuracy_score(y_test,yhat_rf)\n",
        "precision=precision_score(y_test, yhat_rf, average='macro')\n",
        "recall=recall_score(y_test,yhat_rf,average=\"macro\")\n",
        "print(\"El accuracy es de:\",accuracy)\n",
        "print(\"La precision es de:\",precision)\n",
        "print(\"El recall es de:\",recall)"
      ],
      "metadata": {
        "id": "iZha-jKbRbLE",
        "outputId": "b2e979b9-30bf-401f-c439-fc716912b853",
        "colab": {
          "base_uri": "https://localhost:8080/"
        }
      },
      "execution_count": null,
      "outputs": [
        {
          "output_type": "stream",
          "name": "stdout",
          "text": [
            "El accuracy es de: 0.9252336448598131\n",
            "La precision es de: 0.9198099415204678\n",
            "El recall es de: 0.911832283753466\n"
          ]
        }
      ]
    },
    {
      "cell_type": "markdown",
      "source": [
        "**Evaluamos nuestro modelo con Decision Tree**"
      ],
      "metadata": {
        "id": "yqubtdVuVuSL"
      }
    },
    {
      "cell_type": "code",
      "source": [
        "pipeline_dt = Pipeline(steps=[('ct',important_features),('m',modelos[1])])\n",
        "pipeline_dt.fit(X_train,y_train)\n",
        "yhat_dt=pipeline_dt.predict(X_test)"
      ],
      "metadata": {
        "id": "ejDBriBKV2p8"
      },
      "execution_count": null,
      "outputs": []
    },
    {
      "cell_type": "code",
      "source": [
        "from sklearn.metrics import precision_score, recall_score\n",
        "\n",
        "accuracy=accuracy_score(y_test,yhat_dt)\n",
        "precision=precision_score(y_test, yhat_dt, average='macro')\n",
        "recall=recall_score(y_test,yhat_dt,average=\"macro\")\n",
        "print(\"El accuracy es de:\",accuracy)\n",
        "print(\"La precision es de:\",precision)\n",
        "print(\"El recall es de:\",recall)"
      ],
      "metadata": {
        "id": "-wjp_M8HV8YB",
        "outputId": "97f4e576-5a72-4197-e783-5e0716a9a6be",
        "colab": {
          "base_uri": "https://localhost:8080/"
        }
      },
      "execution_count": null,
      "outputs": [
        {
          "output_type": "stream",
          "name": "stdout",
          "text": [
            "El accuracy es de: 0.8598130841121495\n",
            "La precision es de: 0.8685185185185186\n",
            "El recall es de: 0.8389150532007674\n"
          ]
        }
      ]
    },
    {
      "cell_type": "code",
      "source": [
        "figure(figsize = (20, 15), dpi = 80)\n",
        "\n",
        "tree.plot_tree(pipeline_dt.named_steps[\"m\"], filled = True)"
      ],
      "metadata": {
        "id": "ShFDo29oAWtb",
        "outputId": "8c143e4d-552f-4f26-ce1a-09216a6489b9",
        "colab": {
          "base_uri": "https://localhost:8080/",
          "height": 1000
        }
      },
      "execution_count": null,
      "outputs": [
        {
          "output_type": "execute_result",
          "data": {
            "text/plain": [
              "[Text(0.6071428571428571, 0.9166666666666666, 'X[17] <= 0.5\\ngini = 0.65\\nsamples = 854\\nvalue = [198, 309, 347]'),\n",
              " Text(0.5357142857142857, 0.75, 'X[15] <= 0.5\\ngini = 0.625\\nsamples = 700\\nvalue = [198, 155, 347]'),\n",
              " Text(0.35714285714285715, 0.5833333333333334, 'X[0] <= 0.5\\ngini = 0.52\\nsamples = 539\\nvalue = [78, 114, 347]'),\n",
              " Text(0.21428571428571427, 0.4166666666666667, 'X[8] <= 0.5\\ngini = 0.425\\nsamples = 476\\nvalue = [36, 93, 347]'),\n",
              " Text(0.14285714285714285, 0.25, 'X[14] <= 0.5\\ngini = 0.366\\nsamples = 445\\nvalue = [36, 62, 347]'),\n",
              " Text(0.07142857142857142, 0.08333333333333333, 'gini = 0.0\\nsamples = 28\\nvalue = [0, 28, 0]'),\n",
              " Text(0.21428571428571427, 0.08333333333333333, 'gini = 0.293\\nsamples = 417\\nvalue = [36, 34, 347]'),\n",
              " Text(0.2857142857142857, 0.25, 'gini = 0.0\\nsamples = 31\\nvalue = [0, 31, 0]'),\n",
              " Text(0.5, 0.4166666666666667, 'X[8] <= 0.5\\ngini = 0.444\\nsamples = 63\\nvalue = [42, 21, 0]'),\n",
              " Text(0.42857142857142855, 0.25, 'X[6] <= 0.5\\ngini = 0.361\\nsamples = 55\\nvalue = [42, 13, 0]'),\n",
              " Text(0.35714285714285715, 0.08333333333333333, 'gini = 0.291\\nsamples = 51\\nvalue = [42, 9, 0]'),\n",
              " Text(0.5, 0.08333333333333333, 'gini = 0.0\\nsamples = 4\\nvalue = [0, 4, 0]'),\n",
              " Text(0.5714285714285714, 0.25, 'gini = 0.0\\nsamples = 8\\nvalue = [0, 8, 0]'),\n",
              " Text(0.7142857142857143, 0.5833333333333334, 'X[12] <= 0.5\\ngini = 0.38\\nsamples = 161\\nvalue = [120, 41, 0]'),\n",
              " Text(0.6428571428571429, 0.4166666666666667, 'gini = 0.0\\nsamples = 26\\nvalue = [0, 26, 0]'),\n",
              " Text(0.7857142857142857, 0.4166666666666667, 'X[14] <= 0.5\\ngini = 0.198\\nsamples = 135\\nvalue = [120, 15, 0]'),\n",
              " Text(0.7142857142857143, 0.25, 'gini = 0.0\\nsamples = 8\\nvalue = [0, 8, 0]'),\n",
              " Text(0.8571428571428571, 0.25, 'X[8] <= 0.5\\ngini = 0.104\\nsamples = 127\\nvalue = [120, 7, 0]'),\n",
              " Text(0.7857142857142857, 0.08333333333333333, 'gini = 0.032\\nsamples = 122\\nvalue = [120, 2, 0]'),\n",
              " Text(0.9285714285714286, 0.08333333333333333, 'gini = 0.0\\nsamples = 5\\nvalue = [0, 5, 0]'),\n",
              " Text(0.6785714285714286, 0.75, 'gini = 0.0\\nsamples = 154\\nvalue = [0, 154, 0]')]"
            ]
          },
          "metadata": {},
          "execution_count": 81
        },
        {
          "output_type": "display_data",
          "data": {
            "text/plain": [
              "<Figure size 1600x1200 with 1 Axes>"
            ],
            "image/png": "[encoded data removed]"
          },
          "metadata": {}
        }
      ]
    },
    {
      "cell_type": "markdown",
      "source": [
        "# Determina el grado de exactitud a través del reporte de clasificación y análisis de la gráfica de Precision Recall.\n"
      ],
      "metadata": {
        "id": "mud93jELWQ78"
      }
    },
    {
      "cell_type": "markdown",
      "source": [
        "**Classification report Decision Tree**"
      ],
      "metadata": {
        "id": "2hlcijAMIorB"
      }
    },
    {
      "cell_type": "code",
      "source": [
        "from sklearn.metrics import classification_report\n",
        "target_names = ['class 0', 'class 1', 'class 2']\n",
        "print(classification_report(y_test, yhat_dt, target_names=target_names))"
      ],
      "metadata": {
        "id": "N1fsibUgIn2r",
        "outputId": "414f9164-ae93-429f-b36c-a74a9c718778",
        "colab": {
          "base_uri": "https://localhost:8080/"
        }
      },
      "execution_count": null,
      "outputs": [
        {
          "output_type": "stream",
          "name": "stdout",
          "text": [
            "              precision    recall  f1-score   support\n",
            "\n",
            "     class 0       0.82      0.73      0.77        49\n",
            "     class 1       1.00      0.74      0.85        78\n",
            "     class 2       0.76      0.98      0.85        87\n",
            "\n",
            "    accuracy                           0.84       214\n",
            "   macro avg       0.86      0.82      0.83       214\n",
            "weighted avg       0.86      0.84      0.84       214\n",
            "\n"
          ]
        }
      ]
    },
    {
      "cell_type": "markdown",
      "source": [
        "**Classification report Random Forest**"
      ],
      "metadata": {
        "id": "rbJVTLZUc8Ih"
      }
    },
    {
      "cell_type": "code",
      "source": [
        "target_names = ['class 0', 'class 1', 'class 2']\n",
        "print(classification_report(y_test, yhat_rf, target_names=target_names))"
      ],
      "metadata": {
        "colab": {
          "base_uri": "https://localhost:8080/"
        },
        "id": "ugx3VY2FdA9e",
        "outputId": "7ee5e278-4a9c-4570-8901-f838b10cab9c"
      },
      "execution_count": null,
      "outputs": [
        {
          "output_type": "stream",
          "name": "stdout",
          "text": [
            "              precision    recall  f1-score   support\n",
            "\n",
            "     class 0       0.80      0.84      0.82        49\n",
            "     class 1       1.00      0.86      0.92        78\n",
            "     class 2       0.90      0.99      0.94        87\n",
            "\n",
            "    accuracy                           0.91       214\n",
            "   macro avg       0.90      0.89      0.89       214\n",
            "weighted avg       0.91      0.91      0.91       214\n",
            "\n"
          ]
        }
      ]
    },
    {
      "cell_type": "markdown",
      "source": [
        "Después la gráfica de Precision-Recall"
      ],
      "metadata": {
        "id": "MshkRbl7LCrD"
      }
    },
    {
      "cell_type": "code",
      "source": [
        "from yellowbrick.classifier import PrecisionRecallCurve\n",
        "prcurve = PrecisionRecallCurve(\n",
        "    pipeline_dt,\n",
        "    per_class=True,\n",
        "    cmap=\"Set1\"\n",
        ")\n",
        "prcurve.fit(X_train, y_train)\n",
        "prcurve.score(X_test, y_test)\n",
        "prcurve.show()"
      ],
      "metadata": {
        "id": "Kjz2qi0GBWcl",
        "outputId": "cbe27dad-976b-47ea-ef30-d823999ad18f",
        "colab": {
          "base_uri": "https://localhost:8080/",
          "height": 393
        }
      },
      "execution_count": null,
      "outputs": [
        {
          "output_type": "display_data",
          "data": {
            "text/plain": [
              "<Figure size 576x396 with 1 Axes>"
            ],
            "image/png": "[encoded data removed]"
          },
          "metadata": {}
        },
        {
          "output_type": "execute_result",
          "data": {
            "text/plain": [
              "<matplotlib.axes._subplots.AxesSubplot at 0x7fe55391a810>"
            ]
          },
          "metadata": {},
          "execution_count": 38
        }
      ]
    },
    {
      "cell_type": "code",
      "source": [
        "prcurve = PrecisionRecallCurve(\n",
        "    pipeline_rf,\n",
        "    per_class=True,\n",
        "    cmap=\"Set1\"\n",
        ")\n",
        "prcurve.fit(X_train, y_train)\n",
        "prcurve.score(X_test, y_test)\n",
        "prcurve.show()"
      ],
      "metadata": {
        "id": "vTtWdu0nk-a2",
        "outputId": "1fe7d417-6a14-4a7c-d33b-b16a237d625f",
        "colab": {
          "base_uri": "https://localhost:8080/",
          "height": 393
        }
      },
      "execution_count": null,
      "outputs": [
        {
          "output_type": "display_data",
          "data": {
            "text/plain": [
              "<Figure size 576x396 with 1 Axes>"
            ],
            "image/png": "[encoded data removed]"
          },
          "metadata": {}
        },
        {
          "output_type": "execute_result",
          "data": {
            "text/plain": [
              "<matplotlib.axes._subplots.AxesSubplot at 0x7fe55105da50>"
            ]
          },
          "metadata": {},
          "execution_count": 39
        }
      ]
    },
    {
      "cell_type": "markdown",
      "source": [
        "# Visualiza los resultados del modelo o las predicciones a través de una matriz de confusión."
      ],
      "metadata": {
        "id": "ERN5myrb3L95"
      }
    },
    {
      "cell_type": "markdown",
      "source": [
        "Definimos una función para graficar la matriz de confusión."
      ],
      "metadata": {
        "id": "ggpf_em6fLEQ"
      }
    },
    {
      "cell_type": "code",
      "source": [
        "from sklearn.metrics import confusion_matrix\n",
        "import seaborn as sns \n",
        "\n",
        "def mi_cm(yreal, ypred):\n",
        "  cm=confusion_matrix(yreal, ypred)\n",
        "\n",
        "  plt.figure(figsize=(6,4))\n",
        "  plt.title(\"Matriz de confusión\")\n",
        "  ax = sns.heatmap(cm, annot=True, fmt='', cmap=\"viridis\", cbar=True)\n",
        "  ax.set(ylabel=\"Etiquetas Reales\", xlabel=\"Etiquetas de Predicción\")\n",
        "  plt.show()"
      ],
      "metadata": {
        "id": "NuAWfOnO3Tqc"
      },
      "execution_count": null,
      "outputs": []
    },
    {
      "cell_type": "markdown",
      "source": [
        "**Matriz de confusión para Decision Tree**"
      ],
      "metadata": {
        "id": "l8KiJNjmgZzB"
      }
    },
    {
      "cell_type": "code",
      "source": [
        "mi_cm(y_test,yhat_dt)"
      ],
      "metadata": {
        "id": "6TOttcMT6cAP",
        "outputId": "5654feba-39a4-4da5-b32d-6c17e62defb6",
        "colab": {
          "base_uri": "https://localhost:8080/",
          "height": 294
        }
      },
      "execution_count": null,
      "outputs": [
        {
          "output_type": "display_data",
          "data": {
            "text/plain": [
              "<Figure size 432x288 with 2 Axes>"
            ],
            "image/png": "[encoded data removed]"
          },
          "metadata": {}
        }
      ]
    },
    {
      "cell_type": "markdown",
      "source": [
        "**Matriz de confusión para Random Forest**"
      ],
      "metadata": {
        "id": "Be6tFqNwgjWQ"
      }
    },
    {
      "cell_type": "code",
      "source": [
        "mi_cm(y_test,yhat_rf)"
      ],
      "metadata": {
        "colab": {
          "base_uri": "https://localhost:8080/",
          "height": 294
        },
        "id": "8Wv1pS95fImg",
        "outputId": "ed5eb9ca-ec13-48d9-af88-3b134dd06876"
      },
      "execution_count": null,
      "outputs": [
        {
          "output_type": "display_data",
          "data": {
            "text/plain": [
              "<Figure size 432x288 with 2 Axes>"
            ],
            "image/png": "[encoded data removed]"
          },
          "metadata": {}
        }
      ]
    },
    {
      "cell_type": "markdown",
      "source": [
        "Graficamos las curvas de aprendizaje del modelo con **Random Forest**, para ello creamos dos funciones para poder usar recall y precision con el paramétro average=\"macro\", adicionalmente como haremos uso de **Make Scorer** en la función**mi_ModeloYCurvas**, necesitaremos convertir el método accuracy_score a una función llamada mi_accuracy."
      ],
      "metadata": {
        "id": "yveGcdjgShKa"
      }
    },
    {
      "cell_type": "code",
      "source": [
        "from sklearn.metrics import make_scorer\n",
        "\n",
        "def mi_recall(y_real,y_pred):\n",
        "  recall=recall_score(y_real,y_pred,average='macro')\n",
        "  return recall\n",
        "\n",
        "def mi_precision(y_real,y_pred):\n",
        "  precision=precision_score(y_real,y_pred,average='macro')\n",
        "  return precision\n",
        "\n",
        "def mi_accuracy(y_real,y_pred):\n",
        "  accuracy=accuracy_score(y_real,y_pred)\n",
        "  return accuracy"
      ],
      "metadata": {
        "id": "6zovQ9C_Qvt8"
      },
      "execution_count": null,
      "outputs": []
    },
    {
      "cell_type": "markdown",
      "source": [
        "Definimos la función con la cual nuestros datos se graficarán"
      ],
      "metadata": {
        "id": "jFoiZBi1T4vN"
      }
    },
    {
      "cell_type": "code",
      "source": [
        "def mi_LearningCurvePlot(train_sizes, train_scores, val_scores,scoring_name):\n",
        "\n",
        "    train_mean = np.mean(train_scores, axis=1)\n",
        "    train_std = np.std(train_scores, axis=1)\n",
        "    val_mean = np.mean(val_scores, axis=1)\n",
        "    val_std = np.std(val_scores, axis=1)\n",
        "\n",
        "    plt.figure(figsize=(7,6))\n",
        "    plt.plot(train_sizes, train_mean, color='blue', marker='o', markersize=5, label='Training')\n",
        "    plt.fill_between(train_sizes, train_mean + train_std, train_mean - train_std, alpha=0.1, color='blue')\n",
        "    \n",
        "    plt.plot(train_sizes, val_mean, color='red', marker='+', markersize=5, linestyle='--', label='Validation')\n",
        "    plt.fill_between(train_sizes, val_mean + val_std, val_mean - val_std, alpha=0.1, color='red')\n",
        "    \n",
        "    plt.title('Curvas de Aprendizaje incrementando el tamaño de la muestra')\n",
        "    plt.xlabel('Tamaño del conjunto de entrenamiento')\n",
        "    plt.ylabel(scoring_name)\n",
        "    plt.grid()\n",
        "    plt.legend(loc='lower left')\n",
        "    plt.show()"
      ],
      "metadata": {
        "id": "GdJ_BJAY-acG"
      },
      "execution_count": null,
      "outputs": []
    },
    {
      "cell_type": "markdown",
      "source": [
        "Creamos otra función donde haremos uso de validación cruzada para obtener la curva de aprendizaje"
      ],
      "metadata": {
        "id": "ltj7NFYrT9pU"
      }
    },
    {
      "cell_type": "code",
      "source": [
        "from sklearn.model_selection import RepeatedStratifiedKFold, learning_curve\n",
        "\n",
        "def mi_ModeloYCurvas(Xin,modelo,scorer,scoring_name):\n",
        "\n",
        "       mi_pipe =  Pipeline(steps=[('ct',important_features),('m',modelo)])\n",
        "\n",
        "       mi_kfold = RepeatedStratifiedKFold(n_splits=5,n_repeats=3,random_state=7)\n",
        "       \n",
        "       delta_train_sz = np.linspace(0.1,1.0,40)\n",
        "\n",
        "       tr_sizes, tr_scores, val_scores = learning_curve(estimator = mi_pipe ,    \n",
        "                                                        X = Xin,\n",
        "                                                        y = y_train,\n",
        "                                                        cv = mi_kfold ,\n",
        "                                                        train_sizes = delta_train_sz ,\n",
        "                                                        scoring=make_scorer(scorer),\n",
        "                                                        random_state=10)\n",
        "       \n",
        "       mi_LearningCurvePlot(tr_sizes, tr_scores, val_scores,scoring_name)"
      ],
      "metadata": {
        "id": "XBjrFJ9v-e75"
      },
      "execution_count": null,
      "outputs": []
    },
    {
      "cell_type": "code",
      "source": [
        "mi_ModeloYCurvas(X_train,modelos[0],mi_recall,\"Recall\")"
      ],
      "metadata": {
        "id": "RIJWCBsY_SuA",
        "outputId": "8d7a4a6d-d8b0-4783-de74-87c2051ec505",
        "colab": {
          "base_uri": "https://localhost:8080/",
          "height": 403
        }
      },
      "execution_count": null,
      "outputs": [
        {
          "output_type": "display_data",
          "data": {
            "text/plain": [
              "<Figure size 504x432 with 1 Axes>"
            ],
            "image/png": "[encoded data removed]"
          },
          "metadata": {}
        }
      ]
    },
    {
      "cell_type": "code",
      "source": [
        "mi_ModeloYCurvas(X_train,modelos[0],mi_precision,\"Precision\")"
      ],
      "metadata": {
        "id": "cyIaF6ECTYl6",
        "outputId": "a39363ef-3158-4934-aa60-b109464c5886",
        "colab": {
          "base_uri": "https://localhost:8080/",
          "height": 403
        }
      },
      "execution_count": null,
      "outputs": [
        {
          "output_type": "display_data",
          "data": {
            "text/plain": [
              "<Figure size 504x432 with 1 Axes>"
            ],
            "image/png": "[encoded data removed]"
          },
          "metadata": {}
        }
      ]
    },
    {
      "cell_type": "code",
      "source": [
        "mi_ModeloYCurvas(X_train,modelos[0],mi_accuracy,\"Accuracy\")"
      ],
      "metadata": {
        "id": "WTqj1WqjTt35",
        "outputId": "333d330e-4536-47d4-c241-a2eb288f986e",
        "colab": {
          "base_uri": "https://localhost:8080/",
          "height": 403
        }
      },
      "execution_count": null,
      "outputs": [
        {
          "output_type": "display_data",
          "data": {
            "text/plain": [
              "<Figure size 504x432 with 1 Axes>"
            ],
            "image/png": "[encoded data removed]"
          },
          "metadata": {}
        }
      ]
    },
    {
      "cell_type": "markdown",
      "source": [
        "Ahora hacemos lo mismo con el modelo de **Decision Tree**"
      ],
      "metadata": {
        "id": "hUAVHUrXUZ0A"
      }
    },
    {
      "cell_type": "code",
      "source": [
        "mi_ModeloYCurvas(X_train,modelos[1],mi_recall,\"Recall\")"
      ],
      "metadata": {
        "id": "HbjS7g_wUlCj",
        "outputId": "7c293a8f-2c77-465d-8171-e8367cf8eeba",
        "colab": {
          "base_uri": "https://localhost:8080/",
          "height": 403
        }
      },
      "execution_count": null,
      "outputs": [
        {
          "output_type": "display_data",
          "data": {
            "text/plain": [
              "<Figure size 504x432 with 1 Axes>"
            ],
            "image/png": "[encoded data removed]"
          },
          "metadata": {}
        }
      ]
    },
    {
      "cell_type": "code",
      "source": [
        "mi_ModeloYCurvas(X_train,modelos[1],mi_precision,\"Precision\")"
      ],
      "metadata": {
        "id": "rPec1FFQWLTO",
        "outputId": "82263fd2-ead5-453a-e945-500bf4a7e092",
        "colab": {
          "base_uri": "https://localhost:8080/",
          "height": 403
        }
      },
      "execution_count": null,
      "outputs": [
        {
          "output_type": "display_data",
          "data": {
            "text/plain": [
              "<Figure size 504x432 with 1 Axes>"
            ],
            "image/png": "[encoded data removed]"
          },
          "metadata": {}
        }
      ]
    },
    {
      "cell_type": "code",
      "source": [
        "mi_ModeloYCurvas(X_train,modelos[1],mi_accuracy,\"Accuracy\")"
      ],
      "metadata": {
        "id": "vC6r3D1OWVmW",
        "outputId": "6bc53361-9106-4ea4-ce59-5fe5faa2c22e",
        "colab": {
          "base_uri": "https://localhost:8080/",
          "height": 403
        }
      },
      "execution_count": null,
      "outputs": [
        {
          "output_type": "display_data",
          "data": {
            "text/plain": [
              "<Figure size 504x432 with 1 Axes>"
            ],
            "image/png": "[encoded data removed]"
          },
          "metadata": {}
        }
      ]
    }
  ]
}
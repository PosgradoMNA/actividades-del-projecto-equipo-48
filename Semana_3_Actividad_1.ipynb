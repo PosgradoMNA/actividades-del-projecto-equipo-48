{
  "nbformat": 4,
  "nbformat_minor": 0,
  "metadata": {
    "colab": {
      "provenance": [],
      "include_colab_link": true
    },
    "kernelspec": {
      "name": "python3",
      "display_name": "Python 3"
    },
    "language_info": {
      "name": "python"
    }
  },
  "cells": [
    {
      "cell_type": "markdown",
      "metadata": {
        "id": "view-in-github",
        "colab_type": "text"
      },
      "source": [
        "<a href=\"https://colab.research.google.com/github/PosgradoMNA/actividades-del-projecto-equipo-48/blob/main/Semana_3_Actividad_1.ipynb\" target=\"_parent\"><img src=\"https://colab.research.google.com/assets/colab-badge.svg\" alt=\"Open In Colab\"/></a>"
      ]
    },
    {
      "cell_type": "markdown",
      "source": [
        "# Equipo 48\n",
        "* Materia: Ciencia y Analítica de Datos.\n",
        "* Nombre de la entrega: Semana 3 Actividad 1.\n",
        "* Fecha: 04/10/2022.\n",
        "* Francisco Medellin Zertuche - A01794044.\n",
        "* Roberto Romero Vielma - A00822314\n",
        "* Profesor titular: Jobish Vallikavungal Devassia. \n",
        "* Profesor tutor: Roberto Antonio Guevara González.\n"
      ],
      "metadata": {
        "id": "SIon59qeEg-w"
      }
    },
    {
      "cell_type": "markdown",
      "source": [
        "# Parte 1 Fundamentos de bases de datos"
      ],
      "metadata": {
        "id": "Qz7EOO14bmkC"
      }
    },
    {
      "cell_type": "markdown",
      "source": [
        "## 1. Fundamentos de bases de datos y para ciencia de datos.  \n"
      ],
      "metadata": {
        "id": "Oo3r-2sIbpui"
      }
    },
    {
      "cell_type": "markdown",
      "source": [
        "Una base de datos es una colección organizada de datos que mediante el uso de software puede tener diferentes tipos. Estas son capaces de modelar un sistema del mundo real mediante los datos.\n",
        "Normalmente una base de datos se compone de tablas de datos organizadas por filas columnas y celdas. \n",
        "<br>Terminologías:\n",
        "* Una tabla es la combinación de filas (registros de información) y de columnas (campos de información).\n",
        "* Registros, información recolectada separada por columnas o campos.\n",
        "* Campos, las diferentes categorías de la información separadas por columnas.\n",
        "\n",
        "Tipos de bases de datos relacionales y no relacionales.\n",
        "* Bases de datos relacionales, son aquellas que tienen datos lógicamente relacionados entre sí, mediante el uso de entidades, atributos o campos en las diferentes tablas. Un ejemplo de esto sería una base de datos que tenga 2 tablas, en donde una tabla contiene un campo relacionado con otro campo de la otra tabla.\n",
        "* Bases de datos no relacionales: Aquellas donde la información se organiza por categorías y no por relaciones.\n",
        "\n",
        "Otro concepto importante es el de DBMS y DML.\n",
        "* DBMS (Data Bases Manangment System), es un software que permite interactuar con la base de datos.\n",
        "* DML es el lenguaje de manipulación de datos, por ejemplo: SQL.\n"
      ],
      "metadata": {
        "id": "0B54bR0-bz45"
      }
    },
    {
      "cell_type": "markdown",
      "source": [
        "## 2. Fundamentos de almacenes de datos (Data Warehouse) para ciencia de datos.\n",
        "\n",
        "\n",
        "\n"
      ],
      "metadata": {
        "id": "mMZg5k39jK7w"
      }
    },
    {
      "cell_type": "markdown",
      "source": [
        "Data Warehouse (DW) es un almacén de datos o sea un depósito central de información que recopila y centraliza grandes cantidades de datos organizados ya sean, bases de datos relacionales o de diferentes fuentes, transformando datos en esquemas ordenados que permitan hacer consultas a diferentes fuentes de datos simultáneamente.  Es un tipo de sistema de gestión de datos diseñado para habilitar y ayudar a actividades relacionadas con inteligencia de negocios.\n",
        "<br>\n",
        "Los usuarios de un negocio dependen de herramientas para reportes, dashboards, extracción de información de datos y monitoreo del rendimiento de su negocio. Un data warehouse hace posible que estas herramientas puedan almacenar datos eficazmente y reducir los tiempos de entrada y salida de los resultados de las consultas.\n",
        "<br>\n",
        "Usualmente un DW incluye los siguientes elementos:\n",
        "* Base de datos relacionales.\n",
        "* ELTs o ETLs para extracción, carga y transformación de datos.\n",
        "* Herramientas de análisis de visualización de datos.\n",
        "* Integración con herramientas más sofisticadas de data science o de inteligencia artificial.\n",
        "<br><br>\n",
        "\n",
        "Beneficios de un DW:\n",
        "* Orientado a sujetos, analizar datos sobre un sujeto en particular o de un área funcional en específico. Ejemplo: Ventas.\n",
        "* Integrado, crea consistencia entre diferentes tipos de datos.\n",
        "* No volátiles, una vez los datos están en el DW se mantienen estables y no tendrán cambios.\n",
        "* Variante-Tiempo, el análisis de un DW se verá distinto con el tiempo.\n",
        "<br><br>\n",
        "\n",
        "Data Lakes y Data Warehouses:<br>\n",
        "Las organizaciones utilizan ambos para grandes volúmenes de datos de diferentes orígenes. Seleccionar cuando usar uno u otro depende de que se pretende hacer con los datos.\n",
        "<br>\n",
        "* Data Warehouse:  Especialmente diseñado para análisis de datos y entender las relaciones entre los datos, necesitando de datos organizados orientados a aplicaciones de BI.\n",
        "* Data Lake es un repositorio de datos estructurados, semi-estructurados y no estructurados. Datos sin filtros que pueden ser usados después para propósitos en particular. \n"
      ],
      "metadata": {
        "id": "UYTskIdp4ZtO"
      }
    },
    {
      "cell_type": "markdown",
      "source": [
        "# Parte 2: Selección y limpieza de los Datos en Python\n",
        "Importamos la librería pandas"
      ],
      "metadata": {
        "id": "xUght0bj8HFO"
      }
    },
    {
      "cell_type": "code",
      "source": [
        "import pandas as pd"
      ],
      "metadata": {
        "id": "Duejh6Yj8IDV"
      },
      "execution_count": 22,
      "outputs": []
    },
    {
      "cell_type": "markdown",
      "source": [
        "Cargamos la base de datos con la función **pandas.read_csv**"
      ],
      "metadata": {
        "id": "UaaNZ79R8f6r"
      }
    },
    {
      "cell_type": "code",
      "source": [
        "df=pd.read_csv(\"https://raw.githubusercontent.com/PosgradoMNA/Actividades_Aprendizaje-/main/default%20of%20credit%20card%20clients.csv\")"
      ],
      "metadata": {
        "id": "dv0nKkLM8THM"
      },
      "execution_count": 23,
      "outputs": []
    },
    {
      "cell_type": "markdown",
      "source": [
        "Visualizamos el dataframe"
      ],
      "metadata": {
        "id": "3u-mUb0A8yyh"
      }
    },
    {
      "cell_type": "code",
      "source": [
        "df"
      ],
      "metadata": {
        "id": "iX8n20es8tTf",
        "outputId": "61e892df-47a7-4300-abd1-62c3a8045f24",
        "colab": {
          "base_uri": "https://localhost:8080/",
          "height": 424
        }
      },
      "execution_count": 24,
      "outputs": [
        {
          "output_type": "execute_result",
          "data": {
            "text/plain": [
              "          ID      X1   X2   X3   X4    X5   X6   X7   X8   X9  ...      X15  \\\n",
              "0          1   20000  2.0  2.0  1.0  24.0  2.0  2.0 -1.0 -1.0  ...      0.0   \n",
              "1          2  120000  2.0  2.0  2.0  26.0 -1.0  2.0  0.0  0.0  ...   3272.0   \n",
              "2          3   90000  2.0  2.0  2.0  34.0  0.0  0.0  0.0  0.0  ...  14331.0   \n",
              "3          4   50000  2.0  2.0  1.0  37.0  0.0  0.0  0.0  0.0  ...  28314.0   \n",
              "4          5   50000  1.0  2.0  1.0  57.0 -1.0  0.0 -1.0  0.0  ...  20940.0   \n",
              "...      ...     ...  ...  ...  ...   ...  ...  ...  ...  ...  ...      ...   \n",
              "29995  29996  220000  1.0  3.0  1.0  39.0  0.0  0.0  0.0  0.0  ...  88004.0   \n",
              "29996  29997  150000  1.0  3.0  2.0  43.0 -1.0 -1.0 -1.0 -1.0  ...   8979.0   \n",
              "29997  29998   30000  1.0  2.0  2.0  37.0  4.0  3.0  2.0 -1.0  ...  20878.0   \n",
              "29998  29999   80000  1.0  3.0  1.0  41.0  1.0 -1.0  0.0  0.0  ...  52774.0   \n",
              "29999  30000   50000  1.0  2.0  1.0  46.0  0.0  0.0  0.0  0.0  ...  36535.0   \n",
              "\n",
              "           X16      X17      X18      X19      X20     X21      X22     X23  \\\n",
              "0          0.0      0.0      0.0    689.0      0.0     0.0      0.0     0.0   \n",
              "1       3455.0   3261.0      0.0   1000.0   1000.0  1000.0      0.0  2000.0   \n",
              "2      14948.0  15549.0   1518.0   1500.0   1000.0  1000.0   1000.0  5000.0   \n",
              "3      28959.0  29547.0   2000.0   2019.0   1200.0  1100.0   1069.0  1000.0   \n",
              "4      19146.0  19131.0   2000.0  36681.0  10000.0  9000.0    689.0   679.0   \n",
              "...        ...      ...      ...      ...      ...     ...      ...     ...   \n",
              "29995  31237.0  15980.0   8500.0  20000.0   5003.0  3047.0   5000.0  1000.0   \n",
              "29996   5190.0      0.0   1837.0   3526.0   8998.0   129.0      0.0     0.0   \n",
              "29997  20582.0  19357.0      0.0      0.0  22000.0  4200.0   2000.0  3100.0   \n",
              "29998  11855.0  48944.0  85900.0   3409.0   1178.0  1926.0  52964.0  1804.0   \n",
              "29999  32428.0  15313.0   2078.0   1800.0   1430.0  1000.0   1000.0  1000.0   \n",
              "\n",
              "         Y  \n",
              "0      1.0  \n",
              "1      1.0  \n",
              "2      0.0  \n",
              "3      0.0  \n",
              "4      0.0  \n",
              "...    ...  \n",
              "29995  0.0  \n",
              "29996  0.0  \n",
              "29997  1.0  \n",
              "29998  1.0  \n",
              "29999  1.0  \n",
              "\n",
              "[30000 rows x 25 columns]"
            ],
            "text/html": [
              "\n",
              "  <div id=\"df-e7cef466-aa4f-4760-b8d3-71367f1c617e\">\n",
              "    <div class=\"colab-df-container\">\n",
              "      <div>\n",
              "<style scoped>\n",
              "    .dataframe tbody tr th:only-of-type {\n",
              "        vertical-align: middle;\n",
              "    }\n",
              "\n",
              "    .dataframe tbody tr th {\n",
              "        vertical-align: top;\n",
              "    }\n",
              "\n",
              "    .dataframe thead th {\n",
              "        text-align: right;\n",
              "    }\n",
              "</style>\n",
              "<table border=\"1\" class=\"dataframe\">\n",
              "  <thead>\n",
              "    <tr style=\"text-align: right;\">\n",
              "      <th></th>\n",
              "      <th>ID</th>\n",
              "      <th>X1</th>\n",
              "      <th>X2</th>\n",
              "      <th>X3</th>\n",
              "      <th>X4</th>\n",
              "      <th>X5</th>\n",
              "      <th>X6</th>\n",
              "      <th>X7</th>\n",
              "      <th>X8</th>\n",
              "      <th>X9</th>\n",
              "      <th>...</th>\n",
              "      <th>X15</th>\n",
              "      <th>X16</th>\n",
              "      <th>X17</th>\n",
              "      <th>X18</th>\n",
              "      <th>X19</th>\n",
              "      <th>X20</th>\n",
              "      <th>X21</th>\n",
              "      <th>X22</th>\n",
              "      <th>X23</th>\n",
              "      <th>Y</th>\n",
              "    </tr>\n",
              "  </thead>\n",
              "  <tbody>\n",
              "    <tr>\n",
              "      <th>0</th>\n",
              "      <td>1</td>\n",
              "      <td>20000</td>\n",
              "      <td>2.0</td>\n",
              "      <td>2.0</td>\n",
              "      <td>1.0</td>\n",
              "      <td>24.0</td>\n",
              "      <td>2.0</td>\n",
              "      <td>2.0</td>\n",
              "      <td>-1.0</td>\n",
              "      <td>-1.0</td>\n",
              "      <td>...</td>\n",
              "      <td>0.0</td>\n",
              "      <td>0.0</td>\n",
              "      <td>0.0</td>\n",
              "      <td>0.0</td>\n",
              "      <td>689.0</td>\n",
              "      <td>0.0</td>\n",
              "      <td>0.0</td>\n",
              "      <td>0.0</td>\n",
              "      <td>0.0</td>\n",
              "      <td>1.0</td>\n",
              "    </tr>\n",
              "    <tr>\n",
              "      <th>1</th>\n",
              "      <td>2</td>\n",
              "      <td>120000</td>\n",
              "      <td>2.0</td>\n",
              "      <td>2.0</td>\n",
              "      <td>2.0</td>\n",
              "      <td>26.0</td>\n",
              "      <td>-1.0</td>\n",
              "      <td>2.0</td>\n",
              "      <td>0.0</td>\n",
              "      <td>0.0</td>\n",
              "      <td>...</td>\n",
              "      <td>3272.0</td>\n",
              "      <td>3455.0</td>\n",
              "      <td>3261.0</td>\n",
              "      <td>0.0</td>\n",
              "      <td>1000.0</td>\n",
              "      <td>1000.0</td>\n",
              "      <td>1000.0</td>\n",
              "      <td>0.0</td>\n",
              "      <td>2000.0</td>\n",
              "      <td>1.0</td>\n",
              "    </tr>\n",
              "    <tr>\n",
              "      <th>2</th>\n",
              "      <td>3</td>\n",
              "      <td>90000</td>\n",
              "      <td>2.0</td>\n",
              "      <td>2.0</td>\n",
              "      <td>2.0</td>\n",
              "      <td>34.0</td>\n",
              "      <td>0.0</td>\n",
              "      <td>0.0</td>\n",
              "      <td>0.0</td>\n",
              "      <td>0.0</td>\n",
              "      <td>...</td>\n",
              "      <td>14331.0</td>\n",
              "      <td>14948.0</td>\n",
              "      <td>15549.0</td>\n",
              "      <td>1518.0</td>\n",
              "      <td>1500.0</td>\n",
              "      <td>1000.0</td>\n",
              "      <td>1000.0</td>\n",
              "      <td>1000.0</td>\n",
              "      <td>5000.0</td>\n",
              "      <td>0.0</td>\n",
              "    </tr>\n",
              "    <tr>\n",
              "      <th>3</th>\n",
              "      <td>4</td>\n",
              "      <td>50000</td>\n",
              "      <td>2.0</td>\n",
              "      <td>2.0</td>\n",
              "      <td>1.0</td>\n",
              "      <td>37.0</td>\n",
              "      <td>0.0</td>\n",
              "      <td>0.0</td>\n",
              "      <td>0.0</td>\n",
              "      <td>0.0</td>\n",
              "      <td>...</td>\n",
              "      <td>28314.0</td>\n",
              "      <td>28959.0</td>\n",
              "      <td>29547.0</td>\n",
              "      <td>2000.0</td>\n",
              "      <td>2019.0</td>\n",
              "      <td>1200.0</td>\n",
              "      <td>1100.0</td>\n",
              "      <td>1069.0</td>\n",
              "      <td>1000.0</td>\n",
              "      <td>0.0</td>\n",
              "    </tr>\n",
              "    <tr>\n",
              "      <th>4</th>\n",
              "      <td>5</td>\n",
              "      <td>50000</td>\n",
              "      <td>1.0</td>\n",
              "      <td>2.0</td>\n",
              "      <td>1.0</td>\n",
              "      <td>57.0</td>\n",
              "      <td>-1.0</td>\n",
              "      <td>0.0</td>\n",
              "      <td>-1.0</td>\n",
              "      <td>0.0</td>\n",
              "      <td>...</td>\n",
              "      <td>20940.0</td>\n",
              "      <td>19146.0</td>\n",
              "      <td>19131.0</td>\n",
              "      <td>2000.0</td>\n",
              "      <td>36681.0</td>\n",
              "      <td>10000.0</td>\n",
              "      <td>9000.0</td>\n",
              "      <td>689.0</td>\n",
              "      <td>679.0</td>\n",
              "      <td>0.0</td>\n",
              "    </tr>\n",
              "    <tr>\n",
              "      <th>...</th>\n",
              "      <td>...</td>\n",
              "      <td>...</td>\n",
              "      <td>...</td>\n",
              "      <td>...</td>\n",
              "      <td>...</td>\n",
              "      <td>...</td>\n",
              "      <td>...</td>\n",
              "      <td>...</td>\n",
              "      <td>...</td>\n",
              "      <td>...</td>\n",
              "      <td>...</td>\n",
              "      <td>...</td>\n",
              "      <td>...</td>\n",
              "      <td>...</td>\n",
              "      <td>...</td>\n",
              "      <td>...</td>\n",
              "      <td>...</td>\n",
              "      <td>...</td>\n",
              "      <td>...</td>\n",
              "      <td>...</td>\n",
              "      <td>...</td>\n",
              "    </tr>\n",
              "    <tr>\n",
              "      <th>29995</th>\n",
              "      <td>29996</td>\n",
              "      <td>220000</td>\n",
              "      <td>1.0</td>\n",
              "      <td>3.0</td>\n",
              "      <td>1.0</td>\n",
              "      <td>39.0</td>\n",
              "      <td>0.0</td>\n",
              "      <td>0.0</td>\n",
              "      <td>0.0</td>\n",
              "      <td>0.0</td>\n",
              "      <td>...</td>\n",
              "      <td>88004.0</td>\n",
              "      <td>31237.0</td>\n",
              "      <td>15980.0</td>\n",
              "      <td>8500.0</td>\n",
              "      <td>20000.0</td>\n",
              "      <td>5003.0</td>\n",
              "      <td>3047.0</td>\n",
              "      <td>5000.0</td>\n",
              "      <td>1000.0</td>\n",
              "      <td>0.0</td>\n",
              "    </tr>\n",
              "    <tr>\n",
              "      <th>29996</th>\n",
              "      <td>29997</td>\n",
              "      <td>150000</td>\n",
              "      <td>1.0</td>\n",
              "      <td>3.0</td>\n",
              "      <td>2.0</td>\n",
              "      <td>43.0</td>\n",
              "      <td>-1.0</td>\n",
              "      <td>-1.0</td>\n",
              "      <td>-1.0</td>\n",
              "      <td>-1.0</td>\n",
              "      <td>...</td>\n",
              "      <td>8979.0</td>\n",
              "      <td>5190.0</td>\n",
              "      <td>0.0</td>\n",
              "      <td>1837.0</td>\n",
              "      <td>3526.0</td>\n",
              "      <td>8998.0</td>\n",
              "      <td>129.0</td>\n",
              "      <td>0.0</td>\n",
              "      <td>0.0</td>\n",
              "      <td>0.0</td>\n",
              "    </tr>\n",
              "    <tr>\n",
              "      <th>29997</th>\n",
              "      <td>29998</td>\n",
              "      <td>30000</td>\n",
              "      <td>1.0</td>\n",
              "      <td>2.0</td>\n",
              "      <td>2.0</td>\n",
              "      <td>37.0</td>\n",
              "      <td>4.0</td>\n",
              "      <td>3.0</td>\n",
              "      <td>2.0</td>\n",
              "      <td>-1.0</td>\n",
              "      <td>...</td>\n",
              "      <td>20878.0</td>\n",
              "      <td>20582.0</td>\n",
              "      <td>19357.0</td>\n",
              "      <td>0.0</td>\n",
              "      <td>0.0</td>\n",
              "      <td>22000.0</td>\n",
              "      <td>4200.0</td>\n",
              "      <td>2000.0</td>\n",
              "      <td>3100.0</td>\n",
              "      <td>1.0</td>\n",
              "    </tr>\n",
              "    <tr>\n",
              "      <th>29998</th>\n",
              "      <td>29999</td>\n",
              "      <td>80000</td>\n",
              "      <td>1.0</td>\n",
              "      <td>3.0</td>\n",
              "      <td>1.0</td>\n",
              "      <td>41.0</td>\n",
              "      <td>1.0</td>\n",
              "      <td>-1.0</td>\n",
              "      <td>0.0</td>\n",
              "      <td>0.0</td>\n",
              "      <td>...</td>\n",
              "      <td>52774.0</td>\n",
              "      <td>11855.0</td>\n",
              "      <td>48944.0</td>\n",
              "      <td>85900.0</td>\n",
              "      <td>3409.0</td>\n",
              "      <td>1178.0</td>\n",
              "      <td>1926.0</td>\n",
              "      <td>52964.0</td>\n",
              "      <td>1804.0</td>\n",
              "      <td>1.0</td>\n",
              "    </tr>\n",
              "    <tr>\n",
              "      <th>29999</th>\n",
              "      <td>30000</td>\n",
              "      <td>50000</td>\n",
              "      <td>1.0</td>\n",
              "      <td>2.0</td>\n",
              "      <td>1.0</td>\n",
              "      <td>46.0</td>\n",
              "      <td>0.0</td>\n",
              "      <td>0.0</td>\n",
              "      <td>0.0</td>\n",
              "      <td>0.0</td>\n",
              "      <td>...</td>\n",
              "      <td>36535.0</td>\n",
              "      <td>32428.0</td>\n",
              "      <td>15313.0</td>\n",
              "      <td>2078.0</td>\n",
              "      <td>1800.0</td>\n",
              "      <td>1430.0</td>\n",
              "      <td>1000.0</td>\n",
              "      <td>1000.0</td>\n",
              "      <td>1000.0</td>\n",
              "      <td>1.0</td>\n",
              "    </tr>\n",
              "  </tbody>\n",
              "</table>\n",
              "<p>30000 rows × 25 columns</p>\n",
              "</div>\n",
              "      <button class=\"colab-df-convert\" onclick=\"convertToInteractive('df-e7cef466-aa4f-4760-b8d3-71367f1c617e')\"\n",
              "              title=\"Convert this dataframe to an interactive table.\"\n",
              "              style=\"display:none;\">\n",
              "        \n",
              "  <svg xmlns=\"http://www.w3.org/2000/svg\" height=\"24px\"viewBox=\"0 0 24 24\"\n",
              "       width=\"24px\">\n",
              "    <path d=\"M0 0h24v24H0V0z\" fill=\"none\"/>\n",
              "    <path d=\"M18.56 5.44l.94 2.06.94-2.06 2.06-.94-2.06-.94-.94-2.06-.94 2.06-2.06.94zm-11 1L8.5 8.5l.94-2.06 2.06-.94-2.06-.94L8.5 2.5l-.94 2.06-2.06.94zm10 10l.94 2.06.94-2.06 2.06-.94-2.06-.94-.94-2.06-.94 2.06-2.06.94z\"/><path d=\"M17.41 7.96l-1.37-1.37c-.4-.4-.92-.59-1.43-.59-.52 0-1.04.2-1.43.59L10.3 9.45l-7.72 7.72c-.78.78-.78 2.05 0 2.83L4 21.41c.39.39.9.59 1.41.59.51 0 1.02-.2 1.41-.59l7.78-7.78 2.81-2.81c.8-.78.8-2.07 0-2.86zM5.41 20L4 18.59l7.72-7.72 1.47 1.35L5.41 20z\"/>\n",
              "  </svg>\n",
              "      </button>\n",
              "      \n",
              "  <style>\n",
              "    .colab-df-container {\n",
              "      display:flex;\n",
              "      flex-wrap:wrap;\n",
              "      gap: 12px;\n",
              "    }\n",
              "\n",
              "    .colab-df-convert {\n",
              "      background-color: #E8F0FE;\n",
              "      border: none;\n",
              "      border-radius: 50%;\n",
              "      cursor: pointer;\n",
              "      display: none;\n",
              "      fill: #1967D2;\n",
              "      height: 32px;\n",
              "      padding: 0 0 0 0;\n",
              "      width: 32px;\n",
              "    }\n",
              "\n",
              "    .colab-df-convert:hover {\n",
              "      background-color: #E2EBFA;\n",
              "      box-shadow: 0px 1px 2px rgba(60, 64, 67, 0.3), 0px 1px 3px 1px rgba(60, 64, 67, 0.15);\n",
              "      fill: #174EA6;\n",
              "    }\n",
              "\n",
              "    [theme=dark] .colab-df-convert {\n",
              "      background-color: #3B4455;\n",
              "      fill: #D2E3FC;\n",
              "    }\n",
              "\n",
              "    [theme=dark] .colab-df-convert:hover {\n",
              "      background-color: #434B5C;\n",
              "      box-shadow: 0px 1px 3px 1px rgba(0, 0, 0, 0.15);\n",
              "      filter: drop-shadow(0px 1px 2px rgba(0, 0, 0, 0.3));\n",
              "      fill: #FFFFFF;\n",
              "    }\n",
              "  </style>\n",
              "\n",
              "      <script>\n",
              "        const buttonEl =\n",
              "          document.querySelector('#df-e7cef466-aa4f-4760-b8d3-71367f1c617e button.colab-df-convert');\n",
              "        buttonEl.style.display =\n",
              "          google.colab.kernel.accessAllowed ? 'block' : 'none';\n",
              "\n",
              "        async function convertToInteractive(key) {\n",
              "          const element = document.querySelector('#df-e7cef466-aa4f-4760-b8d3-71367f1c617e');\n",
              "          const dataTable =\n",
              "            await google.colab.kernel.invokeFunction('convertToInteractive',\n",
              "                                                     [key], {});\n",
              "          if (!dataTable) return;\n",
              "\n",
              "          const docLinkHtml = 'Like what you see? Visit the ' +\n",
              "            '<a target=\"_blank\" href=https://colab.research.google.com/notebooks/data_table.ipynb>data table notebook</a>'\n",
              "            + ' to learn more about interactive tables.';\n",
              "          element.innerHTML = '';\n",
              "          dataTable['output_type'] = 'display_data';\n",
              "          await google.colab.output.renderOutput(dataTable, element);\n",
              "          const docLink = document.createElement('div');\n",
              "          docLink.innerHTML = docLinkHtml;\n",
              "          element.appendChild(docLink);\n",
              "        }\n",
              "      </script>\n",
              "    </div>\n",
              "  </div>\n",
              "  "
            ]
          },
          "metadata": {},
          "execution_count": 24
        }
      ]
    },
    {
      "cell_type": "markdown",
      "source": [
        "Verificamos si el dataframe cuenta con valores faltantes"
      ],
      "metadata": {
        "id": "JHExJrdVr15b"
      }
    },
    {
      "cell_type": "code",
      "source": [
        "df.isnull().values.any()"
      ],
      "metadata": {
        "colab": {
          "base_uri": "https://localhost:8080/"
        },
        "id": "wxnZdVE_svsc",
        "outputId": "c976624d-c3dc-475b-b2d5-d9683115ed6f"
      },
      "execution_count": 25,
      "outputs": [
        {
          "output_type": "execute_result",
          "data": {
            "text/plain": [
              "True"
            ]
          },
          "metadata": {},
          "execution_count": 25
        }
      ]
    },
    {
      "cell_type": "markdown",
      "source": [
        "Visualizamos las columnas que presentan datos faltantes"
      ],
      "metadata": {
        "id": "qlenx2Njs6jn"
      }
    },
    {
      "cell_type": "code",
      "source": [
        "df.isnull().any()"
      ],
      "metadata": {
        "colab": {
          "base_uri": "https://localhost:8080/"
        },
        "id": "aEzVWSGps_dG",
        "outputId": "d7a4d1b6-9076-4cc2-98f5-fe9bd37181d9"
      },
      "execution_count": 26,
      "outputs": [
        {
          "output_type": "execute_result",
          "data": {
            "text/plain": [
              "ID     False\n",
              "X1     False\n",
              "X2      True\n",
              "X3      True\n",
              "X4      True\n",
              "X5      True\n",
              "X6      True\n",
              "X7      True\n",
              "X8      True\n",
              "X9      True\n",
              "X10     True\n",
              "X11     True\n",
              "X12     True\n",
              "X13     True\n",
              "X14     True\n",
              "X15     True\n",
              "X16     True\n",
              "X17     True\n",
              "X18     True\n",
              "X19     True\n",
              "X20     True\n",
              "X21     True\n",
              "X22     True\n",
              "X23     True\n",
              "Y       True\n",
              "dtype: bool"
            ]
          },
          "metadata": {},
          "execution_count": 26
        }
      ]
    },
    {
      "cell_type": "markdown",
      "source": [
        "Ahora checamos cuantos valores faltan en cada columna "
      ],
      "metadata": {
        "id": "4ETjlXmgtOpu"
      }
    },
    {
      "cell_type": "code",
      "source": [
        "df.isnull().sum()"
      ],
      "metadata": {
        "colab": {
          "base_uri": "https://localhost:8080/"
        },
        "id": "dUe39Uskt2PS",
        "outputId": "71fe1663-b5d2-486b-d985-329b37bee7fa"
      },
      "execution_count": 27,
      "outputs": [
        {
          "output_type": "execute_result",
          "data": {
            "text/plain": [
              "ID      0\n",
              "X1      0\n",
              "X2      1\n",
              "X3      2\n",
              "X4      2\n",
              "X5      5\n",
              "X6      3\n",
              "X7      5\n",
              "X8      7\n",
              "X9      9\n",
              "X10    16\n",
              "X11    14\n",
              "X12    11\n",
              "X13    11\n",
              "X14    13\n",
              "X15    15\n",
              "X16    17\n",
              "X17    10\n",
              "X18     8\n",
              "X19     9\n",
              "X20     8\n",
              "X21    11\n",
              "X22    11\n",
              "X23     5\n",
              "Y       3\n",
              "dtype: int64"
            ]
          },
          "metadata": {},
          "execution_count": 27
        }
      ]
    },
    {
      "cell_type": "markdown",
      "source": [
        "Creamos un nuevo dataframe que sea copia del original, para eliminar los registros que se encuentran vacíos y verificar que esto no nos afecte para futuros análisis"
      ],
      "metadata": {
        "id": "bYxZq9NGvS04"
      }
    },
    {
      "cell_type": "code",
      "source": [
        "ndf=df.copy()\n",
        "ndf.dropna(inplace = True)"
      ],
      "metadata": {
        "id": "JnSiSl9lvqcs"
      },
      "execution_count": 28,
      "outputs": []
    },
    {
      "cell_type": "markdown",
      "source": [
        "Verificamos si alguna columna presenta valores vacíos"
      ],
      "metadata": {
        "id": "Pu4OcrcAv_AS"
      }
    },
    {
      "cell_type": "code",
      "source": [
        "ndf.isnull().sum()"
      ],
      "metadata": {
        "colab": {
          "base_uri": "https://localhost:8080/"
        },
        "id": "r5NHV8lnv8so",
        "outputId": "d6fb493e-657b-46d9-a720-fcd17fc7c838"
      },
      "execution_count": 29,
      "outputs": [
        {
          "output_type": "execute_result",
          "data": {
            "text/plain": [
              "ID     0\n",
              "X1     0\n",
              "X2     0\n",
              "X3     0\n",
              "X4     0\n",
              "X5     0\n",
              "X6     0\n",
              "X7     0\n",
              "X8     0\n",
              "X9     0\n",
              "X10    0\n",
              "X11    0\n",
              "X12    0\n",
              "X13    0\n",
              "X14    0\n",
              "X15    0\n",
              "X16    0\n",
              "X17    0\n",
              "X18    0\n",
              "X19    0\n",
              "X20    0\n",
              "X21    0\n",
              "X22    0\n",
              "X23    0\n",
              "Y      0\n",
              "dtype: int64"
            ]
          },
          "metadata": {},
          "execution_count": 29
        }
      ]
    },
    {
      "cell_type": "markdown",
      "source": [
        "Comparamos el dataframe original y el dataframe con los registros faltantes eliminados"
      ],
      "metadata": {
        "id": "hm2n5ayIwMap"
      }
    },
    {
      "cell_type": "code",
      "source": [
        "largo_df=len(df)\n",
        "largo_ndf=len(ndf)\n",
        "print(\"Número de filas del dataset original:\",largo_df)\n",
        "print(\"Número de filas del dataset con registros vacíos:\",largo_ndf)"
      ],
      "metadata": {
        "colab": {
          "base_uri": "https://localhost:8080/"
        },
        "id": "Rc4N0gUrwVC5",
        "outputId": "10c81a78-be3b-40be-e0d4-dc127c32a87b"
      },
      "execution_count": 30,
      "outputs": [
        {
          "output_type": "stream",
          "name": "stdout",
          "text": [
            "Número de filas del dataset original: 30000\n",
            "Número de filas del dataset con registros vacíos: 29958\n"
          ]
        }
      ]
    },
    {
      "cell_type": "markdown",
      "source": [
        "Determinamos el porcentaje de datos eliminados"
      ],
      "metadata": {
        "id": "q1e_T-drxCHS"
      }
    },
    {
      "cell_type": "code",
      "source": [
        "print(100-((largo_ndf*100)/largo_df))"
      ],
      "metadata": {
        "colab": {
          "base_uri": "https://localhost:8080/"
        },
        "id": "e9h4fhDBxHZa",
        "outputId": "623bca26-f2fd-4f4d-a98b-2860cc6d76ca"
      },
      "execution_count": 31,
      "outputs": [
        {
          "output_type": "stream",
          "name": "stdout",
          "text": [
            "0.14000000000000057\n"
          ]
        }
      ]
    },
    {
      "cell_type": "markdown",
      "source": [
        "Menos del 1% de los datos han sido eliminados, lo que estadísticamente no afectará a nuestro dataframe para posteriores análisis. \n",
        "\n"
      ],
      "metadata": {
        "id": "IKeVEkPxyAKg"
      }
    },
    {
      "cell_type": "markdown",
      "source": [
        "Posteriormente obtenemos las estadísticas del dataframe, dado que el dataframe cuenta con muchas columnas dividiremos el dataframe en 2, para visualizar correctamente todos los datos"
      ],
      "metadata": {
        "id": "wsRIVReHpaat"
      }
    },
    {
      "cell_type": "code",
      "source": [
        "ndf.loc[:,\"ID\":\"X12\"].describe()"
      ],
      "metadata": {
        "id": "SbQ8uZQIpfhk",
        "outputId": "1cda072e-117b-458e-f4fc-45a8a2c6e7d9",
        "colab": {
          "base_uri": "https://localhost:8080/",
          "height": 364
        }
      },
      "execution_count": 32,
      "outputs": [
        {
          "output_type": "execute_result",
          "data": {
            "text/plain": [
              "                 ID              X1            X2            X3            X4  \\\n",
              "count  29958.000000    29958.000000  29958.000000  29958.000000  29958.000000   \n",
              "mean   15005.550504   167555.900928      1.604012      1.853094      1.551739   \n",
              "std     8654.547473   129737.299088      0.489070      0.790471      0.521952   \n",
              "min        1.000000    10000.000000      1.000000      0.000000      0.000000   \n",
              "25%     7516.250000    50000.000000      1.000000      1.000000      1.000000   \n",
              "50%    15005.500000   140000.000000      2.000000      2.000000      2.000000   \n",
              "75%    22497.750000   240000.000000      2.000000      2.000000      2.000000   \n",
              "max    30000.000000  1000000.000000      2.000000      6.000000      3.000000   \n",
              "\n",
              "                 X5            X6            X7            X8            X9  \\\n",
              "count  29958.000000  29958.000000  29958.000000  29958.000000  29958.000000   \n",
              "mean      35.483443     -0.017124     -0.134021     -0.166767     -0.221110   \n",
              "std        9.214319      1.123989      1.197171      1.196026      1.168419   \n",
              "min       21.000000     -2.000000     -2.000000     -2.000000     -2.000000   \n",
              "25%       28.000000     -1.000000     -1.000000     -1.000000     -1.000000   \n",
              "50%       34.000000      0.000000      0.000000      0.000000      0.000000   \n",
              "75%       41.000000      0.000000      0.000000      0.000000      0.000000   \n",
              "max       79.000000      8.000000      8.000000      8.000000      8.000000   \n",
              "\n",
              "                X10           X11            X12  \n",
              "count  29958.000000  29958.000000   29958.000000  \n",
              "mean      -0.266807     -0.291575   51248.119901  \n",
              "std        1.132307      1.149303   73674.949943  \n",
              "min       -2.000000     -2.000000 -165580.000000  \n",
              "25%       -1.000000     -1.000000    3559.250000  \n",
              "50%        0.000000      0.000000   22379.000000  \n",
              "75%        0.000000      0.000000   67190.000000  \n",
              "max        8.000000      8.000000  964511.000000  "
            ],
            "text/html": [
              "\n",
              "  <div id=\"df-7ee76332-e768-4dc4-9a22-ec63320528ab\">\n",
              "    <div class=\"colab-df-container\">\n",
              "      <div>\n",
              "<style scoped>\n",
              "    .dataframe tbody tr th:only-of-type {\n",
              "        vertical-align: middle;\n",
              "    }\n",
              "\n",
              "    .dataframe tbody tr th {\n",
              "        vertical-align: top;\n",
              "    }\n",
              "\n",
              "    .dataframe thead th {\n",
              "        text-align: right;\n",
              "    }\n",
              "</style>\n",
              "<table border=\"1\" class=\"dataframe\">\n",
              "  <thead>\n",
              "    <tr style=\"text-align: right;\">\n",
              "      <th></th>\n",
              "      <th>ID</th>\n",
              "      <th>X1</th>\n",
              "      <th>X2</th>\n",
              "      <th>X3</th>\n",
              "      <th>X4</th>\n",
              "      <th>X5</th>\n",
              "      <th>X6</th>\n",
              "      <th>X7</th>\n",
              "      <th>X8</th>\n",
              "      <th>X9</th>\n",
              "      <th>X10</th>\n",
              "      <th>X11</th>\n",
              "      <th>X12</th>\n",
              "    </tr>\n",
              "  </thead>\n",
              "  <tbody>\n",
              "    <tr>\n",
              "      <th>count</th>\n",
              "      <td>29958.000000</td>\n",
              "      <td>29958.000000</td>\n",
              "      <td>29958.000000</td>\n",
              "      <td>29958.000000</td>\n",
              "      <td>29958.000000</td>\n",
              "      <td>29958.000000</td>\n",
              "      <td>29958.000000</td>\n",
              "      <td>29958.000000</td>\n",
              "      <td>29958.000000</td>\n",
              "      <td>29958.000000</td>\n",
              "      <td>29958.000000</td>\n",
              "      <td>29958.000000</td>\n",
              "      <td>29958.000000</td>\n",
              "    </tr>\n",
              "    <tr>\n",
              "      <th>mean</th>\n",
              "      <td>15005.550504</td>\n",
              "      <td>167555.900928</td>\n",
              "      <td>1.604012</td>\n",
              "      <td>1.853094</td>\n",
              "      <td>1.551739</td>\n",
              "      <td>35.483443</td>\n",
              "      <td>-0.017124</td>\n",
              "      <td>-0.134021</td>\n",
              "      <td>-0.166767</td>\n",
              "      <td>-0.221110</td>\n",
              "      <td>-0.266807</td>\n",
              "      <td>-0.291575</td>\n",
              "      <td>51248.119901</td>\n",
              "    </tr>\n",
              "    <tr>\n",
              "      <th>std</th>\n",
              "      <td>8654.547473</td>\n",
              "      <td>129737.299088</td>\n",
              "      <td>0.489070</td>\n",
              "      <td>0.790471</td>\n",
              "      <td>0.521952</td>\n",
              "      <td>9.214319</td>\n",
              "      <td>1.123989</td>\n",
              "      <td>1.197171</td>\n",
              "      <td>1.196026</td>\n",
              "      <td>1.168419</td>\n",
              "      <td>1.132307</td>\n",
              "      <td>1.149303</td>\n",
              "      <td>73674.949943</td>\n",
              "    </tr>\n",
              "    <tr>\n",
              "      <th>min</th>\n",
              "      <td>1.000000</td>\n",
              "      <td>10000.000000</td>\n",
              "      <td>1.000000</td>\n",
              "      <td>0.000000</td>\n",
              "      <td>0.000000</td>\n",
              "      <td>21.000000</td>\n",
              "      <td>-2.000000</td>\n",
              "      <td>-2.000000</td>\n",
              "      <td>-2.000000</td>\n",
              "      <td>-2.000000</td>\n",
              "      <td>-2.000000</td>\n",
              "      <td>-2.000000</td>\n",
              "      <td>-165580.000000</td>\n",
              "    </tr>\n",
              "    <tr>\n",
              "      <th>25%</th>\n",
              "      <td>7516.250000</td>\n",
              "      <td>50000.000000</td>\n",
              "      <td>1.000000</td>\n",
              "      <td>1.000000</td>\n",
              "      <td>1.000000</td>\n",
              "      <td>28.000000</td>\n",
              "      <td>-1.000000</td>\n",
              "      <td>-1.000000</td>\n",
              "      <td>-1.000000</td>\n",
              "      <td>-1.000000</td>\n",
              "      <td>-1.000000</td>\n",
              "      <td>-1.000000</td>\n",
              "      <td>3559.250000</td>\n",
              "    </tr>\n",
              "    <tr>\n",
              "      <th>50%</th>\n",
              "      <td>15005.500000</td>\n",
              "      <td>140000.000000</td>\n",
              "      <td>2.000000</td>\n",
              "      <td>2.000000</td>\n",
              "      <td>2.000000</td>\n",
              "      <td>34.000000</td>\n",
              "      <td>0.000000</td>\n",
              "      <td>0.000000</td>\n",
              "      <td>0.000000</td>\n",
              "      <td>0.000000</td>\n",
              "      <td>0.000000</td>\n",
              "      <td>0.000000</td>\n",
              "      <td>22379.000000</td>\n",
              "    </tr>\n",
              "    <tr>\n",
              "      <th>75%</th>\n",
              "      <td>22497.750000</td>\n",
              "      <td>240000.000000</td>\n",
              "      <td>2.000000</td>\n",
              "      <td>2.000000</td>\n",
              "      <td>2.000000</td>\n",
              "      <td>41.000000</td>\n",
              "      <td>0.000000</td>\n",
              "      <td>0.000000</td>\n",
              "      <td>0.000000</td>\n",
              "      <td>0.000000</td>\n",
              "      <td>0.000000</td>\n",
              "      <td>0.000000</td>\n",
              "      <td>67190.000000</td>\n",
              "    </tr>\n",
              "    <tr>\n",
              "      <th>max</th>\n",
              "      <td>30000.000000</td>\n",
              "      <td>1000000.000000</td>\n",
              "      <td>2.000000</td>\n",
              "      <td>6.000000</td>\n",
              "      <td>3.000000</td>\n",
              "      <td>79.000000</td>\n",
              "      <td>8.000000</td>\n",
              "      <td>8.000000</td>\n",
              "      <td>8.000000</td>\n",
              "      <td>8.000000</td>\n",
              "      <td>8.000000</td>\n",
              "      <td>8.000000</td>\n",
              "      <td>964511.000000</td>\n",
              "    </tr>\n",
              "  </tbody>\n",
              "</table>\n",
              "</div>\n",
              "      <button class=\"colab-df-convert\" onclick=\"convertToInteractive('df-7ee76332-e768-4dc4-9a22-ec63320528ab')\"\n",
              "              title=\"Convert this dataframe to an interactive table.\"\n",
              "              style=\"display:none;\">\n",
              "        \n",
              "  <svg xmlns=\"http://www.w3.org/2000/svg\" height=\"24px\"viewBox=\"0 0 24 24\"\n",
              "       width=\"24px\">\n",
              "    <path d=\"M0 0h24v24H0V0z\" fill=\"none\"/>\n",
              "    <path d=\"M18.56 5.44l.94 2.06.94-2.06 2.06-.94-2.06-.94-.94-2.06-.94 2.06-2.06.94zm-11 1L8.5 8.5l.94-2.06 2.06-.94-2.06-.94L8.5 2.5l-.94 2.06-2.06.94zm10 10l.94 2.06.94-2.06 2.06-.94-2.06-.94-.94-2.06-.94 2.06-2.06.94z\"/><path d=\"M17.41 7.96l-1.37-1.37c-.4-.4-.92-.59-1.43-.59-.52 0-1.04.2-1.43.59L10.3 9.45l-7.72 7.72c-.78.78-.78 2.05 0 2.83L4 21.41c.39.39.9.59 1.41.59.51 0 1.02-.2 1.41-.59l7.78-7.78 2.81-2.81c.8-.78.8-2.07 0-2.86zM5.41 20L4 18.59l7.72-7.72 1.47 1.35L5.41 20z\"/>\n",
              "  </svg>\n",
              "      </button>\n",
              "      \n",
              "  <style>\n",
              "    .colab-df-container {\n",
              "      display:flex;\n",
              "      flex-wrap:wrap;\n",
              "      gap: 12px;\n",
              "    }\n",
              "\n",
              "    .colab-df-convert {\n",
              "      background-color: #E8F0FE;\n",
              "      border: none;\n",
              "      border-radius: 50%;\n",
              "      cursor: pointer;\n",
              "      display: none;\n",
              "      fill: #1967D2;\n",
              "      height: 32px;\n",
              "      padding: 0 0 0 0;\n",
              "      width: 32px;\n",
              "    }\n",
              "\n",
              "    .colab-df-convert:hover {\n",
              "      background-color: #E2EBFA;\n",
              "      box-shadow: 0px 1px 2px rgba(60, 64, 67, 0.3), 0px 1px 3px 1px rgba(60, 64, 67, 0.15);\n",
              "      fill: #174EA6;\n",
              "    }\n",
              "\n",
              "    [theme=dark] .colab-df-convert {\n",
              "      background-color: #3B4455;\n",
              "      fill: #D2E3FC;\n",
              "    }\n",
              "\n",
              "    [theme=dark] .colab-df-convert:hover {\n",
              "      background-color: #434B5C;\n",
              "      box-shadow: 0px 1px 3px 1px rgba(0, 0, 0, 0.15);\n",
              "      filter: drop-shadow(0px 1px 2px rgba(0, 0, 0, 0.3));\n",
              "      fill: #FFFFFF;\n",
              "    }\n",
              "  </style>\n",
              "\n",
              "      <script>\n",
              "        const buttonEl =\n",
              "          document.querySelector('#df-7ee76332-e768-4dc4-9a22-ec63320528ab button.colab-df-convert');\n",
              "        buttonEl.style.display =\n",
              "          google.colab.kernel.accessAllowed ? 'block' : 'none';\n",
              "\n",
              "        async function convertToInteractive(key) {\n",
              "          const element = document.querySelector('#df-7ee76332-e768-4dc4-9a22-ec63320528ab');\n",
              "          const dataTable =\n",
              "            await google.colab.kernel.invokeFunction('convertToInteractive',\n",
              "                                                     [key], {});\n",
              "          if (!dataTable) return;\n",
              "\n",
              "          const docLinkHtml = 'Like what you see? Visit the ' +\n",
              "            '<a target=\"_blank\" href=https://colab.research.google.com/notebooks/data_table.ipynb>data table notebook</a>'\n",
              "            + ' to learn more about interactive tables.';\n",
              "          element.innerHTML = '';\n",
              "          dataTable['output_type'] = 'display_data';\n",
              "          await google.colab.output.renderOutput(dataTable, element);\n",
              "          const docLink = document.createElement('div');\n",
              "          docLink.innerHTML = docLinkHtml;\n",
              "          element.appendChild(docLink);\n",
              "        }\n",
              "      </script>\n",
              "    </div>\n",
              "  </div>\n",
              "  "
            ]
          },
          "metadata": {},
          "execution_count": 32
        }
      ]
    },
    {
      "cell_type": "code",
      "source": [
        "ndf.loc[:,\"X13\"::].describe()"
      ],
      "metadata": {
        "id": "HuMR2uODqPlw",
        "outputId": "354144a7-a73a-4797-c3ff-c79e002ed6f9",
        "colab": {
          "base_uri": "https://localhost:8080/",
          "height": 344
        }
      },
      "execution_count": 33,
      "outputs": [
        {
          "output_type": "execute_result",
          "data": {
            "text/plain": [
              "                 X13           X14            X15            X16  \\\n",
              "count   29958.000000  2.995800e+04   29958.000000   29958.000000   \n",
              "mean    49200.493825  4.703239e+04   43279.335370   40328.984578   \n",
              "std     71211.232744  6.938524e+04   64364.684347   60826.219326   \n",
              "min    -69777.000000 -1.572640e+05 -170000.000000  -81334.000000   \n",
              "25%      2984.000000  2.664750e+03    2327.500000    1762.250000   \n",
              "50%     21194.500000  2.008550e+04   19037.500000   18104.500000   \n",
              "75%     64027.750000  6.018300e+04   54551.250000   50220.750000   \n",
              "max    983931.000000  1.664089e+06  891586.000000  927171.000000   \n",
              "\n",
              "                 X17            X18           X19            X20  \\\n",
              "count   29958.000000   29958.000000  2.995800e+04   29958.000000   \n",
              "mean    38889.925763    5664.614460  5.925715e+03    5228.429969   \n",
              "std     59582.883301   16568.823518  2.305598e+04   17617.338167   \n",
              "min   -339603.000000       0.000000  0.000000e+00       0.000000   \n",
              "25%      1256.000000    1000.000000  8.352500e+02     390.000000   \n",
              "50%     17067.500000    2100.000000  2.009000e+03    1800.000000   \n",
              "75%     49234.750000    5007.000000  5.000000e+03    4511.500000   \n",
              "max    961664.000000  873552.000000  1.684259e+06  896040.000000   \n",
              "\n",
              "                 X21            X22            X23             Y  \n",
              "count   29958.000000   29958.000000   29958.000000  29958.000000  \n",
              "mean     4829.873556    4801.481574    5220.708025      0.221143  \n",
              "std     15676.205514   15285.552652   17788.983767      0.415023  \n",
              "min         0.000000       0.000000       0.000000      0.000000  \n",
              "25%       296.250000     253.250000     118.000000      0.000000  \n",
              "50%      1500.000000    1500.000000    1500.000000      0.000000  \n",
              "75%      4014.750000    4040.000000    4000.000000      0.000000  \n",
              "max    621000.000000  426529.000000  528666.000000      1.000000  "
            ],
            "text/html": [
              "\n",
              "  <div id=\"df-05b4a45b-686d-40d9-958e-e613fd5ff8fb\">\n",
              "    <div class=\"colab-df-container\">\n",
              "      <div>\n",
              "<style scoped>\n",
              "    .dataframe tbody tr th:only-of-type {\n",
              "        vertical-align: middle;\n",
              "    }\n",
              "\n",
              "    .dataframe tbody tr th {\n",
              "        vertical-align: top;\n",
              "    }\n",
              "\n",
              "    .dataframe thead th {\n",
              "        text-align: right;\n",
              "    }\n",
              "</style>\n",
              "<table border=\"1\" class=\"dataframe\">\n",
              "  <thead>\n",
              "    <tr style=\"text-align: right;\">\n",
              "      <th></th>\n",
              "      <th>X13</th>\n",
              "      <th>X14</th>\n",
              "      <th>X15</th>\n",
              "      <th>X16</th>\n",
              "      <th>X17</th>\n",
              "      <th>X18</th>\n",
              "      <th>X19</th>\n",
              "      <th>X20</th>\n",
              "      <th>X21</th>\n",
              "      <th>X22</th>\n",
              "      <th>X23</th>\n",
              "      <th>Y</th>\n",
              "    </tr>\n",
              "  </thead>\n",
              "  <tbody>\n",
              "    <tr>\n",
              "      <th>count</th>\n",
              "      <td>29958.000000</td>\n",
              "      <td>2.995800e+04</td>\n",
              "      <td>29958.000000</td>\n",
              "      <td>29958.000000</td>\n",
              "      <td>29958.000000</td>\n",
              "      <td>29958.000000</td>\n",
              "      <td>2.995800e+04</td>\n",
              "      <td>29958.000000</td>\n",
              "      <td>29958.000000</td>\n",
              "      <td>29958.000000</td>\n",
              "      <td>29958.000000</td>\n",
              "      <td>29958.000000</td>\n",
              "    </tr>\n",
              "    <tr>\n",
              "      <th>mean</th>\n",
              "      <td>49200.493825</td>\n",
              "      <td>4.703239e+04</td>\n",
              "      <td>43279.335370</td>\n",
              "      <td>40328.984578</td>\n",
              "      <td>38889.925763</td>\n",
              "      <td>5664.614460</td>\n",
              "      <td>5.925715e+03</td>\n",
              "      <td>5228.429969</td>\n",
              "      <td>4829.873556</td>\n",
              "      <td>4801.481574</td>\n",
              "      <td>5220.708025</td>\n",
              "      <td>0.221143</td>\n",
              "    </tr>\n",
              "    <tr>\n",
              "      <th>std</th>\n",
              "      <td>71211.232744</td>\n",
              "      <td>6.938524e+04</td>\n",
              "      <td>64364.684347</td>\n",
              "      <td>60826.219326</td>\n",
              "      <td>59582.883301</td>\n",
              "      <td>16568.823518</td>\n",
              "      <td>2.305598e+04</td>\n",
              "      <td>17617.338167</td>\n",
              "      <td>15676.205514</td>\n",
              "      <td>15285.552652</td>\n",
              "      <td>17788.983767</td>\n",
              "      <td>0.415023</td>\n",
              "    </tr>\n",
              "    <tr>\n",
              "      <th>min</th>\n",
              "      <td>-69777.000000</td>\n",
              "      <td>-1.572640e+05</td>\n",
              "      <td>-170000.000000</td>\n",
              "      <td>-81334.000000</td>\n",
              "      <td>-339603.000000</td>\n",
              "      <td>0.000000</td>\n",
              "      <td>0.000000e+00</td>\n",
              "      <td>0.000000</td>\n",
              "      <td>0.000000</td>\n",
              "      <td>0.000000</td>\n",
              "      <td>0.000000</td>\n",
              "      <td>0.000000</td>\n",
              "    </tr>\n",
              "    <tr>\n",
              "      <th>25%</th>\n",
              "      <td>2984.000000</td>\n",
              "      <td>2.664750e+03</td>\n",
              "      <td>2327.500000</td>\n",
              "      <td>1762.250000</td>\n",
              "      <td>1256.000000</td>\n",
              "      <td>1000.000000</td>\n",
              "      <td>8.352500e+02</td>\n",
              "      <td>390.000000</td>\n",
              "      <td>296.250000</td>\n",
              "      <td>253.250000</td>\n",
              "      <td>118.000000</td>\n",
              "      <td>0.000000</td>\n",
              "    </tr>\n",
              "    <tr>\n",
              "      <th>50%</th>\n",
              "      <td>21194.500000</td>\n",
              "      <td>2.008550e+04</td>\n",
              "      <td>19037.500000</td>\n",
              "      <td>18104.500000</td>\n",
              "      <td>17067.500000</td>\n",
              "      <td>2100.000000</td>\n",
              "      <td>2.009000e+03</td>\n",
              "      <td>1800.000000</td>\n",
              "      <td>1500.000000</td>\n",
              "      <td>1500.000000</td>\n",
              "      <td>1500.000000</td>\n",
              "      <td>0.000000</td>\n",
              "    </tr>\n",
              "    <tr>\n",
              "      <th>75%</th>\n",
              "      <td>64027.750000</td>\n",
              "      <td>6.018300e+04</td>\n",
              "      <td>54551.250000</td>\n",
              "      <td>50220.750000</td>\n",
              "      <td>49234.750000</td>\n",
              "      <td>5007.000000</td>\n",
              "      <td>5.000000e+03</td>\n",
              "      <td>4511.500000</td>\n",
              "      <td>4014.750000</td>\n",
              "      <td>4040.000000</td>\n",
              "      <td>4000.000000</td>\n",
              "      <td>0.000000</td>\n",
              "    </tr>\n",
              "    <tr>\n",
              "      <th>max</th>\n",
              "      <td>983931.000000</td>\n",
              "      <td>1.664089e+06</td>\n",
              "      <td>891586.000000</td>\n",
              "      <td>927171.000000</td>\n",
              "      <td>961664.000000</td>\n",
              "      <td>873552.000000</td>\n",
              "      <td>1.684259e+06</td>\n",
              "      <td>896040.000000</td>\n",
              "      <td>621000.000000</td>\n",
              "      <td>426529.000000</td>\n",
              "      <td>528666.000000</td>\n",
              "      <td>1.000000</td>\n",
              "    </tr>\n",
              "  </tbody>\n",
              "</table>\n",
              "</div>\n",
              "      <button class=\"colab-df-convert\" onclick=\"convertToInteractive('df-05b4a45b-686d-40d9-958e-e613fd5ff8fb')\"\n",
              "              title=\"Convert this dataframe to an interactive table.\"\n",
              "              style=\"display:none;\">\n",
              "        \n",
              "  <svg xmlns=\"http://www.w3.org/2000/svg\" height=\"24px\"viewBox=\"0 0 24 24\"\n",
              "       width=\"24px\">\n",
              "    <path d=\"M0 0h24v24H0V0z\" fill=\"none\"/>\n",
              "    <path d=\"M18.56 5.44l.94 2.06.94-2.06 2.06-.94-2.06-.94-.94-2.06-.94 2.06-2.06.94zm-11 1L8.5 8.5l.94-2.06 2.06-.94-2.06-.94L8.5 2.5l-.94 2.06-2.06.94zm10 10l.94 2.06.94-2.06 2.06-.94-2.06-.94-.94-2.06-.94 2.06-2.06.94z\"/><path d=\"M17.41 7.96l-1.37-1.37c-.4-.4-.92-.59-1.43-.59-.52 0-1.04.2-1.43.59L10.3 9.45l-7.72 7.72c-.78.78-.78 2.05 0 2.83L4 21.41c.39.39.9.59 1.41.59.51 0 1.02-.2 1.41-.59l7.78-7.78 2.81-2.81c.8-.78.8-2.07 0-2.86zM5.41 20L4 18.59l7.72-7.72 1.47 1.35L5.41 20z\"/>\n",
              "  </svg>\n",
              "      </button>\n",
              "      \n",
              "  <style>\n",
              "    .colab-df-container {\n",
              "      display:flex;\n",
              "      flex-wrap:wrap;\n",
              "      gap: 12px;\n",
              "    }\n",
              "\n",
              "    .colab-df-convert {\n",
              "      background-color: #E8F0FE;\n",
              "      border: none;\n",
              "      border-radius: 50%;\n",
              "      cursor: pointer;\n",
              "      display: none;\n",
              "      fill: #1967D2;\n",
              "      height: 32px;\n",
              "      padding: 0 0 0 0;\n",
              "      width: 32px;\n",
              "    }\n",
              "\n",
              "    .colab-df-convert:hover {\n",
              "      background-color: #E2EBFA;\n",
              "      box-shadow: 0px 1px 2px rgba(60, 64, 67, 0.3), 0px 1px 3px 1px rgba(60, 64, 67, 0.15);\n",
              "      fill: #174EA6;\n",
              "    }\n",
              "\n",
              "    [theme=dark] .colab-df-convert {\n",
              "      background-color: #3B4455;\n",
              "      fill: #D2E3FC;\n",
              "    }\n",
              "\n",
              "    [theme=dark] .colab-df-convert:hover {\n",
              "      background-color: #434B5C;\n",
              "      box-shadow: 0px 1px 3px 1px rgba(0, 0, 0, 0.15);\n",
              "      filter: drop-shadow(0px 1px 2px rgba(0, 0, 0, 0.3));\n",
              "      fill: #FFFFFF;\n",
              "    }\n",
              "  </style>\n",
              "\n",
              "      <script>\n",
              "        const buttonEl =\n",
              "          document.querySelector('#df-05b4a45b-686d-40d9-958e-e613fd5ff8fb button.colab-df-convert');\n",
              "        buttonEl.style.display =\n",
              "          google.colab.kernel.accessAllowed ? 'block' : 'none';\n",
              "\n",
              "        async function convertToInteractive(key) {\n",
              "          const element = document.querySelector('#df-05b4a45b-686d-40d9-958e-e613fd5ff8fb');\n",
              "          const dataTable =\n",
              "            await google.colab.kernel.invokeFunction('convertToInteractive',\n",
              "                                                     [key], {});\n",
              "          if (!dataTable) return;\n",
              "\n",
              "          const docLinkHtml = 'Like what you see? Visit the ' +\n",
              "            '<a target=\"_blank\" href=https://colab.research.google.com/notebooks/data_table.ipynb>data table notebook</a>'\n",
              "            + ' to learn more about interactive tables.';\n",
              "          element.innerHTML = '';\n",
              "          dataTable['output_type'] = 'display_data';\n",
              "          await google.colab.output.renderOutput(dataTable, element);\n",
              "          const docLink = document.createElement('div');\n",
              "          docLink.innerHTML = docLinkHtml;\n",
              "          element.appendChild(docLink);\n",
              "        }\n",
              "      </script>\n",
              "    </div>\n",
              "  </div>\n",
              "  "
            ]
          },
          "metadata": {},
          "execution_count": 33
        }
      ]
    },
    {
      "cell_type": "markdown",
      "source": [
        "La documentación del dataframe disponible en el enlace: https://raw.githubusercontent.com/PosgradoMNA/Actividades_Aprendizaje-/main/dataset_info.txt\n",
        "\n",
        "\n",
        "Dice lo siguiente:\n",
        "\n",
        "```\n",
        "Attribute Information:\n",
        "\n",
        "This research employed a binary variable, default payment (Yes = 1, No = 0), as the response variable. This study reviewed the literature and used the following 23 variables as explanatory variables: \n",
        "X1: Amount of the given credit (NT dollar): it includes both the individual consumer credit and his/her family (supplementary) credit. \n",
        "X2: Gender (1 = male; 2 = female). \n",
        "X3: Education (1 = graduate school; 2 = university; 3 = high school; 4 = others). \n",
        "X4: Marital status (1 = married; 2 = single; 3 = others). \n",
        "X5: Age (year). \n",
        "X6 - X11: History of past payment. We tracked the past monthly payment records (from April to September, 2005) as follows: X6 = the repayment status in September, 2005; X7 = the repayment status in August, 2005; . . .;X11 = the repayment status in April, 2005. The measurement scale for the repayment status is: -1 = pay duly; 1 = payment delay for one month; 2 = payment delay for two months; . . .; 8 = payment delay for eight months; 9 = payment delay for nine months and above. \n",
        "X12-X17: Amount of bill statement (NT dollar). X12 = amount of bill statement in September, 2005; X13 = amount of bill statement in August, 2005; . . .; X17 = amount of bill statement in April, 2005. \n",
        "X18-X23: Amount of previous payment (NT dollar). X18 = amount paid in September, 2005; X19 = amount paid in August, 2005; . . .;X23 = amount paid in April, 2005. \n",
        "\n",
        "```\n",
        "\n",
        "\n",
        "\n",
        "De lo que podemos concluir que:"
      ],
      "metadata": {
        "id": "LQkAU8i6rVUP"
      }
    },
    {
      "cell_type": "markdown",
      "source": [
        "* X3 (Educación), solo puede contener valores de 1 al 4 y en el dataset el mínimo es de cero y el máximo de 6, por lo que se deben reemplazar los valores 0, 5 y 6  con 4 (que es la categoría de otros estudios).\n",
        "* X4 (Marital) tiene 3 valores, que son 1, 2 y 3, sin embargo en el dataset también se presentan valores 0, mismos que deben ser reemplazados con 3 (que simboliza otros dentro de esa columna).\n",
        "* De X6 a X11 (Fechas de pago) los valores dentro de la columna deben ser -1, 1, 2, 3, 4, 5, 6, 7, 8 y 9, sin embargo se presentan valores como -2, mismos que se pueden reemplazar con -1, debido a que muy probablemente sean errores de captura."
      ],
      "metadata": {
        "id": "JbhjpAp9pf95"
      }
    },
    {
      "cell_type": "markdown",
      "source": [
        "Por lo que procederemos a normalizar los datos, para lo cual haremos una copia del dataset con los registros vacíos eliminados"
      ],
      "metadata": {
        "id": "Sohvivg7xATz"
      }
    },
    {
      "cell_type": "code",
      "source": [
        "ndf2=ndf.copy()"
      ],
      "metadata": {
        "id": "y5FYXqBvxjzT"
      },
      "execution_count": 34,
      "outputs": []
    },
    {
      "cell_type": "markdown",
      "source": [
        "Primero modificamos la columna X3 para quedarnos solamente con valores dentro de la categoría 4 (otros estudios)"
      ],
      "metadata": {
        "id": "3cvEIbVNx9Tx"
      }
    },
    {
      "cell_type": "code",
      "source": [
        "ndf2[\"X3\"] = ndf2[[\"X3\"]].replace([0,5,6],4)"
      ],
      "metadata": {
        "id": "wBImFLL_yHyW"
      },
      "execution_count": 35,
      "outputs": []
    },
    {
      "cell_type": "markdown",
      "source": [
        "Hacemos lo mismo con la columna X4 para reemplazar los valores 0 con 3 (Otros)"
      ],
      "metadata": {
        "id": "r2pwcAK7zOoP"
      }
    },
    {
      "cell_type": "code",
      "source": [
        "ndf2[\"X4\"]=ndf2[[\"X4\"]].replace(0,3)"
      ],
      "metadata": {
        "id": "v5ZIBBCvzc-c"
      },
      "execution_count": 36,
      "outputs": []
    },
    {
      "cell_type": "markdown",
      "source": [
        "Con las columnas X6 a X11 sustituimos el valor de -2 por -1 (Pago oportuno)"
      ],
      "metadata": {
        "id": "frXoGoMd0Atr"
      }
    },
    {
      "cell_type": "code",
      "source": [
        "slc = ndf2.loc[ : , \"X6\":\"X11\"]\n",
        "for c in slc.columns:\n",
        "  ndf2[c] = ndf2[[c]].replace(-2,-1)"
      ],
      "metadata": {
        "id": "SIpCWjyQ1hdP"
      },
      "execution_count": 37,
      "outputs": []
    },
    {
      "cell_type": "markdown",
      "source": [
        "Visualizamos si las columnas sólo presentan valores dentro de los rangos definidos en la documentación"
      ],
      "metadata": {
        "id": "8sKNIox4flE9"
      }
    },
    {
      "cell_type": "code",
      "source": [
        "columnas_de_interes=ndf2.loc[:,\"X3\":\"X11\"]\n",
        "for i in columnas_de_interes.columns:\n",
        "   valores_unicos=ndf2[i].unique()\n",
        "   print(ndf2[i].name,\": \",sorted(valores_unicos))"
      ],
      "metadata": {
        "colab": {
          "base_uri": "https://localhost:8080/"
        },
        "id": "jsbCuzc5eduV",
        "outputId": "47bc3d89-3e31-4b0d-8c19-f5505fcbc676"
      },
      "execution_count": 38,
      "outputs": [
        {
          "output_type": "stream",
          "name": "stdout",
          "text": [
            "X3 :  [1.0, 2.0, 3.0, 4.0]\n",
            "X4 :  [1.0, 2.0, 3.0]\n",
            "X5 :  [21.0, 22.0, 23.0, 24.0, 25.0, 26.0, 27.0, 28.0, 29.0, 30.0, 31.0, 32.0, 33.0, 34.0, 35.0, 36.0, 37.0, 38.0, 39.0, 40.0, 41.0, 42.0, 43.0, 44.0, 45.0, 46.0, 47.0, 48.0, 49.0, 50.0, 51.0, 52.0, 53.0, 54.0, 55.0, 56.0, 57.0, 58.0, 59.0, 60.0, 61.0, 62.0, 63.0, 64.0, 65.0, 66.0, 67.0, 68.0, 69.0, 70.0, 71.0, 72.0, 73.0, 74.0, 75.0, 79.0]\n",
            "X6 :  [-1.0, 0.0, 1.0, 2.0, 3.0, 4.0, 5.0, 6.0, 7.0, 8.0]\n",
            "X7 :  [-1.0, 0.0, 1.0, 2.0, 3.0, 4.0, 5.0, 6.0, 7.0, 8.0]\n",
            "X8 :  [-1.0, 0.0, 1.0, 2.0, 3.0, 4.0, 5.0, 6.0, 7.0, 8.0]\n",
            "X9 :  [-1.0, 0.0, 1.0, 2.0, 3.0, 4.0, 5.0, 6.0, 7.0, 8.0]\n",
            "X10 :  [-1.0, 0.0, 2.0, 3.0, 4.0, 5.0, 6.0, 7.0, 8.0]\n",
            "X11 :  [-1.0, 0.0, 2.0, 3.0, 4.0, 5.0, 6.0, 7.0, 8.0]\n"
          ]
        }
      ]
    },
    {
      "cell_type": "markdown",
      "source": [
        "Tal como se puede observar las columnas X6 a la X11 presentan otro valor que no se menciona en la documentación, el valor **0**, procedemos a reemplazarlo con **-1** dado que es muy probable que sea un error de captura"
      ],
      "metadata": {
        "id": "4Sa6gqJLi1Jz"
      }
    },
    {
      "cell_type": "code",
      "source": [
        "slc = ndf2.loc[ : , \"X6\":\"X11\"]\n",
        "for c in slc.columns:\n",
        "  ndf2[c] = ndf2[[c]].replace(0,-1)"
      ],
      "metadata": {
        "id": "-PlyJo3MkME2"
      },
      "execution_count": 39,
      "outputs": []
    },
    {
      "cell_type": "markdown",
      "source": [
        "Comprobamos que ya no se presentan valores fuera de los rangos establecidos en la documentación"
      ],
      "metadata": {
        "id": "p3l01lEI0Ett"
      }
    },
    {
      "cell_type": "code",
      "source": [
        "columnas_de_interes=ndf2.loc[:,\"X3\":\"X11\"]\n",
        "for i in columnas_de_interes.columns:\n",
        "   valores_unicos=ndf2[i].unique()\n",
        "   print(ndf2[i].name,\": \",sorted(valores_unicos))"
      ],
      "metadata": {
        "colab": {
          "base_uri": "https://localhost:8080/"
        },
        "id": "xmmVkGBn0O1j",
        "outputId": "f82463ac-f71e-433c-8aa0-d6b3fbea49c1"
      },
      "execution_count": 40,
      "outputs": [
        {
          "output_type": "stream",
          "name": "stdout",
          "text": [
            "X3 :  [1.0, 2.0, 3.0, 4.0]\n",
            "X4 :  [1.0, 2.0, 3.0]\n",
            "X5 :  [21.0, 22.0, 23.0, 24.0, 25.0, 26.0, 27.0, 28.0, 29.0, 30.0, 31.0, 32.0, 33.0, 34.0, 35.0, 36.0, 37.0, 38.0, 39.0, 40.0, 41.0, 42.0, 43.0, 44.0, 45.0, 46.0, 47.0, 48.0, 49.0, 50.0, 51.0, 52.0, 53.0, 54.0, 55.0, 56.0, 57.0, 58.0, 59.0, 60.0, 61.0, 62.0, 63.0, 64.0, 65.0, 66.0, 67.0, 68.0, 69.0, 70.0, 71.0, 72.0, 73.0, 74.0, 75.0, 79.0]\n",
            "X6 :  [-1.0, 1.0, 2.0, 3.0, 4.0, 5.0, 6.0, 7.0, 8.0]\n",
            "X7 :  [-1.0, 1.0, 2.0, 3.0, 4.0, 5.0, 6.0, 7.0, 8.0]\n",
            "X8 :  [-1.0, 1.0, 2.0, 3.0, 4.0, 5.0, 6.0, 7.0, 8.0]\n",
            "X9 :  [-1.0, 1.0, 2.0, 3.0, 4.0, 5.0, 6.0, 7.0, 8.0]\n",
            "X10 :  [-1.0, 2.0, 3.0, 4.0, 5.0, 6.0, 7.0, 8.0]\n",
            "X11 :  [-1.0, 2.0, 3.0, 4.0, 5.0, 6.0, 7.0, 8.0]\n"
          ]
        }
      ]
    },
    {
      "cell_type": "markdown",
      "source": [
        "Visualizamos como quedaron las columnas después de normalizar los datos"
      ],
      "metadata": {
        "id": "AzWUkvZX2ER_"
      }
    },
    {
      "cell_type": "code",
      "source": [
        "ndf2.loc[:,\"ID\":\"X11\"].describe()"
      ],
      "metadata": {
        "colab": {
          "base_uri": "https://localhost:8080/",
          "height": 300
        },
        "id": "T60XuDjI2b0R",
        "outputId": "6a00c8d7-1f94-4181-effe-541468005f66"
      },
      "execution_count": 41,
      "outputs": [
        {
          "output_type": "execute_result",
          "data": {
            "text/plain": [
              "                 ID              X1            X2            X3            X4  \\\n",
              "count  29958.000000    29958.000000  29958.000000  29958.000000  29958.000000   \n",
              "mean   15005.550504   167555.900928      1.604012      1.842212      1.557147   \n",
              "std     8654.547473   129737.299088      0.489070      0.744557      0.521388   \n",
              "min        1.000000    10000.000000      1.000000      1.000000      1.000000   \n",
              "25%     7516.250000    50000.000000      1.000000      1.000000      1.000000   \n",
              "50%    15005.500000   140000.000000      2.000000      2.000000      2.000000   \n",
              "75%    22497.750000   240000.000000      2.000000      2.000000      2.000000   \n",
              "max    30000.000000  1000000.000000      2.000000      4.000000      3.000000   \n",
              "\n",
              "                 X5            X6            X7            X8            X9  \\\n",
              "count  29958.000000  29958.000000  29958.000000  29958.000000  29958.000000   \n",
              "mean      35.483443     -0.416316     -0.532279     -0.555978     -0.624608   \n",
              "std        9.214319      1.142539      1.146252      1.125108      1.066540   \n",
              "min       21.000000     -1.000000     -1.000000     -1.000000     -1.000000   \n",
              "25%       28.000000     -1.000000     -1.000000     -1.000000     -1.000000   \n",
              "50%       34.000000     -1.000000     -1.000000     -1.000000     -1.000000   \n",
              "75%       41.000000     -1.000000     -1.000000     -1.000000     -1.000000   \n",
              "max       79.000000      8.000000      8.000000      8.000000      8.000000   \n",
              "\n",
              "                X10           X11  \n",
              "count  29958.000000  29958.000000  \n",
              "mean      -0.680186     -0.671306  \n",
              "std        1.000431      1.004253  \n",
              "min       -1.000000     -1.000000  \n",
              "25%       -1.000000     -1.000000  \n",
              "50%       -1.000000     -1.000000  \n",
              "75%       -1.000000     -1.000000  \n",
              "max        8.000000      8.000000  "
            ],
            "text/html": [
              "\n",
              "  <div id=\"df-c08af72f-fdef-44c0-8eac-371492ebbc98\">\n",
              "    <div class=\"colab-df-container\">\n",
              "      <div>\n",
              "<style scoped>\n",
              "    .dataframe tbody tr th:only-of-type {\n",
              "        vertical-align: middle;\n",
              "    }\n",
              "\n",
              "    .dataframe tbody tr th {\n",
              "        vertical-align: top;\n",
              "    }\n",
              "\n",
              "    .dataframe thead th {\n",
              "        text-align: right;\n",
              "    }\n",
              "</style>\n",
              "<table border=\"1\" class=\"dataframe\">\n",
              "  <thead>\n",
              "    <tr style=\"text-align: right;\">\n",
              "      <th></th>\n",
              "      <th>ID</th>\n",
              "      <th>X1</th>\n",
              "      <th>X2</th>\n",
              "      <th>X3</th>\n",
              "      <th>X4</th>\n",
              "      <th>X5</th>\n",
              "      <th>X6</th>\n",
              "      <th>X7</th>\n",
              "      <th>X8</th>\n",
              "      <th>X9</th>\n",
              "      <th>X10</th>\n",
              "      <th>X11</th>\n",
              "    </tr>\n",
              "  </thead>\n",
              "  <tbody>\n",
              "    <tr>\n",
              "      <th>count</th>\n",
              "      <td>29958.000000</td>\n",
              "      <td>29958.000000</td>\n",
              "      <td>29958.000000</td>\n",
              "      <td>29958.000000</td>\n",
              "      <td>29958.000000</td>\n",
              "      <td>29958.000000</td>\n",
              "      <td>29958.000000</td>\n",
              "      <td>29958.000000</td>\n",
              "      <td>29958.000000</td>\n",
              "      <td>29958.000000</td>\n",
              "      <td>29958.000000</td>\n",
              "      <td>29958.000000</td>\n",
              "    </tr>\n",
              "    <tr>\n",
              "      <th>mean</th>\n",
              "      <td>15005.550504</td>\n",
              "      <td>167555.900928</td>\n",
              "      <td>1.604012</td>\n",
              "      <td>1.842212</td>\n",
              "      <td>1.557147</td>\n",
              "      <td>35.483443</td>\n",
              "      <td>-0.416316</td>\n",
              "      <td>-0.532279</td>\n",
              "      <td>-0.555978</td>\n",
              "      <td>-0.624608</td>\n",
              "      <td>-0.680186</td>\n",
              "      <td>-0.671306</td>\n",
              "    </tr>\n",
              "    <tr>\n",
              "      <th>std</th>\n",
              "      <td>8654.547473</td>\n",
              "      <td>129737.299088</td>\n",
              "      <td>0.489070</td>\n",
              "      <td>0.744557</td>\n",
              "      <td>0.521388</td>\n",
              "      <td>9.214319</td>\n",
              "      <td>1.142539</td>\n",
              "      <td>1.146252</td>\n",
              "      <td>1.125108</td>\n",
              "      <td>1.066540</td>\n",
              "      <td>1.000431</td>\n",
              "      <td>1.004253</td>\n",
              "    </tr>\n",
              "    <tr>\n",
              "      <th>min</th>\n",
              "      <td>1.000000</td>\n",
              "      <td>10000.000000</td>\n",
              "      <td>1.000000</td>\n",
              "      <td>1.000000</td>\n",
              "      <td>1.000000</td>\n",
              "      <td>21.000000</td>\n",
              "      <td>-1.000000</td>\n",
              "      <td>-1.000000</td>\n",
              "      <td>-1.000000</td>\n",
              "      <td>-1.000000</td>\n",
              "      <td>-1.000000</td>\n",
              "      <td>-1.000000</td>\n",
              "    </tr>\n",
              "    <tr>\n",
              "      <th>25%</th>\n",
              "      <td>7516.250000</td>\n",
              "      <td>50000.000000</td>\n",
              "      <td>1.000000</td>\n",
              "      <td>1.000000</td>\n",
              "      <td>1.000000</td>\n",
              "      <td>28.000000</td>\n",
              "      <td>-1.000000</td>\n",
              "      <td>-1.000000</td>\n",
              "      <td>-1.000000</td>\n",
              "      <td>-1.000000</td>\n",
              "      <td>-1.000000</td>\n",
              "      <td>-1.000000</td>\n",
              "    </tr>\n",
              "    <tr>\n",
              "      <th>50%</th>\n",
              "      <td>15005.500000</td>\n",
              "      <td>140000.000000</td>\n",
              "      <td>2.000000</td>\n",
              "      <td>2.000000</td>\n",
              "      <td>2.000000</td>\n",
              "      <td>34.000000</td>\n",
              "      <td>-1.000000</td>\n",
              "      <td>-1.000000</td>\n",
              "      <td>-1.000000</td>\n",
              "      <td>-1.000000</td>\n",
              "      <td>-1.000000</td>\n",
              "      <td>-1.000000</td>\n",
              "    </tr>\n",
              "    <tr>\n",
              "      <th>75%</th>\n",
              "      <td>22497.750000</td>\n",
              "      <td>240000.000000</td>\n",
              "      <td>2.000000</td>\n",
              "      <td>2.000000</td>\n",
              "      <td>2.000000</td>\n",
              "      <td>41.000000</td>\n",
              "      <td>-1.000000</td>\n",
              "      <td>-1.000000</td>\n",
              "      <td>-1.000000</td>\n",
              "      <td>-1.000000</td>\n",
              "      <td>-1.000000</td>\n",
              "      <td>-1.000000</td>\n",
              "    </tr>\n",
              "    <tr>\n",
              "      <th>max</th>\n",
              "      <td>30000.000000</td>\n",
              "      <td>1000000.000000</td>\n",
              "      <td>2.000000</td>\n",
              "      <td>4.000000</td>\n",
              "      <td>3.000000</td>\n",
              "      <td>79.000000</td>\n",
              "      <td>8.000000</td>\n",
              "      <td>8.000000</td>\n",
              "      <td>8.000000</td>\n",
              "      <td>8.000000</td>\n",
              "      <td>8.000000</td>\n",
              "      <td>8.000000</td>\n",
              "    </tr>\n",
              "  </tbody>\n",
              "</table>\n",
              "</div>\n",
              "      <button class=\"colab-df-convert\" onclick=\"convertToInteractive('df-c08af72f-fdef-44c0-8eac-371492ebbc98')\"\n",
              "              title=\"Convert this dataframe to an interactive table.\"\n",
              "              style=\"display:none;\">\n",
              "        \n",
              "  <svg xmlns=\"http://www.w3.org/2000/svg\" height=\"24px\"viewBox=\"0 0 24 24\"\n",
              "       width=\"24px\">\n",
              "    <path d=\"M0 0h24v24H0V0z\" fill=\"none\"/>\n",
              "    <path d=\"M18.56 5.44l.94 2.06.94-2.06 2.06-.94-2.06-.94-.94-2.06-.94 2.06-2.06.94zm-11 1L8.5 8.5l.94-2.06 2.06-.94-2.06-.94L8.5 2.5l-.94 2.06-2.06.94zm10 10l.94 2.06.94-2.06 2.06-.94-2.06-.94-.94-2.06-.94 2.06-2.06.94z\"/><path d=\"M17.41 7.96l-1.37-1.37c-.4-.4-.92-.59-1.43-.59-.52 0-1.04.2-1.43.59L10.3 9.45l-7.72 7.72c-.78.78-.78 2.05 0 2.83L4 21.41c.39.39.9.59 1.41.59.51 0 1.02-.2 1.41-.59l7.78-7.78 2.81-2.81c.8-.78.8-2.07 0-2.86zM5.41 20L4 18.59l7.72-7.72 1.47 1.35L5.41 20z\"/>\n",
              "  </svg>\n",
              "      </button>\n",
              "      \n",
              "  <style>\n",
              "    .colab-df-container {\n",
              "      display:flex;\n",
              "      flex-wrap:wrap;\n",
              "      gap: 12px;\n",
              "    }\n",
              "\n",
              "    .colab-df-convert {\n",
              "      background-color: #E8F0FE;\n",
              "      border: none;\n",
              "      border-radius: 50%;\n",
              "      cursor: pointer;\n",
              "      display: none;\n",
              "      fill: #1967D2;\n",
              "      height: 32px;\n",
              "      padding: 0 0 0 0;\n",
              "      width: 32px;\n",
              "    }\n",
              "\n",
              "    .colab-df-convert:hover {\n",
              "      background-color: #E2EBFA;\n",
              "      box-shadow: 0px 1px 2px rgba(60, 64, 67, 0.3), 0px 1px 3px 1px rgba(60, 64, 67, 0.15);\n",
              "      fill: #174EA6;\n",
              "    }\n",
              "\n",
              "    [theme=dark] .colab-df-convert {\n",
              "      background-color: #3B4455;\n",
              "      fill: #D2E3FC;\n",
              "    }\n",
              "\n",
              "    [theme=dark] .colab-df-convert:hover {\n",
              "      background-color: #434B5C;\n",
              "      box-shadow: 0px 1px 3px 1px rgba(0, 0, 0, 0.15);\n",
              "      filter: drop-shadow(0px 1px 2px rgba(0, 0, 0, 0.3));\n",
              "      fill: #FFFFFF;\n",
              "    }\n",
              "  </style>\n",
              "\n",
              "      <script>\n",
              "        const buttonEl =\n",
              "          document.querySelector('#df-c08af72f-fdef-44c0-8eac-371492ebbc98 button.colab-df-convert');\n",
              "        buttonEl.style.display =\n",
              "          google.colab.kernel.accessAllowed ? 'block' : 'none';\n",
              "\n",
              "        async function convertToInteractive(key) {\n",
              "          const element = document.querySelector('#df-c08af72f-fdef-44c0-8eac-371492ebbc98');\n",
              "          const dataTable =\n",
              "            await google.colab.kernel.invokeFunction('convertToInteractive',\n",
              "                                                     [key], {});\n",
              "          if (!dataTable) return;\n",
              "\n",
              "          const docLinkHtml = 'Like what you see? Visit the ' +\n",
              "            '<a target=\"_blank\" href=https://colab.research.google.com/notebooks/data_table.ipynb>data table notebook</a>'\n",
              "            + ' to learn more about interactive tables.';\n",
              "          element.innerHTML = '';\n",
              "          dataTable['output_type'] = 'display_data';\n",
              "          await google.colab.output.renderOutput(dataTable, element);\n",
              "          const docLink = document.createElement('div');\n",
              "          docLink.innerHTML = docLinkHtml;\n",
              "          element.appendChild(docLink);\n",
              "        }\n",
              "      </script>\n",
              "    </div>\n",
              "  </div>\n",
              "  "
            ]
          },
          "metadata": {},
          "execution_count": 41
        }
      ]
    },
    {
      "cell_type": "code",
      "source": [
        "df_final = ndf2.copy()"
      ],
      "metadata": {
        "id": "3SO81Ydi6bBI"
      },
      "execution_count": 43,
      "outputs": []
    },
    {
      "cell_type": "markdown",
      "source": [
        "Y con todos los pasos anteriores, ya estaría listo nuestro dataset para futuros análisis"
      ],
      "metadata": {
        "id": "3w6Ssji10h7b"
      }
    },
    {
      "cell_type": "markdown",
      "source": [
        "# Parte 3: Preparación de los datos"
      ],
      "metadata": {
        "id": "EaL4IFdk6nqz"
      }
    },
    {
      "cell_type": "markdown",
      "source": [
        "1. ¿Qué datos considero más importantes? ¿Por qué? <br>\n",
        "En base a la información analizada, nuestra opinión es que los datos más importantes son los siguientes:\n",
        "* X1, cantidad total de crédito otorgado.\n",
        "* X5, edad del cliente.\n",
        "* X6-X11, historial de pagos.\n",
        "* X12-X17, estado de cuenta por mes.<br>\n",
        "Esto se debe a que en nuestra perspectiva estas columnas, dentro del dataset podrían ser utilizadas en modelos para la clasificación de los clientes y reconocer cuáles son aptos para un crédito y cuáles no. También para predecir, que cantidad de crédito un cliente podría tener en caso de solicitar uno. <br><br>\n",
        "\n",
        "2. ¿Se eliminaron o reemplazaron datos nulos? ¿Qué se hizo y por qué?<br>\n",
        "Se eliminaron los datos nulos de nuestro dataset, dado que menos del 0.2% de los datos presentaban al menos un registro nulo, lo que estadísticamente no afectará a nuestro dataset para posteriores análisis. <br><br>\n",
        "\n",
        "3. ¿Es necesario ordenar los datos para el análisis? Sí / No / ¿Por qué?<br>\n",
        "Por supuesto. Uno de los pasos más importantes en la ciencia de datos, es asegurarse que los datos se encuentren con valores permitidos o limpios. Muchos modelos no aceptan valores nulos como entradas por lo que identificar, clasificar y cuantificar estos valores es necesario para la toma de decisiones basadas en datos y el desarrollo de modelos predictivos. En nuestra actividad analizamos que representaba cada uno de los datos y generamos una idea introductoria de donde estamos y a donde vamos.<br><br>\n",
        "\n",
        "4. ¿Existen problemas de formato que deban solucionar antes del proceso de modelado? Sí / No / Por qué.<br>\n",
        "Si existen problemas a solucionar antes del proceso de modelado, analizando los datos encontramos valores que no concuerdan o quedan fuera del rango especificado en la documentación.<br><br>\n",
        "\n",
        "5. ¿Qué ajustes se realizaron en el proceso de limpieza de datos (agregar, integrar, eliminar, modificar registros (filas), cambiar atributos (columnas)?<br>\n",
        "Se realizaron una serie de ajustes y análisis durante el proceso de limpieza de datos como: modificar registros (filas) del dataframe que presentaban inconsistencias, además de eliminar registros faltantes.<br>\n",
        "<br>Los ajustes que se realizaron fueron los siguientes:\n",
        "  * La columna X3 \"Educación\", solo puede contener valores en el rango del 1 al 4 y en el dataset el mínimo es de cero y el máximo de 6, por lo que se sustituyeron los valores 0, 5 y 6 con el valor 4 (que es la categoría de otros estudios).\n",
        "  * En la columna X4 \" Estado Marital\", la documentación menciona que debe tener uno de 3 valores, que son 1, 2 y 3, sin embargo, en el dataset también se presentan valores 0, mismos que fueron reemplazados por 3 (que significa otros dentro de esa columna).\n",
        "  * En las columnas de X6 a X11 \"Fechas de pago\", la documentación menciona que los valores dentro de la columna deben ser -1, 1, 2, 3, 4, 5, 6, 7, 8 y 9, sin embargo, se presentan valores como -2 y 0, mismos que se reemplazaron por -1, debido a que muy probablemente sean errores de captura."
      ],
      "metadata": {
        "id": "Ed3vR-G861n8"
      }
    }
  ]
}
{
  "nbformat": 4,
  "nbformat_minor": 0,
  "metadata": {
    "colab": {
      "provenance": [],
      "include_colab_link": true
    },
    "kernelspec": {
      "name": "python3",
      "display_name": "Python 3"
    },
    "language_info": {
      "name": "python"
    }
  },
  "cells": [
    {
      "cell_type": "markdown",
      "metadata": {
        "id": "view-in-github",
        "colab_type": "text"
      },
      "source": [
        "<a href=\"https://colab.research.google.com/github/PosgradoMNA/actividades-del-projecto-equipo-48/blob/main/Semana_3_Actividad_1.ipynb\" target=\"_parent\"><img src=\"https://colab.research.google.com/assets/colab-badge.svg\" alt=\"Open In Colab\"/></a>"
      ]
    },
    {
      "cell_type": "markdown",
      "source": [
        "# Parte 1 Fundamentos de bases de datos"
      ],
      "metadata": {
        "id": "Qz7EOO14bmkC"
      }
    },
    {
      "cell_type": "markdown",
      "source": [
        "## 1. Fundamentos de bases de datos y para ciencia de datos.  \n"
      ],
      "metadata": {
        "id": "Oo3r-2sIbpui"
      }
    },
    {
      "cell_type": "markdown",
      "source": [
        "Una base de datos es una colección organizada de datos que mediante el uso de software podemos tener diferentes tipos. Estas son capaces de modelar un sistema del mundo real mediante los datos.\n",
        "Normalmente una base de datos se compone de tablas de datos organizadas por filas columnas y celdas. \n",
        "<br>Terminologías:\n",
        "* Una tabla es la combinación de filas(registros de información) y de columnas(campos de información).\n",
        "* Registros, información recolectada separada por columnas o campos.\n",
        "* Campos, las diferentes categorías de la información separadas por columnas.\n",
        "\n",
        "Tipos de bases de datos relacionales  y no relacionales.\n",
        "* Bases de datos relacionales, son aquellas que tienen datos lógicamente relacionados entre si, mediante el uso de entidades, atributos o campos en las diferentes tablas. Un ejemplo de esto seria una base de datos que tenga 2 tablas en donde una tabla contiene un campo relacionado con otro campo de la otra tabla.\n",
        "* Bases de datos no relacionales: Aquellas la informacion se organiza por categorias y no por relaciones.\n",
        "\n",
        "Otro concepto importante es el de DBMS y DML.\n",
        "* DBMS (Data Bases Manangment System),un software que permite interactuar con la base de datos.\n",
        "* DML  Es el lenguaje de manipulación de datos, ejemplo: SQL."
      ],
      "metadata": {
        "id": "0B54bR0-bz45"
      }
    },
    {
      "cell_type": "code",
      "source": [],
      "metadata": {
        "id": "mxM_WppZPMFx"
      },
      "execution_count": null,
      "outputs": []
    },
    {
      "cell_type": "markdown",
      "source": [
        "## 2. Fundamentos de almacenes de datos (Data Warehouse) para ciencia de datos.\n"
      ],
      "metadata": {
        "id": "mMZg5k39jK7w"
      }
    },
    {
      "cell_type": "markdown",
      "source": [
        "Data Warehouse (DW) es un almacén de datos o sea un deposito central de información que recopila y centraliza grandes cantidades de datos organizados ya sean, bases de datos relacionales o de diferentes fuentes, transformando datos en esquemas ordenados que permitan hacer consultas a diferentes fuentes de datos simultaneamente.  Es un tipo de sistema de gestión de datos diseñado para habilitar y ayudar a actividades relacionadas con Inteligencia de negocios.\n",
        "<br>\n",
        "Los usuarios de un negocio dependen de herramientas para reportes, dashboards,  extracción de información de datos y monitoreo del rendimiento de su negocio. Un data warehouse hace posible que estas herramientas puedan almacenar datos eficientemente y reducir los tiempos de entrada y salida de resultados de consultas.\n",
        "<br>\n",
        "Usualmente un DW incluye los siguientes elementos:\n",
        "* Base de datos relacionales.\n",
        "* ELTs o ETLs para extracción, carga y transformación de datos.\n",
        "* Herramientas de análisis de visualización de datos.\n",
        "* Integración con herramientas mas sofisticadas de data science o de inteligencia artificial.\n",
        "<br><br>\n",
        "\n",
        "Beneficios de un DW:\n",
        "* Orientado a sujetos, analizar datos sobre un sujeto en particular o de una área funcional en especifico. Ejemplo: Ventas.\n",
        "* Integrado, crea consistencia entre diferentes tipos de datos.\n",
        "* No volátiles, una vez la data esta en el DW es estable y no tendrá cambios.\n",
        "* Variante-Tiempo, el análisis de un DW se vera distinto con el tiempo.\n",
        "<br><br>\n",
        "\n",
        "Data Lakes y Data Warehouses:<br>\n",
        "Las organizaciones utilizan ambos para grandes volúmenes de datos de diferentes orígenes. Seleccionar cuando usar uno u otro depende de que se pretende hacer con los datos.\n",
        "<br>\n",
        "* Data Warehouse:  Especialmente diseñado para análisis de datos y entender las relaciones entre la data necesitando de datos organizados orientados en aplicaciones de BI.\n",
        "* Data Lake es un repositorio de datos estructurados, semi-estructurados y no estructurados. Datos sin filtros que pueden ser usados después para propósitos en particular. "
      ],
      "metadata": {
        "id": "UYTskIdp4ZtO"
      }
    },
    {
      "cell_type": "code",
      "source": [],
      "metadata": {
        "id": "HOdawYSfjZmp"
      },
      "execution_count": null,
      "outputs": []
    }
  ]
}
{
  "nbformat": 4,
  "nbformat_minor": 0,
  "metadata": {
    "colab": {
      "provenance": [],
      "include_colab_link": true
    },
    "kernelspec": {
      "name": "python3",
      "display_name": "Python 3"
    },
    "language_info": {
      "name": "python"
    }
  },
  "cells": [
    {
      "cell_type": "markdown",
      "metadata": {
        "id": "view-in-github",
        "colab_type": "text"
      },
      "source": [
        "<a href=\"https://colab.research.google.com/github/PosgradoMNA/actividades-del-projecto-equipo-48/blob/main/Actividad_1_de_proyecto_final.ipynb\" target=\"_parent\"><img src=\"https://colab.research.google.com/assets/colab-badge.svg\" alt=\"Open In Colab\"/></a>"
      ]
    },
    {
      "cell_type": "markdown",
      "source": [
        "#**Nombre que caracteriza el conjunto de datos**\n",
        "El nombre del dataset es **Crime in Mexico Data**."
      ],
      "metadata": {
        "id": "0qPLONgQgNGC"
      }
    },
    {
      "cell_type": "markdown",
      "source": [
        "#**Organización que lo generó**\n",
        "La organización que generó el conjunto de datos es el **Secretariado Ejecutivo del Sistema Nacional de Seguridad Pública (SESNSP)** del Gobierno de México."
      ],
      "metadata": {
        "id": "62ZlAB3qgSTz"
      }
    },
    {
      "cell_type": "markdown",
      "source": [
        "# **Incluya un enlace de Internet donde se puedan descargar el base de datos en línea**\n",
        "Enlace al dataset: https://www.kaggle.com/datasets/linigoga/crime-in-mexico-data?resource=download"
      ],
      "metadata": {
        "id": "_tQC0foHgTwN"
      }
    },
    {
      "cell_type": "markdown",
      "source": [
        "# **Describe el conjunto de datos. ¿Qué datos contiene?**\n",
        "El dataset contiene datos como el año en el que ocurrieron los incidentes delictivos, la entidad federativa donde sucedió, así como la clave de la entidad, también se detalla el bien jurídico afectado (puede ser la vida, patrimonio, familia o sociedad), además del tipo (homicidio por ejemplo) y subtipo (homicidio doloso o culposo) de delito cometido, así como la modalidad (con arma de fuego o con arma blanca), por último vienen varias columnas donde se detalla el mes en el que ocurrieron los incidentes."
      ],
      "metadata": {
        "id": "Bi31DazNgWfh"
      }
    },
    {
      "cell_type": "markdown",
      "source": [
        "# **¿Cuáles son algunas de las preguntas de investigación que podría responder con estos datos? Enumere al menos OCHO (no responda las preguntas)**\n",
        "\n",
        "- ¿Qué mes es el más propenso a tener más homicidios?\n",
        "- ¿Cuál es el estado con mayor tasa de homicidios?\n",
        "- ¿Qué mes es el más propenso a tener más actos delictivos?\n",
        "- ¿Cuál es el estado con mayor tasa de delitos?\n",
        "- ¿Existen relaciones entre los diferentes tipos de delitos?\n",
        "- ¿Cuál es el año con más actos delictivos?\n",
        "- ¿Cuál es la modalidad más común de homicidios?\n",
        "- ¿Cual es el tipo de modalidad delictiva más frecuente por estado?\n",
        "- ¿Qué estado presenta la mayor tasa de secuestros?\n",
        "- ¿Ha habido alguna reduccion de deletitos en alguna entidad federativa?\n",
        "- ¿Cual es el tipo de delito que presenta una mayor reduccion de casos? "
      ],
      "metadata": {
        "id": "yADs8B-Tgbh6"
      }
    },
    {
      "cell_type": "markdown",
      "source": [
        "# **¿Qué actor (empresa, sector de la sociedad, organismo descentralizado, gobierno, etc.) estaría interesado en las preguntas mencionadas que identificó?**\n",
        "\n",
        "- Gobiernos Estatales.\n",
        "- Gobierno Federal.\n",
        "- Empresas de seguridad y vigilancia.\n",
        "- Empresas de seguridad privada con armas\n",
        "- Empresas de transporte de valores.\n",
        "- ONGs relacionadas al desarrollo social.\n",
        "- Aseguradoras.\n",
        "- Grupos financieros y de inversión privada.\n"
      ],
      "metadata": {
        "id": "P-MEcRDZgfpv"
      }
    }
  ]
}